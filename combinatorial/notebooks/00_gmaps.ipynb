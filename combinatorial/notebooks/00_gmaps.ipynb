{
 "cells": [
  {
   "cell_type": "code",
   "execution_count": 1,
   "source": [
    "# default_exp gmaps"
   ],
   "outputs": [],
   "metadata": {}
  },
  {
   "cell_type": "markdown",
   "source": [
    "# nGmaps\n",
    "\n",
    "> implemetation by means of numpy arrays."
   ],
   "metadata": {}
  },
  {
   "cell_type": "code",
   "execution_count": 2,
   "source": [
    "# hide\r\n",
    "from nbdev.showdoc import *"
   ],
   "outputs": [],
   "metadata": {}
  },
  {
   "cell_type": "code",
   "execution_count": 3,
   "source": [
    "# export\r\n",
    "\r\n",
    "import numpy as np\r\n",
    "import itertools\r\n",
    "import logging\r\n",
    "import itertools\r\n",
    "\r\n",
    "# import more_itertools"
   ],
   "outputs": [],
   "metadata": {}
  },
  {
   "cell_type": "code",
   "execution_count": 4,
   "source": [
    "# export\r\n",
    "\r\n",
    "\r\n",
    "class Marks:\r\n",
    "    @property\r\n",
    "    def m (self):\r\n",
    "        return self._marks.shape[0]\r\n",
    "\r\n",
    "    @property\r\n",
    "    def free_marks(self):\r\n",
    "        return self._free_marks\r\n",
    "\r\n",
    "    def __init__ (self, m, d):\r\n",
    "        self._marks      = np.zeros ((m,d), dtype=np.bool8)\r\n",
    "        self._free_marks = {i for i in range (m)}\r\n",
    "\r\n",
    "    def reserve_mark (self):\r\n",
    "        m = self._free_marks.pop()\r\n",
    "        self._free_marks -= {m}\r\n",
    "        return m\r\n",
    "\r\n",
    "    def free_mark (self,m):\r\n",
    "        self._free_marks |= {m}\r\n",
    "\r\n",
    "    def marked (self,m,d):\r\n",
    "        return self._marks [m,d]\r\n",
    "\r\n",
    "    def mark (self,m,d):\r\n",
    "        self._marks [m,d] = True\r\n",
    "\r\n",
    "    def unmark (self,m,d):\r\n",
    "        self._marks [m,d] = False\r\n",
    "\r\n",
    "    def mark_all (self,m):\r\n",
    "        self._marks [m,:] = True\r\n",
    "\r\n",
    "    def unmark_all (self,m):\r\n",
    "        self._marks [m,:] = False"
   ],
   "outputs": [],
   "metadata": {}
  },
  {
   "cell_type": "code",
   "execution_count": 5,
   "source": [
    "# export\r\n",
    "\r\n",
    "\r\n",
    "class DualArray(np.ndarray):\r\n",
    "    @property\r\n",
    "    def D(self):\r\n",
    "        return self[::-1]\r\n",
    "\r\n",
    "    def __new__(cls, input_array):\r\n",
    "        obj = np.asarray(input_array).view(cls)\r\n",
    "        return obj\r\n",
    "\r\n",
    "    def __array_finalize__(self, obj):\r\n",
    "        # see InfoArray.__array_finalize__ for comments\r\n",
    "        if obj is None: return\r\n",
    "        self._marks      = getattr(obj, '_marks',      None)\r\n",
    "        self._free_marks = getattr(obj, '_free_marks', None)\r\n",
    "\r\n",
    "\r\n",
    "class nGmap (DualArray, Marks):\r\n",
    "    \"\"\"g-map based on indices\"\"\"\r\n",
    "\r\n",
    "    def __init__ (self, array):\r\n",
    "        super().__init__(8,self.shape[1])   # Create 8 marks for each (possible) dart\r\n",
    "\r\n",
    "    @classmethod\r\n",
    "    def n_by_d (cls, n, n_darts):\r\n",
    "        \"\"\"Initializes n-dimensional Gmap with n_darts isolated darts.\"\"\"\r\n",
    "        alphas = np.zeros ((n+1, n_darts), dtype=np.int)\r\n",
    "        for i in range (n+1):\r\n",
    "            alphas [i] = np.arange (n_darts)\r\n",
    "        return cls.from_alpha_array (alphas)\r\n",
    "\r\n",
    "    @classmethod\r\n",
    "    def from_alpha_array (cls, a):\r\n",
    "        \"\"\"Constructs nGmap from an involution array.\r\n",
    "        \r\n",
    "        If the array of involutions `a` is not valid (in terms of G-maps definition) an excpetion is thrown. \r\n",
    "        \"\"\"\r\n",
    "        if a.min() == 1:  # preparation for 1-based nGmaps (the smallest dart is 1 rather than 0)\r\n",
    "            a = np.insert(a, 0, -1, axis=1)  # insert negative ones (invalid darts) as the 0-th column \r\n",
    "        result = cls (a)\r\n",
    "        if not result.is_valid:\r\n",
    "            logging.critical('Have you passed an invalid involution array?')\r\n",
    "            raise ValueError\r\n",
    "        return result\r\n",
    "\r\n",
    "    @classmethod\r\n",
    "    def from_string (cls, s):\r\n",
    "        \"\"\"Constructs a nGmap from an (n+1)-line string.\r\n",
    "\r\n",
    "        See `combinatorial.zoo` for examples\r\n",
    "        \"\"\"\r\n",
    "        n_lines = len (s.splitlines())\r\n",
    "        arr = np.fromstring (s, sep = ' ', dtype = np.int).reshape (n_lines, -1)\r\n",
    "        return cls.from_alpha_array (arr)\r\n",
    "\r\n",
    "    @property\r\n",
    "    def n(self):\r\n",
    "        \"\"\"Returns nGmap's dimension\"\"\"\r\n",
    "        return self.shape[0] - 1\r\n",
    "\r\n",
    "    @property\r\n",
    "    def n_darts(self):\r\n",
    "        \"\"\"Returns the number of darts\"\"\"\r\n",
    "        ### return (self[0] >= 0).sum()  # this would first create another big array of booleans\r\n",
    "        return sum (1 for d in self.darts)\r\n",
    "\r\n",
    "    @property\r\n",
    "    def darts(self):\r\n",
    "        \"\"\"Generator to iterate thru all valid (non-negative alphas) darts\"\"\"\r\n",
    "        for index in range (self.shape[1]):\r\n",
    "            if self.a0(index) >= 0:\r\n",
    "                yield index\r\n",
    "\r\n",
    "    def all_dimensions_but_i (self, i=None):\r\n",
    "        \"\"\"Return a sorted sequence [0,...,n], without i, if 0 <= i <= n\"\"\"\r\n",
    "        assert i is None or 0 <= i <= self.n\r\n",
    "        return [j for j in range (self.n+1) if j != i]\r\n",
    "\r\n",
    "    @property\r\n",
    "    def all_dimensions(self):\r\n",
    "        return self.all_dimensions_but_i()\r\n",
    "\r\n",
    "    def set_ai (self, i, dart, new_dart):\r\n",
    "        \"\"\"Sets dart.alpha_i = new_dart\"\"\"\r\n",
    "        assert 0 <= i <= self.n\r\n",
    "        self [i,dart] = new_dart\r\n",
    "\r\n",
    "    def ai (self, i, indices): return self[i,indices]  # TODO direct access\r\n",
    "    def a0 (self,    indices): return self.ai(0,indices)\r\n",
    "    def a1 (self,    indices): return self.ai(1,indices)\r\n",
    "    def a2 (self,    indices): return self.ai(2,indices)\r\n",
    "    def a3 (self,    indices): return self.ai(3,indices)\r\n",
    "    def a4 (self,    indices): return self.ai(4,indices)\r\n",
    "\r\n",
    "    @property\r\n",
    "    def is_valid(self):\r\n",
    "        \"\"\"Checks validity, i.e., if a_i and (a_i  a_j) are involutions\"\"\"\r\n",
    "\r\n",
    "        # check ai\r\n",
    "        for i in self.all_dimensions:\r\n",
    "            logging.debug (f'Involution check for  α{i}     ') #, end=' ')\r\n",
    "            for dart in self.darts:\r\n",
    "                if self.ai (i, self.ai (i, dart)) != dart:\r\n",
    "                    logging.debug (f'broken at dart {dart}: α{i}.α{i} ({dart}) = {self.ai (i, self.ai (i, dart))} :(')\r\n",
    "                    return False\r\n",
    "            logging.debug ('passed.')\r\n",
    "\r\n",
    "        # check ai.aj\r\n",
    "        ij_pairs = itertools.combinations (self.all_dimensions, 2)\r\n",
    "        for i,j in ij_pairs:\r\n",
    "            logging.debug (f'Involution check for (α{i}.α{j}) ') #, end=' ')\r\n",
    "            if j - i in {-1,+1}:\r\n",
    "                logging.debug ('not required.')\r\n",
    "                continue\r\n",
    "            for dart in self.darts:\r\n",
    "                aij = self.ai (i, self.ai (j, dart))\r\n",
    "                if self.ai (i, self.ai (j, aij)) != dart:\r\n",
    "                    logging.critical (f'broken at dart {dart}: (α{i} α{j})({dart}) = {self.ai (i, self.ai (j, dart))} :(')\r\n",
    "                    return False\r\n",
    "            logging.debug ('passed.')\r\n",
    "        return True\r\n",
    "\r\n",
    "    def orbit (self, sequence, d):\r\n",
    "        \"\"\"\r\n",
    "        Orbit iterator\r\n",
    "        For given dart and valid sequence of indices iterate over the orbit\r\n",
    "\r\n",
    "        sequence example [0,2,3] to iterate around edge\r\n",
    "        \"\"\"\r\n",
    "\r\n",
    "        m = self.reserve_mark()\r\n",
    "        P = [d] # stack of darts to process\r\n",
    "        self.mark (m,d) # mark the dart\r\n",
    "\r\n",
    "        try:\r\n",
    "            while len (P): # we still have some dart(s) to process\r\n",
    "                cur = P.pop ()\r\n",
    "                yield cur\r\n",
    "                for j in sequence:\r\n",
    "                    dd = self.ai (j, cur)\r\n",
    "                    if not self.marked (m,dd):\r\n",
    "                        self.mark (m,dd)\r\n",
    "                        P.append (dd)\r\n",
    "        finally:\r\n",
    "            self.unmark_all (m)\r\n",
    "            self.free_mark(m)\r\n",
    "\r\n",
    "    def darts_of_i_cells(self, i=None):\r\n",
    "        \"\"\"Yields arbitrary dart for every i-cell (0<=i<=n) or for every connected component (i is None)\"\"\"\r\n",
    "\r\n",
    "        m = self.reserve_mark()\r\n",
    "        try:\r\n",
    "            for d in self.darts:\r\n",
    "                if not self.marked (m,d):\r\n",
    "                    yield d\r\n",
    "                    for dd in self.orbit(self.all_dimensions_but_i(i), d):  # i.e, in self.cell_i (i, d):\r\n",
    "                        self.mark (m,dd)\r\n",
    "        finally:\r\n",
    "            self.unmark_all (m)\r\n",
    "            self.free_mark(m)\r\n",
    "\r\n",
    "    def all_i_cells (self, i=None):\r\n",
    "        \"\"\"For each i-cell (connected component) yield a list of its darts\"\"\"\r\n",
    "        logging.debug (f'Listing {i}-cells:')\r\n",
    "        for counter, d in enumerate (self.darts_of_i_cells(i)):\r\n",
    "            cell = list (self.cell_i (i, d))  # compute orbit from d\r\n",
    "            logging.debug (f'\\t#{counter+1:2d}: {cell}')\r\n",
    "            yield cell\r\n",
    "\r\n",
    "    def all_connected_components (self):\r\n",
    "        \"\"\"For each connected component yields a set of its darts\"\"\"\r\n",
    "        return self.all_i_cells()\r\n",
    "\r\n",
    "    def cell_i (self, i, dart):\r\n",
    "        \"\"\"iterator over i-cell of a given dart\"\"\"\r\n",
    "        return self.orbit (self.all_dimensions_but_i(i), dart)\r\n",
    "\r\n",
    "    def cell_0 (self, dart): return self.cell_i (0, dart)\r\n",
    "    def cell_1 (self, dart): return self.cell_i (1, dart)\r\n",
    "    def cell_2 (self, dart): return self.cell_i (2, dart)\r\n",
    "    def cell_3 (self, dart): return self.cell_i (3, dart)\r\n",
    "    def cell_4 (self, dart): return self.cell_i (4, dart)\r\n",
    "\r\n",
    "    # number of i-cells and connected components\r\n",
    "\r\n",
    "    def no_i_cells (self, i=None):\r\n",
    "        \"\"\"\r\n",
    "        Counts\r\n",
    "            i-cells,             if 0 <= i <= n\r\n",
    "            connected components if i is None\r\n",
    "        \"\"\"\r\n",
    "        assert i is None or 0 <= i <= self.n\r\n",
    "        # return more_itertools.ilen (self.darts_of_i_cells(i))\r\n",
    "        return sum ((1 for d in self.darts_of_i_cells(i)))\r\n",
    "\r\n",
    "    @property\r\n",
    "    def no_0_cells (self): return self.no_i_cells (0)\r\n",
    "    @property\r\n",
    "    def no_1_cells (self): return self.no_i_cells (1)\r\n",
    "    @property\r\n",
    "    def no_2_cells (self): return self.no_i_cells (2)\r\n",
    "    @property\r\n",
    "    def no_3_cells (self): return self.no_i_cells (3)\r\n",
    "    @property\r\n",
    "    def no_4_cells (self): return self.no_i_cells (4)\r\n",
    "    @property\r\n",
    "    def no_ccs     (self): return self.no_i_cells ( )\r\n",
    "\r\n",
    "    def _link (self, i, dart1, dart2):\r\n",
    "        \"\"\"i-link dart1 and dart2. Use with care\"\"\"\r\n",
    "        self.set_ai(i,dart1, dart2)\r\n",
    "        self.set_ai(i,dart2, dart1)\r\n",
    "\r\n",
    "    def print_alpha_table(self, tableseparators = '=-='):\r\n",
    "        \"\"\"\r\n",
    "        Print\r\n",
    "        \"\"\"\r\n",
    "        sepT, sepM, sepB = tableseparators\r\n",
    "        print ((7 + 3*self.n_darts)*sepT)\r\n",
    "        print (  ' D# | ', end=' ')\r\n",
    "        for d in self.darts:\r\n",
    "            print (f'{d:2} ', end='')\r\n",
    "        print ()\r\n",
    "        print ((7 + 3*self.n_darts)*sepM)\r\n",
    "        for i in self.all_dimensions:\r\n",
    "            print (f' α{i} | ', end=' ')\r\n",
    "            for d in self.darts:\r\n",
    "                print (f'{self.ai(i,d):2} ', end='')\r\n",
    "            print ()\r\n",
    "        print ((7 + 3*self.n_darts)*sepB)\r\n",
    "\r\n",
    "\r\n",
    "    def summary_string(self):\r\n",
    "        \"\"\"Returns a summary string\"\"\"\r\n",
    "\r\n",
    "        if self.n < 0: return \"Void gmap\"\r\n",
    "\r\n",
    "        s = f'{self.n}-gMap of {self.n_darts} darts:\\n'\r\n",
    "        for i in self.all_dimensions_but_i():\r\n",
    "            s += f'  # {i}-cells: {self.no_i_cells(i)}\\n'\r\n",
    "        s += f'  # ccs    : {self.no_ccs}\\n'\r\n",
    "        return s\r\n",
    "\r\n",
    "    def __str__(self):\r\n",
    "        return self.summary_string()\r\n",
    "\r\n",
    "    def __repr__(self):\r\n",
    "        pass\r\n",
    "        return self.summary_string()\r\n",
    "\r\n",
    "\r\n",
    "    # -----------------------\r\n",
    "    # incidence and adjacency\r\n",
    "\r\n",
    "    def incident (self, i, d1, j, d2):\r\n",
    "        \"\"\"True if i-cell of d is incident with j-cell of d2)\"\"\"\r\n",
    "        # simply a check if the intersection of the two respective orbits is nonempty\r\n",
    "        # uses sets,  `&` for interesection , len() for cardinality)\r\n",
    "        # TODO using set for large orbits may be memory inefficient\r\n",
    "\r\n",
    "        i_cell_of_d1 = set (self.cell_i (i,d1))\r\n",
    "        j_cell_of_d2 = set (self.cell_i (j,d2))\r\n",
    "        return len (i_cell_of_d1 & j_cell_of_d2) > 0\r\n",
    "\r\n",
    "    def adjacent (self,i,d1,d2):\r\n",
    "        \"\"\"True if i-cell of d is adjacent to i-cell of d2.\r\n",
    "\r\n",
    "        For adjacency we have the same $i$ for both darts.\r\n",
    "        Algorithm:\r\n",
    "            1. get both i-cells\r\n",
    "            2. make $\\alpha_i$ of all elements of the first orbit\r\n",
    "            3. check if they have an intersection with the second orbit\r\n",
    "        \"\"\"\r\n",
    "\r\n",
    "        i_cell_of_d1 = self.cell_i (i,d1)  # iterator over i-cell of d1\r\n",
    "        i_cell_of_d2 = self.cell_i (i,d2)  # iterator over i-cell of d2\r\n",
    "        s_cell_of_d1 = set(i_cell_of_d1)   # set of darts of i-cell of d1\r\n",
    "        # TODO  query 'in' python set could be O(1) but creating set requires additional memory\r\n",
    "        for d in i_cell_of_d2:\r\n",
    "            ai_d = self.ai(i,d)\r\n",
    "            if ai_d in s_cell_of_d1:  # TODO do we really need to test if d1 \\neq d2?!\r\n",
    "                logging.debug (f'a{i}({d}) == {ai_d} which belongs to {i}-cell of dart {d1}, so these {i}-cells are adjacent')\r\n",
    "                return True\r\n",
    "        return False\r\n",
    "\r\n",
    "    # -----------------------\r\n",
    "    # contraction and removal\r\n",
    "\r\n",
    "    def _remove_dart (self,d):\r\n",
    "        # self [:,d] = -1    # this would be a direct access\r\n",
    "        for i in self.all_dimensions:\r\n",
    "            self.set_ai(i,d,-1)\r\n",
    "\r\n",
    "    def _is_i_removable_or_contractible(self, i, dart, rc):\r\n",
    "        \"\"\"\r\n",
    "        Test if an i-cell of dart is removable/contractible:\r\n",
    "\r\n",
    "        d  ... dart\r\n",
    "        i  ... i-cell\r\n",
    "        rc ... +1 => removable test, -1 => contractible test\r\n",
    "        \"\"\"\r\n",
    "        # TODO: assert dart ist valid\r\n",
    "        assert 0 <= i <= self.n\r\n",
    "        assert rc in {-1, +1}\r\n",
    "\r\n",
    "        if rc == +1:  # removable test\r\n",
    "            if i == self.n  : return False\r\n",
    "            if i == self.n-1: return True\r\n",
    "        if rc == -1:  # contractible test\r\n",
    "            if i == 0: return False\r\n",
    "            if i == 1: return True\r\n",
    "\r\n",
    "        for d in self.cell_i(i, dart):\r\n",
    "            if self.ai (i+rc, self.ai(i+rc+rc, d)) != self.ai (i+rc+rc, self.ai (i+rc, d)):\r\n",
    "                return False\r\n",
    "        return True\r\n",
    "\r\n",
    "    def is_i_removable(self, i, dart):\r\n",
    "        \"\"\"True if i-cell of dart can be removed\"\"\"\r\n",
    "        return self._is_i_removable_or_contractible(i, dart, rc=+1)\r\n",
    "\r\n",
    "    def is_i_contractible(self, i, dart):\r\n",
    "        \"\"\"True if i-cell of dart can be contracted\"\"\"\r\n",
    "        return self._is_i_removable_or_contractible(i, dart, rc=-1)\r\n",
    "\r\n",
    "    def _i_remove_contract(self, i, dart, rc, skip_check=False):\r\n",
    "        \"\"\"\r\n",
    "        Remove / contract an i-cell of dart\r\n",
    "        d  ... dart\r\n",
    "        i  ... i-cell\r\n",
    "        rc ... +1 => remove, -1 => contract\r\n",
    "        skip_check ... set to True if you are sure you can remove / contract the i-cell\r\n",
    "        \"\"\"\r\n",
    "        logging.debug (f'{\"Remove\" if rc == 1 else \"Contract\"} {i}-Cell of dart {dart}')\r\n",
    "\r\n",
    "        if not skip_check:\r\n",
    "            assert self._is_i_removable_or_contractible(i, dart, rc),\\\r\n",
    "                f'{i}-cell of dart {dart} is not {\"removable\" if rc == 1 else \"contractible\"}!'\r\n",
    "\r\n",
    "        i_cell = set(self.cell_i(i, dart))  # mark all the darts in ci(d)\r\n",
    "        logging.debug (f'\\n{i}-cell to be removed {i_cell}')\r\n",
    "        for d in i_cell:\r\n",
    "            d1 = self.ai (i,d) # d1 ← d.Alphas[i];\r\n",
    "            if d1 not in i_cell:  # if not isMarkedNself(d1,ma) then\r\n",
    "                # d2 ← d.Alphas[i + 1].Alphas[i];\r\n",
    "                d2 = self.ai (i+rc,d)\r\n",
    "                d2 = self.ai (i   ,d2)\r\n",
    "                while d2 in i_cell: # while isMarkedNself(d2,ma) do\r\n",
    "                    # d2 ← d.Alphas[i + 1].Alphas[i];\r\n",
    "                    d2 = self.ai (i+rc,d2)\r\n",
    "                    d2 = self.ai (i   ,d2)\r\n",
    "                logging.debug (f'Modifying alpha_{i} of dart {d1} from {self.ai (i,d1)} to {d2}')\r\n",
    "\r\n",
    "                self.set_ai(i,d1,d2) # d1.Alphas[i] ← d2;\r\n",
    "        for d in i_cell:  # foreach dart d' ∈ ci(d) do\r\n",
    "            self._remove_dart (d)  # remove d' from gm.Darts;\r\n",
    "\r\n",
    "    def _remove(self, i, dart, skip_check=False):\r\n",
    "        \"\"\"Remove i-cell of dart\"\"\"\r\n",
    "        self._i_remove_contract(i, dart, rc=+1, skip_check=skip_check)\r\n",
    "\r\n",
    "    def _contract(self, i, dart, skip_check=False):\r\n",
    "        \"\"\"Contract i-cell of dart\"\"\"\r\n",
    "        self._i_remove_contract(i, dart, rc=-1, skip_check=skip_check)\r\n",
    "\r\n",
    "    def remove_0_cell(self, dart): self._remove(0, dart)\r\n",
    "    def remove_1_cell(self, dart): self._remove(1, dart)\r\n",
    "    def remove_2_cell(self, dart): self._remove(2, dart)\r\n",
    "    def contract_1_cell(self, dart): self._contract(1, dart)\r\n",
    "    def contract_2_cell(self, dart): self._contract(2, dart)\r\n",
    "    def contract_3_cell(self, dart): self._contract(3, dart)\r\n",
    "\r\n",
    "    def remove_vertex  (self, dart): self._remove(0, dart)\r\n",
    "    def remove_edge    (self, dart): self._remove(1, dart)\r\n",
    "    def remove_face    (self, dart): self._remove(2, dart)\r\n",
    "    def contract_edge  (self, dart): self._contract(1, dart)\r\n",
    "    def contract_face  (self, dart): self._contract(2, dart)\r\n",
    "    def contract_volume(self, dart): self._contract(3, dart)\r\n",
    "\r\n",
    "    def sew_seq(self, i):\r\n",
    "        \"\"\"\r\n",
    "        Orbit indices to be used in the sewing operations.\r\n",
    "        This sequence will be empty for the following cases\r\n",
    "            - n=0: i=0\r\n",
    "            - n=1: i=0 or i=1\r\n",
    "            - n=2:        i=1\r\n",
    "        (0, ..., i - 2, i + 2, ..., n)\r\n",
    "        \"\"\"\r\n",
    "        return itertools.chain(range(0, i - 1), range(i + 2, self.n + 1))\r\n",
    "\r\n",
    "    def sew_no_assert(self, d1, d2, i):\r\n",
    "        \"\"\"\r\n",
    "        i-sew darts d1, d2 (and the necessary orbits), w/o checking if the operation in sewable\r\n",
    "        Args:\r\n",
    "            d1: first  dart to sew\r\n",
    "            d2: second dart to sew\r\n",
    "            i:  0...n\r\n",
    "\r\n",
    "        \"\"\"\r\n",
    "        indices = list (self.sew_seq(i))\r\n",
    "        for e1, e2 in zip(self.orbit(indices, d1), self.orbit(indices, d2)):\r\n",
    "            self._link(i, e1, e2)"
   ],
   "outputs": [],
   "metadata": {}
  },
  {
   "cell_type": "code",
   "execution_count": 6,
   "source": [
    "from combinatorial.zoo import G1_LOOP_1, G2_SQUARE_BOUNDED, G2_CONTRACTIBLE_FACE, G2_345_BOUNDED_1"
   ],
   "outputs": [],
   "metadata": {}
  },
  {
   "cell_type": "code",
   "execution_count": 7,
   "source": [
    "loop = nGmap.from_string (G1_LOOP_1)\r\n",
    "assert loop.n          == 1\r\n",
    "assert loop.n_darts    == 2\r\n",
    "assert loop.no_0_cells == 1\r\n",
    "assert loop.no_1_cells == 1\r\n",
    "\r\n",
    "set (loop.cell_0 (1))"
   ],
   "outputs": [
    {
     "output_type": "stream",
     "name": "stderr",
     "text": [
      "<ipython-input-5-0e5915b37758>:55: DeprecationWarning: `np.int` is a deprecated alias for the builtin `int`. To silence this warning, use `int` by itself. Doing this will not modify any behavior and is safe. When replacing `np.int`, you may wish to use e.g. `np.int64` or `np.int32` to specify the precision. If you wish to review your current use, check the release note link for additional information.\n",
      "Deprecated in NumPy 1.20; for more details and guidance: https://numpy.org/devdocs/release/1.20.0-notes.html#deprecations\n",
      "  arr = np.fromstring (s, sep = ' ', dtype = np.int).reshape (n_lines, -1)\n"
     ]
    },
    {
     "output_type": "execute_result",
     "data": {
      "text/plain": [
       "{1, 2}"
      ]
     },
     "metadata": {},
     "execution_count": 7
    }
   ],
   "metadata": {}
  },
  {
   "cell_type": "code",
   "execution_count": 8,
   "source": [
    "SB = nGmap.from_string (G2_SQUARE_BOUNDED)\r\n",
    "\r\n",
    "assert SB.is_valid\r\n",
    "assert SB.n          == 2\r\n",
    "assert SB.n_darts    == 8\r\n",
    "assert SB.no_0_cells == 4\r\n",
    "assert SB.no_1_cells == 4\r\n",
    "assert SB.no_2_cells == 1\r\n",
    "assert SB.no_ccs     == 1\r\n",
    "assert set (SB.darts) == {0,1,2,3,4,5,6,7}\r\n",
    "assert set (SB.cell_0 (0)) == {0,7}\r\n",
    "assert set (SB.cell_1 (0)) == {0,1}\r\n",
    "assert set (SB.cell_2 (0)) == {0,1,2,3,4,5,6,7}\r\n",
    "\r\n",
    "SB"
   ],
   "outputs": [
    {
     "output_type": "stream",
     "name": "stderr",
     "text": [
      "<ipython-input-5-0e5915b37758>:55: DeprecationWarning: `np.int` is a deprecated alias for the builtin `int`. To silence this warning, use `int` by itself. Doing this will not modify any behavior and is safe. When replacing `np.int`, you may wish to use e.g. `np.int64` or `np.int32` to specify the precision. If you wish to review your current use, check the release note link for additional information.\n",
      "Deprecated in NumPy 1.20; for more details and guidance: https://numpy.org/devdocs/release/1.20.0-notes.html#deprecations\n",
      "  arr = np.fromstring (s, sep = ' ', dtype = np.int).reshape (n_lines, -1)\n"
     ]
    },
    {
     "output_type": "execute_result",
     "data": {
      "text/plain": [
       "2-gMap of 8 darts:\n",
       "  # 0-cells: 4\n",
       "  # 1-cells: 4\n",
       "  # 2-cells: 1\n",
       "  # ccs    : 1"
      ]
     },
     "metadata": {},
     "execution_count": 8
    }
   ],
   "metadata": {}
  },
  {
   "cell_type": "code",
   "execution_count": 9,
   "source": [
    "list (SB.all_connected_components())"
   ],
   "outputs": [
    {
     "output_type": "execute_result",
     "data": {
      "text/plain": [
       "[[0, 7, 6, 5, 4, 3, 2, 1]]"
      ]
     },
     "metadata": {},
     "execution_count": 9
    }
   ],
   "metadata": {}
  },
  {
   "cell_type": "code",
   "execution_count": 10,
   "source": [
    "list (SB.cell_i (0, 3))"
   ],
   "outputs": [
    {
     "output_type": "execute_result",
     "data": {
      "text/plain": [
       "[3, 4]"
      ]
     },
     "metadata": {},
     "execution_count": 10
    }
   ],
   "metadata": {}
  },
  {
   "cell_type": "code",
   "execution_count": 11,
   "source": [
    "list (SB.cell_2 (1))"
   ],
   "outputs": [
    {
     "output_type": "execute_result",
     "data": {
      "text/plain": [
       "[1, 2, 3, 4, 5, 6, 7, 0]"
      ]
     },
     "metadata": {},
     "execution_count": 11
    }
   ],
   "metadata": {}
  },
  {
   "cell_type": "code",
   "execution_count": 12,
   "source": [
    "for d in SB.darts:\r\n",
    "    print (list (SB.cell_1 (d)))"
   ],
   "outputs": [
    {
     "output_type": "stream",
     "name": "stdout",
     "text": [
      "[0, 1]\n",
      "[1, 0]\n",
      "[2, 3]\n",
      "[3, 2]\n",
      "[4, 5]\n",
      "[5, 4]\n",
      "[6, 7]\n",
      "[7, 6]\n"
     ]
    }
   ],
   "metadata": {}
  },
  {
   "cell_type": "code",
   "execution_count": 13,
   "source": [
    "gg = nGmap.from_string (\"0\\n0\")"
   ],
   "outputs": [
    {
     "output_type": "stream",
     "name": "stderr",
     "text": [
      "<ipython-input-5-0e5915b37758>:55: DeprecationWarning: `np.int` is a deprecated alias for the builtin `int`. To silence this warning, use `int` by itself. Doing this will not modify any behavior and is safe. When replacing `np.int`, you may wish to use e.g. `np.int64` or `np.int32` to specify the precision. If you wish to review your current use, check the release note link for additional information.\n",
      "Deprecated in NumPy 1.20; for more details and guidance: https://numpy.org/devdocs/release/1.20.0-notes.html#deprecations\n",
      "  arr = np.fromstring (s, sep = ' ', dtype = np.int).reshape (n_lines, -1)\n"
     ]
    }
   ],
   "metadata": {}
  },
  {
   "cell_type": "code",
   "execution_count": 14,
   "source": [
    "nGmap.from_string (\"0\\n0\")\r\n",
    "\r\n",
    "nGmap.from_string (\"1 0 \\n 1 0\")  # LOOP\r\n",
    "\r\n",
    "nGmap.from_string (\"0 1 \\n 0 1\")\r\n",
    "\r\n",
    "nGmap.from_string (\"0 1 \\n 1 0\")\r\n",
    "\r\n",
    "nGmap.from_string (\"1 0  \\n 0 1\")\r\n",
    "\r\n",
    "for s in \"0\\n0\",  \"0 1 \\n 0 1\",   \"0 1 \\n 1 0\",   \"1 0\\n0 1\", \"1 0\\n1 0\":\r\n",
    "    print (nGmap.from_string(s))\r\n",
    "\r\n",
    "g_2_lines = nGmap.from_string (\"1 0 3 2 \\n 0 2 1 3\")\r\n",
    "g_2_lines"
   ],
   "outputs": [
    {
     "output_type": "stream",
     "name": "stdout",
     "text": [
      "1-gMap of 1 darts:\n",
      "  # 0-cells: 1\n",
      "  # 1-cells: 1\n",
      "  # ccs    : 1\n",
      "\n",
      "1-gMap of 2 darts:\n",
      "  # 0-cells: 2\n",
      "  # 1-cells: 2\n",
      "  # ccs    : 2\n",
      "\n",
      "1-gMap of 2 darts:\n",
      "  # 0-cells: 1\n",
      "  # 1-cells: 2\n",
      "  # ccs    : 1\n",
      "\n",
      "1-gMap of 2 darts:\n",
      "  # 0-cells: 2\n",
      "  # 1-cells: 1\n",
      "  # ccs    : 1\n",
      "\n",
      "1-gMap of 2 darts:\n",
      "  # 0-cells: 1\n",
      "  # 1-cells: 1\n",
      "  # ccs    : 1\n",
      "\n"
     ]
    },
    {
     "output_type": "stream",
     "name": "stderr",
     "text": [
      "<ipython-input-5-0e5915b37758>:55: DeprecationWarning: `np.int` is a deprecated alias for the builtin `int`. To silence this warning, use `int` by itself. Doing this will not modify any behavior and is safe. When replacing `np.int`, you may wish to use e.g. `np.int64` or `np.int32` to specify the precision. If you wish to review your current use, check the release note link for additional information.\n",
      "Deprecated in NumPy 1.20; for more details and guidance: https://numpy.org/devdocs/release/1.20.0-notes.html#deprecations\n",
      "  arr = np.fromstring (s, sep = ' ', dtype = np.int).reshape (n_lines, -1)\n"
     ]
    },
    {
     "output_type": "execute_result",
     "data": {
      "text/plain": [
       "1-gMap of 4 darts:\n",
       "  # 0-cells: 3\n",
       "  # 1-cells: 2\n",
       "  # ccs    : 1"
      ]
     },
     "metadata": {},
     "execution_count": 14
    }
   ],
   "metadata": {}
  },
  {
   "cell_type": "code",
   "execution_count": 15,
   "source": [
    "g_2_lines.contract_edge (3)\r\n",
    "g_2_lines.print_alpha_table()"
   ],
   "outputs": [
    {
     "output_type": "stream",
     "name": "stdout",
     "text": [
      "=============\n",
      " D# |   0  1 \n",
      "-------------\n",
      " α0 |   1  0 \n",
      " α1 |   0  1 \n",
      "=============\n"
     ]
    }
   ],
   "metadata": {}
  },
  {
   "cell_type": "code",
   "execution_count": 16,
   "source": [
    "g_2_lines.contract_edge (1)\r\n",
    "g_2_lines.print_alpha_table()"
   ],
   "outputs": [
    {
     "output_type": "stream",
     "name": "stdout",
     "text": [
      "=======\n",
      " D# |  \n",
      "-------\n",
      " α0 |  \n",
      " α1 |  \n",
      "=======\n"
     ]
    }
   ],
   "metadata": {}
  },
  {
   "cell_type": "code",
   "execution_count": 17,
   "source": [
    "g_2_lines"
   ],
   "outputs": [
    {
     "output_type": "execute_result",
     "data": {
      "text/plain": [
       "1-gMap of 0 darts:\n",
       "  # 0-cells: 0\n",
       "  # 1-cells: 0\n",
       "  # ccs    : 0"
      ]
     },
     "metadata": {},
     "execution_count": 17
    }
   ],
   "metadata": {}
  },
  {
   "cell_type": "code",
   "execution_count": 18,
   "source": [
    "## contraction tests"
   ],
   "outputs": [],
   "metadata": {}
  },
  {
   "cell_type": "code",
   "execution_count": 19,
   "source": [
    "SB.contract_1_cell(0)"
   ],
   "outputs": [],
   "metadata": {}
  },
  {
   "cell_type": "code",
   "execution_count": 20,
   "source": [
    "SB.contract_1_cell(1)"
   ],
   "outputs": [],
   "metadata": {}
  },
  {
   "cell_type": "code",
   "execution_count": 21,
   "source": [
    "list (SB.darts)"
   ],
   "outputs": [
    {
     "output_type": "execute_result",
     "data": {
      "text/plain": [
       "[2, 3, 4, 5]"
      ]
     },
     "metadata": {},
     "execution_count": 21
    }
   ],
   "metadata": {}
  },
  {
   "cell_type": "code",
   "execution_count": 22,
   "source": [
    "SB.contract_2_cell (2)"
   ],
   "outputs": [],
   "metadata": {}
  },
  {
   "cell_type": "markdown",
   "source": [],
   "metadata": {}
  },
  {
   "cell_type": "code",
   "execution_count": 23,
   "source": [
    "SB.contract_1_cell(0)"
   ],
   "outputs": [],
   "metadata": {}
  },
  {
   "cell_type": "code",
   "execution_count": 24,
   "source": [
    "SB.contract_1_cell(1)"
   ],
   "outputs": [],
   "metadata": {}
  },
  {
   "cell_type": "code",
   "execution_count": 25,
   "source": [
    "list (SB.darts)"
   ],
   "outputs": [
    {
     "output_type": "execute_result",
     "data": {
      "text/plain": [
       "[]"
      ]
     },
     "metadata": {},
     "execution_count": 25
    }
   ],
   "metadata": {}
  },
  {
   "cell_type": "code",
   "execution_count": 26,
   "source": [
    "SB.contract_2_cell (2)"
   ],
   "outputs": [],
   "metadata": {}
  },
  {
   "cell_type": "code",
   "execution_count": 27,
   "source": [
    "SB"
   ],
   "outputs": [
    {
     "output_type": "execute_result",
     "data": {
      "text/plain": [
       "2-gMap of 0 darts:\n",
       "  # 0-cells: 0\n",
       "  # 1-cells: 0\n",
       "  # 2-cells: 0\n",
       "  # ccs    : 0"
      ]
     },
     "metadata": {},
     "execution_count": 27
    }
   ],
   "metadata": {}
  },
  {
   "cell_type": "code",
   "execution_count": 28,
   "source": [
    "show_doc (nGmap.from_string)"
   ],
   "outputs": [
    {
     "output_type": "display_data",
     "data": {
      "text/markdown": [
       "<h4 id=\"nGmap.from_string\" class=\"doc_header\"><code>nGmap.from_string</code><a href=\"__main__.py#L48\" class=\"source_link\" style=\"float:right\">[source]</a></h4>\n",
       "\n",
       "> <code>nGmap.from_string</code>(**`s`**)\n",
       "\n",
       "Constructs a nGmap from an (n+1)-line string.\n",
       "\n",
       "See `combinatorial.zoo` for examples"
      ],
      "text/plain": [
       "<IPython.core.display.Markdown object>"
      ]
     },
     "metadata": {}
    }
   ],
   "metadata": {}
  },
  {
   "cell_type": "code",
   "execution_count": 29,
   "source": [
    "nGmap.from_string (G2_SQUARE_BOUNDED)"
   ],
   "outputs": [
    {
     "output_type": "stream",
     "name": "stderr",
     "text": [
      "<ipython-input-5-0e5915b37758>:55: DeprecationWarning: `np.int` is a deprecated alias for the builtin `int`. To silence this warning, use `int` by itself. Doing this will not modify any behavior and is safe. When replacing `np.int`, you may wish to use e.g. `np.int64` or `np.int32` to specify the precision. If you wish to review your current use, check the release note link for additional information.\n",
      "Deprecated in NumPy 1.20; for more details and guidance: https://numpy.org/devdocs/release/1.20.0-notes.html#deprecations\n",
      "  arr = np.fromstring (s, sep = ' ', dtype = np.int).reshape (n_lines, -1)\n"
     ]
    },
    {
     "output_type": "execute_result",
     "data": {
      "text/plain": [
       "2-gMap of 8 darts:\n",
       "  # 0-cells: 4\n",
       "  # 1-cells: 4\n",
       "  # 2-cells: 1\n",
       "  # ccs    : 1"
      ]
     },
     "metadata": {},
     "execution_count": 29
    }
   ],
   "metadata": {}
  },
  {
   "cell_type": "code",
   "execution_count": null,
   "source": [],
   "outputs": [],
   "metadata": {}
  },
  {
   "cell_type": "markdown",
   "source": [
    "# Edge contraction test\n",
    "\n",
    "Referring to Book Fig 6.27, contraction of edge containing dart 3 will result in identification of its vertices. Darts 3,4,8,10 will be removed."
   ],
   "metadata": {}
  },
  {
   "cell_type": "code",
   "execution_count": 30,
   "source": [
    "f627a = nGmap.from_string (G2_345_BOUNDED_1)\r\n",
    "print (f627a)\r\n",
    "f627a.print_alpha_table()"
   ],
   "outputs": [
    {
     "output_type": "stream",
     "name": "stdout",
     "text": [
      "2-gMap of 24 darts:\n",
      "  # 0-cells: 7\n",
      "  # 1-cells: 9\n",
      "  # 2-cells: 3\n",
      "  # ccs    : 1\n",
      "\n",
      "===============================================================================\n",
      " D# |   1  2  3  4  5  6  7  8  9 10 11 12 13 14 15 16 17 18 19 20 21 22 23 24 \n",
      "-------------------------------------------------------------------------------\n",
      " α0 |   2  1  4  3  6  5  8  7 10  9 12 11 14 13 16 15 18 17 20 19 22 21 24 23 \n",
      " α1 |   8  3  2  5  4  7  6  1 18 11 10 13 12 15 14 17 16  9 24 21 20 23 22 19 \n",
      " α2 |  19 20 10  9  5  6  7  8  4  3 21 22 13 14 15 16 17 18  1  2 11 12 23 24 \n",
      "===============================================================================\n"
     ]
    },
    {
     "output_type": "stream",
     "name": "stderr",
     "text": [
      "<ipython-input-5-0e5915b37758>:55: DeprecationWarning: `np.int` is a deprecated alias for the builtin `int`. To silence this warning, use `int` by itself. Doing this will not modify any behavior and is safe. When replacing `np.int`, you may wish to use e.g. `np.int64` or `np.int32` to specify the precision. If you wish to review your current use, check the release note link for additional information.\n",
      "Deprecated in NumPy 1.20; for more details and guidance: https://numpy.org/devdocs/release/1.20.0-notes.html#deprecations\n",
      "  arr = np.fromstring (s, sep = ' ', dtype = np.int).reshape (n_lines, -1)\n"
     ]
    }
   ],
   "metadata": {}
  },
  {
   "cell_type": "code",
   "execution_count": 31,
   "source": [
    "f627a.contract_edge (3)\r\n",
    "print (f627a)\r\n",
    "f627a.print_alpha_table()\r\n",
    "assert f627a.no_0_cells == 6"
   ],
   "outputs": [
    {
     "output_type": "stream",
     "name": "stdout",
     "text": [
      "2-gMap of 20 darts:\n",
      "  # 0-cells: 6\n",
      "  # 1-cells: 8\n",
      "  # 2-cells: 3\n",
      "  # ccs    : 1\n",
      "\n",
      "===================================================================\n",
      " D# |   1  2  5  6  7  8 11 12 13 14 15 16 17 18 19 20 21 22 23 24 \n",
      "-------------------------------------------------------------------\n",
      " α0 |   2  1  6  5  8  7 12 11 14 13 16 15 18 17 20 19 22 21 24 23 \n",
      " α1 |   8  5  2  7  6  1 18 13 12 15 14 17 16 11 24 21 20 23 22 19 \n",
      " α2 |  19 20  5  6  7  8 21 22 13 14 15 16 17 18  1  2 11 12 23 24 \n",
      "===================================================================\n"
     ]
    }
   ],
   "metadata": {}
  },
  {
   "cell_type": "markdown",
   "source": [
    "# Face contraction test\n",
    "\n",
    "Rererring to BOOK Fig 6.28, contracting the face belonging to dart 1 results in identification of its two edges.\n",
    "Darts 1,2,3,4 will be removed."
   ],
   "metadata": {}
  },
  {
   "cell_type": "code",
   "execution_count": 32,
   "source": [
    "f628a = nGmap.from_string (G2_CONTRACTIBLE_FACE)\r\n",
    "print (f628a)\r\n",
    "f628a.print_alpha_table()\r\n",
    "\r\n",
    "f628a.contract_face (1) # contract the face containing dart 1.\r\n",
    "print (f628a)\r\n",
    "f628a.print_alpha_table()\r\n",
    "assert f628a.no_1_cells == 7"
   ],
   "outputs": [
    {
     "output_type": "stream",
     "name": "stdout",
     "text": [
      "2-gMap of 20 darts:\n",
      "  # 0-cells: 6\n",
      "  # 1-cells: 8\n",
      "  # 2-cells: 3\n",
      "  # ccs    : 1\n",
      "\n",
      "===================================================================\n",
      " D# |   1  2  3  4  5  6  7  8  9 10 11 12 13 14 15 16 17 18 19 20 \n",
      "-------------------------------------------------------------------\n",
      " α0 |   2  1  4  3  6  5  8  7 10  9 12 11 14 13 16 15 18 17 20 19 \n",
      " α1 |   4  3  2  1 12  7  6  9  8 11 10  5 20 15 14 17 16 19 18 13 \n",
      " α2 |   6  5 13 14  2  1  7  8  9 10 11 12  3  4 15 16 17 18 19 20 \n",
      "===================================================================\n",
      "2-gMap of 16 darts:\n",
      "  # 0-cells: 6\n",
      "  # 1-cells: 7\n",
      "  # 2-cells: 2\n",
      "  # ccs    : 1\n",
      "\n",
      "=======================================================\n",
      " D# |   5  6  7  8  9 10 11 12 13 14 15 16 17 18 19 20 \n",
      "-------------------------------------------------------\n",
      " α0 |   6  5  8  7 10  9 12 11 14 13 16 15 18 17 20 19 \n",
      " α1 |  12  7  6  9  8 11 10  5 20 15 14 17 16 19 18 13 \n",
      " α2 |  13 14  7  8  9 10 11 12  5  6 15 16 17 18 19 20 \n",
      "=======================================================\n"
     ]
    },
    {
     "output_type": "stream",
     "name": "stderr",
     "text": [
      "<ipython-input-5-0e5915b37758>:55: DeprecationWarning: `np.int` is a deprecated alias for the builtin `int`. To silence this warning, use `int` by itself. Doing this will not modify any behavior and is safe. When replacing `np.int`, you may wish to use e.g. `np.int64` or `np.int32` to specify the precision. If you wish to review your current use, check the release note link for additional information.\n",
      "Deprecated in NumPy 1.20; for more details and guidance: https://numpy.org/devdocs/release/1.20.0-notes.html#deprecations\n",
      "  arr = np.fromstring (s, sep = ' ', dtype = np.int).reshape (n_lines, -1)\n"
     ]
    }
   ],
   "metadata": {}
  }
 ],
 "metadata": {
  "kernelspec": {
   "name": "python3",
   "display_name": "Python 3.8.9 64-bit ('venv_NC': venv)"
  },
  "language_info": {
   "name": "python",
   "version": "3.8.9",
   "mimetype": "text/x-python",
   "codemirror_mode": {
    "name": "ipython",
    "version": 3
   },
   "pygments_lexer": "ipython3",
   "nbconvert_exporter": "python",
   "file_extension": ".py"
  },
  "interpreter": {
   "hash": "ec904cc508e64af8cc7b4019b8ba061516bb876417171e76154460a41879f546"
  }
 },
 "nbformat": 4,
 "nbformat_minor": 2
}