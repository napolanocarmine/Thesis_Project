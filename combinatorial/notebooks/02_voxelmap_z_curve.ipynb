{
 "cells": [
  {
   "cell_type": "code",
   "execution_count": null,
   "metadata": {},
   "outputs": [],
   "source": [
    "import numpy as np"
   ]
  },
  {
   "cell_type": "code",
   "execution_count": null,
   "metadata": {},
   "outputs": [],
   "source": [
    "# The following routines are for 32-bits\n",
    "# TODO: have onese for 8, 16, and 64 bits\n",
    "\n",
    "def part1by1(n):\n",
    "    n&= 0x0000ffff\n",
    "    n = (n | (n << 8)) & 0x00FF00FF\n",
    "    n = (n | (n << 4)) & 0x0F0F0F0F\n",
    "    n = (n | (n << 2)) & 0x33333333\n",
    "    n = (n | (n << 1)) & 0x55555555\n",
    "    return n\n",
    "\n",
    "def unpart1by1(n):\n",
    "    n&= 0x55555555\n",
    "    n = (n ^ (n >> 1)) & 0x33333333\n",
    "    n = (n ^ (n >> 2)) & 0x0f0f0f0f\n",
    "    n = (n ^ (n >> 4)) & 0x00ff00ff\n",
    "    n = (n ^ (n >> 8)) & 0x0000ffff\n",
    "    return n\n",
    "\n",
    "def interleave2(x, y):\n",
    "    return part1by1(x) | (part1by1(y) << 1)\n",
    "\n",
    "def deinterleave2(n):\n",
    "    return unpart1by1(n), unpart1by1(n >> 1)"
   ]
  },
  {
   "cell_type": "code",
   "execution_count": null,
   "metadata": {},
   "outputs": [
    {
     "data": {
      "text/plain": [
       "1023"
      ]
     },
     "execution_count": null,
     "metadata": {},
     "output_type": "execute_result"
    }
   ],
   "source": [
    "2**10-1 & 0x000003ff"
   ]
  },
  {
   "cell_type": "code",
   "execution_count": null,
   "metadata": {},
   "outputs": [],
   "source": [
    "# The following routines are for 32-bits\n",
    "# TODO: have onese for 8, 16, and 64 bits\n",
    "\n",
    "def part1by2(n):\n",
    "    n&= 0x000003ff\n",
    "    n = (n ^ (n << 16)) & 0xff0000ff\n",
    "    n = (n ^ (n <<  8)) & 0x0300f00f\n",
    "    n = (n ^ (n <<  4)) & 0x030c30c3\n",
    "    n = (n ^ (n <<  2)) & 0x09249249\n",
    "    return n\n",
    "\n",
    "\n",
    "def unpart1by2(n):\n",
    "    n&= 0x09249249\n",
    "    n = (n ^ (n >>  2)) & 0x030c30c3\n",
    "    n = (n ^ (n >>  4)) & 0x0300f00f\n",
    "    n = (n ^ (n >>  8)) & 0xff0000ff\n",
    "    n = (n ^ (n >> 16)) & 0x000003ff\n",
    "    return n\n",
    "\n",
    "def interleave3(x, y, z):\n",
    "    return part1by2(x) | (part1by2(y) << 1) | (part1by2(z) << 2)\n",
    "\n",
    "def deinterleave3(n):\n",
    "    return unpart1by2(n), unpart1by2(n >> 1), unpart1by2(n >> 2)"
   ]
  },
  {
   "cell_type": "markdown",
   "metadata": {},
   "source": [
    "# interleaving in 3D works for x,y,z  $\\in 0 \\ldots 2^{10}-1 = 0 \\ldots 1023$ voxels\n",
    "\n",
    "... in every dimensions, i.e., only 10-10-10 bits can be used, 10-11-11 does not\n",
    "\n",
    "It can be reprogrammed that bits 11 are used for 2 coordinates (scheme 11-11-10)\n"
   ]
  },
  {
   "cell_type": "code",
   "execution_count": null,
   "metadata": {},
   "outputs": [],
   "source": [
    "for x in 8,9,10:\n",
    "    for y in 8,9,10:\n",
    "        for z in 8,9,10:\n",
    "            if deinterleave3 (interleave3(2**x-1,2**y-1,2**z-1)) != (2**x-1,2**y-1,2**z-1):\n",
    "                print (x,y,z)\n",
    "            "
   ]
  },
  {
   "cell_type": "markdown",
   "metadata": {},
   "source": [
    "# Conversion between darts and tuples\n",
    "\n",
    "In 2D we had binary encoding\n",
    "```\n",
    "    xy.xy.xy.xy -- a - bb\n",
    "```\n",
    "\n",
    "Tn 3D it translates to\n",
    "```\n",
    "    xyz.xyz.xyz.xyz -- aa - bbbb\n",
    "\n",
    "```\n",
    "\n",
    "This means:\n",
    "\n",
    "- x,y,z coordinates of the reference voxel\n",
    "- 2 bits `aa` to encode the axis (0,1,2) or (R,G,B)\n",
    "- 4 bits `bbbb` to one of the 16 darts of the sandwich. This can be read as either \n",
    "    - index $i \\in \\{ 0 \\ldots 15\\}$\n",
    "    - side of the sandwich $s \\in \\{ 0, 1\\}$  plus  index within the side $i \\in \\{ 0 \\ldots 7\\}$\n",
    "    \n",
    "Conversion routines follow:"
   ]
  },
  {
   "cell_type": "code",
   "execution_count": null,
   "metadata": {},
   "outputs": [],
   "source": [
    "def t5dart (x,y,z,a,i):\n",
    "    \"\"\"\n",
    "    5-tuple to dart.\n",
    "\n",
    "    x,y,z, voxel coordinates\n",
    "    a in 0,1,2 axis, i.e the square (and also dart within it) is orthogonal to this axis\n",
    "    i in 0..15\n",
    "    \"\"\"\n",
    "\n",
    "    return interleave3 (x,y,z) << 6 | a << 4 | i\n",
    "\n",
    "def t6dart (x,y,z,a,s,i):\n",
    "    \"\"\"\n",
    "    6-tuple to dart\n",
    "\n",
    "    x,y,z, voxel coordinates\n",
    "\n",
    "    a in 0,1,2 axis, i.e the square is orthogonal this axis\n",
    "    s in 0...1 which side of the sandwich\n",
    "    i in 0...7 dart number within the square\n",
    "    \"\"\"\n",
    "\n",
    "    return interleave3 (x,y,z) << 6 | a << 4 | s << 3 | i\n",
    "\n",
    "def dart5t (d):\n",
    "    \"\"\"Dart to 5-tuple\"\"\"\n",
    "    i = d & 0b1111; d >>= 4\n",
    "    a = d & 0b11  ; d >>= 2\n",
    "    x,y,z = deinterleave3 (d)\n",
    "    return x,y,z,a,i\n",
    "\n",
    "def dart6t (d):\n",
    "    \"\"\"Dart to 6-tuple\"\"\"\n",
    "\n",
    "    i = d & 0b111; d >>= 3\n",
    "    s = d & 0b1  ; d >>= 1\n",
    "    a = d & 0b11 ; d >>= 2\n",
    "    x,y,z = deinterleave3 (d)\n",
    "    return x,y,z,a,s,i"
   ]
  },
  {
   "cell_type": "code",
   "execution_count": null,
   "metadata": {},
   "outputs": [
    {
     "data": {
      "text/plain": [
       "(511, 511, 255, 1, 1, 7)"
      ]
     },
     "execution_count": null,
     "metadata": {},
     "output_type": "execute_result"
    }
   ],
   "source": [
    "# check it\n",
    "dart6t (t6dart (511,511,255,1,1,7))"
   ]
  },
  {
   "cell_type": "markdown",
   "metadata": {},
   "source": [
    "# Support routines"
   ]
  },
  {
   "cell_type": "code",
   "execution_count": null,
   "metadata": {},
   "outputs": [],
   "source": [
    "import termcolor\n",
    "\n",
    "def bitcolor(*args, return_str=False, nBits=32, sep=' '):\n",
    "    'convert number or tuple to colorfull bitcode text'\n",
    "    colors = 'red green blue'.split()\n",
    "\n",
    "    if len (args) == 1: n = args[0]\n",
    "    if len (args) == 2: n = interleave2 (args[0],args[1])\n",
    "    if len (args) == 3: n = interleave3 (args[0],args[1],args[2])\n",
    "        \n",
    "    text = f'{n:0{nBits}b}'\n",
    "    out = ''\n",
    "    D = len (args)\n",
    "    for i,c in enumerate(text,D-len(text)%D):\n",
    "        out += termcolor.colored(c,colors[i%D])\n",
    "        if i%D==D-1 and i< len(text): out+=sep\n",
    "    if return_str:\n",
    "        return out\n",
    "    else:\n",
    "        print (out)"
   ]
  },
  {
   "cell_type": "code",
   "execution_count": null,
   "metadata": {},
   "outputs": [
    {
     "name": "stdout",
     "output_type": "stream",
     "text": [
      "\u001b[31m1\u001b[0m\u001b[32m0\u001b[0m \u001b[31m0\u001b[0m\u001b[32m1\u001b[0m \u001b[31m0\u001b[0m\u001b[32m0\u001b[0m \u001b[31m0\u001b[0m\u001b[32m0\u001b[0m \u001b[31m0\u001b[0m\u001b[32m0\u001b[0m \u001b[31m0\u001b[0m\u001b[32m0\u001b[0m \u001b[31m0\u001b[0m\u001b[32m0\u001b[0m \u001b[31m0\u001b[0m\u001b[32m0\u001b[0m \u001b[31m0\u001b[0m\u001b[32m0\u001b[0m \u001b[31m0\u001b[0m\u001b[32m0\u001b[0m \u001b[31m0\u001b[0m\u001b[32m0\u001b[0m \u001b[31m0\u001b[0m\u001b[32m0\u001b[0m \u001b[31m0\u001b[0m\u001b[32m0\u001b[0m \u001b[31m0\u001b[0m\u001b[32m0\u001b[0m \u001b[31m0\u001b[0m\u001b[32m0\u001b[0m \u001b[31m0\u001b[0m\u001b[32m0\u001b[0m\n"
     ]
    }
   ],
   "source": [
    "bitcolor(2**14,2**15)"
   ]
  },
  {
   "cell_type": "code",
   "execution_count": null,
   "metadata": {},
   "outputs": [
    {
     "name": "stdout",
     "output_type": "stream",
     "text": [
      "\u001b[31m0\u001b[0m\u001b[32m0\u001b[0m\u001b[34m0\u001b[0m \u001b[31m0\u001b[0m\u001b[32m1\u001b[0m\u001b[34m1\u001b[0m \u001b[31m1\u001b[0m\u001b[32m0\u001b[0m\u001b[34m1\u001b[0m\n"
     ]
    }
   ],
   "source": [
    "bitcolor(3,2,1,nBits=9)"
   ]
  },
  {
   "cell_type": "code",
   "execution_count": null,
   "metadata": {},
   "outputs": [
    {
     "name": "stdout",
     "output_type": "stream",
     "text": [
      "\u001b[32m0\u001b[0m\u001b[34m0\u001b[0m-\u001b[31m1\u001b[0m\u001b[32m1\u001b[0m\u001b[34m1\u001b[0m-\u001b[31m1\u001b[0m\u001b[32m1\u001b[0m\u001b[34m1\u001b[0m-\u001b[31m1\u001b[0m\u001b[32m1\u001b[0m\u001b[34m1\u001b[0m-\u001b[31m1\u001b[0m\u001b[32m1\u001b[0m\u001b[34m1\u001b[0m-\u001b[31m1\u001b[0m\u001b[32m1\u001b[0m\u001b[34m1\u001b[0m-\u001b[31m1\u001b[0m\u001b[32m1\u001b[0m\u001b[34m1\u001b[0m-\u001b[31m1\u001b[0m\u001b[32m1\u001b[0m\u001b[34m1\u001b[0m-\u001b[31m1\u001b[0m\u001b[32m1\u001b[0m\u001b[34m1\u001b[0m-\u001b[31m1\u001b[0m\u001b[32m1\u001b[0m\u001b[34m1\u001b[0m-\u001b[31m1\u001b[0m\u001b[32m1\u001b[0m\u001b[34m1\u001b[0m\n"
     ]
    }
   ],
   "source": [
    "bitcolor(2**10-1,2**10-1,2**10-1, sep='-')"
   ]
  },
  {
   "cell_type": "code",
   "execution_count": null,
   "metadata": {},
   "outputs": [],
   "source": [
    "def dartcolor (*args, nBits=9, return_str=False):\n",
    "    \"\"\"\n",
    "    prints or returns colored bit-string representing a dart\n",
    "\n",
    "    dart can be represented by one of the following:\n",
    "        1 unsigned integer\n",
    "        5 tuple x,y,z, ax,    i  ....           i in 0...15\n",
    "        6 tuple x,y,z, ax, s ,i  .... s in 0,1  i in 0... 7\n",
    "    keywords:\n",
    "        nbits:       limit the number of shown bits: default 9 \n",
    "        return_str:  True to return string, False (default)\n",
    "    \"\"\"\n",
    "    \n",
    "    if len (args) == 1:\n",
    "        d = args[0]\n",
    "    if len (args) == 5:\n",
    "        d = t5dart (*args)\n",
    "    if len (args) == 6:\n",
    "        d = t6dart (*args)\n",
    "    txt = f'{d:0{3*3+2+4}b}'\n",
    "             \n",
    "    x,y,z,a,s,i = dart6t (d)\n",
    "             \n",
    "    out  = bitcolor(x,y,z,return_str=True, sep='.', nBits=nBits)\n",
    "\n",
    "    axcolor = 'red green blue'.split()[ a ]\n",
    "    out += \"-\" + termcolor.colored (f'{txt[-6:-4]}', on_color='on_'+axcolor)\n",
    "\n",
    "    out += f'-{txt[-4]}-{txt[-3:]}'  #attrs=['underline']\n",
    "             \n",
    "    if return_str:\n",
    "        return out\n",
    "    else:\n",
    "        print (out)    "
   ]
  },
  {
   "cell_type": "code",
   "execution_count": null,
   "metadata": {},
   "outputs": [
    {
     "name": "stdout",
     "output_type": "stream",
     "text": [
      "\u001b[31m1\u001b[0m\u001b[32m0\u001b[0m\u001b[34m1\u001b[0m.\u001b[31m0\u001b[0m\u001b[32m0\u001b[0m\u001b[34m0\u001b[0m.\u001b[31m1\u001b[0m\u001b[32m0\u001b[0m\u001b[34m1\u001b[0m.\u001b[31m0\u001b[0m\u001b[32m1\u001b[0m\u001b[34m0\u001b[0m.\u001b[31m0\u001b[0m\u001b[32m1\u001b[0m\u001b[34m0\u001b[0m-\u001b[44m10\u001b[0m-1-111\n",
      "\u001b[32m1\u001b[0m\u001b[34m1\u001b[0m.\u001b[31m1\u001b[0m\u001b[32m1\u001b[0m\u001b[34m1\u001b[0m.\u001b[31m1\u001b[0m\u001b[32m1\u001b[0m\u001b[34m1\u001b[0m.\u001b[31m1\u001b[0m\u001b[32m1\u001b[0m\u001b[34m1\u001b[0m.\u001b[31m1\u001b[0m\u001b[32m1\u001b[0m\u001b[34m1\u001b[0m.\u001b[31m1\u001b[0m\u001b[32m1\u001b[0m\u001b[34m1\u001b[0m.\u001b[31m1\u001b[0m\u001b[32m1\u001b[0m\u001b[34m1\u001b[0m.\u001b[31m1\u001b[0m\u001b[32m1\u001b[0m\u001b[34m1\u001b[0m.\u001b[31m1\u001b[0m\u001b[32m1\u001b[0m\u001b[34m1\u001b[0m-\u001b[41m00\u001b[0m-0-000\n"
     ]
    }
   ],
   "source": [
    "dartcolor (20,3,20, 2,1,7)\n",
    "dartcolor (511,511,255,0,0,0)"
   ]
  },
  {
   "cell_type": "markdown",
   "metadata": {},
   "source": [
    "### If we want encoding as follows\n",
    "\n",
    "    zyx-zyx-zyx -- aa -- bbbb\n",
    "\n",
    "Than we have 26 bits at disposal:\n",
    "These could encode 8-9-9 bit coordinates, up to $256 \\times 512 \\times 512$ meaning that\n",
    "\n",
    "- x can run from 0..511\n",
    "- y can run from 0..511\n",
    "- z can run from 0..255\n",
    "\n",
    "    yx-zyx-zyx-zyx-zyx-zyx-zyx-zyx-zyx--aa--bbbb"
   ]
  },
  {
   "cell_type": "markdown",
   "metadata": {},
   "source": [
    "## Involutions within 2D membrane\n",
    "\n",
    "2D membrane is a \"sandwich\" of two squares sewed by $\\alpha_3$.\n",
    "\n",
    "- darts 0... 7 upper square\n",
    "- darts 8...15 lower square"
   ]
  },
  {
   "cell_type": "code",
   "execution_count": null,
   "metadata": {},
   "outputs": [],
   "source": [
    "alpha_0 = lambda d: d ^ 0b0001\n",
    "alpha_1 = lambda d: d ^ 0b0111 ^ (d<<1 & 4)    ^ (d<<2 & 4) \n",
    "alpha_3 = lambda d: d ^ 0b1000"
   ]
  },
  {
   "cell_type": "code",
   "execution_count": null,
   "metadata": {},
   "outputs": [
    {
     "name": "stdout",
     "output_type": "stream",
     "text": [
      " 0: 0000  ⟺   7: 0111\n",
      " 2: 0010  ⟺   1: 0001\n",
      " 4: 0100  ⟺   3: 0011\n",
      " 6: 0110  ⟺   5: 0101\n",
      " 8: 1000  ⟺  15: 1111\n",
      "10: 1010  ⟺   9: 1001\n",
      "12: 1100  ⟺  11: 1011\n",
      "14: 1110  ⟺  13: 1101\n"
     ]
    }
   ],
   "source": [
    "for d in range (0,16,2):\n",
    "    e = alpha_1(d)\n",
    "    print (f'{d:2}: {d:04b}  ⟺  {e:2}: {e:04b}')"
   ]
  },
  {
   "cell_type": "markdown",
   "metadata": {},
   "source": [
    "# Generating Lookup tables\n",
    "\n",
    "The aim is to generate the following 48-row (for each dart ending) lookup tables for each of the 3 scenarios:\n",
    "\n",
    "- new bits\n",
    "- deltas\n",
    "- mask lookup tables (XOR and AND)"
   ]
  },
  {
   "cell_type": "markdown",
   "metadata": {},
   "source": [
    "## Lookup for endings"
   ]
  },
  {
   "cell_type": "code",
   "execution_count": null,
   "metadata": {},
   "outputs": [],
   "source": [
    "LUT_D = np.zeros ((48,3), dtype=np.uint8)"
   ]
  },
  {
   "cell_type": "code",
   "execution_count": null,
   "metadata": {},
   "outputs": [],
   "source": [
    "# this defines alpha_2 in the 0,0,0 corner\n",
    "\n",
    "CORNERS = {\n",
    "    0b000000 : 0b010111,\n",
    "    0b010000 : 0b100111,\n",
    "    0b100000 : 0b000111,\n",
    "}"
   ]
  },
  {
   "cell_type": "code",
   "execution_count": null,
   "metadata": {},
   "outputs": [],
   "source": [
    "def a(seq,d):\n",
    "    \"Chain alphas, e.g., a ([3,0,2],d) --> alpha_3 ( alpha_0 ( alpha_2 (d))))\"\n",
    "    \n",
    "    alphas = [alpha_0, alpha_1, CORNERS.get, alpha_3]\n",
    "\n",
    "    for i in seq:\n",
    "        d = alphas[i](d)\n",
    "    return d"
   ]
  },
  {
   "cell_type": "code",
   "execution_count": null,
   "metadata": {},
   "outputs": [],
   "source": [
    "def csd (seq,d): # color sequence on d\n",
    "    return dartcolor (a(seq,d),return_str=True)"
   ]
  },
  {
   "cell_type": "code",
   "execution_count": null,
   "metadata": {},
   "outputs": [],
   "source": [
    "# sequence for corners\n",
    "\n",
    "SEQ_CORNERS = [\n",
    "    [[],      []       ],\n",
    "    [[0,1],   [1,2,1,3]],\n",
    "    [[1,0,1], [3]],\n",
    "    [[0,1,3], [1,2,0,1,3]]\n",
    "]"
   ]
  },
  {
   "cell_type": "code",
   "execution_count": null,
   "metadata": {},
   "outputs": [
    {
     "data": {
      "text/plain": [
       "3-gMap of 48 darts:\n",
       "  # 0-cells: 8\n",
       "  # 1-cells: 12\n",
       "  # 2-cells: 6\n",
       "  # 3-cells: 1\n",
       "  # ccs    : 1"
      ]
     },
     "execution_count": null,
     "metadata": {},
     "output_type": "execute_result"
    }
   ],
   "source": [
    "# proof of concept 1-surface cube\n",
    "\n",
    "from combinatorial.gmaps import nGmap\n",
    "\n",
    "ARR = np.full ((4,48),-1,dtype=int)\n",
    "\n",
    "# uncomment one of the following\n",
    "seq_int = [1,0,1,3] # trailing sequence for interiors\n",
    "seq_int = []        # trailing sequence for outer shell\n",
    "\n",
    "for seq_d, seq_e in SEQ_CORNERS:\n",
    "    for d,e in CORNERS.items():\n",
    "        ARR [2, a(seq_d,     d)] = a(seq_e + seq_int,    e)\n",
    "        ARR [2, a(seq_e,     e)] = a(seq_d + seq_int,    d)\n",
    "        ARR [2, a(seq_d+[0], d)] = a(seq_e + seq_int+[0],e)\n",
    "        ARR [2, a(seq_e+[0], e)] = a(seq_d + seq_int+[0],d)\n",
    "\n",
    "for d in range (48):\n",
    "    ARR [0,d] = alpha_0(d)\n",
    "    ARR [1,d] = alpha_1(d)\n",
    "    ARR [3,d] = d # alpha_3(d)\n",
    "\n",
    "\n",
    "nGmap.from_alpha_array (ARR)"
   ]
  },
  {
   "cell_type": "code",
   "execution_count": null,
   "metadata": {},
   "outputs": [
    {
     "name": "stdout",
     "output_type": "stream",
     "text": [
      "\u001b[31m0\u001b[0m\u001b[32m0\u001b[0m\u001b[34m0\u001b[0m.\u001b[31m0\u001b[0m\u001b[32m0\u001b[0m\u001b[34m0\u001b[0m.\u001b[31m0\u001b[0m\u001b[32m0\u001b[0m\u001b[34m0\u001b[0m-\u001b[41m00\u001b[0m-0-000  <-->  \u001b[31m0\u001b[0m\u001b[32m0\u001b[0m\u001b[34m0\u001b[0m.\u001b[31m0\u001b[0m\u001b[32m0\u001b[0m\u001b[34m0\u001b[0m.\u001b[31m0\u001b[0m\u001b[32m0\u001b[0m\u001b[34m0\u001b[0m-\u001b[42m01\u001b[0m-0-111\n",
      "\u001b[31m0\u001b[0m\u001b[32m0\u001b[0m\u001b[34m0\u001b[0m.\u001b[31m0\u001b[0m\u001b[32m0\u001b[0m\u001b[34m0\u001b[0m.\u001b[31m0\u001b[0m\u001b[32m0\u001b[0m\u001b[34m0\u001b[0m-\u001b[41m00\u001b[0m-0-001  <-->  \u001b[31m0\u001b[0m\u001b[32m0\u001b[0m\u001b[34m0\u001b[0m.\u001b[31m0\u001b[0m\u001b[32m0\u001b[0m\u001b[34m0\u001b[0m.\u001b[31m0\u001b[0m\u001b[32m0\u001b[0m\u001b[34m0\u001b[0m-\u001b[42m01\u001b[0m-0-110\n",
      "\u001b[31m0\u001b[0m\u001b[32m0\u001b[0m\u001b[34m0\u001b[0m.\u001b[31m0\u001b[0m\u001b[32m0\u001b[0m\u001b[34m0\u001b[0m.\u001b[31m0\u001b[0m\u001b[32m0\u001b[0m\u001b[34m0\u001b[0m-\u001b[42m01\u001b[0m-0-000  <-->  \u001b[31m0\u001b[0m\u001b[32m0\u001b[0m\u001b[34m0\u001b[0m.\u001b[31m0\u001b[0m\u001b[32m0\u001b[0m\u001b[34m0\u001b[0m.\u001b[31m0\u001b[0m\u001b[32m0\u001b[0m\u001b[34m0\u001b[0m-\u001b[44m10\u001b[0m-0-111\n",
      "\u001b[31m0\u001b[0m\u001b[32m0\u001b[0m\u001b[34m0\u001b[0m.\u001b[31m0\u001b[0m\u001b[32m0\u001b[0m\u001b[34m0\u001b[0m.\u001b[31m0\u001b[0m\u001b[32m0\u001b[0m\u001b[34m0\u001b[0m-\u001b[42m01\u001b[0m-0-001  <-->  \u001b[31m0\u001b[0m\u001b[32m0\u001b[0m\u001b[34m0\u001b[0m.\u001b[31m0\u001b[0m\u001b[32m0\u001b[0m\u001b[34m0\u001b[0m.\u001b[31m0\u001b[0m\u001b[32m0\u001b[0m\u001b[34m0\u001b[0m-\u001b[44m10\u001b[0m-0-110\n",
      "\u001b[31m0\u001b[0m\u001b[32m0\u001b[0m\u001b[34m0\u001b[0m.\u001b[31m0\u001b[0m\u001b[32m0\u001b[0m\u001b[34m0\u001b[0m.\u001b[31m0\u001b[0m\u001b[32m0\u001b[0m\u001b[34m0\u001b[0m-\u001b[44m10\u001b[0m-0-000  <-->  \u001b[31m0\u001b[0m\u001b[32m0\u001b[0m\u001b[34m0\u001b[0m.\u001b[31m0\u001b[0m\u001b[32m0\u001b[0m\u001b[34m0\u001b[0m.\u001b[31m0\u001b[0m\u001b[32m0\u001b[0m\u001b[34m0\u001b[0m-\u001b[41m00\u001b[0m-0-111\n",
      "\u001b[31m0\u001b[0m\u001b[32m0\u001b[0m\u001b[34m0\u001b[0m.\u001b[31m0\u001b[0m\u001b[32m0\u001b[0m\u001b[34m0\u001b[0m.\u001b[31m0\u001b[0m\u001b[32m0\u001b[0m\u001b[34m0\u001b[0m-\u001b[44m10\u001b[0m-0-001  <-->  \u001b[31m0\u001b[0m\u001b[32m0\u001b[0m\u001b[34m0\u001b[0m.\u001b[31m0\u001b[0m\u001b[32m0\u001b[0m\u001b[34m0\u001b[0m.\u001b[31m0\u001b[0m\u001b[32m0\u001b[0m\u001b[34m0\u001b[0m-\u001b[41m00\u001b[0m-0-110\n",
      "\n",
      "\u001b[31m0\u001b[0m\u001b[32m0\u001b[0m\u001b[34m0\u001b[0m.\u001b[31m0\u001b[0m\u001b[32m0\u001b[0m\u001b[34m0\u001b[0m.\u001b[31m0\u001b[0m\u001b[32m0\u001b[0m\u001b[34m0\u001b[0m-\u001b[41m00\u001b[0m-0-010  <-->  \u001b[31m0\u001b[0m\u001b[32m0\u001b[0m\u001b[34m0\u001b[0m.\u001b[31m0\u001b[0m\u001b[32m0\u001b[0m\u001b[34m0\u001b[0m.\u001b[31m0\u001b[0m\u001b[32m0\u001b[0m\u001b[34m0\u001b[0m-\u001b[44m10\u001b[0m-1-000\n",
      "\u001b[31m0\u001b[0m\u001b[32m0\u001b[0m\u001b[34m0\u001b[0m.\u001b[31m0\u001b[0m\u001b[32m0\u001b[0m\u001b[34m0\u001b[0m.\u001b[31m0\u001b[0m\u001b[32m0\u001b[0m\u001b[34m0\u001b[0m-\u001b[41m00\u001b[0m-0-011  <-->  \u001b[31m0\u001b[0m\u001b[32m0\u001b[0m\u001b[34m0\u001b[0m.\u001b[31m0\u001b[0m\u001b[32m0\u001b[0m\u001b[34m0\u001b[0m.\u001b[31m0\u001b[0m\u001b[32m0\u001b[0m\u001b[34m0\u001b[0m-\u001b[44m10\u001b[0m-1-001\n",
      "\u001b[31m0\u001b[0m\u001b[32m0\u001b[0m\u001b[34m0\u001b[0m.\u001b[31m0\u001b[0m\u001b[32m0\u001b[0m\u001b[34m0\u001b[0m.\u001b[31m0\u001b[0m\u001b[32m0\u001b[0m\u001b[34m0\u001b[0m-\u001b[42m01\u001b[0m-0-010  <-->  \u001b[31m0\u001b[0m\u001b[32m0\u001b[0m\u001b[34m0\u001b[0m.\u001b[31m0\u001b[0m\u001b[32m0\u001b[0m\u001b[34m0\u001b[0m.\u001b[31m0\u001b[0m\u001b[32m0\u001b[0m\u001b[34m0\u001b[0m-\u001b[41m00\u001b[0m-1-000\n",
      "\u001b[31m0\u001b[0m\u001b[32m0\u001b[0m\u001b[34m0\u001b[0m.\u001b[31m0\u001b[0m\u001b[32m0\u001b[0m\u001b[34m0\u001b[0m.\u001b[31m0\u001b[0m\u001b[32m0\u001b[0m\u001b[34m0\u001b[0m-\u001b[42m01\u001b[0m-0-011  <-->  \u001b[31m0\u001b[0m\u001b[32m0\u001b[0m\u001b[34m0\u001b[0m.\u001b[31m0\u001b[0m\u001b[32m0\u001b[0m\u001b[34m0\u001b[0m.\u001b[31m0\u001b[0m\u001b[32m0\u001b[0m\u001b[34m0\u001b[0m-\u001b[41m00\u001b[0m-1-001\n",
      "\u001b[31m0\u001b[0m\u001b[32m0\u001b[0m\u001b[34m0\u001b[0m.\u001b[31m0\u001b[0m\u001b[32m0\u001b[0m\u001b[34m0\u001b[0m.\u001b[31m0\u001b[0m\u001b[32m0\u001b[0m\u001b[34m0\u001b[0m-\u001b[44m10\u001b[0m-0-010  <-->  \u001b[31m0\u001b[0m\u001b[32m0\u001b[0m\u001b[34m0\u001b[0m.\u001b[31m0\u001b[0m\u001b[32m0\u001b[0m\u001b[34m0\u001b[0m.\u001b[31m0\u001b[0m\u001b[32m0\u001b[0m\u001b[34m0\u001b[0m-\u001b[42m01\u001b[0m-1-000\n",
      "\u001b[31m0\u001b[0m\u001b[32m0\u001b[0m\u001b[34m0\u001b[0m.\u001b[31m0\u001b[0m\u001b[32m0\u001b[0m\u001b[34m0\u001b[0m.\u001b[31m0\u001b[0m\u001b[32m0\u001b[0m\u001b[34m0\u001b[0m-\u001b[44m10\u001b[0m-0-011  <-->  \u001b[31m0\u001b[0m\u001b[32m0\u001b[0m\u001b[34m0\u001b[0m.\u001b[31m0\u001b[0m\u001b[32m0\u001b[0m\u001b[34m0\u001b[0m.\u001b[31m0\u001b[0m\u001b[32m0\u001b[0m\u001b[34m0\u001b[0m-\u001b[42m01\u001b[0m-1-001\n",
      "\n",
      "\u001b[31m0\u001b[0m\u001b[32m0\u001b[0m\u001b[34m0\u001b[0m.\u001b[31m0\u001b[0m\u001b[32m0\u001b[0m\u001b[34m0\u001b[0m.\u001b[31m0\u001b[0m\u001b[32m0\u001b[0m\u001b[34m0\u001b[0m-\u001b[41m00\u001b[0m-0-101  <-->  \u001b[31m0\u001b[0m\u001b[32m0\u001b[0m\u001b[34m0\u001b[0m.\u001b[31m0\u001b[0m\u001b[32m0\u001b[0m\u001b[34m0\u001b[0m.\u001b[31m0\u001b[0m\u001b[32m0\u001b[0m\u001b[34m0\u001b[0m-\u001b[42m01\u001b[0m-1-111\n",
      "\u001b[31m0\u001b[0m\u001b[32m0\u001b[0m\u001b[34m0\u001b[0m.\u001b[31m0\u001b[0m\u001b[32m0\u001b[0m\u001b[34m0\u001b[0m.\u001b[31m0\u001b[0m\u001b[32m0\u001b[0m\u001b[34m0\u001b[0m-\u001b[41m00\u001b[0m-0-100  <-->  \u001b[31m0\u001b[0m\u001b[32m0\u001b[0m\u001b[34m0\u001b[0m.\u001b[31m0\u001b[0m\u001b[32m0\u001b[0m\u001b[34m0\u001b[0m.\u001b[31m0\u001b[0m\u001b[32m0\u001b[0m\u001b[34m0\u001b[0m-\u001b[42m01\u001b[0m-1-110\n",
      "\u001b[31m0\u001b[0m\u001b[32m0\u001b[0m\u001b[34m0\u001b[0m.\u001b[31m0\u001b[0m\u001b[32m0\u001b[0m\u001b[34m0\u001b[0m.\u001b[31m0\u001b[0m\u001b[32m0\u001b[0m\u001b[34m0\u001b[0m-\u001b[42m01\u001b[0m-0-101  <-->  \u001b[31m0\u001b[0m\u001b[32m0\u001b[0m\u001b[34m0\u001b[0m.\u001b[31m0\u001b[0m\u001b[32m0\u001b[0m\u001b[34m0\u001b[0m.\u001b[31m0\u001b[0m\u001b[32m0\u001b[0m\u001b[34m0\u001b[0m-\u001b[44m10\u001b[0m-1-111\n",
      "\u001b[31m0\u001b[0m\u001b[32m0\u001b[0m\u001b[34m0\u001b[0m.\u001b[31m0\u001b[0m\u001b[32m0\u001b[0m\u001b[34m0\u001b[0m.\u001b[31m0\u001b[0m\u001b[32m0\u001b[0m\u001b[34m0\u001b[0m-\u001b[42m01\u001b[0m-0-100  <-->  \u001b[31m0\u001b[0m\u001b[32m0\u001b[0m\u001b[34m0\u001b[0m.\u001b[31m0\u001b[0m\u001b[32m0\u001b[0m\u001b[34m0\u001b[0m.\u001b[31m0\u001b[0m\u001b[32m0\u001b[0m\u001b[34m0\u001b[0m-\u001b[44m10\u001b[0m-1-110\n",
      "\u001b[31m0\u001b[0m\u001b[32m0\u001b[0m\u001b[34m0\u001b[0m.\u001b[31m0\u001b[0m\u001b[32m0\u001b[0m\u001b[34m0\u001b[0m.\u001b[31m0\u001b[0m\u001b[32m0\u001b[0m\u001b[34m0\u001b[0m-\u001b[44m10\u001b[0m-0-101  <-->  \u001b[31m0\u001b[0m\u001b[32m0\u001b[0m\u001b[34m0\u001b[0m.\u001b[31m0\u001b[0m\u001b[32m0\u001b[0m\u001b[34m0\u001b[0m.\u001b[31m0\u001b[0m\u001b[32m0\u001b[0m\u001b[34m0\u001b[0m-\u001b[41m00\u001b[0m-1-111\n",
      "\u001b[31m0\u001b[0m\u001b[32m0\u001b[0m\u001b[34m0\u001b[0m.\u001b[31m0\u001b[0m\u001b[32m0\u001b[0m\u001b[34m0\u001b[0m.\u001b[31m0\u001b[0m\u001b[32m0\u001b[0m\u001b[34m0\u001b[0m-\u001b[44m10\u001b[0m-0-100  <-->  \u001b[31m0\u001b[0m\u001b[32m0\u001b[0m\u001b[34m0\u001b[0m.\u001b[31m0\u001b[0m\u001b[32m0\u001b[0m\u001b[34m0\u001b[0m.\u001b[31m0\u001b[0m\u001b[32m0\u001b[0m\u001b[34m0\u001b[0m-\u001b[41m00\u001b[0m-1-110\n",
      "\n",
      "\u001b[31m0\u001b[0m\u001b[32m0\u001b[0m\u001b[34m0\u001b[0m.\u001b[31m0\u001b[0m\u001b[32m0\u001b[0m\u001b[34m0\u001b[0m.\u001b[31m0\u001b[0m\u001b[32m0\u001b[0m\u001b[34m0\u001b[0m-\u001b[41m00\u001b[0m-1-010  <-->  \u001b[31m0\u001b[0m\u001b[32m0\u001b[0m\u001b[34m0\u001b[0m.\u001b[31m0\u001b[0m\u001b[32m0\u001b[0m\u001b[34m0\u001b[0m.\u001b[31m0\u001b[0m\u001b[32m0\u001b[0m\u001b[34m0\u001b[0m-\u001b[44m10\u001b[0m-1-101\n",
      "\u001b[31m0\u001b[0m\u001b[32m0\u001b[0m\u001b[34m0\u001b[0m.\u001b[31m0\u001b[0m\u001b[32m0\u001b[0m\u001b[34m0\u001b[0m.\u001b[31m0\u001b[0m\u001b[32m0\u001b[0m\u001b[34m0\u001b[0m-\u001b[41m00\u001b[0m-1-011  <-->  \u001b[31m0\u001b[0m\u001b[32m0\u001b[0m\u001b[34m0\u001b[0m.\u001b[31m0\u001b[0m\u001b[32m0\u001b[0m\u001b[34m0\u001b[0m.\u001b[31m0\u001b[0m\u001b[32m0\u001b[0m\u001b[34m0\u001b[0m-\u001b[44m10\u001b[0m-1-100\n",
      "\u001b[31m0\u001b[0m\u001b[32m0\u001b[0m\u001b[34m0\u001b[0m.\u001b[31m0\u001b[0m\u001b[32m0\u001b[0m\u001b[34m0\u001b[0m.\u001b[31m0\u001b[0m\u001b[32m0\u001b[0m\u001b[34m0\u001b[0m-\u001b[42m01\u001b[0m-1-010  <-->  \u001b[31m0\u001b[0m\u001b[32m0\u001b[0m\u001b[34m0\u001b[0m.\u001b[31m0\u001b[0m\u001b[32m0\u001b[0m\u001b[34m0\u001b[0m.\u001b[31m0\u001b[0m\u001b[32m0\u001b[0m\u001b[34m0\u001b[0m-\u001b[41m00\u001b[0m-1-101\n",
      "\u001b[31m0\u001b[0m\u001b[32m0\u001b[0m\u001b[34m0\u001b[0m.\u001b[31m0\u001b[0m\u001b[32m0\u001b[0m\u001b[34m0\u001b[0m.\u001b[31m0\u001b[0m\u001b[32m0\u001b[0m\u001b[34m0\u001b[0m-\u001b[42m01\u001b[0m-1-011  <-->  \u001b[31m0\u001b[0m\u001b[32m0\u001b[0m\u001b[34m0\u001b[0m.\u001b[31m0\u001b[0m\u001b[32m0\u001b[0m\u001b[34m0\u001b[0m.\u001b[31m0\u001b[0m\u001b[32m0\u001b[0m\u001b[34m0\u001b[0m-\u001b[41m00\u001b[0m-1-100\n",
      "\u001b[31m0\u001b[0m\u001b[32m0\u001b[0m\u001b[34m0\u001b[0m.\u001b[31m0\u001b[0m\u001b[32m0\u001b[0m\u001b[34m0\u001b[0m.\u001b[31m0\u001b[0m\u001b[32m0\u001b[0m\u001b[34m0\u001b[0m-\u001b[44m10\u001b[0m-1-010  <-->  \u001b[31m0\u001b[0m\u001b[32m0\u001b[0m\u001b[34m0\u001b[0m.\u001b[31m0\u001b[0m\u001b[32m0\u001b[0m\u001b[34m0\u001b[0m.\u001b[31m0\u001b[0m\u001b[32m0\u001b[0m\u001b[34m0\u001b[0m-\u001b[42m01\u001b[0m-1-101\n",
      "\u001b[31m0\u001b[0m\u001b[32m0\u001b[0m\u001b[34m0\u001b[0m.\u001b[31m0\u001b[0m\u001b[32m0\u001b[0m\u001b[34m0\u001b[0m.\u001b[31m0\u001b[0m\u001b[32m0\u001b[0m\u001b[34m0\u001b[0m-\u001b[44m10\u001b[0m-1-011  <-->  \u001b[31m0\u001b[0m\u001b[32m0\u001b[0m\u001b[34m0\u001b[0m.\u001b[31m0\u001b[0m\u001b[32m0\u001b[0m\u001b[34m0\u001b[0m.\u001b[31m0\u001b[0m\u001b[32m0\u001b[0m\u001b[34m0\u001b[0m-\u001b[42m01\u001b[0m-1-100\n",
      "\n"
     ]
    }
   ],
   "source": [
    "# corners\n",
    "for seq_d, seq_e in SEQ_CORNERS:\n",
    "    for d,e in CORNERS.items():\n",
    "        LUT_D [a(seq_d,     d),0] = a(seq_e,    e)\n",
    "        LUT_D [a(seq_e,     e),0] = a(seq_d    ,d)\n",
    "\n",
    "        LUT_D [a(seq_d+[0] ,d),0] = a(seq_e+[0],e)\n",
    "        LUT_D [a(seq_e+[0], e),0] = a(seq_d+[0],d)\n",
    "\n",
    "        print (csd (seq_d,     d), ' <--> ', csd(seq_e,    e))\n",
    "        print (csd (seq_d+[0], d), ' <--> ', csd(seq_e+[0],e))\n",
    "    print()"
   ]
  },
  {
   "cell_type": "code",
   "execution_count": null,
   "metadata": {},
   "outputs": [
    {
     "name": "stdout",
     "output_type": "stream",
     "text": [
      "\u001b[31m0\u001b[0m\u001b[32m0\u001b[0m\u001b[34m0\u001b[0m.\u001b[31m0\u001b[0m\u001b[32m0\u001b[0m\u001b[34m0\u001b[0m.\u001b[31m0\u001b[0m\u001b[32m0\u001b[0m\u001b[34m0\u001b[0m-\u001b[41m00\u001b[0m-0-000  <-->  \u001b[31m0\u001b[0m\u001b[32m0\u001b[0m\u001b[34m0\u001b[0m.\u001b[31m0\u001b[0m\u001b[32m0\u001b[0m\u001b[34m0\u001b[0m.\u001b[31m0\u001b[0m\u001b[32m0\u001b[0m\u001b[34m0\u001b[0m-\u001b[42m01\u001b[0m-1-010\n",
      "\u001b[31m0\u001b[0m\u001b[32m0\u001b[0m\u001b[34m0\u001b[0m.\u001b[31m0\u001b[0m\u001b[32m0\u001b[0m\u001b[34m0\u001b[0m.\u001b[31m0\u001b[0m\u001b[32m0\u001b[0m\u001b[34m0\u001b[0m-\u001b[41m00\u001b[0m-0-001  <-->  \u001b[31m0\u001b[0m\u001b[32m0\u001b[0m\u001b[34m0\u001b[0m.\u001b[31m0\u001b[0m\u001b[32m0\u001b[0m\u001b[34m0\u001b[0m.\u001b[31m0\u001b[0m\u001b[32m0\u001b[0m\u001b[34m0\u001b[0m-\u001b[42m01\u001b[0m-1-011\n",
      "\u001b[31m0\u001b[0m\u001b[32m0\u001b[0m\u001b[34m0\u001b[0m.\u001b[31m0\u001b[0m\u001b[32m0\u001b[0m\u001b[34m0\u001b[0m.\u001b[31m0\u001b[0m\u001b[32m0\u001b[0m\u001b[34m0\u001b[0m-\u001b[42m01\u001b[0m-0-000  <-->  \u001b[31m0\u001b[0m\u001b[32m0\u001b[0m\u001b[34m0\u001b[0m.\u001b[31m0\u001b[0m\u001b[32m0\u001b[0m\u001b[34m0\u001b[0m.\u001b[31m0\u001b[0m\u001b[32m0\u001b[0m\u001b[34m0\u001b[0m-\u001b[44m10\u001b[0m-1-010\n",
      "\u001b[31m0\u001b[0m\u001b[32m0\u001b[0m\u001b[34m0\u001b[0m.\u001b[31m0\u001b[0m\u001b[32m0\u001b[0m\u001b[34m0\u001b[0m.\u001b[31m0\u001b[0m\u001b[32m0\u001b[0m\u001b[34m0\u001b[0m-\u001b[42m01\u001b[0m-0-001  <-->  \u001b[31m0\u001b[0m\u001b[32m0\u001b[0m\u001b[34m0\u001b[0m.\u001b[31m0\u001b[0m\u001b[32m0\u001b[0m\u001b[34m0\u001b[0m.\u001b[31m0\u001b[0m\u001b[32m0\u001b[0m\u001b[34m0\u001b[0m-\u001b[44m10\u001b[0m-1-011\n",
      "\u001b[31m0\u001b[0m\u001b[32m0\u001b[0m\u001b[34m0\u001b[0m.\u001b[31m0\u001b[0m\u001b[32m0\u001b[0m\u001b[34m0\u001b[0m.\u001b[31m0\u001b[0m\u001b[32m0\u001b[0m\u001b[34m0\u001b[0m-\u001b[44m10\u001b[0m-0-000  <-->  \u001b[31m0\u001b[0m\u001b[32m0\u001b[0m\u001b[34m0\u001b[0m.\u001b[31m0\u001b[0m\u001b[32m0\u001b[0m\u001b[34m0\u001b[0m.\u001b[31m0\u001b[0m\u001b[32m0\u001b[0m\u001b[34m0\u001b[0m-\u001b[41m00\u001b[0m-1-010\n",
      "\u001b[31m0\u001b[0m\u001b[32m0\u001b[0m\u001b[34m0\u001b[0m.\u001b[31m0\u001b[0m\u001b[32m0\u001b[0m\u001b[34m0\u001b[0m.\u001b[31m0\u001b[0m\u001b[32m0\u001b[0m\u001b[34m0\u001b[0m-\u001b[44m10\u001b[0m-0-001  <-->  \u001b[31m0\u001b[0m\u001b[32m0\u001b[0m\u001b[34m0\u001b[0m.\u001b[31m0\u001b[0m\u001b[32m0\u001b[0m\u001b[34m0\u001b[0m.\u001b[31m0\u001b[0m\u001b[32m0\u001b[0m\u001b[34m0\u001b[0m-\u001b[41m00\u001b[0m-1-011\n",
      "\n",
      "\u001b[31m0\u001b[0m\u001b[32m0\u001b[0m\u001b[34m0\u001b[0m.\u001b[31m0\u001b[0m\u001b[32m0\u001b[0m\u001b[34m0\u001b[0m.\u001b[31m0\u001b[0m\u001b[32m0\u001b[0m\u001b[34m0\u001b[0m-\u001b[41m00\u001b[0m-0-010  <-->  \u001b[31m0\u001b[0m\u001b[32m0\u001b[0m\u001b[34m0\u001b[0m.\u001b[31m0\u001b[0m\u001b[32m0\u001b[0m\u001b[34m0\u001b[0m.\u001b[31m0\u001b[0m\u001b[32m0\u001b[0m\u001b[34m0\u001b[0m-\u001b[44m10\u001b[0m-0-101\n",
      "\u001b[31m0\u001b[0m\u001b[32m0\u001b[0m\u001b[34m0\u001b[0m.\u001b[31m0\u001b[0m\u001b[32m0\u001b[0m\u001b[34m0\u001b[0m.\u001b[31m0\u001b[0m\u001b[32m0\u001b[0m\u001b[34m0\u001b[0m-\u001b[41m00\u001b[0m-0-011  <-->  \u001b[31m0\u001b[0m\u001b[32m0\u001b[0m\u001b[34m0\u001b[0m.\u001b[31m0\u001b[0m\u001b[32m0\u001b[0m\u001b[34m0\u001b[0m.\u001b[31m0\u001b[0m\u001b[32m0\u001b[0m\u001b[34m0\u001b[0m-\u001b[44m10\u001b[0m-0-100\n",
      "\u001b[31m0\u001b[0m\u001b[32m0\u001b[0m\u001b[34m0\u001b[0m.\u001b[31m0\u001b[0m\u001b[32m0\u001b[0m\u001b[34m0\u001b[0m.\u001b[31m0\u001b[0m\u001b[32m0\u001b[0m\u001b[34m0\u001b[0m-\u001b[42m01\u001b[0m-0-010  <-->  \u001b[31m0\u001b[0m\u001b[32m0\u001b[0m\u001b[34m0\u001b[0m.\u001b[31m0\u001b[0m\u001b[32m0\u001b[0m\u001b[34m0\u001b[0m.\u001b[31m0\u001b[0m\u001b[32m0\u001b[0m\u001b[34m0\u001b[0m-\u001b[41m00\u001b[0m-0-101\n",
      "\u001b[31m0\u001b[0m\u001b[32m0\u001b[0m\u001b[34m0\u001b[0m.\u001b[31m0\u001b[0m\u001b[32m0\u001b[0m\u001b[34m0\u001b[0m.\u001b[31m0\u001b[0m\u001b[32m0\u001b[0m\u001b[34m0\u001b[0m-\u001b[42m01\u001b[0m-0-011  <-->  \u001b[31m0\u001b[0m\u001b[32m0\u001b[0m\u001b[34m0\u001b[0m.\u001b[31m0\u001b[0m\u001b[32m0\u001b[0m\u001b[34m0\u001b[0m.\u001b[31m0\u001b[0m\u001b[32m0\u001b[0m\u001b[34m0\u001b[0m-\u001b[41m00\u001b[0m-0-100\n",
      "\u001b[31m0\u001b[0m\u001b[32m0\u001b[0m\u001b[34m0\u001b[0m.\u001b[31m0\u001b[0m\u001b[32m0\u001b[0m\u001b[34m0\u001b[0m.\u001b[31m0\u001b[0m\u001b[32m0\u001b[0m\u001b[34m0\u001b[0m-\u001b[44m10\u001b[0m-0-010  <-->  \u001b[31m0\u001b[0m\u001b[32m0\u001b[0m\u001b[34m0\u001b[0m.\u001b[31m0\u001b[0m\u001b[32m0\u001b[0m\u001b[34m0\u001b[0m.\u001b[31m0\u001b[0m\u001b[32m0\u001b[0m\u001b[34m0\u001b[0m-\u001b[42m01\u001b[0m-0-101\n",
      "\u001b[31m0\u001b[0m\u001b[32m0\u001b[0m\u001b[34m0\u001b[0m.\u001b[31m0\u001b[0m\u001b[32m0\u001b[0m\u001b[34m0\u001b[0m.\u001b[31m0\u001b[0m\u001b[32m0\u001b[0m\u001b[34m0\u001b[0m-\u001b[44m10\u001b[0m-0-011  <-->  \u001b[31m0\u001b[0m\u001b[32m0\u001b[0m\u001b[34m0\u001b[0m.\u001b[31m0\u001b[0m\u001b[32m0\u001b[0m\u001b[34m0\u001b[0m.\u001b[31m0\u001b[0m\u001b[32m0\u001b[0m\u001b[34m0\u001b[0m-\u001b[42m01\u001b[0m-0-100\n",
      "\n",
      "\u001b[31m0\u001b[0m\u001b[32m0\u001b[0m\u001b[34m0\u001b[0m.\u001b[31m0\u001b[0m\u001b[32m0\u001b[0m\u001b[34m0\u001b[0m.\u001b[31m0\u001b[0m\u001b[32m0\u001b[0m\u001b[34m0\u001b[0m-\u001b[41m00\u001b[0m-0-101  <-->  \u001b[31m0\u001b[0m\u001b[32m0\u001b[0m\u001b[34m0\u001b[0m.\u001b[31m0\u001b[0m\u001b[32m0\u001b[0m\u001b[34m0\u001b[0m.\u001b[31m0\u001b[0m\u001b[32m0\u001b[0m\u001b[34m0\u001b[0m-\u001b[42m01\u001b[0m-0-010\n",
      "\u001b[31m0\u001b[0m\u001b[32m0\u001b[0m\u001b[34m0\u001b[0m.\u001b[31m0\u001b[0m\u001b[32m0\u001b[0m\u001b[34m0\u001b[0m.\u001b[31m0\u001b[0m\u001b[32m0\u001b[0m\u001b[34m0\u001b[0m-\u001b[41m00\u001b[0m-0-100  <-->  \u001b[31m0\u001b[0m\u001b[32m0\u001b[0m\u001b[34m0\u001b[0m.\u001b[31m0\u001b[0m\u001b[32m0\u001b[0m\u001b[34m0\u001b[0m.\u001b[31m0\u001b[0m\u001b[32m0\u001b[0m\u001b[34m0\u001b[0m-\u001b[42m01\u001b[0m-0-011\n",
      "\u001b[31m0\u001b[0m\u001b[32m0\u001b[0m\u001b[34m0\u001b[0m.\u001b[31m0\u001b[0m\u001b[32m0\u001b[0m\u001b[34m0\u001b[0m.\u001b[31m0\u001b[0m\u001b[32m0\u001b[0m\u001b[34m0\u001b[0m-\u001b[42m01\u001b[0m-0-101  <-->  \u001b[31m0\u001b[0m\u001b[32m0\u001b[0m\u001b[34m0\u001b[0m.\u001b[31m0\u001b[0m\u001b[32m0\u001b[0m\u001b[34m0\u001b[0m.\u001b[31m0\u001b[0m\u001b[32m0\u001b[0m\u001b[34m0\u001b[0m-\u001b[44m10\u001b[0m-0-010\n",
      "\u001b[31m0\u001b[0m\u001b[32m0\u001b[0m\u001b[34m0\u001b[0m.\u001b[31m0\u001b[0m\u001b[32m0\u001b[0m\u001b[34m0\u001b[0m.\u001b[31m0\u001b[0m\u001b[32m0\u001b[0m\u001b[34m0\u001b[0m-\u001b[42m01\u001b[0m-0-100  <-->  \u001b[31m0\u001b[0m\u001b[32m0\u001b[0m\u001b[34m0\u001b[0m.\u001b[31m0\u001b[0m\u001b[32m0\u001b[0m\u001b[34m0\u001b[0m.\u001b[31m0\u001b[0m\u001b[32m0\u001b[0m\u001b[34m0\u001b[0m-\u001b[44m10\u001b[0m-0-011\n",
      "\u001b[31m0\u001b[0m\u001b[32m0\u001b[0m\u001b[34m0\u001b[0m.\u001b[31m0\u001b[0m\u001b[32m0\u001b[0m\u001b[34m0\u001b[0m.\u001b[31m0\u001b[0m\u001b[32m0\u001b[0m\u001b[34m0\u001b[0m-\u001b[44m10\u001b[0m-0-101  <-->  \u001b[31m0\u001b[0m\u001b[32m0\u001b[0m\u001b[34m0\u001b[0m.\u001b[31m0\u001b[0m\u001b[32m0\u001b[0m\u001b[34m0\u001b[0m.\u001b[31m0\u001b[0m\u001b[32m0\u001b[0m\u001b[34m0\u001b[0m-\u001b[41m00\u001b[0m-0-010\n",
      "\u001b[31m0\u001b[0m\u001b[32m0\u001b[0m\u001b[34m0\u001b[0m.\u001b[31m0\u001b[0m\u001b[32m0\u001b[0m\u001b[34m0\u001b[0m.\u001b[31m0\u001b[0m\u001b[32m0\u001b[0m\u001b[34m0\u001b[0m-\u001b[44m10\u001b[0m-0-100  <-->  \u001b[31m0\u001b[0m\u001b[32m0\u001b[0m\u001b[34m0\u001b[0m.\u001b[31m0\u001b[0m\u001b[32m0\u001b[0m\u001b[34m0\u001b[0m.\u001b[31m0\u001b[0m\u001b[32m0\u001b[0m\u001b[34m0\u001b[0m-\u001b[41m00\u001b[0m-0-011\n",
      "\n",
      "\u001b[31m0\u001b[0m\u001b[32m0\u001b[0m\u001b[34m0\u001b[0m.\u001b[31m0\u001b[0m\u001b[32m0\u001b[0m\u001b[34m0\u001b[0m.\u001b[31m0\u001b[0m\u001b[32m0\u001b[0m\u001b[34m0\u001b[0m-\u001b[41m00\u001b[0m-1-010  <-->  \u001b[31m0\u001b[0m\u001b[32m0\u001b[0m\u001b[34m0\u001b[0m.\u001b[31m0\u001b[0m\u001b[32m0\u001b[0m\u001b[34m0\u001b[0m.\u001b[31m0\u001b[0m\u001b[32m0\u001b[0m\u001b[34m0\u001b[0m-\u001b[44m10\u001b[0m-0-000\n",
      "\u001b[31m0\u001b[0m\u001b[32m0\u001b[0m\u001b[34m0\u001b[0m.\u001b[31m0\u001b[0m\u001b[32m0\u001b[0m\u001b[34m0\u001b[0m.\u001b[31m0\u001b[0m\u001b[32m0\u001b[0m\u001b[34m0\u001b[0m-\u001b[41m00\u001b[0m-1-011  <-->  \u001b[31m0\u001b[0m\u001b[32m0\u001b[0m\u001b[34m0\u001b[0m.\u001b[31m0\u001b[0m\u001b[32m0\u001b[0m\u001b[34m0\u001b[0m.\u001b[31m0\u001b[0m\u001b[32m0\u001b[0m\u001b[34m0\u001b[0m-\u001b[44m10\u001b[0m-0-001\n",
      "\u001b[31m0\u001b[0m\u001b[32m0\u001b[0m\u001b[34m0\u001b[0m.\u001b[31m0\u001b[0m\u001b[32m0\u001b[0m\u001b[34m0\u001b[0m.\u001b[31m0\u001b[0m\u001b[32m0\u001b[0m\u001b[34m0\u001b[0m-\u001b[42m01\u001b[0m-1-010  <-->  \u001b[31m0\u001b[0m\u001b[32m0\u001b[0m\u001b[34m0\u001b[0m.\u001b[31m0\u001b[0m\u001b[32m0\u001b[0m\u001b[34m0\u001b[0m.\u001b[31m0\u001b[0m\u001b[32m0\u001b[0m\u001b[34m0\u001b[0m-\u001b[41m00\u001b[0m-0-000\n",
      "\u001b[31m0\u001b[0m\u001b[32m0\u001b[0m\u001b[34m0\u001b[0m.\u001b[31m0\u001b[0m\u001b[32m0\u001b[0m\u001b[34m0\u001b[0m.\u001b[31m0\u001b[0m\u001b[32m0\u001b[0m\u001b[34m0\u001b[0m-\u001b[42m01\u001b[0m-1-011  <-->  \u001b[31m0\u001b[0m\u001b[32m0\u001b[0m\u001b[34m0\u001b[0m.\u001b[31m0\u001b[0m\u001b[32m0\u001b[0m\u001b[34m0\u001b[0m.\u001b[31m0\u001b[0m\u001b[32m0\u001b[0m\u001b[34m0\u001b[0m-\u001b[41m00\u001b[0m-0-001\n",
      "\u001b[31m0\u001b[0m\u001b[32m0\u001b[0m\u001b[34m0\u001b[0m.\u001b[31m0\u001b[0m\u001b[32m0\u001b[0m\u001b[34m0\u001b[0m.\u001b[31m0\u001b[0m\u001b[32m0\u001b[0m\u001b[34m0\u001b[0m-\u001b[44m10\u001b[0m-1-010  <-->  \u001b[31m0\u001b[0m\u001b[32m0\u001b[0m\u001b[34m0\u001b[0m.\u001b[31m0\u001b[0m\u001b[32m0\u001b[0m\u001b[34m0\u001b[0m.\u001b[31m0\u001b[0m\u001b[32m0\u001b[0m\u001b[34m0\u001b[0m-\u001b[42m01\u001b[0m-0-000\n",
      "\u001b[31m0\u001b[0m\u001b[32m0\u001b[0m\u001b[34m0\u001b[0m.\u001b[31m0\u001b[0m\u001b[32m0\u001b[0m\u001b[34m0\u001b[0m.\u001b[31m0\u001b[0m\u001b[32m0\u001b[0m\u001b[34m0\u001b[0m-\u001b[44m10\u001b[0m-1-011  <-->  \u001b[31m0\u001b[0m\u001b[32m0\u001b[0m\u001b[34m0\u001b[0m.\u001b[31m0\u001b[0m\u001b[32m0\u001b[0m\u001b[34m0\u001b[0m.\u001b[31m0\u001b[0m\u001b[32m0\u001b[0m\u001b[34m0\u001b[0m-\u001b[42m01\u001b[0m-0-001\n",
      "\n"
     ]
    }
   ],
   "source": [
    "# interiors: append a(1,0,1,3) to the result of the\n",
    "\n",
    "for seq_d, seq_e in SEQ_CORNERS:\n",
    "    for d,e in CORNERS.items():\n",
    "        LUT_D [a(seq_d,d)    ,2] = a(seq_e+[1,0,1,3],   e)\n",
    "        LUT_D [a(seq_e,e)    ,2] = a(seq_d+[1,0,1,3],   d)\n",
    "        LUT_D [a(seq_d+[0],d),2] = a(seq_e+[1,0,1,3,0], e)\n",
    "        LUT_D [a(seq_e+[0],e),2] = a(seq_d+[1,0,1,3,0], d)\n",
    "\n",
    "\n",
    "        print (csd (seq_d,     d), ' <--> ', csd(seq_e+[1,0,1,3],   e))\n",
    "        print (csd (seq_d+[0], d), ' <--> ', csd(seq_e+[1,0,1,3,0], e))\n",
    "    print()"
   ]
  },
  {
   "cell_type": "code",
   "execution_count": null,
   "metadata": {},
   "outputs": [
    {
     "name": "stdout",
     "output_type": "stream",
     "text": [
      "\u001b[31m0\u001b[0m\u001b[32m0\u001b[0m\u001b[34m0\u001b[0m.\u001b[31m0\u001b[0m\u001b[32m0\u001b[0m\u001b[34m0\u001b[0m.\u001b[31m0\u001b[0m\u001b[32m0\u001b[0m\u001b[34m0\u001b[0m-\u001b[41m00\u001b[0m-0-000  <-->  \u001b[31m0\u001b[0m\u001b[32m0\u001b[0m\u001b[34m0\u001b[0m.\u001b[31m0\u001b[0m\u001b[32m0\u001b[0m\u001b[34m0\u001b[0m.\u001b[31m0\u001b[0m\u001b[32m0\u001b[0m\u001b[34m0\u001b[0m-\u001b[41m00\u001b[0m-0-101\n",
      "\u001b[31m0\u001b[0m\u001b[32m0\u001b[0m\u001b[34m0\u001b[0m.\u001b[31m0\u001b[0m\u001b[32m0\u001b[0m\u001b[34m0\u001b[0m.\u001b[31m0\u001b[0m\u001b[32m0\u001b[0m\u001b[34m0\u001b[0m-\u001b[41m00\u001b[0m-0-001  <-->  \u001b[31m0\u001b[0m\u001b[32m0\u001b[0m\u001b[34m0\u001b[0m.\u001b[31m0\u001b[0m\u001b[32m0\u001b[0m\u001b[34m0\u001b[0m.\u001b[31m0\u001b[0m\u001b[32m0\u001b[0m\u001b[34m0\u001b[0m-\u001b[41m00\u001b[0m-0-100\n",
      "\u001b[31m0\u001b[0m\u001b[32m0\u001b[0m\u001b[34m0\u001b[0m.\u001b[31m0\u001b[0m\u001b[32m0\u001b[0m\u001b[34m0\u001b[0m.\u001b[31m0\u001b[0m\u001b[32m0\u001b[0m\u001b[34m0\u001b[0m-\u001b[42m01\u001b[0m-0-000  <-->  \u001b[31m0\u001b[0m\u001b[32m0\u001b[0m\u001b[34m0\u001b[0m.\u001b[31m0\u001b[0m\u001b[32m0\u001b[0m\u001b[34m0\u001b[0m.\u001b[31m0\u001b[0m\u001b[32m0\u001b[0m\u001b[34m0\u001b[0m-\u001b[42m01\u001b[0m-0-101\n",
      "\u001b[31m0\u001b[0m\u001b[32m0\u001b[0m\u001b[34m0\u001b[0m.\u001b[31m0\u001b[0m\u001b[32m0\u001b[0m\u001b[34m0\u001b[0m.\u001b[31m0\u001b[0m\u001b[32m0\u001b[0m\u001b[34m0\u001b[0m-\u001b[42m01\u001b[0m-0-001  <-->  \u001b[31m0\u001b[0m\u001b[32m0\u001b[0m\u001b[34m0\u001b[0m.\u001b[31m0\u001b[0m\u001b[32m0\u001b[0m\u001b[34m0\u001b[0m.\u001b[31m0\u001b[0m\u001b[32m0\u001b[0m\u001b[34m0\u001b[0m-\u001b[42m01\u001b[0m-0-100\n",
      "\u001b[31m0\u001b[0m\u001b[32m0\u001b[0m\u001b[34m0\u001b[0m.\u001b[31m0\u001b[0m\u001b[32m0\u001b[0m\u001b[34m0\u001b[0m.\u001b[31m0\u001b[0m\u001b[32m0\u001b[0m\u001b[34m0\u001b[0m-\u001b[44m10\u001b[0m-0-000  <-->  \u001b[31m0\u001b[0m\u001b[32m0\u001b[0m\u001b[34m0\u001b[0m.\u001b[31m0\u001b[0m\u001b[32m0\u001b[0m\u001b[34m0\u001b[0m.\u001b[31m0\u001b[0m\u001b[32m0\u001b[0m\u001b[34m0\u001b[0m-\u001b[44m10\u001b[0m-0-101\n",
      "\u001b[31m0\u001b[0m\u001b[32m0\u001b[0m\u001b[34m0\u001b[0m.\u001b[31m0\u001b[0m\u001b[32m0\u001b[0m\u001b[34m0\u001b[0m.\u001b[31m0\u001b[0m\u001b[32m0\u001b[0m\u001b[34m0\u001b[0m-\u001b[44m10\u001b[0m-0-001  <-->  \u001b[31m0\u001b[0m\u001b[32m0\u001b[0m\u001b[34m0\u001b[0m.\u001b[31m0\u001b[0m\u001b[32m0\u001b[0m\u001b[34m0\u001b[0m.\u001b[31m0\u001b[0m\u001b[32m0\u001b[0m\u001b[34m0\u001b[0m-\u001b[44m10\u001b[0m-0-100\n",
      "\n",
      "\u001b[31m0\u001b[0m\u001b[32m0\u001b[0m\u001b[34m0\u001b[0m.\u001b[31m0\u001b[0m\u001b[32m0\u001b[0m\u001b[34m0\u001b[0m.\u001b[31m0\u001b[0m\u001b[32m0\u001b[0m\u001b[34m0\u001b[0m-\u001b[41m00\u001b[0m-0-010  <-->  \u001b[31m0\u001b[0m\u001b[32m0\u001b[0m\u001b[34m0\u001b[0m.\u001b[31m0\u001b[0m\u001b[32m0\u001b[0m\u001b[34m0\u001b[0m.\u001b[31m0\u001b[0m\u001b[32m0\u001b[0m\u001b[34m0\u001b[0m-\u001b[41m00\u001b[0m-0-111\n",
      "\u001b[31m0\u001b[0m\u001b[32m0\u001b[0m\u001b[34m0\u001b[0m.\u001b[31m0\u001b[0m\u001b[32m0\u001b[0m\u001b[34m0\u001b[0m.\u001b[31m0\u001b[0m\u001b[32m0\u001b[0m\u001b[34m0\u001b[0m-\u001b[41m00\u001b[0m-0-011  <-->  \u001b[31m0\u001b[0m\u001b[32m0\u001b[0m\u001b[34m0\u001b[0m.\u001b[31m0\u001b[0m\u001b[32m0\u001b[0m\u001b[34m0\u001b[0m.\u001b[31m0\u001b[0m\u001b[32m0\u001b[0m\u001b[34m0\u001b[0m-\u001b[41m00\u001b[0m-0-110\n",
      "\u001b[31m0\u001b[0m\u001b[32m0\u001b[0m\u001b[34m0\u001b[0m.\u001b[31m0\u001b[0m\u001b[32m0\u001b[0m\u001b[34m0\u001b[0m.\u001b[31m0\u001b[0m\u001b[32m0\u001b[0m\u001b[34m0\u001b[0m-\u001b[42m01\u001b[0m-0-010  <-->  \u001b[31m0\u001b[0m\u001b[32m0\u001b[0m\u001b[34m0\u001b[0m.\u001b[31m0\u001b[0m\u001b[32m0\u001b[0m\u001b[34m0\u001b[0m.\u001b[31m0\u001b[0m\u001b[32m0\u001b[0m\u001b[34m0\u001b[0m-\u001b[42m01\u001b[0m-0-111\n",
      "\u001b[31m0\u001b[0m\u001b[32m0\u001b[0m\u001b[34m0\u001b[0m.\u001b[31m0\u001b[0m\u001b[32m0\u001b[0m\u001b[34m0\u001b[0m.\u001b[31m0\u001b[0m\u001b[32m0\u001b[0m\u001b[34m0\u001b[0m-\u001b[42m01\u001b[0m-0-011  <-->  \u001b[31m0\u001b[0m\u001b[32m0\u001b[0m\u001b[34m0\u001b[0m.\u001b[31m0\u001b[0m\u001b[32m0\u001b[0m\u001b[34m0\u001b[0m.\u001b[31m0\u001b[0m\u001b[32m0\u001b[0m\u001b[34m0\u001b[0m-\u001b[42m01\u001b[0m-0-110\n",
      "\u001b[31m0\u001b[0m\u001b[32m0\u001b[0m\u001b[34m0\u001b[0m.\u001b[31m0\u001b[0m\u001b[32m0\u001b[0m\u001b[34m0\u001b[0m.\u001b[31m0\u001b[0m\u001b[32m0\u001b[0m\u001b[34m0\u001b[0m-\u001b[44m10\u001b[0m-0-010  <-->  \u001b[31m0\u001b[0m\u001b[32m0\u001b[0m\u001b[34m0\u001b[0m.\u001b[31m0\u001b[0m\u001b[32m0\u001b[0m\u001b[34m0\u001b[0m.\u001b[31m0\u001b[0m\u001b[32m0\u001b[0m\u001b[34m0\u001b[0m-\u001b[44m10\u001b[0m-0-111\n",
      "\u001b[31m0\u001b[0m\u001b[32m0\u001b[0m\u001b[34m0\u001b[0m.\u001b[31m0\u001b[0m\u001b[32m0\u001b[0m\u001b[34m0\u001b[0m.\u001b[31m0\u001b[0m\u001b[32m0\u001b[0m\u001b[34m0\u001b[0m-\u001b[44m10\u001b[0m-0-011  <-->  \u001b[31m0\u001b[0m\u001b[32m0\u001b[0m\u001b[34m0\u001b[0m.\u001b[31m0\u001b[0m\u001b[32m0\u001b[0m\u001b[34m0\u001b[0m.\u001b[31m0\u001b[0m\u001b[32m0\u001b[0m\u001b[34m0\u001b[0m-\u001b[44m10\u001b[0m-0-110\n",
      "\n",
      "\u001b[31m0\u001b[0m\u001b[32m0\u001b[0m\u001b[34m0\u001b[0m.\u001b[31m0\u001b[0m\u001b[32m0\u001b[0m\u001b[34m0\u001b[0m.\u001b[31m0\u001b[0m\u001b[32m0\u001b[0m\u001b[34m0\u001b[0m-\u001b[41m00\u001b[0m-1-000  <-->  \u001b[31m0\u001b[0m\u001b[32m0\u001b[0m\u001b[34m0\u001b[0m.\u001b[31m0\u001b[0m\u001b[32m0\u001b[0m\u001b[34m0\u001b[0m.\u001b[31m0\u001b[0m\u001b[32m0\u001b[0m\u001b[34m0\u001b[0m-\u001b[41m00\u001b[0m-1-101\n",
      "\u001b[31m0\u001b[0m\u001b[32m0\u001b[0m\u001b[34m0\u001b[0m.\u001b[31m0\u001b[0m\u001b[32m0\u001b[0m\u001b[34m0\u001b[0m.\u001b[31m0\u001b[0m\u001b[32m0\u001b[0m\u001b[34m0\u001b[0m-\u001b[41m00\u001b[0m-1-001  <-->  \u001b[31m0\u001b[0m\u001b[32m0\u001b[0m\u001b[34m0\u001b[0m.\u001b[31m0\u001b[0m\u001b[32m0\u001b[0m\u001b[34m0\u001b[0m.\u001b[31m0\u001b[0m\u001b[32m0\u001b[0m\u001b[34m0\u001b[0m-\u001b[41m00\u001b[0m-1-100\n",
      "\u001b[31m0\u001b[0m\u001b[32m0\u001b[0m\u001b[34m0\u001b[0m.\u001b[31m0\u001b[0m\u001b[32m0\u001b[0m\u001b[34m0\u001b[0m.\u001b[31m0\u001b[0m\u001b[32m0\u001b[0m\u001b[34m0\u001b[0m-\u001b[42m01\u001b[0m-1-000  <-->  \u001b[31m0\u001b[0m\u001b[32m0\u001b[0m\u001b[34m0\u001b[0m.\u001b[31m0\u001b[0m\u001b[32m0\u001b[0m\u001b[34m0\u001b[0m.\u001b[31m0\u001b[0m\u001b[32m0\u001b[0m\u001b[34m0\u001b[0m-\u001b[42m01\u001b[0m-1-101\n",
      "\u001b[31m0\u001b[0m\u001b[32m0\u001b[0m\u001b[34m0\u001b[0m.\u001b[31m0\u001b[0m\u001b[32m0\u001b[0m\u001b[34m0\u001b[0m.\u001b[31m0\u001b[0m\u001b[32m0\u001b[0m\u001b[34m0\u001b[0m-\u001b[42m01\u001b[0m-1-001  <-->  \u001b[31m0\u001b[0m\u001b[32m0\u001b[0m\u001b[34m0\u001b[0m.\u001b[31m0\u001b[0m\u001b[32m0\u001b[0m\u001b[34m0\u001b[0m.\u001b[31m0\u001b[0m\u001b[32m0\u001b[0m\u001b[34m0\u001b[0m-\u001b[42m01\u001b[0m-1-100\n",
      "\u001b[31m0\u001b[0m\u001b[32m0\u001b[0m\u001b[34m0\u001b[0m.\u001b[31m0\u001b[0m\u001b[32m0\u001b[0m\u001b[34m0\u001b[0m.\u001b[31m0\u001b[0m\u001b[32m0\u001b[0m\u001b[34m0\u001b[0m-\u001b[44m10\u001b[0m-1-000  <-->  \u001b[31m0\u001b[0m\u001b[32m0\u001b[0m\u001b[34m0\u001b[0m.\u001b[31m0\u001b[0m\u001b[32m0\u001b[0m\u001b[34m0\u001b[0m.\u001b[31m0\u001b[0m\u001b[32m0\u001b[0m\u001b[34m0\u001b[0m-\u001b[44m10\u001b[0m-1-101\n",
      "\u001b[31m0\u001b[0m\u001b[32m0\u001b[0m\u001b[34m0\u001b[0m.\u001b[31m0\u001b[0m\u001b[32m0\u001b[0m\u001b[34m0\u001b[0m.\u001b[31m0\u001b[0m\u001b[32m0\u001b[0m\u001b[34m0\u001b[0m-\u001b[44m10\u001b[0m-1-001  <-->  \u001b[31m0\u001b[0m\u001b[32m0\u001b[0m\u001b[34m0\u001b[0m.\u001b[31m0\u001b[0m\u001b[32m0\u001b[0m\u001b[34m0\u001b[0m.\u001b[31m0\u001b[0m\u001b[32m0\u001b[0m\u001b[34m0\u001b[0m-\u001b[44m10\u001b[0m-1-100\n",
      "\n",
      "\u001b[31m0\u001b[0m\u001b[32m0\u001b[0m\u001b[34m0\u001b[0m.\u001b[31m0\u001b[0m\u001b[32m0\u001b[0m\u001b[34m0\u001b[0m.\u001b[31m0\u001b[0m\u001b[32m0\u001b[0m\u001b[34m0\u001b[0m-\u001b[41m00\u001b[0m-1-010  <-->  \u001b[31m0\u001b[0m\u001b[32m0\u001b[0m\u001b[34m0\u001b[0m.\u001b[31m0\u001b[0m\u001b[32m0\u001b[0m\u001b[34m0\u001b[0m.\u001b[31m0\u001b[0m\u001b[32m0\u001b[0m\u001b[34m0\u001b[0m-\u001b[41m00\u001b[0m-1-111\n",
      "\u001b[31m0\u001b[0m\u001b[32m0\u001b[0m\u001b[34m0\u001b[0m.\u001b[31m0\u001b[0m\u001b[32m0\u001b[0m\u001b[34m0\u001b[0m.\u001b[31m0\u001b[0m\u001b[32m0\u001b[0m\u001b[34m0\u001b[0m-\u001b[41m00\u001b[0m-1-011  <-->  \u001b[31m0\u001b[0m\u001b[32m0\u001b[0m\u001b[34m0\u001b[0m.\u001b[31m0\u001b[0m\u001b[32m0\u001b[0m\u001b[34m0\u001b[0m.\u001b[31m0\u001b[0m\u001b[32m0\u001b[0m\u001b[34m0\u001b[0m-\u001b[41m00\u001b[0m-1-110\n",
      "\u001b[31m0\u001b[0m\u001b[32m0\u001b[0m\u001b[34m0\u001b[0m.\u001b[31m0\u001b[0m\u001b[32m0\u001b[0m\u001b[34m0\u001b[0m.\u001b[31m0\u001b[0m\u001b[32m0\u001b[0m\u001b[34m0\u001b[0m-\u001b[42m01\u001b[0m-1-010  <-->  \u001b[31m0\u001b[0m\u001b[32m0\u001b[0m\u001b[34m0\u001b[0m.\u001b[31m0\u001b[0m\u001b[32m0\u001b[0m\u001b[34m0\u001b[0m.\u001b[31m0\u001b[0m\u001b[32m0\u001b[0m\u001b[34m0\u001b[0m-\u001b[42m01\u001b[0m-1-111\n",
      "\u001b[31m0\u001b[0m\u001b[32m0\u001b[0m\u001b[34m0\u001b[0m.\u001b[31m0\u001b[0m\u001b[32m0\u001b[0m\u001b[34m0\u001b[0m.\u001b[31m0\u001b[0m\u001b[32m0\u001b[0m\u001b[34m0\u001b[0m-\u001b[42m01\u001b[0m-1-011  <-->  \u001b[31m0\u001b[0m\u001b[32m0\u001b[0m\u001b[34m0\u001b[0m.\u001b[31m0\u001b[0m\u001b[32m0\u001b[0m\u001b[34m0\u001b[0m.\u001b[31m0\u001b[0m\u001b[32m0\u001b[0m\u001b[34m0\u001b[0m-\u001b[42m01\u001b[0m-1-110\n",
      "\u001b[31m0\u001b[0m\u001b[32m0\u001b[0m\u001b[34m0\u001b[0m.\u001b[31m0\u001b[0m\u001b[32m0\u001b[0m\u001b[34m0\u001b[0m.\u001b[31m0\u001b[0m\u001b[32m0\u001b[0m\u001b[34m0\u001b[0m-\u001b[44m10\u001b[0m-1-010  <-->  \u001b[31m0\u001b[0m\u001b[32m0\u001b[0m\u001b[34m0\u001b[0m.\u001b[31m0\u001b[0m\u001b[32m0\u001b[0m\u001b[34m0\u001b[0m.\u001b[31m0\u001b[0m\u001b[32m0\u001b[0m\u001b[34m0\u001b[0m-\u001b[44m10\u001b[0m-1-111\n",
      "\u001b[31m0\u001b[0m\u001b[32m0\u001b[0m\u001b[34m0\u001b[0m.\u001b[31m0\u001b[0m\u001b[32m0\u001b[0m\u001b[34m0\u001b[0m.\u001b[31m0\u001b[0m\u001b[32m0\u001b[0m\u001b[34m0\u001b[0m-\u001b[44m10\u001b[0m-1-011  <-->  \u001b[31m0\u001b[0m\u001b[32m0\u001b[0m\u001b[34m0\u001b[0m.\u001b[31m0\u001b[0m\u001b[32m0\u001b[0m\u001b[34m0\u001b[0m.\u001b[31m0\u001b[0m\u001b[32m0\u001b[0m\u001b[34m0\u001b[0m-\u001b[44m10\u001b[0m-1-110\n",
      "\n"
     ]
    }
   ],
   "source": [
    "# outer faces\n",
    "\n",
    "SEQ_FACES = [\n",
    "    [[],      []       ],\n",
    "    [[0,1],   [1,2,1,3]],\n",
    "    [[3], [3]],\n",
    "    [[3,0,1], [1,2,0,1,3]]\n",
    "]\n",
    "\n",
    "for seq_d, seq_e in SEQ_FACES:\n",
    "    for d in 0,16,32:\n",
    "        LUT_D [a(seq_d,         d),1] = a ( seq_d + [1,0,1],     d)\n",
    "        LUT_D [a(seq_d+[0],     d),1] = a ( seq_d + [1,0,1,0],   d)\n",
    "\n",
    "        LUT_D [a(seq_d+[1,0,1],   d),1] = a ( seq_d,               d)\n",
    "        LUT_D [a(seq_d+[1,0,1,0], d),1] = a ( seq_d+[0],           d)\n",
    "\n",
    "        print (csd (seq_d,       d), ' <--> ', csd( seq_d + [1,0,1],     d))\n",
    "        print (csd (seq_d + [0], d), ' <--> ', csd( seq_d + [1,0,1,0],   d))\n",
    "    print()"
   ]
  },
  {
   "cell_type": "markdown",
   "metadata": {},
   "source": [
    "## Lookup for deltas"
   ]
  },
  {
   "cell_type": "code",
   "execution_count": null,
   "metadata": {},
   "outputs": [],
   "source": [
    "# xyz Deltas are too dependent on the CORNERS config, but here it is hard-coded\n",
    "\n",
    "delta_def = np.fromstring ('''\\\n",
    "  0  0  0     0 -1  0    -1  0  0\n",
    "  0  0 +1     0  0 +1    -1  0 +1\n",
    "  0 +1  0     0 +1  0    -1 +1  0\n",
    "  0  0  0     0  0 -1    -1  0  0\n",
    "''', sep = ' ', dtype=int).reshape (4,3,3)"
   ]
  },
  {
   "cell_type": "code",
   "execution_count": null,
   "metadata": {},
   "outputs": [],
   "source": [
    "# 4-dimensional index \n",
    "# - ax (0,1,2), \n",
    "# - d (0-15)\n",
    "# - scenario (edge, face, interior)\n",
    "# - delta (z,y,x)\n",
    "\n",
    "LUT_DELTA = np.zeros ((3,16,3,3), dtype=np.int8)\n",
    "\n",
    "# red darts alpha_0 replication\n",
    "LUT_DELTA [0,0:2] = delta_def[0]\n",
    "LUT_DELTA [0,2:4] = delta_def[1]\n",
    "LUT_DELTA [0,4:6] = delta_def[2]\n",
    "LUT_DELTA [0,6:8] = delta_def[3]\n",
    "\n",
    "# red darts alpha_3 mirroring\n",
    "LUT_DELTA [0,8:16] = LUT_DELTA[0,0:8,::-1]\n",
    "\n",
    "# rotation for green and blue darts\n",
    "LUT_DELTA [1] = np.roll (LUT_DELTA[0], shift=1, axis=-1)\n",
    "LUT_DELTA [2] = np.roll (LUT_DELTA[1], shift=1, axis=-1)\n",
    "\n",
    "assert all (LUT_DELTA.sum(axis=(0,1)).flatten() == 0), \"sum of deltas for each axis and scenario should be zero\"\n",
    "\n",
    "LUT_DELTA  = LUT_DELTA.reshape  (48,3,3)"
   ]
  },
  {
   "cell_type": "markdown",
   "metadata": {},
   "source": [
    "## Summary Deltas and 6-bit endings for the 3 scenarios\n",
    "\n",
    "- 6-bits and Deltas are independent of $S,R,C$\n",
    "- the only dependency here is how $\\alpha_2$ is defined in the 0,0,0 corner\n",
    "- columns below are \n",
    "    - the last 6 bits of dart $d$ in query\n",
    "    - for each of the 3 scenarios\n",
    "        - the delta triplets $(\\Delta z, \\Delta y, \\Delta x)$\n",
    "        - the last 6 bits of $\\alpha_2 (d)$"
   ]
  },
  {
   "cell_type": "code",
   "execution_count": null,
   "metadata": {},
   "outputs": [
    {
     "name": "stdout",
     "output_type": "stream",
     "text": [
      "  d ending |   270°-flip @ edge  | 180°-flip @ surface | 90°-flip @ interior\n",
      "  ax-b-bbb |   z y x  ax-b-bbb   |   z y x  ax-b-bbb   |   z y x  ax-b-bbb\n",
      "------------------------------------------------------------------------------\n",
      "  \u001b[41m00\u001b[0m-0-000 |   \u001b[37m◦\u001b[0m \u001b[37m◦\u001b[0m \u001b[37m◦\u001b[0m  \u001b[42m01\u001b[0m-0-111   |   \u001b[37m◦\u001b[0m \u001b[1m\u001b[34m-\u001b[0m \u001b[37m◦\u001b[0m  \u001b[41m00\u001b[0m-0-101   |   \u001b[1m\u001b[34m-\u001b[0m \u001b[37m◦\u001b[0m \u001b[37m◦\u001b[0m  \u001b[42m01\u001b[0m-1-010   |   \n",
      "  \u001b[41m00\u001b[0m-0-001 |   \u001b[37m◦\u001b[0m \u001b[37m◦\u001b[0m \u001b[37m◦\u001b[0m  \u001b[42m01\u001b[0m-0-110   |   \u001b[37m◦\u001b[0m \u001b[1m\u001b[34m-\u001b[0m \u001b[37m◦\u001b[0m  \u001b[41m00\u001b[0m-0-100   |   \u001b[1m\u001b[34m-\u001b[0m \u001b[37m◦\u001b[0m \u001b[37m◦\u001b[0m  \u001b[42m01\u001b[0m-1-011   |   \n",
      "  \u001b[41m00\u001b[0m-0-010 |   \u001b[37m◦\u001b[0m \u001b[37m◦\u001b[0m \u001b[1m\u001b[31m+\u001b[0m  \u001b[44m10\u001b[0m-1-000   |   \u001b[37m◦\u001b[0m \u001b[37m◦\u001b[0m \u001b[1m\u001b[31m+\u001b[0m  \u001b[41m00\u001b[0m-0-111   |   \u001b[1m\u001b[34m-\u001b[0m \u001b[37m◦\u001b[0m \u001b[1m\u001b[31m+\u001b[0m  \u001b[44m10\u001b[0m-0-101   |   \n",
      "  \u001b[41m00\u001b[0m-0-011 |   \u001b[37m◦\u001b[0m \u001b[37m◦\u001b[0m \u001b[1m\u001b[31m+\u001b[0m  \u001b[44m10\u001b[0m-1-001   |   \u001b[37m◦\u001b[0m \u001b[37m◦\u001b[0m \u001b[1m\u001b[31m+\u001b[0m  \u001b[41m00\u001b[0m-0-110   |   \u001b[1m\u001b[34m-\u001b[0m \u001b[37m◦\u001b[0m \u001b[1m\u001b[31m+\u001b[0m  \u001b[44m10\u001b[0m-0-100   |   \n",
      "  \u001b[41m00\u001b[0m-0-100 |   \u001b[37m◦\u001b[0m \u001b[1m\u001b[31m+\u001b[0m \u001b[37m◦\u001b[0m  \u001b[42m01\u001b[0m-1-110   |   \u001b[37m◦\u001b[0m \u001b[1m\u001b[31m+\u001b[0m \u001b[37m◦\u001b[0m  \u001b[41m00\u001b[0m-0-001   |   \u001b[1m\u001b[34m-\u001b[0m \u001b[1m\u001b[31m+\u001b[0m \u001b[37m◦\u001b[0m  \u001b[42m01\u001b[0m-0-011   |   \n",
      "  \u001b[41m00\u001b[0m-0-101 |   \u001b[37m◦\u001b[0m \u001b[1m\u001b[31m+\u001b[0m \u001b[37m◦\u001b[0m  \u001b[42m01\u001b[0m-1-111   |   \u001b[37m◦\u001b[0m \u001b[1m\u001b[31m+\u001b[0m \u001b[37m◦\u001b[0m  \u001b[41m00\u001b[0m-0-000   |   \u001b[1m\u001b[34m-\u001b[0m \u001b[1m\u001b[31m+\u001b[0m \u001b[37m◦\u001b[0m  \u001b[42m01\u001b[0m-0-010   |   \n",
      "  \u001b[41m00\u001b[0m-0-110 |   \u001b[37m◦\u001b[0m \u001b[37m◦\u001b[0m \u001b[37m◦\u001b[0m  \u001b[44m10\u001b[0m-0-001   |   \u001b[37m◦\u001b[0m \u001b[37m◦\u001b[0m \u001b[1m\u001b[34m-\u001b[0m  \u001b[41m00\u001b[0m-0-011   |   \u001b[1m\u001b[34m-\u001b[0m \u001b[37m◦\u001b[0m \u001b[37m◦\u001b[0m  \u001b[44m10\u001b[0m-1-100   |   \n",
      "  \u001b[41m00\u001b[0m-0-111 |   \u001b[37m◦\u001b[0m \u001b[37m◦\u001b[0m \u001b[37m◦\u001b[0m  \u001b[44m10\u001b[0m-0-000   |   \u001b[37m◦\u001b[0m \u001b[37m◦\u001b[0m \u001b[1m\u001b[34m-\u001b[0m  \u001b[41m00\u001b[0m-0-010   |   \u001b[1m\u001b[34m-\u001b[0m \u001b[37m◦\u001b[0m \u001b[37m◦\u001b[0m  \u001b[44m10\u001b[0m-1-101   |   \n",
      "------------------------------------------------------------------------------\n",
      "  \u001b[41m00\u001b[0m-1-000 |   \u001b[1m\u001b[34m-\u001b[0m \u001b[37m◦\u001b[0m \u001b[37m◦\u001b[0m  \u001b[42m01\u001b[0m-0-010   |   \u001b[37m◦\u001b[0m \u001b[1m\u001b[34m-\u001b[0m \u001b[37m◦\u001b[0m  \u001b[41m00\u001b[0m-1-101   |   \u001b[37m◦\u001b[0m \u001b[37m◦\u001b[0m \u001b[37m◦\u001b[0m  \u001b[42m01\u001b[0m-1-111   |   \n",
      "  \u001b[41m00\u001b[0m-1-001 |   \u001b[1m\u001b[34m-\u001b[0m \u001b[37m◦\u001b[0m \u001b[37m◦\u001b[0m  \u001b[42m01\u001b[0m-0-011   |   \u001b[37m◦\u001b[0m \u001b[1m\u001b[34m-\u001b[0m \u001b[37m◦\u001b[0m  \u001b[41m00\u001b[0m-1-100   |   \u001b[37m◦\u001b[0m \u001b[37m◦\u001b[0m \u001b[37m◦\u001b[0m  \u001b[42m01\u001b[0m-1-110   |   \n",
      "  \u001b[41m00\u001b[0m-1-010 |   \u001b[1m\u001b[34m-\u001b[0m \u001b[37m◦\u001b[0m \u001b[1m\u001b[31m+\u001b[0m  \u001b[44m10\u001b[0m-1-101   |   \u001b[37m◦\u001b[0m \u001b[37m◦\u001b[0m \u001b[1m\u001b[31m+\u001b[0m  \u001b[41m00\u001b[0m-1-111   |   \u001b[37m◦\u001b[0m \u001b[37m◦\u001b[0m \u001b[1m\u001b[31m+\u001b[0m  \u001b[44m10\u001b[0m-0-000   |   \n",
      "  \u001b[41m00\u001b[0m-1-011 |   \u001b[1m\u001b[34m-\u001b[0m \u001b[37m◦\u001b[0m \u001b[1m\u001b[31m+\u001b[0m  \u001b[44m10\u001b[0m-1-100   |   \u001b[37m◦\u001b[0m \u001b[37m◦\u001b[0m \u001b[1m\u001b[31m+\u001b[0m  \u001b[41m00\u001b[0m-1-110   |   \u001b[37m◦\u001b[0m \u001b[37m◦\u001b[0m \u001b[1m\u001b[31m+\u001b[0m  \u001b[44m10\u001b[0m-0-001   |   \n",
      "  \u001b[41m00\u001b[0m-1-100 |   \u001b[1m\u001b[34m-\u001b[0m \u001b[1m\u001b[31m+\u001b[0m \u001b[37m◦\u001b[0m  \u001b[42m01\u001b[0m-1-011   |   \u001b[37m◦\u001b[0m \u001b[1m\u001b[31m+\u001b[0m \u001b[37m◦\u001b[0m  \u001b[41m00\u001b[0m-1-001   |   \u001b[37m◦\u001b[0m \u001b[1m\u001b[31m+\u001b[0m \u001b[37m◦\u001b[0m  \u001b[42m01\u001b[0m-0-110   |   \n",
      "  \u001b[41m00\u001b[0m-1-101 |   \u001b[1m\u001b[34m-\u001b[0m \u001b[1m\u001b[31m+\u001b[0m \u001b[37m◦\u001b[0m  \u001b[42m01\u001b[0m-1-010   |   \u001b[37m◦\u001b[0m \u001b[1m\u001b[31m+\u001b[0m \u001b[37m◦\u001b[0m  \u001b[41m00\u001b[0m-1-000   |   \u001b[37m◦\u001b[0m \u001b[1m\u001b[31m+\u001b[0m \u001b[37m◦\u001b[0m  \u001b[42m01\u001b[0m-0-111   |   \n",
      "  \u001b[41m00\u001b[0m-1-110 |   \u001b[1m\u001b[34m-\u001b[0m \u001b[37m◦\u001b[0m \u001b[37m◦\u001b[0m  \u001b[44m10\u001b[0m-0-100   |   \u001b[37m◦\u001b[0m \u001b[37m◦\u001b[0m \u001b[1m\u001b[34m-\u001b[0m  \u001b[41m00\u001b[0m-1-011   |   \u001b[37m◦\u001b[0m \u001b[37m◦\u001b[0m \u001b[37m◦\u001b[0m  \u001b[44m10\u001b[0m-1-001   |   \n",
      "  \u001b[41m00\u001b[0m-1-111 |   \u001b[1m\u001b[34m-\u001b[0m \u001b[37m◦\u001b[0m \u001b[37m◦\u001b[0m  \u001b[44m10\u001b[0m-0-101   |   \u001b[37m◦\u001b[0m \u001b[37m◦\u001b[0m \u001b[1m\u001b[34m-\u001b[0m  \u001b[41m00\u001b[0m-1-010   |   \u001b[37m◦\u001b[0m \u001b[37m◦\u001b[0m \u001b[37m◦\u001b[0m  \u001b[44m10\u001b[0m-1-000   |   \n",
      "------------------------------------------------------------------------------\n",
      "  \u001b[42m01\u001b[0m-0-000 |   \u001b[37m◦\u001b[0m \u001b[37m◦\u001b[0m \u001b[37m◦\u001b[0m  \u001b[44m10\u001b[0m-0-111   |   \u001b[37m◦\u001b[0m \u001b[37m◦\u001b[0m \u001b[1m\u001b[34m-\u001b[0m  \u001b[42m01\u001b[0m-0-101   |   \u001b[37m◦\u001b[0m \u001b[1m\u001b[34m-\u001b[0m \u001b[37m◦\u001b[0m  \u001b[44m10\u001b[0m-1-010   |   \n",
      "  \u001b[42m01\u001b[0m-0-001 |   \u001b[37m◦\u001b[0m \u001b[37m◦\u001b[0m \u001b[37m◦\u001b[0m  \u001b[44m10\u001b[0m-0-110   |   \u001b[37m◦\u001b[0m \u001b[37m◦\u001b[0m \u001b[1m\u001b[34m-\u001b[0m  \u001b[42m01\u001b[0m-0-100   |   \u001b[37m◦\u001b[0m \u001b[1m\u001b[34m-\u001b[0m \u001b[37m◦\u001b[0m  \u001b[44m10\u001b[0m-1-011   |   \n",
      "  \u001b[42m01\u001b[0m-0-010 |   \u001b[1m\u001b[31m+\u001b[0m \u001b[37m◦\u001b[0m \u001b[37m◦\u001b[0m  \u001b[41m00\u001b[0m-1-000   |   \u001b[1m\u001b[31m+\u001b[0m \u001b[37m◦\u001b[0m \u001b[37m◦\u001b[0m  \u001b[42m01\u001b[0m-0-111   |   \u001b[1m\u001b[31m+\u001b[0m \u001b[1m\u001b[34m-\u001b[0m \u001b[37m◦\u001b[0m  \u001b[41m00\u001b[0m-0-101   |   \n",
      "  \u001b[42m01\u001b[0m-0-011 |   \u001b[1m\u001b[31m+\u001b[0m \u001b[37m◦\u001b[0m \u001b[37m◦\u001b[0m  \u001b[41m00\u001b[0m-1-001   |   \u001b[1m\u001b[31m+\u001b[0m \u001b[37m◦\u001b[0m \u001b[37m◦\u001b[0m  \u001b[42m01\u001b[0m-0-110   |   \u001b[1m\u001b[31m+\u001b[0m \u001b[1m\u001b[34m-\u001b[0m \u001b[37m◦\u001b[0m  \u001b[41m00\u001b[0m-0-100   |   \n",
      "  \u001b[42m01\u001b[0m-0-100 |   \u001b[37m◦\u001b[0m \u001b[37m◦\u001b[0m \u001b[1m\u001b[31m+\u001b[0m  \u001b[44m10\u001b[0m-1-110   |   \u001b[37m◦\u001b[0m \u001b[37m◦\u001b[0m \u001b[1m\u001b[31m+\u001b[0m  \u001b[42m01\u001b[0m-0-001   |   \u001b[37m◦\u001b[0m \u001b[1m\u001b[34m-\u001b[0m \u001b[1m\u001b[31m+\u001b[0m  \u001b[44m10\u001b[0m-0-011   |   \n",
      "  \u001b[42m01\u001b[0m-0-101 |   \u001b[37m◦\u001b[0m \u001b[37m◦\u001b[0m \u001b[1m\u001b[31m+\u001b[0m  \u001b[44m10\u001b[0m-1-111   |   \u001b[37m◦\u001b[0m \u001b[37m◦\u001b[0m \u001b[1m\u001b[31m+\u001b[0m  \u001b[42m01\u001b[0m-0-000   |   \u001b[37m◦\u001b[0m \u001b[1m\u001b[34m-\u001b[0m \u001b[1m\u001b[31m+\u001b[0m  \u001b[44m10\u001b[0m-0-010   |   \n",
      "  \u001b[42m01\u001b[0m-0-110 |   \u001b[37m◦\u001b[0m \u001b[37m◦\u001b[0m \u001b[37m◦\u001b[0m  \u001b[41m00\u001b[0m-0-001   |   \u001b[1m\u001b[34m-\u001b[0m \u001b[37m◦\u001b[0m \u001b[37m◦\u001b[0m  \u001b[42m01\u001b[0m-0-011   |   \u001b[37m◦\u001b[0m \u001b[1m\u001b[34m-\u001b[0m \u001b[37m◦\u001b[0m  \u001b[41m00\u001b[0m-1-100   |   \n",
      "  \u001b[42m01\u001b[0m-0-111 |   \u001b[37m◦\u001b[0m \u001b[37m◦\u001b[0m \u001b[37m◦\u001b[0m  \u001b[41m00\u001b[0m-0-000   |   \u001b[1m\u001b[34m-\u001b[0m \u001b[37m◦\u001b[0m \u001b[37m◦\u001b[0m  \u001b[42m01\u001b[0m-0-010   |   \u001b[37m◦\u001b[0m \u001b[1m\u001b[34m-\u001b[0m \u001b[37m◦\u001b[0m  \u001b[41m00\u001b[0m-1-101   |   \n",
      "------------------------------------------------------------------------------\n",
      "  \u001b[42m01\u001b[0m-1-000 |   \u001b[37m◦\u001b[0m \u001b[1m\u001b[34m-\u001b[0m \u001b[37m◦\u001b[0m  \u001b[44m10\u001b[0m-0-010   |   \u001b[37m◦\u001b[0m \u001b[37m◦\u001b[0m \u001b[1m\u001b[34m-\u001b[0m  \u001b[42m01\u001b[0m-1-101   |   \u001b[37m◦\u001b[0m \u001b[37m◦\u001b[0m \u001b[37m◦\u001b[0m  \u001b[44m10\u001b[0m-1-111   |   \n",
      "  \u001b[42m01\u001b[0m-1-001 |   \u001b[37m◦\u001b[0m \u001b[1m\u001b[34m-\u001b[0m \u001b[37m◦\u001b[0m  \u001b[44m10\u001b[0m-0-011   |   \u001b[37m◦\u001b[0m \u001b[37m◦\u001b[0m \u001b[1m\u001b[34m-\u001b[0m  \u001b[42m01\u001b[0m-1-100   |   \u001b[37m◦\u001b[0m \u001b[37m◦\u001b[0m \u001b[37m◦\u001b[0m  \u001b[44m10\u001b[0m-1-110   |   \n",
      "  \u001b[42m01\u001b[0m-1-010 |   \u001b[1m\u001b[31m+\u001b[0m \u001b[1m\u001b[34m-\u001b[0m \u001b[37m◦\u001b[0m  \u001b[41m00\u001b[0m-1-101   |   \u001b[1m\u001b[31m+\u001b[0m \u001b[37m◦\u001b[0m \u001b[37m◦\u001b[0m  \u001b[42m01\u001b[0m-1-111   |   \u001b[1m\u001b[31m+\u001b[0m \u001b[37m◦\u001b[0m \u001b[37m◦\u001b[0m  \u001b[41m00\u001b[0m-0-000   |   \n",
      "  \u001b[42m01\u001b[0m-1-011 |   \u001b[1m\u001b[31m+\u001b[0m \u001b[1m\u001b[34m-\u001b[0m \u001b[37m◦\u001b[0m  \u001b[41m00\u001b[0m-1-100   |   \u001b[1m\u001b[31m+\u001b[0m \u001b[37m◦\u001b[0m \u001b[37m◦\u001b[0m  \u001b[42m01\u001b[0m-1-110   |   \u001b[1m\u001b[31m+\u001b[0m \u001b[37m◦\u001b[0m \u001b[37m◦\u001b[0m  \u001b[41m00\u001b[0m-0-001   |   \n",
      "  \u001b[42m01\u001b[0m-1-100 |   \u001b[37m◦\u001b[0m \u001b[1m\u001b[34m-\u001b[0m \u001b[1m\u001b[31m+\u001b[0m  \u001b[44m10\u001b[0m-1-011   |   \u001b[37m◦\u001b[0m \u001b[37m◦\u001b[0m \u001b[1m\u001b[31m+\u001b[0m  \u001b[42m01\u001b[0m-1-001   |   \u001b[37m◦\u001b[0m \u001b[37m◦\u001b[0m \u001b[1m\u001b[31m+\u001b[0m  \u001b[44m10\u001b[0m-0-110   |   \n",
      "  \u001b[42m01\u001b[0m-1-101 |   \u001b[37m◦\u001b[0m \u001b[1m\u001b[34m-\u001b[0m \u001b[1m\u001b[31m+\u001b[0m  \u001b[44m10\u001b[0m-1-010   |   \u001b[37m◦\u001b[0m \u001b[37m◦\u001b[0m \u001b[1m\u001b[31m+\u001b[0m  \u001b[42m01\u001b[0m-1-000   |   \u001b[37m◦\u001b[0m \u001b[37m◦\u001b[0m \u001b[1m\u001b[31m+\u001b[0m  \u001b[44m10\u001b[0m-0-111   |   \n",
      "  \u001b[42m01\u001b[0m-1-110 |   \u001b[37m◦\u001b[0m \u001b[1m\u001b[34m-\u001b[0m \u001b[37m◦\u001b[0m  \u001b[41m00\u001b[0m-0-100   |   \u001b[1m\u001b[34m-\u001b[0m \u001b[37m◦\u001b[0m \u001b[37m◦\u001b[0m  \u001b[42m01\u001b[0m-1-011   |   \u001b[37m◦\u001b[0m \u001b[37m◦\u001b[0m \u001b[37m◦\u001b[0m  \u001b[41m00\u001b[0m-1-001   |   \n",
      "  \u001b[42m01\u001b[0m-1-111 |   \u001b[37m◦\u001b[0m \u001b[1m\u001b[34m-\u001b[0m \u001b[37m◦\u001b[0m  \u001b[41m00\u001b[0m-0-101   |   \u001b[1m\u001b[34m-\u001b[0m \u001b[37m◦\u001b[0m \u001b[37m◦\u001b[0m  \u001b[42m01\u001b[0m-1-010   |   \u001b[37m◦\u001b[0m \u001b[37m◦\u001b[0m \u001b[37m◦\u001b[0m  \u001b[41m00\u001b[0m-1-000   |   \n",
      "------------------------------------------------------------------------------\n",
      "  \u001b[44m10\u001b[0m-0-000 |   \u001b[37m◦\u001b[0m \u001b[37m◦\u001b[0m \u001b[37m◦\u001b[0m  \u001b[41m00\u001b[0m-0-111   |   \u001b[1m\u001b[34m-\u001b[0m \u001b[37m◦\u001b[0m \u001b[37m◦\u001b[0m  \u001b[44m10\u001b[0m-0-101   |   \u001b[37m◦\u001b[0m \u001b[37m◦\u001b[0m \u001b[1m\u001b[34m-\u001b[0m  \u001b[41m00\u001b[0m-1-010   |   \n",
      "  \u001b[44m10\u001b[0m-0-001 |   \u001b[37m◦\u001b[0m \u001b[37m◦\u001b[0m \u001b[37m◦\u001b[0m  \u001b[41m00\u001b[0m-0-110   |   \u001b[1m\u001b[34m-\u001b[0m \u001b[37m◦\u001b[0m \u001b[37m◦\u001b[0m  \u001b[44m10\u001b[0m-0-100   |   \u001b[37m◦\u001b[0m \u001b[37m◦\u001b[0m \u001b[1m\u001b[34m-\u001b[0m  \u001b[41m00\u001b[0m-1-011   |   \n",
      "  \u001b[44m10\u001b[0m-0-010 |   \u001b[37m◦\u001b[0m \u001b[1m\u001b[31m+\u001b[0m \u001b[37m◦\u001b[0m  \u001b[42m01\u001b[0m-1-000   |   \u001b[37m◦\u001b[0m \u001b[1m\u001b[31m+\u001b[0m \u001b[37m◦\u001b[0m  \u001b[44m10\u001b[0m-0-111   |   \u001b[37m◦\u001b[0m \u001b[1m\u001b[31m+\u001b[0m \u001b[1m\u001b[34m-\u001b[0m  \u001b[42m01\u001b[0m-0-101   |   \n",
      "  \u001b[44m10\u001b[0m-0-011 |   \u001b[37m◦\u001b[0m \u001b[1m\u001b[31m+\u001b[0m \u001b[37m◦\u001b[0m  \u001b[42m01\u001b[0m-1-001   |   \u001b[37m◦\u001b[0m \u001b[1m\u001b[31m+\u001b[0m \u001b[37m◦\u001b[0m  \u001b[44m10\u001b[0m-0-110   |   \u001b[37m◦\u001b[0m \u001b[1m\u001b[31m+\u001b[0m \u001b[1m\u001b[34m-\u001b[0m  \u001b[42m01\u001b[0m-0-100   |   \n",
      "  \u001b[44m10\u001b[0m-0-100 |   \u001b[1m\u001b[31m+\u001b[0m \u001b[37m◦\u001b[0m \u001b[37m◦\u001b[0m  \u001b[41m00\u001b[0m-1-110   |   \u001b[1m\u001b[31m+\u001b[0m \u001b[37m◦\u001b[0m \u001b[37m◦\u001b[0m  \u001b[44m10\u001b[0m-0-001   |   \u001b[1m\u001b[31m+\u001b[0m \u001b[37m◦\u001b[0m \u001b[1m\u001b[34m-\u001b[0m  \u001b[41m00\u001b[0m-0-011   |   \n",
      "  \u001b[44m10\u001b[0m-0-101 |   \u001b[1m\u001b[31m+\u001b[0m \u001b[37m◦\u001b[0m \u001b[37m◦\u001b[0m  \u001b[41m00\u001b[0m-1-111   |   \u001b[1m\u001b[31m+\u001b[0m \u001b[37m◦\u001b[0m \u001b[37m◦\u001b[0m  \u001b[44m10\u001b[0m-0-000   |   \u001b[1m\u001b[31m+\u001b[0m \u001b[37m◦\u001b[0m \u001b[1m\u001b[34m-\u001b[0m  \u001b[41m00\u001b[0m-0-010   |   \n",
      "  \u001b[44m10\u001b[0m-0-110 |   \u001b[37m◦\u001b[0m \u001b[37m◦\u001b[0m \u001b[37m◦\u001b[0m  \u001b[42m01\u001b[0m-0-001   |   \u001b[37m◦\u001b[0m \u001b[1m\u001b[34m-\u001b[0m \u001b[37m◦\u001b[0m  \u001b[44m10\u001b[0m-0-011   |   \u001b[37m◦\u001b[0m \u001b[37m◦\u001b[0m \u001b[1m\u001b[34m-\u001b[0m  \u001b[42m01\u001b[0m-1-100   |   \n",
      "  \u001b[44m10\u001b[0m-0-111 |   \u001b[37m◦\u001b[0m \u001b[37m◦\u001b[0m \u001b[37m◦\u001b[0m  \u001b[42m01\u001b[0m-0-000   |   \u001b[37m◦\u001b[0m \u001b[1m\u001b[34m-\u001b[0m \u001b[37m◦\u001b[0m  \u001b[44m10\u001b[0m-0-010   |   \u001b[37m◦\u001b[0m \u001b[37m◦\u001b[0m \u001b[1m\u001b[34m-\u001b[0m  \u001b[42m01\u001b[0m-1-101   |   \n",
      "------------------------------------------------------------------------------\n",
      "  \u001b[44m10\u001b[0m-1-000 |   \u001b[37m◦\u001b[0m \u001b[37m◦\u001b[0m \u001b[1m\u001b[34m-\u001b[0m  \u001b[41m00\u001b[0m-0-010   |   \u001b[1m\u001b[34m-\u001b[0m \u001b[37m◦\u001b[0m \u001b[37m◦\u001b[0m  \u001b[44m10\u001b[0m-1-101   |   \u001b[37m◦\u001b[0m \u001b[37m◦\u001b[0m \u001b[37m◦\u001b[0m  \u001b[41m00\u001b[0m-1-111   |   \n",
      "  \u001b[44m10\u001b[0m-1-001 |   \u001b[37m◦\u001b[0m \u001b[37m◦\u001b[0m \u001b[1m\u001b[34m-\u001b[0m  \u001b[41m00\u001b[0m-0-011   |   \u001b[1m\u001b[34m-\u001b[0m \u001b[37m◦\u001b[0m \u001b[37m◦\u001b[0m  \u001b[44m10\u001b[0m-1-100   |   \u001b[37m◦\u001b[0m \u001b[37m◦\u001b[0m \u001b[37m◦\u001b[0m  \u001b[41m00\u001b[0m-1-110   |   \n",
      "  \u001b[44m10\u001b[0m-1-010 |   \u001b[37m◦\u001b[0m \u001b[1m\u001b[31m+\u001b[0m \u001b[1m\u001b[34m-\u001b[0m  \u001b[42m01\u001b[0m-1-101   |   \u001b[37m◦\u001b[0m \u001b[1m\u001b[31m+\u001b[0m \u001b[37m◦\u001b[0m  \u001b[44m10\u001b[0m-1-111   |   \u001b[37m◦\u001b[0m \u001b[1m\u001b[31m+\u001b[0m \u001b[37m◦\u001b[0m  \u001b[42m01\u001b[0m-0-000   |   \n",
      "  \u001b[44m10\u001b[0m-1-011 |   \u001b[37m◦\u001b[0m \u001b[1m\u001b[31m+\u001b[0m \u001b[1m\u001b[34m-\u001b[0m  \u001b[42m01\u001b[0m-1-100   |   \u001b[37m◦\u001b[0m \u001b[1m\u001b[31m+\u001b[0m \u001b[37m◦\u001b[0m  \u001b[44m10\u001b[0m-1-110   |   \u001b[37m◦\u001b[0m \u001b[1m\u001b[31m+\u001b[0m \u001b[37m◦\u001b[0m  \u001b[42m01\u001b[0m-0-001   |   \n",
      "  \u001b[44m10\u001b[0m-1-100 |   \u001b[1m\u001b[31m+\u001b[0m \u001b[37m◦\u001b[0m \u001b[1m\u001b[34m-\u001b[0m  \u001b[41m00\u001b[0m-1-011   |   \u001b[1m\u001b[31m+\u001b[0m \u001b[37m◦\u001b[0m \u001b[37m◦\u001b[0m  \u001b[44m10\u001b[0m-1-001   |   \u001b[1m\u001b[31m+\u001b[0m \u001b[37m◦\u001b[0m \u001b[37m◦\u001b[0m  \u001b[41m00\u001b[0m-0-110   |   \n",
      "  \u001b[44m10\u001b[0m-1-101 |   \u001b[1m\u001b[31m+\u001b[0m \u001b[37m◦\u001b[0m \u001b[1m\u001b[34m-\u001b[0m  \u001b[41m00\u001b[0m-1-010   |   \u001b[1m\u001b[31m+\u001b[0m \u001b[37m◦\u001b[0m \u001b[37m◦\u001b[0m  \u001b[44m10\u001b[0m-1-000   |   \u001b[1m\u001b[31m+\u001b[0m \u001b[37m◦\u001b[0m \u001b[37m◦\u001b[0m  \u001b[41m00\u001b[0m-0-111   |   \n",
      "  \u001b[44m10\u001b[0m-1-110 |   \u001b[37m◦\u001b[0m \u001b[37m◦\u001b[0m \u001b[1m\u001b[34m-\u001b[0m  \u001b[42m01\u001b[0m-0-100   |   \u001b[37m◦\u001b[0m \u001b[1m\u001b[34m-\u001b[0m \u001b[37m◦\u001b[0m  \u001b[44m10\u001b[0m-1-011   |   \u001b[37m◦\u001b[0m \u001b[37m◦\u001b[0m \u001b[37m◦\u001b[0m  \u001b[42m01\u001b[0m-1-001   |   \n",
      "  \u001b[44m10\u001b[0m-1-111 |   \u001b[37m◦\u001b[0m \u001b[37m◦\u001b[0m \u001b[1m\u001b[34m-\u001b[0m  \u001b[42m01\u001b[0m-0-101   |   \u001b[37m◦\u001b[0m \u001b[1m\u001b[34m-\u001b[0m \u001b[37m◦\u001b[0m  \u001b[44m10\u001b[0m-1-010   |   \u001b[37m◦\u001b[0m \u001b[37m◦\u001b[0m \u001b[37m◦\u001b[0m  \u001b[42m01\u001b[0m-1-000   |   \n",
      "------------------------------------------------------------------------------\n"
     ]
    }
   ],
   "source": [
    "syms = [\n",
    "    termcolor.colored('-',color='blue', attrs=['bold']),\n",
    "#   termcolor.colored('○',color='white'),\n",
    "    termcolor.colored('◦',color='white'),\n",
    "    termcolor.colored('+',color='red', attrs=['bold']),\n",
    "]\n",
    "\n",
    "print ('  d ending |   270°-flip @ edge  | 180°-flip @ surface | 90°-flip @ interior')\n",
    "print ('  ax-b-bbb |   z y x  ax-b-bbb   |   z y x  ax-b-bbb   |   z y x  ax-b-bbb')\n",
    "\n",
    "for d in range (48):\n",
    "    sd = dartcolor (d, return_str = True)\n",
    "    scenarios = [dartcolor (dd, return_str=True) for dd in LUT_D[d]]\n",
    "    \n",
    "    if not d % 8: print (78*'-')\n",
    "\n",
    "#   print (f'{d:2} ({sd[-17:]})', end=' -->   ')\n",
    "#   print (f'[{LUT_DELTA[d,0,0]:2} {LUT_DELTA[d,0,1]:2} {LUT_DELTA[d,0,2]:2}] {LUT_D[d,0]:2} ({scenarios[0][-17:]})', end='   ')\n",
    "#   print (f'[{LUT_DELTA[d,1,0]:2} {LUT_DELTA[d,1,1]:2} {LUT_DELTA[d,1,2]:2}] {LUT_D[d,1]:2} ({scenarios[1][-17:]})', end='   ')\n",
    "#   print (f'[{LUT_DELTA[d,2,0]:2} {LUT_DELTA[d,2,1]:2} {LUT_DELTA[d,2,2]:2}] {LUT_D[d,2]:2} ({scenarios[2][-17:]})')\n",
    "\n",
    "\n",
    "    print (f'  {sd[-17:]} |   ', end='')\n",
    "    print (f'{syms[LUT_DELTA[d,0,0]+1]} {syms[LUT_DELTA[d,0,1]+1]} {syms[LUT_DELTA[d,0,2]+1]}  {scenarios[0][-17:]}   |   ', end='')\n",
    "    print (f'{syms[LUT_DELTA[d,1,0]+1]} {syms[LUT_DELTA[d,1,1]+1]} {syms[LUT_DELTA[d,1,2]+1]}  {scenarios[1][-17:]}   |   ', end='')\n",
    "    print (f'{syms[LUT_DELTA[d,2,0]+1]} {syms[LUT_DELTA[d,2,1]+1]} {syms[LUT_DELTA[d,2,2]+1]}  {scenarios[2][-17:]}   |   ')\n",
    "\n",
    "print (78*'-')\n"
   ]
  },
  {
   "cell_type": "markdown",
   "metadata": {},
   "source": [
    "# Masks to distinguish the 3 scenarios\n",
    "\n",
    "The masks are dependent on\n",
    "\n",
    "- number of slices rows and columns\n",
    "- encoding scheme for storing (x,y,z), e.g, the z-code"
   ]
  },
  {
   "cell_type": "code",
   "execution_count": null,
   "metadata": {},
   "outputs": [],
   "source": [
    "#S,R,C = 15,15,15\n",
    "#S,R,C = 1,1,1\n",
    "S,R,C = 2,4,6"
   ]
  },
  {
   "cell_type": "code",
   "execution_count": null,
   "metadata": {},
   "outputs": [],
   "source": [
    "# MASKS, dependent on S,R,C\n",
    "\n",
    "# 4-dimensional index \n",
    "# - ax (0,1,2), \n",
    "# - d (0-15)\n",
    "# - case (corner, edgem interior)\n",
    "# - matching (z,y,x)\n",
    "\n",
    "subs = np.fromstring ('''\n",
    "0 0 0 \n",
    "0 0 0\n",
    "0 0 1\n",
    "0 0 1\n",
    "0 1 0 \n",
    "0 1 0\n",
    "0 0 0\n",
    "0 0 0\n",
    "''', sep = ' ', dtype=np.uint8).reshape (8,3)\n",
    "\n",
    "LUT_BOUNDS = np.zeros ((3,16,3), dtype=np.uint32)\n",
    "LUT_BOUNDS [0, :8  ] = subs\n",
    "LUT_BOUNDS [0,  8: ] = subs\n",
    "LUT_BOUNDS [1] = np.roll (LUT_BOUNDS[0], shift=1, axis=-1)\n",
    "LUT_BOUNDS [2] = np.roll (LUT_BOUNDS[1], shift=1, axis=-1)\n",
    "\n",
    "LUT_BOUNDS *= np.array ([S-1,R-1,C-1], dtype=np.uint32)\n",
    "\n",
    "LUT_BOUNDS[0, 8:, 0] = S\n",
    "LUT_BOUNDS[1, 8:, 1] = R\n",
    "LUT_BOUNDS[2, 8:, 2] = C"
   ]
  },
  {
   "cell_type": "code",
   "execution_count": null,
   "metadata": {},
   "outputs": [],
   "source": [
    "# XORs: 48 darts x 3 scenarios\n",
    "LUT_XORs = np.zeros((48,3), dtype=np.uint32)\n",
    "for i,(z,y,x) in enumerate (LUT_BOUNDS.reshape (48,3)):\n",
    "    LUT_XORs [i] = interleave3(x,y,z)"
   ]
  },
  {
   "cell_type": "code",
   "execution_count": null,
   "metadata": {},
   "outputs": [],
   "source": [
    "# masks\n",
    "\n",
    "msks = np.fromstring ('''\n",
    "1 1 0\n",
    "1 1 0\n",
    "1 0 1 \n",
    "1 0 1\n",
    "1 1 0\n",
    "1 1 0\n",
    "1 0 1 \n",
    "1 0 1\n",
    "''', sep = ' ', dtype=np.uint32).reshape (8,3)\n",
    "\n",
    "LUT_MASKS = np.zeros ((3,16,3,3), dtype=np.uint32)\n",
    "LUT_MASKS [0,  :8, [0,1]] = msks\n",
    "LUT_MASKS [0,8:16, [0,1]] = msks\n",
    "LUT_MASKS [0,:,1,[1,2]] = 0\n",
    "\n",
    "LUT_MASKS [1] = np.roll (LUT_MASKS[0],1,2)\n",
    "LUT_MASKS [2] = np.roll (LUT_MASKS[1],1,2)"
   ]
  },
  {
   "cell_type": "code",
   "execution_count": null,
   "metadata": {},
   "outputs": [],
   "source": [
    "# TODO: check if there can be any leading ones after x*(2**10-1) etc\n",
    "# ANDs: 48 darts x 3 scenarios\n",
    "\n",
    "LUT_ANDs = np.zeros((48,3), dtype=np.uint32)\n",
    "for s in 0,1,2:\n",
    "    for d in range (48):\n",
    "        z,y,x = LUT_MASKS.reshape (48,3,3)[d,s]\n",
    "        LUT_ANDs [d,s] = interleave3(x*(2**9-1),y*(2**9-1),z*(2**8-1))"
   ]
  },
  {
   "cell_type": "markdown",
   "metadata": {},
   "source": [
    "## 1 XOR and 2 AND tables summary\n",
    "\n",
    "- XOR table depends on S,R,C\n",
    "- AND tables depends on ordering of coordinates, the following for z-code"
   ]
  },
  {
   "cell_type": "code",
   "execution_count": null,
   "metadata": {},
   "outputs": [
    {
     "name": "stdout",
     "output_type": "stream",
     "text": [
      "--------------------------------------------------------------------------------------------------------------\n",
      " 0 \u001b[32m0\u001b[0m\u001b[34m0\u001b[0m.\u001b[31m0\u001b[0m\u001b[32m0\u001b[0m\u001b[34m0\u001b[0m.\u001b[31m0\u001b[0m\u001b[32m0\u001b[0m\u001b[34m0\u001b[0m.\u001b[31m0\u001b[0m\u001b[32m0\u001b[0m\u001b[34m0\u001b[0m.\u001b[31m0\u001b[0m\u001b[32m0\u001b[0m\u001b[34m0\u001b[0m.\u001b[31m0\u001b[0m\u001b[32m0\u001b[0m\u001b[34m0\u001b[0m.\u001b[31m0\u001b[0m\u001b[32m0\u001b[0m\u001b[34m0\u001b[0m.\u001b[31m0\u001b[0m\u001b[32m0\u001b[0m\u001b[34m0\u001b[0m.\u001b[31m0\u001b[0m\u001b[32m0\u001b[0m\u001b[34m0\u001b[0m  \u001b[32m1\u001b[0m\u001b[34m0\u001b[0m.\u001b[31m1\u001b[0m\u001b[32m1\u001b[0m\u001b[34m0\u001b[0m.\u001b[31m1\u001b[0m\u001b[32m1\u001b[0m\u001b[34m0\u001b[0m.\u001b[31m1\u001b[0m\u001b[32m1\u001b[0m\u001b[34m0\u001b[0m.\u001b[31m1\u001b[0m\u001b[32m1\u001b[0m\u001b[34m0\u001b[0m.\u001b[31m1\u001b[0m\u001b[32m1\u001b[0m\u001b[34m0\u001b[0m.\u001b[31m1\u001b[0m\u001b[32m1\u001b[0m\u001b[34m0\u001b[0m.\u001b[31m1\u001b[0m\u001b[32m1\u001b[0m\u001b[34m0\u001b[0m.\u001b[31m1\u001b[0m\u001b[32m1\u001b[0m\u001b[34m0\u001b[0m  \u001b[32m0\u001b[0m\u001b[34m0\u001b[0m.\u001b[31m1\u001b[0m\u001b[32m0\u001b[0m\u001b[34m0\u001b[0m.\u001b[31m1\u001b[0m\u001b[32m0\u001b[0m\u001b[34m0\u001b[0m.\u001b[31m1\u001b[0m\u001b[32m0\u001b[0m\u001b[34m0\u001b[0m.\u001b[31m1\u001b[0m\u001b[32m0\u001b[0m\u001b[34m0\u001b[0m.\u001b[31m1\u001b[0m\u001b[32m0\u001b[0m\u001b[34m0\u001b[0m.\u001b[31m1\u001b[0m\u001b[32m0\u001b[0m\u001b[34m0\u001b[0m.\u001b[31m1\u001b[0m\u001b[32m0\u001b[0m\u001b[34m0\u001b[0m.\u001b[31m1\u001b[0m\u001b[32m0\u001b[0m\u001b[34m0\u001b[0m \n",
      " 1 \u001b[32m0\u001b[0m\u001b[34m0\u001b[0m.\u001b[31m0\u001b[0m\u001b[32m0\u001b[0m\u001b[34m0\u001b[0m.\u001b[31m0\u001b[0m\u001b[32m0\u001b[0m\u001b[34m0\u001b[0m.\u001b[31m0\u001b[0m\u001b[32m0\u001b[0m\u001b[34m0\u001b[0m.\u001b[31m0\u001b[0m\u001b[32m0\u001b[0m\u001b[34m0\u001b[0m.\u001b[31m0\u001b[0m\u001b[32m0\u001b[0m\u001b[34m0\u001b[0m.\u001b[31m0\u001b[0m\u001b[32m0\u001b[0m\u001b[34m0\u001b[0m.\u001b[31m0\u001b[0m\u001b[32m0\u001b[0m\u001b[34m0\u001b[0m.\u001b[31m0\u001b[0m\u001b[32m0\u001b[0m\u001b[34m0\u001b[0m  \u001b[32m1\u001b[0m\u001b[34m0\u001b[0m.\u001b[31m1\u001b[0m\u001b[32m1\u001b[0m\u001b[34m0\u001b[0m.\u001b[31m1\u001b[0m\u001b[32m1\u001b[0m\u001b[34m0\u001b[0m.\u001b[31m1\u001b[0m\u001b[32m1\u001b[0m\u001b[34m0\u001b[0m.\u001b[31m1\u001b[0m\u001b[32m1\u001b[0m\u001b[34m0\u001b[0m.\u001b[31m1\u001b[0m\u001b[32m1\u001b[0m\u001b[34m0\u001b[0m.\u001b[31m1\u001b[0m\u001b[32m1\u001b[0m\u001b[34m0\u001b[0m.\u001b[31m1\u001b[0m\u001b[32m1\u001b[0m\u001b[34m0\u001b[0m.\u001b[31m1\u001b[0m\u001b[32m1\u001b[0m\u001b[34m0\u001b[0m  \u001b[32m0\u001b[0m\u001b[34m0\u001b[0m.\u001b[31m1\u001b[0m\u001b[32m0\u001b[0m\u001b[34m0\u001b[0m.\u001b[31m1\u001b[0m\u001b[32m0\u001b[0m\u001b[34m0\u001b[0m.\u001b[31m1\u001b[0m\u001b[32m0\u001b[0m\u001b[34m0\u001b[0m.\u001b[31m1\u001b[0m\u001b[32m0\u001b[0m\u001b[34m0\u001b[0m.\u001b[31m1\u001b[0m\u001b[32m0\u001b[0m\u001b[34m0\u001b[0m.\u001b[31m1\u001b[0m\u001b[32m0\u001b[0m\u001b[34m0\u001b[0m.\u001b[31m1\u001b[0m\u001b[32m0\u001b[0m\u001b[34m0\u001b[0m.\u001b[31m1\u001b[0m\u001b[32m0\u001b[0m\u001b[34m0\u001b[0m \n",
      " 2 \u001b[32m0\u001b[0m\u001b[34m0\u001b[0m.\u001b[31m0\u001b[0m\u001b[32m0\u001b[0m\u001b[34m0\u001b[0m.\u001b[31m0\u001b[0m\u001b[32m0\u001b[0m\u001b[34m0\u001b[0m.\u001b[31m0\u001b[0m\u001b[32m0\u001b[0m\u001b[34m0\u001b[0m.\u001b[31m0\u001b[0m\u001b[32m0\u001b[0m\u001b[34m0\u001b[0m.\u001b[31m0\u001b[0m\u001b[32m0\u001b[0m\u001b[34m0\u001b[0m.\u001b[31m0\u001b[0m\u001b[32m0\u001b[0m\u001b[34m1\u001b[0m.\u001b[31m0\u001b[0m\u001b[32m0\u001b[0m\u001b[34m0\u001b[0m.\u001b[31m0\u001b[0m\u001b[32m0\u001b[0m\u001b[34m1\u001b[0m  \u001b[32m0\u001b[0m\u001b[34m1\u001b[0m.\u001b[31m1\u001b[0m\u001b[32m0\u001b[0m\u001b[34m1\u001b[0m.\u001b[31m1\u001b[0m\u001b[32m0\u001b[0m\u001b[34m1\u001b[0m.\u001b[31m1\u001b[0m\u001b[32m0\u001b[0m\u001b[34m1\u001b[0m.\u001b[31m1\u001b[0m\u001b[32m0\u001b[0m\u001b[34m1\u001b[0m.\u001b[31m1\u001b[0m\u001b[32m0\u001b[0m\u001b[34m1\u001b[0m.\u001b[31m1\u001b[0m\u001b[32m0\u001b[0m\u001b[34m1\u001b[0m.\u001b[31m1\u001b[0m\u001b[32m0\u001b[0m\u001b[34m1\u001b[0m.\u001b[31m1\u001b[0m\u001b[32m0\u001b[0m\u001b[34m1\u001b[0m  \u001b[32m0\u001b[0m\u001b[34m0\u001b[0m.\u001b[31m1\u001b[0m\u001b[32m0\u001b[0m\u001b[34m0\u001b[0m.\u001b[31m1\u001b[0m\u001b[32m0\u001b[0m\u001b[34m0\u001b[0m.\u001b[31m1\u001b[0m\u001b[32m0\u001b[0m\u001b[34m0\u001b[0m.\u001b[31m1\u001b[0m\u001b[32m0\u001b[0m\u001b[34m0\u001b[0m.\u001b[31m1\u001b[0m\u001b[32m0\u001b[0m\u001b[34m0\u001b[0m.\u001b[31m1\u001b[0m\u001b[32m0\u001b[0m\u001b[34m0\u001b[0m.\u001b[31m1\u001b[0m\u001b[32m0\u001b[0m\u001b[34m0\u001b[0m.\u001b[31m1\u001b[0m\u001b[32m0\u001b[0m\u001b[34m0\u001b[0m \n",
      " 3 \u001b[32m0\u001b[0m\u001b[34m0\u001b[0m.\u001b[31m0\u001b[0m\u001b[32m0\u001b[0m\u001b[34m0\u001b[0m.\u001b[31m0\u001b[0m\u001b[32m0\u001b[0m\u001b[34m0\u001b[0m.\u001b[31m0\u001b[0m\u001b[32m0\u001b[0m\u001b[34m0\u001b[0m.\u001b[31m0\u001b[0m\u001b[32m0\u001b[0m\u001b[34m0\u001b[0m.\u001b[31m0\u001b[0m\u001b[32m0\u001b[0m\u001b[34m0\u001b[0m.\u001b[31m0\u001b[0m\u001b[32m0\u001b[0m\u001b[34m1\u001b[0m.\u001b[31m0\u001b[0m\u001b[32m0\u001b[0m\u001b[34m0\u001b[0m.\u001b[31m0\u001b[0m\u001b[32m0\u001b[0m\u001b[34m1\u001b[0m  \u001b[32m0\u001b[0m\u001b[34m1\u001b[0m.\u001b[31m1\u001b[0m\u001b[32m0\u001b[0m\u001b[34m1\u001b[0m.\u001b[31m1\u001b[0m\u001b[32m0\u001b[0m\u001b[34m1\u001b[0m.\u001b[31m1\u001b[0m\u001b[32m0\u001b[0m\u001b[34m1\u001b[0m.\u001b[31m1\u001b[0m\u001b[32m0\u001b[0m\u001b[34m1\u001b[0m.\u001b[31m1\u001b[0m\u001b[32m0\u001b[0m\u001b[34m1\u001b[0m.\u001b[31m1\u001b[0m\u001b[32m0\u001b[0m\u001b[34m1\u001b[0m.\u001b[31m1\u001b[0m\u001b[32m0\u001b[0m\u001b[34m1\u001b[0m.\u001b[31m1\u001b[0m\u001b[32m0\u001b[0m\u001b[34m1\u001b[0m  \u001b[32m0\u001b[0m\u001b[34m0\u001b[0m.\u001b[31m1\u001b[0m\u001b[32m0\u001b[0m\u001b[34m0\u001b[0m.\u001b[31m1\u001b[0m\u001b[32m0\u001b[0m\u001b[34m0\u001b[0m.\u001b[31m1\u001b[0m\u001b[32m0\u001b[0m\u001b[34m0\u001b[0m.\u001b[31m1\u001b[0m\u001b[32m0\u001b[0m\u001b[34m0\u001b[0m.\u001b[31m1\u001b[0m\u001b[32m0\u001b[0m\u001b[34m0\u001b[0m.\u001b[31m1\u001b[0m\u001b[32m0\u001b[0m\u001b[34m0\u001b[0m.\u001b[31m1\u001b[0m\u001b[32m0\u001b[0m\u001b[34m0\u001b[0m.\u001b[31m1\u001b[0m\u001b[32m0\u001b[0m\u001b[34m0\u001b[0m \n",
      " 4 \u001b[32m0\u001b[0m\u001b[34m0\u001b[0m.\u001b[31m0\u001b[0m\u001b[32m0\u001b[0m\u001b[34m0\u001b[0m.\u001b[31m0\u001b[0m\u001b[32m0\u001b[0m\u001b[34m0\u001b[0m.\u001b[31m0\u001b[0m\u001b[32m0\u001b[0m\u001b[34m0\u001b[0m.\u001b[31m0\u001b[0m\u001b[32m0\u001b[0m\u001b[34m0\u001b[0m.\u001b[31m0\u001b[0m\u001b[32m0\u001b[0m\u001b[34m0\u001b[0m.\u001b[31m0\u001b[0m\u001b[32m0\u001b[0m\u001b[34m0\u001b[0m.\u001b[31m0\u001b[0m\u001b[32m1\u001b[0m\u001b[34m0\u001b[0m.\u001b[31m0\u001b[0m\u001b[32m1\u001b[0m\u001b[34m0\u001b[0m  \u001b[32m1\u001b[0m\u001b[34m0\u001b[0m.\u001b[31m1\u001b[0m\u001b[32m1\u001b[0m\u001b[34m0\u001b[0m.\u001b[31m1\u001b[0m\u001b[32m1\u001b[0m\u001b[34m0\u001b[0m.\u001b[31m1\u001b[0m\u001b[32m1\u001b[0m\u001b[34m0\u001b[0m.\u001b[31m1\u001b[0m\u001b[32m1\u001b[0m\u001b[34m0\u001b[0m.\u001b[31m1\u001b[0m\u001b[32m1\u001b[0m\u001b[34m0\u001b[0m.\u001b[31m1\u001b[0m\u001b[32m1\u001b[0m\u001b[34m0\u001b[0m.\u001b[31m1\u001b[0m\u001b[32m1\u001b[0m\u001b[34m0\u001b[0m.\u001b[31m1\u001b[0m\u001b[32m1\u001b[0m\u001b[34m0\u001b[0m  \u001b[32m0\u001b[0m\u001b[34m0\u001b[0m.\u001b[31m1\u001b[0m\u001b[32m0\u001b[0m\u001b[34m0\u001b[0m.\u001b[31m1\u001b[0m\u001b[32m0\u001b[0m\u001b[34m0\u001b[0m.\u001b[31m1\u001b[0m\u001b[32m0\u001b[0m\u001b[34m0\u001b[0m.\u001b[31m1\u001b[0m\u001b[32m0\u001b[0m\u001b[34m0\u001b[0m.\u001b[31m1\u001b[0m\u001b[32m0\u001b[0m\u001b[34m0\u001b[0m.\u001b[31m1\u001b[0m\u001b[32m0\u001b[0m\u001b[34m0\u001b[0m.\u001b[31m1\u001b[0m\u001b[32m0\u001b[0m\u001b[34m0\u001b[0m.\u001b[31m1\u001b[0m\u001b[32m0\u001b[0m\u001b[34m0\u001b[0m \n",
      " 5 \u001b[32m0\u001b[0m\u001b[34m0\u001b[0m.\u001b[31m0\u001b[0m\u001b[32m0\u001b[0m\u001b[34m0\u001b[0m.\u001b[31m0\u001b[0m\u001b[32m0\u001b[0m\u001b[34m0\u001b[0m.\u001b[31m0\u001b[0m\u001b[32m0\u001b[0m\u001b[34m0\u001b[0m.\u001b[31m0\u001b[0m\u001b[32m0\u001b[0m\u001b[34m0\u001b[0m.\u001b[31m0\u001b[0m\u001b[32m0\u001b[0m\u001b[34m0\u001b[0m.\u001b[31m0\u001b[0m\u001b[32m0\u001b[0m\u001b[34m0\u001b[0m.\u001b[31m0\u001b[0m\u001b[32m1\u001b[0m\u001b[34m0\u001b[0m.\u001b[31m0\u001b[0m\u001b[32m1\u001b[0m\u001b[34m0\u001b[0m  \u001b[32m1\u001b[0m\u001b[34m0\u001b[0m.\u001b[31m1\u001b[0m\u001b[32m1\u001b[0m\u001b[34m0\u001b[0m.\u001b[31m1\u001b[0m\u001b[32m1\u001b[0m\u001b[34m0\u001b[0m.\u001b[31m1\u001b[0m\u001b[32m1\u001b[0m\u001b[34m0\u001b[0m.\u001b[31m1\u001b[0m\u001b[32m1\u001b[0m\u001b[34m0\u001b[0m.\u001b[31m1\u001b[0m\u001b[32m1\u001b[0m\u001b[34m0\u001b[0m.\u001b[31m1\u001b[0m\u001b[32m1\u001b[0m\u001b[34m0\u001b[0m.\u001b[31m1\u001b[0m\u001b[32m1\u001b[0m\u001b[34m0\u001b[0m.\u001b[31m1\u001b[0m\u001b[32m1\u001b[0m\u001b[34m0\u001b[0m  \u001b[32m0\u001b[0m\u001b[34m0\u001b[0m.\u001b[31m1\u001b[0m\u001b[32m0\u001b[0m\u001b[34m0\u001b[0m.\u001b[31m1\u001b[0m\u001b[32m0\u001b[0m\u001b[34m0\u001b[0m.\u001b[31m1\u001b[0m\u001b[32m0\u001b[0m\u001b[34m0\u001b[0m.\u001b[31m1\u001b[0m\u001b[32m0\u001b[0m\u001b[34m0\u001b[0m.\u001b[31m1\u001b[0m\u001b[32m0\u001b[0m\u001b[34m0\u001b[0m.\u001b[31m1\u001b[0m\u001b[32m0\u001b[0m\u001b[34m0\u001b[0m.\u001b[31m1\u001b[0m\u001b[32m0\u001b[0m\u001b[34m0\u001b[0m.\u001b[31m1\u001b[0m\u001b[32m0\u001b[0m\u001b[34m0\u001b[0m \n",
      " 6 \u001b[32m0\u001b[0m\u001b[34m0\u001b[0m.\u001b[31m0\u001b[0m\u001b[32m0\u001b[0m\u001b[34m0\u001b[0m.\u001b[31m0\u001b[0m\u001b[32m0\u001b[0m\u001b[34m0\u001b[0m.\u001b[31m0\u001b[0m\u001b[32m0\u001b[0m\u001b[34m0\u001b[0m.\u001b[31m0\u001b[0m\u001b[32m0\u001b[0m\u001b[34m0\u001b[0m.\u001b[31m0\u001b[0m\u001b[32m0\u001b[0m\u001b[34m0\u001b[0m.\u001b[31m0\u001b[0m\u001b[32m0\u001b[0m\u001b[34m0\u001b[0m.\u001b[31m0\u001b[0m\u001b[32m0\u001b[0m\u001b[34m0\u001b[0m.\u001b[31m0\u001b[0m\u001b[32m0\u001b[0m\u001b[34m0\u001b[0m  \u001b[32m0\u001b[0m\u001b[34m1\u001b[0m.\u001b[31m1\u001b[0m\u001b[32m0\u001b[0m\u001b[34m1\u001b[0m.\u001b[31m1\u001b[0m\u001b[32m0\u001b[0m\u001b[34m1\u001b[0m.\u001b[31m1\u001b[0m\u001b[32m0\u001b[0m\u001b[34m1\u001b[0m.\u001b[31m1\u001b[0m\u001b[32m0\u001b[0m\u001b[34m1\u001b[0m.\u001b[31m1\u001b[0m\u001b[32m0\u001b[0m\u001b[34m1\u001b[0m.\u001b[31m1\u001b[0m\u001b[32m0\u001b[0m\u001b[34m1\u001b[0m.\u001b[31m1\u001b[0m\u001b[32m0\u001b[0m\u001b[34m1\u001b[0m.\u001b[31m1\u001b[0m\u001b[32m0\u001b[0m\u001b[34m1\u001b[0m  \u001b[32m0\u001b[0m\u001b[34m0\u001b[0m.\u001b[31m1\u001b[0m\u001b[32m0\u001b[0m\u001b[34m0\u001b[0m.\u001b[31m1\u001b[0m\u001b[32m0\u001b[0m\u001b[34m0\u001b[0m.\u001b[31m1\u001b[0m\u001b[32m0\u001b[0m\u001b[34m0\u001b[0m.\u001b[31m1\u001b[0m\u001b[32m0\u001b[0m\u001b[34m0\u001b[0m.\u001b[31m1\u001b[0m\u001b[32m0\u001b[0m\u001b[34m0\u001b[0m.\u001b[31m1\u001b[0m\u001b[32m0\u001b[0m\u001b[34m0\u001b[0m.\u001b[31m1\u001b[0m\u001b[32m0\u001b[0m\u001b[34m0\u001b[0m.\u001b[31m1\u001b[0m\u001b[32m0\u001b[0m\u001b[34m0\u001b[0m \n",
      " 7 \u001b[32m0\u001b[0m\u001b[34m0\u001b[0m.\u001b[31m0\u001b[0m\u001b[32m0\u001b[0m\u001b[34m0\u001b[0m.\u001b[31m0\u001b[0m\u001b[32m0\u001b[0m\u001b[34m0\u001b[0m.\u001b[31m0\u001b[0m\u001b[32m0\u001b[0m\u001b[34m0\u001b[0m.\u001b[31m0\u001b[0m\u001b[32m0\u001b[0m\u001b[34m0\u001b[0m.\u001b[31m0\u001b[0m\u001b[32m0\u001b[0m\u001b[34m0\u001b[0m.\u001b[31m0\u001b[0m\u001b[32m0\u001b[0m\u001b[34m0\u001b[0m.\u001b[31m0\u001b[0m\u001b[32m0\u001b[0m\u001b[34m0\u001b[0m.\u001b[31m0\u001b[0m\u001b[32m0\u001b[0m\u001b[34m0\u001b[0m  \u001b[32m0\u001b[0m\u001b[34m1\u001b[0m.\u001b[31m1\u001b[0m\u001b[32m0\u001b[0m\u001b[34m1\u001b[0m.\u001b[31m1\u001b[0m\u001b[32m0\u001b[0m\u001b[34m1\u001b[0m.\u001b[31m1\u001b[0m\u001b[32m0\u001b[0m\u001b[34m1\u001b[0m.\u001b[31m1\u001b[0m\u001b[32m0\u001b[0m\u001b[34m1\u001b[0m.\u001b[31m1\u001b[0m\u001b[32m0\u001b[0m\u001b[34m1\u001b[0m.\u001b[31m1\u001b[0m\u001b[32m0\u001b[0m\u001b[34m1\u001b[0m.\u001b[31m1\u001b[0m\u001b[32m0\u001b[0m\u001b[34m1\u001b[0m.\u001b[31m1\u001b[0m\u001b[32m0\u001b[0m\u001b[34m1\u001b[0m  \u001b[32m0\u001b[0m\u001b[34m0\u001b[0m.\u001b[31m1\u001b[0m\u001b[32m0\u001b[0m\u001b[34m0\u001b[0m.\u001b[31m1\u001b[0m\u001b[32m0\u001b[0m\u001b[34m0\u001b[0m.\u001b[31m1\u001b[0m\u001b[32m0\u001b[0m\u001b[34m0\u001b[0m.\u001b[31m1\u001b[0m\u001b[32m0\u001b[0m\u001b[34m0\u001b[0m.\u001b[31m1\u001b[0m\u001b[32m0\u001b[0m\u001b[34m0\u001b[0m.\u001b[31m1\u001b[0m\u001b[32m0\u001b[0m\u001b[34m0\u001b[0m.\u001b[31m1\u001b[0m\u001b[32m0\u001b[0m\u001b[34m0\u001b[0m.\u001b[31m1\u001b[0m\u001b[32m0\u001b[0m\u001b[34m0\u001b[0m \n",
      "--------------------------------------------------------------------------------------------------------------\n",
      " 8 \u001b[32m0\u001b[0m\u001b[34m0\u001b[0m.\u001b[31m0\u001b[0m\u001b[32m0\u001b[0m\u001b[34m0\u001b[0m.\u001b[31m0\u001b[0m\u001b[32m0\u001b[0m\u001b[34m0\u001b[0m.\u001b[31m0\u001b[0m\u001b[32m0\u001b[0m\u001b[34m0\u001b[0m.\u001b[31m0\u001b[0m\u001b[32m0\u001b[0m\u001b[34m0\u001b[0m.\u001b[31m0\u001b[0m\u001b[32m0\u001b[0m\u001b[34m0\u001b[0m.\u001b[31m0\u001b[0m\u001b[32m0\u001b[0m\u001b[34m0\u001b[0m.\u001b[31m1\u001b[0m\u001b[32m0\u001b[0m\u001b[34m0\u001b[0m.\u001b[31m0\u001b[0m\u001b[32m0\u001b[0m\u001b[34m0\u001b[0m  \u001b[32m1\u001b[0m\u001b[34m0\u001b[0m.\u001b[31m1\u001b[0m\u001b[32m1\u001b[0m\u001b[34m0\u001b[0m.\u001b[31m1\u001b[0m\u001b[32m1\u001b[0m\u001b[34m0\u001b[0m.\u001b[31m1\u001b[0m\u001b[32m1\u001b[0m\u001b[34m0\u001b[0m.\u001b[31m1\u001b[0m\u001b[32m1\u001b[0m\u001b[34m0\u001b[0m.\u001b[31m1\u001b[0m\u001b[32m1\u001b[0m\u001b[34m0\u001b[0m.\u001b[31m1\u001b[0m\u001b[32m1\u001b[0m\u001b[34m0\u001b[0m.\u001b[31m1\u001b[0m\u001b[32m1\u001b[0m\u001b[34m0\u001b[0m.\u001b[31m1\u001b[0m\u001b[32m1\u001b[0m\u001b[34m0\u001b[0m  \u001b[32m0\u001b[0m\u001b[34m0\u001b[0m.\u001b[31m1\u001b[0m\u001b[32m0\u001b[0m\u001b[34m0\u001b[0m.\u001b[31m1\u001b[0m\u001b[32m0\u001b[0m\u001b[34m0\u001b[0m.\u001b[31m1\u001b[0m\u001b[32m0\u001b[0m\u001b[34m0\u001b[0m.\u001b[31m1\u001b[0m\u001b[32m0\u001b[0m\u001b[34m0\u001b[0m.\u001b[31m1\u001b[0m\u001b[32m0\u001b[0m\u001b[34m0\u001b[0m.\u001b[31m1\u001b[0m\u001b[32m0\u001b[0m\u001b[34m0\u001b[0m.\u001b[31m1\u001b[0m\u001b[32m0\u001b[0m\u001b[34m0\u001b[0m.\u001b[31m1\u001b[0m\u001b[32m0\u001b[0m\u001b[34m0\u001b[0m \n",
      " 9 \u001b[32m0\u001b[0m\u001b[34m0\u001b[0m.\u001b[31m0\u001b[0m\u001b[32m0\u001b[0m\u001b[34m0\u001b[0m.\u001b[31m0\u001b[0m\u001b[32m0\u001b[0m\u001b[34m0\u001b[0m.\u001b[31m0\u001b[0m\u001b[32m0\u001b[0m\u001b[34m0\u001b[0m.\u001b[31m0\u001b[0m\u001b[32m0\u001b[0m\u001b[34m0\u001b[0m.\u001b[31m0\u001b[0m\u001b[32m0\u001b[0m\u001b[34m0\u001b[0m.\u001b[31m0\u001b[0m\u001b[32m0\u001b[0m\u001b[34m0\u001b[0m.\u001b[31m1\u001b[0m\u001b[32m0\u001b[0m\u001b[34m0\u001b[0m.\u001b[31m0\u001b[0m\u001b[32m0\u001b[0m\u001b[34m0\u001b[0m  \u001b[32m1\u001b[0m\u001b[34m0\u001b[0m.\u001b[31m1\u001b[0m\u001b[32m1\u001b[0m\u001b[34m0\u001b[0m.\u001b[31m1\u001b[0m\u001b[32m1\u001b[0m\u001b[34m0\u001b[0m.\u001b[31m1\u001b[0m\u001b[32m1\u001b[0m\u001b[34m0\u001b[0m.\u001b[31m1\u001b[0m\u001b[32m1\u001b[0m\u001b[34m0\u001b[0m.\u001b[31m1\u001b[0m\u001b[32m1\u001b[0m\u001b[34m0\u001b[0m.\u001b[31m1\u001b[0m\u001b[32m1\u001b[0m\u001b[34m0\u001b[0m.\u001b[31m1\u001b[0m\u001b[32m1\u001b[0m\u001b[34m0\u001b[0m.\u001b[31m1\u001b[0m\u001b[32m1\u001b[0m\u001b[34m0\u001b[0m  \u001b[32m0\u001b[0m\u001b[34m0\u001b[0m.\u001b[31m1\u001b[0m\u001b[32m0\u001b[0m\u001b[34m0\u001b[0m.\u001b[31m1\u001b[0m\u001b[32m0\u001b[0m\u001b[34m0\u001b[0m.\u001b[31m1\u001b[0m\u001b[32m0\u001b[0m\u001b[34m0\u001b[0m.\u001b[31m1\u001b[0m\u001b[32m0\u001b[0m\u001b[34m0\u001b[0m.\u001b[31m1\u001b[0m\u001b[32m0\u001b[0m\u001b[34m0\u001b[0m.\u001b[31m1\u001b[0m\u001b[32m0\u001b[0m\u001b[34m0\u001b[0m.\u001b[31m1\u001b[0m\u001b[32m0\u001b[0m\u001b[34m0\u001b[0m.\u001b[31m1\u001b[0m\u001b[32m0\u001b[0m\u001b[34m0\u001b[0m \n",
      "10 \u001b[32m0\u001b[0m\u001b[34m0\u001b[0m.\u001b[31m0\u001b[0m\u001b[32m0\u001b[0m\u001b[34m0\u001b[0m.\u001b[31m0\u001b[0m\u001b[32m0\u001b[0m\u001b[34m0\u001b[0m.\u001b[31m0\u001b[0m\u001b[32m0\u001b[0m\u001b[34m0\u001b[0m.\u001b[31m0\u001b[0m\u001b[32m0\u001b[0m\u001b[34m0\u001b[0m.\u001b[31m0\u001b[0m\u001b[32m0\u001b[0m\u001b[34m0\u001b[0m.\u001b[31m0\u001b[0m\u001b[32m0\u001b[0m\u001b[34m1\u001b[0m.\u001b[31m1\u001b[0m\u001b[32m0\u001b[0m\u001b[34m0\u001b[0m.\u001b[31m0\u001b[0m\u001b[32m0\u001b[0m\u001b[34m1\u001b[0m  \u001b[32m0\u001b[0m\u001b[34m1\u001b[0m.\u001b[31m1\u001b[0m\u001b[32m0\u001b[0m\u001b[34m1\u001b[0m.\u001b[31m1\u001b[0m\u001b[32m0\u001b[0m\u001b[34m1\u001b[0m.\u001b[31m1\u001b[0m\u001b[32m0\u001b[0m\u001b[34m1\u001b[0m.\u001b[31m1\u001b[0m\u001b[32m0\u001b[0m\u001b[34m1\u001b[0m.\u001b[31m1\u001b[0m\u001b[32m0\u001b[0m\u001b[34m1\u001b[0m.\u001b[31m1\u001b[0m\u001b[32m0\u001b[0m\u001b[34m1\u001b[0m.\u001b[31m1\u001b[0m\u001b[32m0\u001b[0m\u001b[34m1\u001b[0m.\u001b[31m1\u001b[0m\u001b[32m0\u001b[0m\u001b[34m1\u001b[0m  \u001b[32m0\u001b[0m\u001b[34m0\u001b[0m.\u001b[31m1\u001b[0m\u001b[32m0\u001b[0m\u001b[34m0\u001b[0m.\u001b[31m1\u001b[0m\u001b[32m0\u001b[0m\u001b[34m0\u001b[0m.\u001b[31m1\u001b[0m\u001b[32m0\u001b[0m\u001b[34m0\u001b[0m.\u001b[31m1\u001b[0m\u001b[32m0\u001b[0m\u001b[34m0\u001b[0m.\u001b[31m1\u001b[0m\u001b[32m0\u001b[0m\u001b[34m0\u001b[0m.\u001b[31m1\u001b[0m\u001b[32m0\u001b[0m\u001b[34m0\u001b[0m.\u001b[31m1\u001b[0m\u001b[32m0\u001b[0m\u001b[34m0\u001b[0m.\u001b[31m1\u001b[0m\u001b[32m0\u001b[0m\u001b[34m0\u001b[0m \n",
      "11 \u001b[32m0\u001b[0m\u001b[34m0\u001b[0m.\u001b[31m0\u001b[0m\u001b[32m0\u001b[0m\u001b[34m0\u001b[0m.\u001b[31m0\u001b[0m\u001b[32m0\u001b[0m\u001b[34m0\u001b[0m.\u001b[31m0\u001b[0m\u001b[32m0\u001b[0m\u001b[34m0\u001b[0m.\u001b[31m0\u001b[0m\u001b[32m0\u001b[0m\u001b[34m0\u001b[0m.\u001b[31m0\u001b[0m\u001b[32m0\u001b[0m\u001b[34m0\u001b[0m.\u001b[31m0\u001b[0m\u001b[32m0\u001b[0m\u001b[34m1\u001b[0m.\u001b[31m1\u001b[0m\u001b[32m0\u001b[0m\u001b[34m0\u001b[0m.\u001b[31m0\u001b[0m\u001b[32m0\u001b[0m\u001b[34m1\u001b[0m  \u001b[32m0\u001b[0m\u001b[34m1\u001b[0m.\u001b[31m1\u001b[0m\u001b[32m0\u001b[0m\u001b[34m1\u001b[0m.\u001b[31m1\u001b[0m\u001b[32m0\u001b[0m\u001b[34m1\u001b[0m.\u001b[31m1\u001b[0m\u001b[32m0\u001b[0m\u001b[34m1\u001b[0m.\u001b[31m1\u001b[0m\u001b[32m0\u001b[0m\u001b[34m1\u001b[0m.\u001b[31m1\u001b[0m\u001b[32m0\u001b[0m\u001b[34m1\u001b[0m.\u001b[31m1\u001b[0m\u001b[32m0\u001b[0m\u001b[34m1\u001b[0m.\u001b[31m1\u001b[0m\u001b[32m0\u001b[0m\u001b[34m1\u001b[0m.\u001b[31m1\u001b[0m\u001b[32m0\u001b[0m\u001b[34m1\u001b[0m  \u001b[32m0\u001b[0m\u001b[34m0\u001b[0m.\u001b[31m1\u001b[0m\u001b[32m0\u001b[0m\u001b[34m0\u001b[0m.\u001b[31m1\u001b[0m\u001b[32m0\u001b[0m\u001b[34m0\u001b[0m.\u001b[31m1\u001b[0m\u001b[32m0\u001b[0m\u001b[34m0\u001b[0m.\u001b[31m1\u001b[0m\u001b[32m0\u001b[0m\u001b[34m0\u001b[0m.\u001b[31m1\u001b[0m\u001b[32m0\u001b[0m\u001b[34m0\u001b[0m.\u001b[31m1\u001b[0m\u001b[32m0\u001b[0m\u001b[34m0\u001b[0m.\u001b[31m1\u001b[0m\u001b[32m0\u001b[0m\u001b[34m0\u001b[0m.\u001b[31m1\u001b[0m\u001b[32m0\u001b[0m\u001b[34m0\u001b[0m \n",
      "12 \u001b[32m0\u001b[0m\u001b[34m0\u001b[0m.\u001b[31m0\u001b[0m\u001b[32m0\u001b[0m\u001b[34m0\u001b[0m.\u001b[31m0\u001b[0m\u001b[32m0\u001b[0m\u001b[34m0\u001b[0m.\u001b[31m0\u001b[0m\u001b[32m0\u001b[0m\u001b[34m0\u001b[0m.\u001b[31m0\u001b[0m\u001b[32m0\u001b[0m\u001b[34m0\u001b[0m.\u001b[31m0\u001b[0m\u001b[32m0\u001b[0m\u001b[34m0\u001b[0m.\u001b[31m0\u001b[0m\u001b[32m0\u001b[0m\u001b[34m0\u001b[0m.\u001b[31m1\u001b[0m\u001b[32m1\u001b[0m\u001b[34m0\u001b[0m.\u001b[31m0\u001b[0m\u001b[32m1\u001b[0m\u001b[34m0\u001b[0m  \u001b[32m1\u001b[0m\u001b[34m0\u001b[0m.\u001b[31m1\u001b[0m\u001b[32m1\u001b[0m\u001b[34m0\u001b[0m.\u001b[31m1\u001b[0m\u001b[32m1\u001b[0m\u001b[34m0\u001b[0m.\u001b[31m1\u001b[0m\u001b[32m1\u001b[0m\u001b[34m0\u001b[0m.\u001b[31m1\u001b[0m\u001b[32m1\u001b[0m\u001b[34m0\u001b[0m.\u001b[31m1\u001b[0m\u001b[32m1\u001b[0m\u001b[34m0\u001b[0m.\u001b[31m1\u001b[0m\u001b[32m1\u001b[0m\u001b[34m0\u001b[0m.\u001b[31m1\u001b[0m\u001b[32m1\u001b[0m\u001b[34m0\u001b[0m.\u001b[31m1\u001b[0m\u001b[32m1\u001b[0m\u001b[34m0\u001b[0m  \u001b[32m0\u001b[0m\u001b[34m0\u001b[0m.\u001b[31m1\u001b[0m\u001b[32m0\u001b[0m\u001b[34m0\u001b[0m.\u001b[31m1\u001b[0m\u001b[32m0\u001b[0m\u001b[34m0\u001b[0m.\u001b[31m1\u001b[0m\u001b[32m0\u001b[0m\u001b[34m0\u001b[0m.\u001b[31m1\u001b[0m\u001b[32m0\u001b[0m\u001b[34m0\u001b[0m.\u001b[31m1\u001b[0m\u001b[32m0\u001b[0m\u001b[34m0\u001b[0m.\u001b[31m1\u001b[0m\u001b[32m0\u001b[0m\u001b[34m0\u001b[0m.\u001b[31m1\u001b[0m\u001b[32m0\u001b[0m\u001b[34m0\u001b[0m.\u001b[31m1\u001b[0m\u001b[32m0\u001b[0m\u001b[34m0\u001b[0m \n",
      "13 \u001b[32m0\u001b[0m\u001b[34m0\u001b[0m.\u001b[31m0\u001b[0m\u001b[32m0\u001b[0m\u001b[34m0\u001b[0m.\u001b[31m0\u001b[0m\u001b[32m0\u001b[0m\u001b[34m0\u001b[0m.\u001b[31m0\u001b[0m\u001b[32m0\u001b[0m\u001b[34m0\u001b[0m.\u001b[31m0\u001b[0m\u001b[32m0\u001b[0m\u001b[34m0\u001b[0m.\u001b[31m0\u001b[0m\u001b[32m0\u001b[0m\u001b[34m0\u001b[0m.\u001b[31m0\u001b[0m\u001b[32m0\u001b[0m\u001b[34m0\u001b[0m.\u001b[31m1\u001b[0m\u001b[32m1\u001b[0m\u001b[34m0\u001b[0m.\u001b[31m0\u001b[0m\u001b[32m1\u001b[0m\u001b[34m0\u001b[0m  \u001b[32m1\u001b[0m\u001b[34m0\u001b[0m.\u001b[31m1\u001b[0m\u001b[32m1\u001b[0m\u001b[34m0\u001b[0m.\u001b[31m1\u001b[0m\u001b[32m1\u001b[0m\u001b[34m0\u001b[0m.\u001b[31m1\u001b[0m\u001b[32m1\u001b[0m\u001b[34m0\u001b[0m.\u001b[31m1\u001b[0m\u001b[32m1\u001b[0m\u001b[34m0\u001b[0m.\u001b[31m1\u001b[0m\u001b[32m1\u001b[0m\u001b[34m0\u001b[0m.\u001b[31m1\u001b[0m\u001b[32m1\u001b[0m\u001b[34m0\u001b[0m.\u001b[31m1\u001b[0m\u001b[32m1\u001b[0m\u001b[34m0\u001b[0m.\u001b[31m1\u001b[0m\u001b[32m1\u001b[0m\u001b[34m0\u001b[0m  \u001b[32m0\u001b[0m\u001b[34m0\u001b[0m.\u001b[31m1\u001b[0m\u001b[32m0\u001b[0m\u001b[34m0\u001b[0m.\u001b[31m1\u001b[0m\u001b[32m0\u001b[0m\u001b[34m0\u001b[0m.\u001b[31m1\u001b[0m\u001b[32m0\u001b[0m\u001b[34m0\u001b[0m.\u001b[31m1\u001b[0m\u001b[32m0\u001b[0m\u001b[34m0\u001b[0m.\u001b[31m1\u001b[0m\u001b[32m0\u001b[0m\u001b[34m0\u001b[0m.\u001b[31m1\u001b[0m\u001b[32m0\u001b[0m\u001b[34m0\u001b[0m.\u001b[31m1\u001b[0m\u001b[32m0\u001b[0m\u001b[34m0\u001b[0m.\u001b[31m1\u001b[0m\u001b[32m0\u001b[0m\u001b[34m0\u001b[0m \n",
      "14 \u001b[32m0\u001b[0m\u001b[34m0\u001b[0m.\u001b[31m0\u001b[0m\u001b[32m0\u001b[0m\u001b[34m0\u001b[0m.\u001b[31m0\u001b[0m\u001b[32m0\u001b[0m\u001b[34m0\u001b[0m.\u001b[31m0\u001b[0m\u001b[32m0\u001b[0m\u001b[34m0\u001b[0m.\u001b[31m0\u001b[0m\u001b[32m0\u001b[0m\u001b[34m0\u001b[0m.\u001b[31m0\u001b[0m\u001b[32m0\u001b[0m\u001b[34m0\u001b[0m.\u001b[31m0\u001b[0m\u001b[32m0\u001b[0m\u001b[34m0\u001b[0m.\u001b[31m1\u001b[0m\u001b[32m0\u001b[0m\u001b[34m0\u001b[0m.\u001b[31m0\u001b[0m\u001b[32m0\u001b[0m\u001b[34m0\u001b[0m  \u001b[32m0\u001b[0m\u001b[34m1\u001b[0m.\u001b[31m1\u001b[0m\u001b[32m0\u001b[0m\u001b[34m1\u001b[0m.\u001b[31m1\u001b[0m\u001b[32m0\u001b[0m\u001b[34m1\u001b[0m.\u001b[31m1\u001b[0m\u001b[32m0\u001b[0m\u001b[34m1\u001b[0m.\u001b[31m1\u001b[0m\u001b[32m0\u001b[0m\u001b[34m1\u001b[0m.\u001b[31m1\u001b[0m\u001b[32m0\u001b[0m\u001b[34m1\u001b[0m.\u001b[31m1\u001b[0m\u001b[32m0\u001b[0m\u001b[34m1\u001b[0m.\u001b[31m1\u001b[0m\u001b[32m0\u001b[0m\u001b[34m1\u001b[0m.\u001b[31m1\u001b[0m\u001b[32m0\u001b[0m\u001b[34m1\u001b[0m  \u001b[32m0\u001b[0m\u001b[34m0\u001b[0m.\u001b[31m1\u001b[0m\u001b[32m0\u001b[0m\u001b[34m0\u001b[0m.\u001b[31m1\u001b[0m\u001b[32m0\u001b[0m\u001b[34m0\u001b[0m.\u001b[31m1\u001b[0m\u001b[32m0\u001b[0m\u001b[34m0\u001b[0m.\u001b[31m1\u001b[0m\u001b[32m0\u001b[0m\u001b[34m0\u001b[0m.\u001b[31m1\u001b[0m\u001b[32m0\u001b[0m\u001b[34m0\u001b[0m.\u001b[31m1\u001b[0m\u001b[32m0\u001b[0m\u001b[34m0\u001b[0m.\u001b[31m1\u001b[0m\u001b[32m0\u001b[0m\u001b[34m0\u001b[0m.\u001b[31m1\u001b[0m\u001b[32m0\u001b[0m\u001b[34m0\u001b[0m \n",
      "15 \u001b[32m0\u001b[0m\u001b[34m0\u001b[0m.\u001b[31m0\u001b[0m\u001b[32m0\u001b[0m\u001b[34m0\u001b[0m.\u001b[31m0\u001b[0m\u001b[32m0\u001b[0m\u001b[34m0\u001b[0m.\u001b[31m0\u001b[0m\u001b[32m0\u001b[0m\u001b[34m0\u001b[0m.\u001b[31m0\u001b[0m\u001b[32m0\u001b[0m\u001b[34m0\u001b[0m.\u001b[31m0\u001b[0m\u001b[32m0\u001b[0m\u001b[34m0\u001b[0m.\u001b[31m0\u001b[0m\u001b[32m0\u001b[0m\u001b[34m0\u001b[0m.\u001b[31m1\u001b[0m\u001b[32m0\u001b[0m\u001b[34m0\u001b[0m.\u001b[31m0\u001b[0m\u001b[32m0\u001b[0m\u001b[34m0\u001b[0m  \u001b[32m0\u001b[0m\u001b[34m1\u001b[0m.\u001b[31m1\u001b[0m\u001b[32m0\u001b[0m\u001b[34m1\u001b[0m.\u001b[31m1\u001b[0m\u001b[32m0\u001b[0m\u001b[34m1\u001b[0m.\u001b[31m1\u001b[0m\u001b[32m0\u001b[0m\u001b[34m1\u001b[0m.\u001b[31m1\u001b[0m\u001b[32m0\u001b[0m\u001b[34m1\u001b[0m.\u001b[31m1\u001b[0m\u001b[32m0\u001b[0m\u001b[34m1\u001b[0m.\u001b[31m1\u001b[0m\u001b[32m0\u001b[0m\u001b[34m1\u001b[0m.\u001b[31m1\u001b[0m\u001b[32m0\u001b[0m\u001b[34m1\u001b[0m.\u001b[31m1\u001b[0m\u001b[32m0\u001b[0m\u001b[34m1\u001b[0m  \u001b[32m0\u001b[0m\u001b[34m0\u001b[0m.\u001b[31m1\u001b[0m\u001b[32m0\u001b[0m\u001b[34m0\u001b[0m.\u001b[31m1\u001b[0m\u001b[32m0\u001b[0m\u001b[34m0\u001b[0m.\u001b[31m1\u001b[0m\u001b[32m0\u001b[0m\u001b[34m0\u001b[0m.\u001b[31m1\u001b[0m\u001b[32m0\u001b[0m\u001b[34m0\u001b[0m.\u001b[31m1\u001b[0m\u001b[32m0\u001b[0m\u001b[34m0\u001b[0m.\u001b[31m1\u001b[0m\u001b[32m0\u001b[0m\u001b[34m0\u001b[0m.\u001b[31m1\u001b[0m\u001b[32m0\u001b[0m\u001b[34m0\u001b[0m.\u001b[31m1\u001b[0m\u001b[32m0\u001b[0m\u001b[34m0\u001b[0m \n",
      "--------------------------------------------------------------------------------------------------------------\n",
      "16 \u001b[32m0\u001b[0m\u001b[34m0\u001b[0m.\u001b[31m0\u001b[0m\u001b[32m0\u001b[0m\u001b[34m0\u001b[0m.\u001b[31m0\u001b[0m\u001b[32m0\u001b[0m\u001b[34m0\u001b[0m.\u001b[31m0\u001b[0m\u001b[32m0\u001b[0m\u001b[34m0\u001b[0m.\u001b[31m0\u001b[0m\u001b[32m0\u001b[0m\u001b[34m0\u001b[0m.\u001b[31m0\u001b[0m\u001b[32m0\u001b[0m\u001b[34m0\u001b[0m.\u001b[31m0\u001b[0m\u001b[32m0\u001b[0m\u001b[34m0\u001b[0m.\u001b[31m0\u001b[0m\u001b[32m0\u001b[0m\u001b[34m0\u001b[0m.\u001b[31m0\u001b[0m\u001b[32m0\u001b[0m\u001b[34m0\u001b[0m  \u001b[32m1\u001b[0m\u001b[34m1\u001b[0m.\u001b[31m0\u001b[0m\u001b[32m1\u001b[0m\u001b[34m1\u001b[0m.\u001b[31m0\u001b[0m\u001b[32m1\u001b[0m\u001b[34m1\u001b[0m.\u001b[31m0\u001b[0m\u001b[32m1\u001b[0m\u001b[34m1\u001b[0m.\u001b[31m0\u001b[0m\u001b[32m1\u001b[0m\u001b[34m1\u001b[0m.\u001b[31m0\u001b[0m\u001b[32m1\u001b[0m\u001b[34m1\u001b[0m.\u001b[31m0\u001b[0m\u001b[32m1\u001b[0m\u001b[34m1\u001b[0m.\u001b[31m0\u001b[0m\u001b[32m1\u001b[0m\u001b[34m1\u001b[0m.\u001b[31m0\u001b[0m\u001b[32m1\u001b[0m\u001b[34m1\u001b[0m  \u001b[32m1\u001b[0m\u001b[34m0\u001b[0m.\u001b[31m0\u001b[0m\u001b[32m1\u001b[0m\u001b[34m0\u001b[0m.\u001b[31m0\u001b[0m\u001b[32m1\u001b[0m\u001b[34m0\u001b[0m.\u001b[31m0\u001b[0m\u001b[32m1\u001b[0m\u001b[34m0\u001b[0m.\u001b[31m0\u001b[0m\u001b[32m1\u001b[0m\u001b[34m0\u001b[0m.\u001b[31m0\u001b[0m\u001b[32m1\u001b[0m\u001b[34m0\u001b[0m.\u001b[31m0\u001b[0m\u001b[32m1\u001b[0m\u001b[34m0\u001b[0m.\u001b[31m0\u001b[0m\u001b[32m1\u001b[0m\u001b[34m0\u001b[0m.\u001b[31m0\u001b[0m\u001b[32m1\u001b[0m\u001b[34m0\u001b[0m \n",
      "17 \u001b[32m0\u001b[0m\u001b[34m0\u001b[0m.\u001b[31m0\u001b[0m\u001b[32m0\u001b[0m\u001b[34m0\u001b[0m.\u001b[31m0\u001b[0m\u001b[32m0\u001b[0m\u001b[34m0\u001b[0m.\u001b[31m0\u001b[0m\u001b[32m0\u001b[0m\u001b[34m0\u001b[0m.\u001b[31m0\u001b[0m\u001b[32m0\u001b[0m\u001b[34m0\u001b[0m.\u001b[31m0\u001b[0m\u001b[32m0\u001b[0m\u001b[34m0\u001b[0m.\u001b[31m0\u001b[0m\u001b[32m0\u001b[0m\u001b[34m0\u001b[0m.\u001b[31m0\u001b[0m\u001b[32m0\u001b[0m\u001b[34m0\u001b[0m.\u001b[31m0\u001b[0m\u001b[32m0\u001b[0m\u001b[34m0\u001b[0m  \u001b[32m1\u001b[0m\u001b[34m1\u001b[0m.\u001b[31m0\u001b[0m\u001b[32m1\u001b[0m\u001b[34m1\u001b[0m.\u001b[31m0\u001b[0m\u001b[32m1\u001b[0m\u001b[34m1\u001b[0m.\u001b[31m0\u001b[0m\u001b[32m1\u001b[0m\u001b[34m1\u001b[0m.\u001b[31m0\u001b[0m\u001b[32m1\u001b[0m\u001b[34m1\u001b[0m.\u001b[31m0\u001b[0m\u001b[32m1\u001b[0m\u001b[34m1\u001b[0m.\u001b[31m0\u001b[0m\u001b[32m1\u001b[0m\u001b[34m1\u001b[0m.\u001b[31m0\u001b[0m\u001b[32m1\u001b[0m\u001b[34m1\u001b[0m.\u001b[31m0\u001b[0m\u001b[32m1\u001b[0m\u001b[34m1\u001b[0m  \u001b[32m1\u001b[0m\u001b[34m0\u001b[0m.\u001b[31m0\u001b[0m\u001b[32m1\u001b[0m\u001b[34m0\u001b[0m.\u001b[31m0\u001b[0m\u001b[32m1\u001b[0m\u001b[34m0\u001b[0m.\u001b[31m0\u001b[0m\u001b[32m1\u001b[0m\u001b[34m0\u001b[0m.\u001b[31m0\u001b[0m\u001b[32m1\u001b[0m\u001b[34m0\u001b[0m.\u001b[31m0\u001b[0m\u001b[32m1\u001b[0m\u001b[34m0\u001b[0m.\u001b[31m0\u001b[0m\u001b[32m1\u001b[0m\u001b[34m0\u001b[0m.\u001b[31m0\u001b[0m\u001b[32m1\u001b[0m\u001b[34m0\u001b[0m.\u001b[31m0\u001b[0m\u001b[32m1\u001b[0m\u001b[34m0\u001b[0m \n",
      "18 \u001b[32m0\u001b[0m\u001b[34m0\u001b[0m.\u001b[31m0\u001b[0m\u001b[32m0\u001b[0m\u001b[34m0\u001b[0m.\u001b[31m0\u001b[0m\u001b[32m0\u001b[0m\u001b[34m0\u001b[0m.\u001b[31m0\u001b[0m\u001b[32m0\u001b[0m\u001b[34m0\u001b[0m.\u001b[31m0\u001b[0m\u001b[32m0\u001b[0m\u001b[34m0\u001b[0m.\u001b[31m0\u001b[0m\u001b[32m0\u001b[0m\u001b[34m0\u001b[0m.\u001b[31m0\u001b[0m\u001b[32m0\u001b[0m\u001b[34m0\u001b[0m.\u001b[31m0\u001b[0m\u001b[32m0\u001b[0m\u001b[34m0\u001b[0m.\u001b[31m1\u001b[0m\u001b[32m0\u001b[0m\u001b[34m0\u001b[0m  \u001b[32m1\u001b[0m\u001b[34m0\u001b[0m.\u001b[31m1\u001b[0m\u001b[32m1\u001b[0m\u001b[34m0\u001b[0m.\u001b[31m1\u001b[0m\u001b[32m1\u001b[0m\u001b[34m0\u001b[0m.\u001b[31m1\u001b[0m\u001b[32m1\u001b[0m\u001b[34m0\u001b[0m.\u001b[31m1\u001b[0m\u001b[32m1\u001b[0m\u001b[34m0\u001b[0m.\u001b[31m1\u001b[0m\u001b[32m1\u001b[0m\u001b[34m0\u001b[0m.\u001b[31m1\u001b[0m\u001b[32m1\u001b[0m\u001b[34m0\u001b[0m.\u001b[31m1\u001b[0m\u001b[32m1\u001b[0m\u001b[34m0\u001b[0m.\u001b[31m1\u001b[0m\u001b[32m1\u001b[0m\u001b[34m0\u001b[0m  \u001b[32m1\u001b[0m\u001b[34m0\u001b[0m.\u001b[31m0\u001b[0m\u001b[32m1\u001b[0m\u001b[34m0\u001b[0m.\u001b[31m0\u001b[0m\u001b[32m1\u001b[0m\u001b[34m0\u001b[0m.\u001b[31m0\u001b[0m\u001b[32m1\u001b[0m\u001b[34m0\u001b[0m.\u001b[31m0\u001b[0m\u001b[32m1\u001b[0m\u001b[34m0\u001b[0m.\u001b[31m0\u001b[0m\u001b[32m1\u001b[0m\u001b[34m0\u001b[0m.\u001b[31m0\u001b[0m\u001b[32m1\u001b[0m\u001b[34m0\u001b[0m.\u001b[31m0\u001b[0m\u001b[32m1\u001b[0m\u001b[34m0\u001b[0m.\u001b[31m0\u001b[0m\u001b[32m1\u001b[0m\u001b[34m0\u001b[0m \n",
      "19 \u001b[32m0\u001b[0m\u001b[34m0\u001b[0m.\u001b[31m0\u001b[0m\u001b[32m0\u001b[0m\u001b[34m0\u001b[0m.\u001b[31m0\u001b[0m\u001b[32m0\u001b[0m\u001b[34m0\u001b[0m.\u001b[31m0\u001b[0m\u001b[32m0\u001b[0m\u001b[34m0\u001b[0m.\u001b[31m0\u001b[0m\u001b[32m0\u001b[0m\u001b[34m0\u001b[0m.\u001b[31m0\u001b[0m\u001b[32m0\u001b[0m\u001b[34m0\u001b[0m.\u001b[31m0\u001b[0m\u001b[32m0\u001b[0m\u001b[34m0\u001b[0m.\u001b[31m0\u001b[0m\u001b[32m0\u001b[0m\u001b[34m0\u001b[0m.\u001b[31m1\u001b[0m\u001b[32m0\u001b[0m\u001b[34m0\u001b[0m  \u001b[32m1\u001b[0m\u001b[34m0\u001b[0m.\u001b[31m1\u001b[0m\u001b[32m1\u001b[0m\u001b[34m0\u001b[0m.\u001b[31m1\u001b[0m\u001b[32m1\u001b[0m\u001b[34m0\u001b[0m.\u001b[31m1\u001b[0m\u001b[32m1\u001b[0m\u001b[34m0\u001b[0m.\u001b[31m1\u001b[0m\u001b[32m1\u001b[0m\u001b[34m0\u001b[0m.\u001b[31m1\u001b[0m\u001b[32m1\u001b[0m\u001b[34m0\u001b[0m.\u001b[31m1\u001b[0m\u001b[32m1\u001b[0m\u001b[34m0\u001b[0m.\u001b[31m1\u001b[0m\u001b[32m1\u001b[0m\u001b[34m0\u001b[0m.\u001b[31m1\u001b[0m\u001b[32m1\u001b[0m\u001b[34m0\u001b[0m  \u001b[32m1\u001b[0m\u001b[34m0\u001b[0m.\u001b[31m0\u001b[0m\u001b[32m1\u001b[0m\u001b[34m0\u001b[0m.\u001b[31m0\u001b[0m\u001b[32m1\u001b[0m\u001b[34m0\u001b[0m.\u001b[31m0\u001b[0m\u001b[32m1\u001b[0m\u001b[34m0\u001b[0m.\u001b[31m0\u001b[0m\u001b[32m1\u001b[0m\u001b[34m0\u001b[0m.\u001b[31m0\u001b[0m\u001b[32m1\u001b[0m\u001b[34m0\u001b[0m.\u001b[31m0\u001b[0m\u001b[32m1\u001b[0m\u001b[34m0\u001b[0m.\u001b[31m0\u001b[0m\u001b[32m1\u001b[0m\u001b[34m0\u001b[0m.\u001b[31m0\u001b[0m\u001b[32m1\u001b[0m\u001b[34m0\u001b[0m \n",
      "20 \u001b[32m0\u001b[0m\u001b[34m0\u001b[0m.\u001b[31m0\u001b[0m\u001b[32m0\u001b[0m\u001b[34m0\u001b[0m.\u001b[31m0\u001b[0m\u001b[32m0\u001b[0m\u001b[34m0\u001b[0m.\u001b[31m0\u001b[0m\u001b[32m0\u001b[0m\u001b[34m0\u001b[0m.\u001b[31m0\u001b[0m\u001b[32m0\u001b[0m\u001b[34m0\u001b[0m.\u001b[31m0\u001b[0m\u001b[32m0\u001b[0m\u001b[34m0\u001b[0m.\u001b[31m0\u001b[0m\u001b[32m0\u001b[0m\u001b[34m1\u001b[0m.\u001b[31m0\u001b[0m\u001b[32m0\u001b[0m\u001b[34m0\u001b[0m.\u001b[31m0\u001b[0m\u001b[32m0\u001b[0m\u001b[34m1\u001b[0m  \u001b[32m1\u001b[0m\u001b[34m1\u001b[0m.\u001b[31m0\u001b[0m\u001b[32m1\u001b[0m\u001b[34m1\u001b[0m.\u001b[31m0\u001b[0m\u001b[32m1\u001b[0m\u001b[34m1\u001b[0m.\u001b[31m0\u001b[0m\u001b[32m1\u001b[0m\u001b[34m1\u001b[0m.\u001b[31m0\u001b[0m\u001b[32m1\u001b[0m\u001b[34m1\u001b[0m.\u001b[31m0\u001b[0m\u001b[32m1\u001b[0m\u001b[34m1\u001b[0m.\u001b[31m0\u001b[0m\u001b[32m1\u001b[0m\u001b[34m1\u001b[0m.\u001b[31m0\u001b[0m\u001b[32m1\u001b[0m\u001b[34m1\u001b[0m.\u001b[31m0\u001b[0m\u001b[32m1\u001b[0m\u001b[34m1\u001b[0m  \u001b[32m1\u001b[0m\u001b[34m0\u001b[0m.\u001b[31m0\u001b[0m\u001b[32m1\u001b[0m\u001b[34m0\u001b[0m.\u001b[31m0\u001b[0m\u001b[32m1\u001b[0m\u001b[34m0\u001b[0m.\u001b[31m0\u001b[0m\u001b[32m1\u001b[0m\u001b[34m0\u001b[0m.\u001b[31m0\u001b[0m\u001b[32m1\u001b[0m\u001b[34m0\u001b[0m.\u001b[31m0\u001b[0m\u001b[32m1\u001b[0m\u001b[34m0\u001b[0m.\u001b[31m0\u001b[0m\u001b[32m1\u001b[0m\u001b[34m0\u001b[0m.\u001b[31m0\u001b[0m\u001b[32m1\u001b[0m\u001b[34m0\u001b[0m.\u001b[31m0\u001b[0m\u001b[32m1\u001b[0m\u001b[34m0\u001b[0m \n",
      "21 \u001b[32m0\u001b[0m\u001b[34m0\u001b[0m.\u001b[31m0\u001b[0m\u001b[32m0\u001b[0m\u001b[34m0\u001b[0m.\u001b[31m0\u001b[0m\u001b[32m0\u001b[0m\u001b[34m0\u001b[0m.\u001b[31m0\u001b[0m\u001b[32m0\u001b[0m\u001b[34m0\u001b[0m.\u001b[31m0\u001b[0m\u001b[32m0\u001b[0m\u001b[34m0\u001b[0m.\u001b[31m0\u001b[0m\u001b[32m0\u001b[0m\u001b[34m0\u001b[0m.\u001b[31m0\u001b[0m\u001b[32m0\u001b[0m\u001b[34m1\u001b[0m.\u001b[31m0\u001b[0m\u001b[32m0\u001b[0m\u001b[34m0\u001b[0m.\u001b[31m0\u001b[0m\u001b[32m0\u001b[0m\u001b[34m1\u001b[0m  \u001b[32m1\u001b[0m\u001b[34m1\u001b[0m.\u001b[31m0\u001b[0m\u001b[32m1\u001b[0m\u001b[34m1\u001b[0m.\u001b[31m0\u001b[0m\u001b[32m1\u001b[0m\u001b[34m1\u001b[0m.\u001b[31m0\u001b[0m\u001b[32m1\u001b[0m\u001b[34m1\u001b[0m.\u001b[31m0\u001b[0m\u001b[32m1\u001b[0m\u001b[34m1\u001b[0m.\u001b[31m0\u001b[0m\u001b[32m1\u001b[0m\u001b[34m1\u001b[0m.\u001b[31m0\u001b[0m\u001b[32m1\u001b[0m\u001b[34m1\u001b[0m.\u001b[31m0\u001b[0m\u001b[32m1\u001b[0m\u001b[34m1\u001b[0m.\u001b[31m0\u001b[0m\u001b[32m1\u001b[0m\u001b[34m1\u001b[0m  \u001b[32m1\u001b[0m\u001b[34m0\u001b[0m.\u001b[31m0\u001b[0m\u001b[32m1\u001b[0m\u001b[34m0\u001b[0m.\u001b[31m0\u001b[0m\u001b[32m1\u001b[0m\u001b[34m0\u001b[0m.\u001b[31m0\u001b[0m\u001b[32m1\u001b[0m\u001b[34m0\u001b[0m.\u001b[31m0\u001b[0m\u001b[32m1\u001b[0m\u001b[34m0\u001b[0m.\u001b[31m0\u001b[0m\u001b[32m1\u001b[0m\u001b[34m0\u001b[0m.\u001b[31m0\u001b[0m\u001b[32m1\u001b[0m\u001b[34m0\u001b[0m.\u001b[31m0\u001b[0m\u001b[32m1\u001b[0m\u001b[34m0\u001b[0m.\u001b[31m0\u001b[0m\u001b[32m1\u001b[0m\u001b[34m0\u001b[0m \n",
      "22 \u001b[32m0\u001b[0m\u001b[34m0\u001b[0m.\u001b[31m0\u001b[0m\u001b[32m0\u001b[0m\u001b[34m0\u001b[0m.\u001b[31m0\u001b[0m\u001b[32m0\u001b[0m\u001b[34m0\u001b[0m.\u001b[31m0\u001b[0m\u001b[32m0\u001b[0m\u001b[34m0\u001b[0m.\u001b[31m0\u001b[0m\u001b[32m0\u001b[0m\u001b[34m0\u001b[0m.\u001b[31m0\u001b[0m\u001b[32m0\u001b[0m\u001b[34m0\u001b[0m.\u001b[31m0\u001b[0m\u001b[32m0\u001b[0m\u001b[34m0\u001b[0m.\u001b[31m0\u001b[0m\u001b[32m0\u001b[0m\u001b[34m0\u001b[0m.\u001b[31m0\u001b[0m\u001b[32m0\u001b[0m\u001b[34m0\u001b[0m  \u001b[32m1\u001b[0m\u001b[34m0\u001b[0m.\u001b[31m1\u001b[0m\u001b[32m1\u001b[0m\u001b[34m0\u001b[0m.\u001b[31m1\u001b[0m\u001b[32m1\u001b[0m\u001b[34m0\u001b[0m.\u001b[31m1\u001b[0m\u001b[32m1\u001b[0m\u001b[34m0\u001b[0m.\u001b[31m1\u001b[0m\u001b[32m1\u001b[0m\u001b[34m0\u001b[0m.\u001b[31m1\u001b[0m\u001b[32m1\u001b[0m\u001b[34m0\u001b[0m.\u001b[31m1\u001b[0m\u001b[32m1\u001b[0m\u001b[34m0\u001b[0m.\u001b[31m1\u001b[0m\u001b[32m1\u001b[0m\u001b[34m0\u001b[0m.\u001b[31m1\u001b[0m\u001b[32m1\u001b[0m\u001b[34m0\u001b[0m  \u001b[32m1\u001b[0m\u001b[34m0\u001b[0m.\u001b[31m0\u001b[0m\u001b[32m1\u001b[0m\u001b[34m0\u001b[0m.\u001b[31m0\u001b[0m\u001b[32m1\u001b[0m\u001b[34m0\u001b[0m.\u001b[31m0\u001b[0m\u001b[32m1\u001b[0m\u001b[34m0\u001b[0m.\u001b[31m0\u001b[0m\u001b[32m1\u001b[0m\u001b[34m0\u001b[0m.\u001b[31m0\u001b[0m\u001b[32m1\u001b[0m\u001b[34m0\u001b[0m.\u001b[31m0\u001b[0m\u001b[32m1\u001b[0m\u001b[34m0\u001b[0m.\u001b[31m0\u001b[0m\u001b[32m1\u001b[0m\u001b[34m0\u001b[0m.\u001b[31m0\u001b[0m\u001b[32m1\u001b[0m\u001b[34m0\u001b[0m \n",
      "23 \u001b[32m0\u001b[0m\u001b[34m0\u001b[0m.\u001b[31m0\u001b[0m\u001b[32m0\u001b[0m\u001b[34m0\u001b[0m.\u001b[31m0\u001b[0m\u001b[32m0\u001b[0m\u001b[34m0\u001b[0m.\u001b[31m0\u001b[0m\u001b[32m0\u001b[0m\u001b[34m0\u001b[0m.\u001b[31m0\u001b[0m\u001b[32m0\u001b[0m\u001b[34m0\u001b[0m.\u001b[31m0\u001b[0m\u001b[32m0\u001b[0m\u001b[34m0\u001b[0m.\u001b[31m0\u001b[0m\u001b[32m0\u001b[0m\u001b[34m0\u001b[0m.\u001b[31m0\u001b[0m\u001b[32m0\u001b[0m\u001b[34m0\u001b[0m.\u001b[31m0\u001b[0m\u001b[32m0\u001b[0m\u001b[34m0\u001b[0m  \u001b[32m1\u001b[0m\u001b[34m0\u001b[0m.\u001b[31m1\u001b[0m\u001b[32m1\u001b[0m\u001b[34m0\u001b[0m.\u001b[31m1\u001b[0m\u001b[32m1\u001b[0m\u001b[34m0\u001b[0m.\u001b[31m1\u001b[0m\u001b[32m1\u001b[0m\u001b[34m0\u001b[0m.\u001b[31m1\u001b[0m\u001b[32m1\u001b[0m\u001b[34m0\u001b[0m.\u001b[31m1\u001b[0m\u001b[32m1\u001b[0m\u001b[34m0\u001b[0m.\u001b[31m1\u001b[0m\u001b[32m1\u001b[0m\u001b[34m0\u001b[0m.\u001b[31m1\u001b[0m\u001b[32m1\u001b[0m\u001b[34m0\u001b[0m.\u001b[31m1\u001b[0m\u001b[32m1\u001b[0m\u001b[34m0\u001b[0m  \u001b[32m1\u001b[0m\u001b[34m0\u001b[0m.\u001b[31m0\u001b[0m\u001b[32m1\u001b[0m\u001b[34m0\u001b[0m.\u001b[31m0\u001b[0m\u001b[32m1\u001b[0m\u001b[34m0\u001b[0m.\u001b[31m0\u001b[0m\u001b[32m1\u001b[0m\u001b[34m0\u001b[0m.\u001b[31m0\u001b[0m\u001b[32m1\u001b[0m\u001b[34m0\u001b[0m.\u001b[31m0\u001b[0m\u001b[32m1\u001b[0m\u001b[34m0\u001b[0m.\u001b[31m0\u001b[0m\u001b[32m1\u001b[0m\u001b[34m0\u001b[0m.\u001b[31m0\u001b[0m\u001b[32m1\u001b[0m\u001b[34m0\u001b[0m.\u001b[31m0\u001b[0m\u001b[32m1\u001b[0m\u001b[34m0\u001b[0m \n",
      "--------------------------------------------------------------------------------------------------------------\n",
      "24 \u001b[32m0\u001b[0m\u001b[34m0\u001b[0m.\u001b[31m0\u001b[0m\u001b[32m0\u001b[0m\u001b[34m0\u001b[0m.\u001b[31m0\u001b[0m\u001b[32m0\u001b[0m\u001b[34m0\u001b[0m.\u001b[31m0\u001b[0m\u001b[32m0\u001b[0m\u001b[34m0\u001b[0m.\u001b[31m0\u001b[0m\u001b[32m0\u001b[0m\u001b[34m0\u001b[0m.\u001b[31m0\u001b[0m\u001b[32m0\u001b[0m\u001b[34m0\u001b[0m.\u001b[31m0\u001b[0m\u001b[32m1\u001b[0m\u001b[34m0\u001b[0m.\u001b[31m0\u001b[0m\u001b[32m0\u001b[0m\u001b[34m0\u001b[0m.\u001b[31m0\u001b[0m\u001b[32m0\u001b[0m\u001b[34m0\u001b[0m  \u001b[32m1\u001b[0m\u001b[34m1\u001b[0m.\u001b[31m0\u001b[0m\u001b[32m1\u001b[0m\u001b[34m1\u001b[0m.\u001b[31m0\u001b[0m\u001b[32m1\u001b[0m\u001b[34m1\u001b[0m.\u001b[31m0\u001b[0m\u001b[32m1\u001b[0m\u001b[34m1\u001b[0m.\u001b[31m0\u001b[0m\u001b[32m1\u001b[0m\u001b[34m1\u001b[0m.\u001b[31m0\u001b[0m\u001b[32m1\u001b[0m\u001b[34m1\u001b[0m.\u001b[31m0\u001b[0m\u001b[32m1\u001b[0m\u001b[34m1\u001b[0m.\u001b[31m0\u001b[0m\u001b[32m1\u001b[0m\u001b[34m1\u001b[0m.\u001b[31m0\u001b[0m\u001b[32m1\u001b[0m\u001b[34m1\u001b[0m  \u001b[32m1\u001b[0m\u001b[34m0\u001b[0m.\u001b[31m0\u001b[0m\u001b[32m1\u001b[0m\u001b[34m0\u001b[0m.\u001b[31m0\u001b[0m\u001b[32m1\u001b[0m\u001b[34m0\u001b[0m.\u001b[31m0\u001b[0m\u001b[32m1\u001b[0m\u001b[34m0\u001b[0m.\u001b[31m0\u001b[0m\u001b[32m1\u001b[0m\u001b[34m0\u001b[0m.\u001b[31m0\u001b[0m\u001b[32m1\u001b[0m\u001b[34m0\u001b[0m.\u001b[31m0\u001b[0m\u001b[32m1\u001b[0m\u001b[34m0\u001b[0m.\u001b[31m0\u001b[0m\u001b[32m1\u001b[0m\u001b[34m0\u001b[0m.\u001b[31m0\u001b[0m\u001b[32m1\u001b[0m\u001b[34m0\u001b[0m \n",
      "25 \u001b[32m0\u001b[0m\u001b[34m0\u001b[0m.\u001b[31m0\u001b[0m\u001b[32m0\u001b[0m\u001b[34m0\u001b[0m.\u001b[31m0\u001b[0m\u001b[32m0\u001b[0m\u001b[34m0\u001b[0m.\u001b[31m0\u001b[0m\u001b[32m0\u001b[0m\u001b[34m0\u001b[0m.\u001b[31m0\u001b[0m\u001b[32m0\u001b[0m\u001b[34m0\u001b[0m.\u001b[31m0\u001b[0m\u001b[32m0\u001b[0m\u001b[34m0\u001b[0m.\u001b[31m0\u001b[0m\u001b[32m1\u001b[0m\u001b[34m0\u001b[0m.\u001b[31m0\u001b[0m\u001b[32m0\u001b[0m\u001b[34m0\u001b[0m.\u001b[31m0\u001b[0m\u001b[32m0\u001b[0m\u001b[34m0\u001b[0m  \u001b[32m1\u001b[0m\u001b[34m1\u001b[0m.\u001b[31m0\u001b[0m\u001b[32m1\u001b[0m\u001b[34m1\u001b[0m.\u001b[31m0\u001b[0m\u001b[32m1\u001b[0m\u001b[34m1\u001b[0m.\u001b[31m0\u001b[0m\u001b[32m1\u001b[0m\u001b[34m1\u001b[0m.\u001b[31m0\u001b[0m\u001b[32m1\u001b[0m\u001b[34m1\u001b[0m.\u001b[31m0\u001b[0m\u001b[32m1\u001b[0m\u001b[34m1\u001b[0m.\u001b[31m0\u001b[0m\u001b[32m1\u001b[0m\u001b[34m1\u001b[0m.\u001b[31m0\u001b[0m\u001b[32m1\u001b[0m\u001b[34m1\u001b[0m.\u001b[31m0\u001b[0m\u001b[32m1\u001b[0m\u001b[34m1\u001b[0m  \u001b[32m1\u001b[0m\u001b[34m0\u001b[0m.\u001b[31m0\u001b[0m\u001b[32m1\u001b[0m\u001b[34m0\u001b[0m.\u001b[31m0\u001b[0m\u001b[32m1\u001b[0m\u001b[34m0\u001b[0m.\u001b[31m0\u001b[0m\u001b[32m1\u001b[0m\u001b[34m0\u001b[0m.\u001b[31m0\u001b[0m\u001b[32m1\u001b[0m\u001b[34m0\u001b[0m.\u001b[31m0\u001b[0m\u001b[32m1\u001b[0m\u001b[34m0\u001b[0m.\u001b[31m0\u001b[0m\u001b[32m1\u001b[0m\u001b[34m0\u001b[0m.\u001b[31m0\u001b[0m\u001b[32m1\u001b[0m\u001b[34m0\u001b[0m.\u001b[31m0\u001b[0m\u001b[32m1\u001b[0m\u001b[34m0\u001b[0m \n",
      "26 \u001b[32m0\u001b[0m\u001b[34m0\u001b[0m.\u001b[31m0\u001b[0m\u001b[32m0\u001b[0m\u001b[34m0\u001b[0m.\u001b[31m0\u001b[0m\u001b[32m0\u001b[0m\u001b[34m0\u001b[0m.\u001b[31m0\u001b[0m\u001b[32m0\u001b[0m\u001b[34m0\u001b[0m.\u001b[31m0\u001b[0m\u001b[32m0\u001b[0m\u001b[34m0\u001b[0m.\u001b[31m0\u001b[0m\u001b[32m0\u001b[0m\u001b[34m0\u001b[0m.\u001b[31m0\u001b[0m\u001b[32m1\u001b[0m\u001b[34m0\u001b[0m.\u001b[31m0\u001b[0m\u001b[32m0\u001b[0m\u001b[34m0\u001b[0m.\u001b[31m1\u001b[0m\u001b[32m0\u001b[0m\u001b[34m0\u001b[0m  \u001b[32m1\u001b[0m\u001b[34m0\u001b[0m.\u001b[31m1\u001b[0m\u001b[32m1\u001b[0m\u001b[34m0\u001b[0m.\u001b[31m1\u001b[0m\u001b[32m1\u001b[0m\u001b[34m0\u001b[0m.\u001b[31m1\u001b[0m\u001b[32m1\u001b[0m\u001b[34m0\u001b[0m.\u001b[31m1\u001b[0m\u001b[32m1\u001b[0m\u001b[34m0\u001b[0m.\u001b[31m1\u001b[0m\u001b[32m1\u001b[0m\u001b[34m0\u001b[0m.\u001b[31m1\u001b[0m\u001b[32m1\u001b[0m\u001b[34m0\u001b[0m.\u001b[31m1\u001b[0m\u001b[32m1\u001b[0m\u001b[34m0\u001b[0m.\u001b[31m1\u001b[0m\u001b[32m1\u001b[0m\u001b[34m0\u001b[0m  \u001b[32m1\u001b[0m\u001b[34m0\u001b[0m.\u001b[31m0\u001b[0m\u001b[32m1\u001b[0m\u001b[34m0\u001b[0m.\u001b[31m0\u001b[0m\u001b[32m1\u001b[0m\u001b[34m0\u001b[0m.\u001b[31m0\u001b[0m\u001b[32m1\u001b[0m\u001b[34m0\u001b[0m.\u001b[31m0\u001b[0m\u001b[32m1\u001b[0m\u001b[34m0\u001b[0m.\u001b[31m0\u001b[0m\u001b[32m1\u001b[0m\u001b[34m0\u001b[0m.\u001b[31m0\u001b[0m\u001b[32m1\u001b[0m\u001b[34m0\u001b[0m.\u001b[31m0\u001b[0m\u001b[32m1\u001b[0m\u001b[34m0\u001b[0m.\u001b[31m0\u001b[0m\u001b[32m1\u001b[0m\u001b[34m0\u001b[0m \n",
      "27 \u001b[32m0\u001b[0m\u001b[34m0\u001b[0m.\u001b[31m0\u001b[0m\u001b[32m0\u001b[0m\u001b[34m0\u001b[0m.\u001b[31m0\u001b[0m\u001b[32m0\u001b[0m\u001b[34m0\u001b[0m.\u001b[31m0\u001b[0m\u001b[32m0\u001b[0m\u001b[34m0\u001b[0m.\u001b[31m0\u001b[0m\u001b[32m0\u001b[0m\u001b[34m0\u001b[0m.\u001b[31m0\u001b[0m\u001b[32m0\u001b[0m\u001b[34m0\u001b[0m.\u001b[31m0\u001b[0m\u001b[32m1\u001b[0m\u001b[34m0\u001b[0m.\u001b[31m0\u001b[0m\u001b[32m0\u001b[0m\u001b[34m0\u001b[0m.\u001b[31m1\u001b[0m\u001b[32m0\u001b[0m\u001b[34m0\u001b[0m  \u001b[32m1\u001b[0m\u001b[34m0\u001b[0m.\u001b[31m1\u001b[0m\u001b[32m1\u001b[0m\u001b[34m0\u001b[0m.\u001b[31m1\u001b[0m\u001b[32m1\u001b[0m\u001b[34m0\u001b[0m.\u001b[31m1\u001b[0m\u001b[32m1\u001b[0m\u001b[34m0\u001b[0m.\u001b[31m1\u001b[0m\u001b[32m1\u001b[0m\u001b[34m0\u001b[0m.\u001b[31m1\u001b[0m\u001b[32m1\u001b[0m\u001b[34m0\u001b[0m.\u001b[31m1\u001b[0m\u001b[32m1\u001b[0m\u001b[34m0\u001b[0m.\u001b[31m1\u001b[0m\u001b[32m1\u001b[0m\u001b[34m0\u001b[0m.\u001b[31m1\u001b[0m\u001b[32m1\u001b[0m\u001b[34m0\u001b[0m  \u001b[32m1\u001b[0m\u001b[34m0\u001b[0m.\u001b[31m0\u001b[0m\u001b[32m1\u001b[0m\u001b[34m0\u001b[0m.\u001b[31m0\u001b[0m\u001b[32m1\u001b[0m\u001b[34m0\u001b[0m.\u001b[31m0\u001b[0m\u001b[32m1\u001b[0m\u001b[34m0\u001b[0m.\u001b[31m0\u001b[0m\u001b[32m1\u001b[0m\u001b[34m0\u001b[0m.\u001b[31m0\u001b[0m\u001b[32m1\u001b[0m\u001b[34m0\u001b[0m.\u001b[31m0\u001b[0m\u001b[32m1\u001b[0m\u001b[34m0\u001b[0m.\u001b[31m0\u001b[0m\u001b[32m1\u001b[0m\u001b[34m0\u001b[0m.\u001b[31m0\u001b[0m\u001b[32m1\u001b[0m\u001b[34m0\u001b[0m \n",
      "28 \u001b[32m0\u001b[0m\u001b[34m0\u001b[0m.\u001b[31m0\u001b[0m\u001b[32m0\u001b[0m\u001b[34m0\u001b[0m.\u001b[31m0\u001b[0m\u001b[32m0\u001b[0m\u001b[34m0\u001b[0m.\u001b[31m0\u001b[0m\u001b[32m0\u001b[0m\u001b[34m0\u001b[0m.\u001b[31m0\u001b[0m\u001b[32m0\u001b[0m\u001b[34m0\u001b[0m.\u001b[31m0\u001b[0m\u001b[32m0\u001b[0m\u001b[34m0\u001b[0m.\u001b[31m0\u001b[0m\u001b[32m1\u001b[0m\u001b[34m1\u001b[0m.\u001b[31m0\u001b[0m\u001b[32m0\u001b[0m\u001b[34m0\u001b[0m.\u001b[31m0\u001b[0m\u001b[32m0\u001b[0m\u001b[34m1\u001b[0m  \u001b[32m1\u001b[0m\u001b[34m1\u001b[0m.\u001b[31m0\u001b[0m\u001b[32m1\u001b[0m\u001b[34m1\u001b[0m.\u001b[31m0\u001b[0m\u001b[32m1\u001b[0m\u001b[34m1\u001b[0m.\u001b[31m0\u001b[0m\u001b[32m1\u001b[0m\u001b[34m1\u001b[0m.\u001b[31m0\u001b[0m\u001b[32m1\u001b[0m\u001b[34m1\u001b[0m.\u001b[31m0\u001b[0m\u001b[32m1\u001b[0m\u001b[34m1\u001b[0m.\u001b[31m0\u001b[0m\u001b[32m1\u001b[0m\u001b[34m1\u001b[0m.\u001b[31m0\u001b[0m\u001b[32m1\u001b[0m\u001b[34m1\u001b[0m.\u001b[31m0\u001b[0m\u001b[32m1\u001b[0m\u001b[34m1\u001b[0m  \u001b[32m1\u001b[0m\u001b[34m0\u001b[0m.\u001b[31m0\u001b[0m\u001b[32m1\u001b[0m\u001b[34m0\u001b[0m.\u001b[31m0\u001b[0m\u001b[32m1\u001b[0m\u001b[34m0\u001b[0m.\u001b[31m0\u001b[0m\u001b[32m1\u001b[0m\u001b[34m0\u001b[0m.\u001b[31m0\u001b[0m\u001b[32m1\u001b[0m\u001b[34m0\u001b[0m.\u001b[31m0\u001b[0m\u001b[32m1\u001b[0m\u001b[34m0\u001b[0m.\u001b[31m0\u001b[0m\u001b[32m1\u001b[0m\u001b[34m0\u001b[0m.\u001b[31m0\u001b[0m\u001b[32m1\u001b[0m\u001b[34m0\u001b[0m.\u001b[31m0\u001b[0m\u001b[32m1\u001b[0m\u001b[34m0\u001b[0m \n",
      "29 \u001b[32m0\u001b[0m\u001b[34m0\u001b[0m.\u001b[31m0\u001b[0m\u001b[32m0\u001b[0m\u001b[34m0\u001b[0m.\u001b[31m0\u001b[0m\u001b[32m0\u001b[0m\u001b[34m0\u001b[0m.\u001b[31m0\u001b[0m\u001b[32m0\u001b[0m\u001b[34m0\u001b[0m.\u001b[31m0\u001b[0m\u001b[32m0\u001b[0m\u001b[34m0\u001b[0m.\u001b[31m0\u001b[0m\u001b[32m0\u001b[0m\u001b[34m0\u001b[0m.\u001b[31m0\u001b[0m\u001b[32m1\u001b[0m\u001b[34m1\u001b[0m.\u001b[31m0\u001b[0m\u001b[32m0\u001b[0m\u001b[34m0\u001b[0m.\u001b[31m0\u001b[0m\u001b[32m0\u001b[0m\u001b[34m1\u001b[0m  \u001b[32m1\u001b[0m\u001b[34m1\u001b[0m.\u001b[31m0\u001b[0m\u001b[32m1\u001b[0m\u001b[34m1\u001b[0m.\u001b[31m0\u001b[0m\u001b[32m1\u001b[0m\u001b[34m1\u001b[0m.\u001b[31m0\u001b[0m\u001b[32m1\u001b[0m\u001b[34m1\u001b[0m.\u001b[31m0\u001b[0m\u001b[32m1\u001b[0m\u001b[34m1\u001b[0m.\u001b[31m0\u001b[0m\u001b[32m1\u001b[0m\u001b[34m1\u001b[0m.\u001b[31m0\u001b[0m\u001b[32m1\u001b[0m\u001b[34m1\u001b[0m.\u001b[31m0\u001b[0m\u001b[32m1\u001b[0m\u001b[34m1\u001b[0m.\u001b[31m0\u001b[0m\u001b[32m1\u001b[0m\u001b[34m1\u001b[0m  \u001b[32m1\u001b[0m\u001b[34m0\u001b[0m.\u001b[31m0\u001b[0m\u001b[32m1\u001b[0m\u001b[34m0\u001b[0m.\u001b[31m0\u001b[0m\u001b[32m1\u001b[0m\u001b[34m0\u001b[0m.\u001b[31m0\u001b[0m\u001b[32m1\u001b[0m\u001b[34m0\u001b[0m.\u001b[31m0\u001b[0m\u001b[32m1\u001b[0m\u001b[34m0\u001b[0m.\u001b[31m0\u001b[0m\u001b[32m1\u001b[0m\u001b[34m0\u001b[0m.\u001b[31m0\u001b[0m\u001b[32m1\u001b[0m\u001b[34m0\u001b[0m.\u001b[31m0\u001b[0m\u001b[32m1\u001b[0m\u001b[34m0\u001b[0m.\u001b[31m0\u001b[0m\u001b[32m1\u001b[0m\u001b[34m0\u001b[0m \n",
      "30 \u001b[32m0\u001b[0m\u001b[34m0\u001b[0m.\u001b[31m0\u001b[0m\u001b[32m0\u001b[0m\u001b[34m0\u001b[0m.\u001b[31m0\u001b[0m\u001b[32m0\u001b[0m\u001b[34m0\u001b[0m.\u001b[31m0\u001b[0m\u001b[32m0\u001b[0m\u001b[34m0\u001b[0m.\u001b[31m0\u001b[0m\u001b[32m0\u001b[0m\u001b[34m0\u001b[0m.\u001b[31m0\u001b[0m\u001b[32m0\u001b[0m\u001b[34m0\u001b[0m.\u001b[31m0\u001b[0m\u001b[32m1\u001b[0m\u001b[34m0\u001b[0m.\u001b[31m0\u001b[0m\u001b[32m0\u001b[0m\u001b[34m0\u001b[0m.\u001b[31m0\u001b[0m\u001b[32m0\u001b[0m\u001b[34m0\u001b[0m  \u001b[32m1\u001b[0m\u001b[34m0\u001b[0m.\u001b[31m1\u001b[0m\u001b[32m1\u001b[0m\u001b[34m0\u001b[0m.\u001b[31m1\u001b[0m\u001b[32m1\u001b[0m\u001b[34m0\u001b[0m.\u001b[31m1\u001b[0m\u001b[32m1\u001b[0m\u001b[34m0\u001b[0m.\u001b[31m1\u001b[0m\u001b[32m1\u001b[0m\u001b[34m0\u001b[0m.\u001b[31m1\u001b[0m\u001b[32m1\u001b[0m\u001b[34m0\u001b[0m.\u001b[31m1\u001b[0m\u001b[32m1\u001b[0m\u001b[34m0\u001b[0m.\u001b[31m1\u001b[0m\u001b[32m1\u001b[0m\u001b[34m0\u001b[0m.\u001b[31m1\u001b[0m\u001b[32m1\u001b[0m\u001b[34m0\u001b[0m  \u001b[32m1\u001b[0m\u001b[34m0\u001b[0m.\u001b[31m0\u001b[0m\u001b[32m1\u001b[0m\u001b[34m0\u001b[0m.\u001b[31m0\u001b[0m\u001b[32m1\u001b[0m\u001b[34m0\u001b[0m.\u001b[31m0\u001b[0m\u001b[32m1\u001b[0m\u001b[34m0\u001b[0m.\u001b[31m0\u001b[0m\u001b[32m1\u001b[0m\u001b[34m0\u001b[0m.\u001b[31m0\u001b[0m\u001b[32m1\u001b[0m\u001b[34m0\u001b[0m.\u001b[31m0\u001b[0m\u001b[32m1\u001b[0m\u001b[34m0\u001b[0m.\u001b[31m0\u001b[0m\u001b[32m1\u001b[0m\u001b[34m0\u001b[0m.\u001b[31m0\u001b[0m\u001b[32m1\u001b[0m\u001b[34m0\u001b[0m \n",
      "31 \u001b[32m0\u001b[0m\u001b[34m0\u001b[0m.\u001b[31m0\u001b[0m\u001b[32m0\u001b[0m\u001b[34m0\u001b[0m.\u001b[31m0\u001b[0m\u001b[32m0\u001b[0m\u001b[34m0\u001b[0m.\u001b[31m0\u001b[0m\u001b[32m0\u001b[0m\u001b[34m0\u001b[0m.\u001b[31m0\u001b[0m\u001b[32m0\u001b[0m\u001b[34m0\u001b[0m.\u001b[31m0\u001b[0m\u001b[32m0\u001b[0m\u001b[34m0\u001b[0m.\u001b[31m0\u001b[0m\u001b[32m1\u001b[0m\u001b[34m0\u001b[0m.\u001b[31m0\u001b[0m\u001b[32m0\u001b[0m\u001b[34m0\u001b[0m.\u001b[31m0\u001b[0m\u001b[32m0\u001b[0m\u001b[34m0\u001b[0m  \u001b[32m1\u001b[0m\u001b[34m0\u001b[0m.\u001b[31m1\u001b[0m\u001b[32m1\u001b[0m\u001b[34m0\u001b[0m.\u001b[31m1\u001b[0m\u001b[32m1\u001b[0m\u001b[34m0\u001b[0m.\u001b[31m1\u001b[0m\u001b[32m1\u001b[0m\u001b[34m0\u001b[0m.\u001b[31m1\u001b[0m\u001b[32m1\u001b[0m\u001b[34m0\u001b[0m.\u001b[31m1\u001b[0m\u001b[32m1\u001b[0m\u001b[34m0\u001b[0m.\u001b[31m1\u001b[0m\u001b[32m1\u001b[0m\u001b[34m0\u001b[0m.\u001b[31m1\u001b[0m\u001b[32m1\u001b[0m\u001b[34m0\u001b[0m.\u001b[31m1\u001b[0m\u001b[32m1\u001b[0m\u001b[34m0\u001b[0m  \u001b[32m1\u001b[0m\u001b[34m0\u001b[0m.\u001b[31m0\u001b[0m\u001b[32m1\u001b[0m\u001b[34m0\u001b[0m.\u001b[31m0\u001b[0m\u001b[32m1\u001b[0m\u001b[34m0\u001b[0m.\u001b[31m0\u001b[0m\u001b[32m1\u001b[0m\u001b[34m0\u001b[0m.\u001b[31m0\u001b[0m\u001b[32m1\u001b[0m\u001b[34m0\u001b[0m.\u001b[31m0\u001b[0m\u001b[32m1\u001b[0m\u001b[34m0\u001b[0m.\u001b[31m0\u001b[0m\u001b[32m1\u001b[0m\u001b[34m0\u001b[0m.\u001b[31m0\u001b[0m\u001b[32m1\u001b[0m\u001b[34m0\u001b[0m.\u001b[31m0\u001b[0m\u001b[32m1\u001b[0m\u001b[34m0\u001b[0m \n",
      "--------------------------------------------------------------------------------------------------------------\n",
      "32 \u001b[32m0\u001b[0m\u001b[34m0\u001b[0m.\u001b[31m0\u001b[0m\u001b[32m0\u001b[0m\u001b[34m0\u001b[0m.\u001b[31m0\u001b[0m\u001b[32m0\u001b[0m\u001b[34m0\u001b[0m.\u001b[31m0\u001b[0m\u001b[32m0\u001b[0m\u001b[34m0\u001b[0m.\u001b[31m0\u001b[0m\u001b[32m0\u001b[0m\u001b[34m0\u001b[0m.\u001b[31m0\u001b[0m\u001b[32m0\u001b[0m\u001b[34m0\u001b[0m.\u001b[31m0\u001b[0m\u001b[32m0\u001b[0m\u001b[34m0\u001b[0m.\u001b[31m0\u001b[0m\u001b[32m0\u001b[0m\u001b[34m0\u001b[0m.\u001b[31m0\u001b[0m\u001b[32m0\u001b[0m\u001b[34m0\u001b[0m  \u001b[32m0\u001b[0m\u001b[34m1\u001b[0m.\u001b[31m1\u001b[0m\u001b[32m0\u001b[0m\u001b[34m1\u001b[0m.\u001b[31m1\u001b[0m\u001b[32m0\u001b[0m\u001b[34m1\u001b[0m.\u001b[31m1\u001b[0m\u001b[32m0\u001b[0m\u001b[34m1\u001b[0m.\u001b[31m1\u001b[0m\u001b[32m0\u001b[0m\u001b[34m1\u001b[0m.\u001b[31m1\u001b[0m\u001b[32m0\u001b[0m\u001b[34m1\u001b[0m.\u001b[31m1\u001b[0m\u001b[32m0\u001b[0m\u001b[34m1\u001b[0m.\u001b[31m1\u001b[0m\u001b[32m0\u001b[0m\u001b[34m1\u001b[0m.\u001b[31m1\u001b[0m\u001b[32m0\u001b[0m\u001b[34m1\u001b[0m  \u001b[32m0\u001b[0m\u001b[34m1\u001b[0m.\u001b[31m0\u001b[0m\u001b[32m0\u001b[0m\u001b[34m1\u001b[0m.\u001b[31m0\u001b[0m\u001b[32m0\u001b[0m\u001b[34m1\u001b[0m.\u001b[31m0\u001b[0m\u001b[32m0\u001b[0m\u001b[34m1\u001b[0m.\u001b[31m0\u001b[0m\u001b[32m0\u001b[0m\u001b[34m1\u001b[0m.\u001b[31m0\u001b[0m\u001b[32m0\u001b[0m\u001b[34m1\u001b[0m.\u001b[31m0\u001b[0m\u001b[32m0\u001b[0m\u001b[34m1\u001b[0m.\u001b[31m0\u001b[0m\u001b[32m0\u001b[0m\u001b[34m1\u001b[0m.\u001b[31m0\u001b[0m\u001b[32m0\u001b[0m\u001b[34m1\u001b[0m \n",
      "33 \u001b[32m0\u001b[0m\u001b[34m0\u001b[0m.\u001b[31m0\u001b[0m\u001b[32m0\u001b[0m\u001b[34m0\u001b[0m.\u001b[31m0\u001b[0m\u001b[32m0\u001b[0m\u001b[34m0\u001b[0m.\u001b[31m0\u001b[0m\u001b[32m0\u001b[0m\u001b[34m0\u001b[0m.\u001b[31m0\u001b[0m\u001b[32m0\u001b[0m\u001b[34m0\u001b[0m.\u001b[31m0\u001b[0m\u001b[32m0\u001b[0m\u001b[34m0\u001b[0m.\u001b[31m0\u001b[0m\u001b[32m0\u001b[0m\u001b[34m0\u001b[0m.\u001b[31m0\u001b[0m\u001b[32m0\u001b[0m\u001b[34m0\u001b[0m.\u001b[31m0\u001b[0m\u001b[32m0\u001b[0m\u001b[34m0\u001b[0m  \u001b[32m0\u001b[0m\u001b[34m1\u001b[0m.\u001b[31m1\u001b[0m\u001b[32m0\u001b[0m\u001b[34m1\u001b[0m.\u001b[31m1\u001b[0m\u001b[32m0\u001b[0m\u001b[34m1\u001b[0m.\u001b[31m1\u001b[0m\u001b[32m0\u001b[0m\u001b[34m1\u001b[0m.\u001b[31m1\u001b[0m\u001b[32m0\u001b[0m\u001b[34m1\u001b[0m.\u001b[31m1\u001b[0m\u001b[32m0\u001b[0m\u001b[34m1\u001b[0m.\u001b[31m1\u001b[0m\u001b[32m0\u001b[0m\u001b[34m1\u001b[0m.\u001b[31m1\u001b[0m\u001b[32m0\u001b[0m\u001b[34m1\u001b[0m.\u001b[31m1\u001b[0m\u001b[32m0\u001b[0m\u001b[34m1\u001b[0m  \u001b[32m0\u001b[0m\u001b[34m1\u001b[0m.\u001b[31m0\u001b[0m\u001b[32m0\u001b[0m\u001b[34m1\u001b[0m.\u001b[31m0\u001b[0m\u001b[32m0\u001b[0m\u001b[34m1\u001b[0m.\u001b[31m0\u001b[0m\u001b[32m0\u001b[0m\u001b[34m1\u001b[0m.\u001b[31m0\u001b[0m\u001b[32m0\u001b[0m\u001b[34m1\u001b[0m.\u001b[31m0\u001b[0m\u001b[32m0\u001b[0m\u001b[34m1\u001b[0m.\u001b[31m0\u001b[0m\u001b[32m0\u001b[0m\u001b[34m1\u001b[0m.\u001b[31m0\u001b[0m\u001b[32m0\u001b[0m\u001b[34m1\u001b[0m.\u001b[31m0\u001b[0m\u001b[32m0\u001b[0m\u001b[34m1\u001b[0m \n",
      "34 \u001b[32m0\u001b[0m\u001b[34m0\u001b[0m.\u001b[31m0\u001b[0m\u001b[32m0\u001b[0m\u001b[34m0\u001b[0m.\u001b[31m0\u001b[0m\u001b[32m0\u001b[0m\u001b[34m0\u001b[0m.\u001b[31m0\u001b[0m\u001b[32m0\u001b[0m\u001b[34m0\u001b[0m.\u001b[31m0\u001b[0m\u001b[32m0\u001b[0m\u001b[34m0\u001b[0m.\u001b[31m0\u001b[0m\u001b[32m0\u001b[0m\u001b[34m0\u001b[0m.\u001b[31m0\u001b[0m\u001b[32m0\u001b[0m\u001b[34m0\u001b[0m.\u001b[31m0\u001b[0m\u001b[32m1\u001b[0m\u001b[34m0\u001b[0m.\u001b[31m0\u001b[0m\u001b[32m1\u001b[0m\u001b[34m0\u001b[0m  \u001b[32m1\u001b[0m\u001b[34m1\u001b[0m.\u001b[31m0\u001b[0m\u001b[32m1\u001b[0m\u001b[34m1\u001b[0m.\u001b[31m0\u001b[0m\u001b[32m1\u001b[0m\u001b[34m1\u001b[0m.\u001b[31m0\u001b[0m\u001b[32m1\u001b[0m\u001b[34m1\u001b[0m.\u001b[31m0\u001b[0m\u001b[32m1\u001b[0m\u001b[34m1\u001b[0m.\u001b[31m0\u001b[0m\u001b[32m1\u001b[0m\u001b[34m1\u001b[0m.\u001b[31m0\u001b[0m\u001b[32m1\u001b[0m\u001b[34m1\u001b[0m.\u001b[31m0\u001b[0m\u001b[32m1\u001b[0m\u001b[34m1\u001b[0m.\u001b[31m0\u001b[0m\u001b[32m1\u001b[0m\u001b[34m1\u001b[0m  \u001b[32m0\u001b[0m\u001b[34m1\u001b[0m.\u001b[31m0\u001b[0m\u001b[32m0\u001b[0m\u001b[34m1\u001b[0m.\u001b[31m0\u001b[0m\u001b[32m0\u001b[0m\u001b[34m1\u001b[0m.\u001b[31m0\u001b[0m\u001b[32m0\u001b[0m\u001b[34m1\u001b[0m.\u001b[31m0\u001b[0m\u001b[32m0\u001b[0m\u001b[34m1\u001b[0m.\u001b[31m0\u001b[0m\u001b[32m0\u001b[0m\u001b[34m1\u001b[0m.\u001b[31m0\u001b[0m\u001b[32m0\u001b[0m\u001b[34m1\u001b[0m.\u001b[31m0\u001b[0m\u001b[32m0\u001b[0m\u001b[34m1\u001b[0m.\u001b[31m0\u001b[0m\u001b[32m0\u001b[0m\u001b[34m1\u001b[0m \n",
      "35 \u001b[32m0\u001b[0m\u001b[34m0\u001b[0m.\u001b[31m0\u001b[0m\u001b[32m0\u001b[0m\u001b[34m0\u001b[0m.\u001b[31m0\u001b[0m\u001b[32m0\u001b[0m\u001b[34m0\u001b[0m.\u001b[31m0\u001b[0m\u001b[32m0\u001b[0m\u001b[34m0\u001b[0m.\u001b[31m0\u001b[0m\u001b[32m0\u001b[0m\u001b[34m0\u001b[0m.\u001b[31m0\u001b[0m\u001b[32m0\u001b[0m\u001b[34m0\u001b[0m.\u001b[31m0\u001b[0m\u001b[32m0\u001b[0m\u001b[34m0\u001b[0m.\u001b[31m0\u001b[0m\u001b[32m1\u001b[0m\u001b[34m0\u001b[0m.\u001b[31m0\u001b[0m\u001b[32m1\u001b[0m\u001b[34m0\u001b[0m  \u001b[32m1\u001b[0m\u001b[34m1\u001b[0m.\u001b[31m0\u001b[0m\u001b[32m1\u001b[0m\u001b[34m1\u001b[0m.\u001b[31m0\u001b[0m\u001b[32m1\u001b[0m\u001b[34m1\u001b[0m.\u001b[31m0\u001b[0m\u001b[32m1\u001b[0m\u001b[34m1\u001b[0m.\u001b[31m0\u001b[0m\u001b[32m1\u001b[0m\u001b[34m1\u001b[0m.\u001b[31m0\u001b[0m\u001b[32m1\u001b[0m\u001b[34m1\u001b[0m.\u001b[31m0\u001b[0m\u001b[32m1\u001b[0m\u001b[34m1\u001b[0m.\u001b[31m0\u001b[0m\u001b[32m1\u001b[0m\u001b[34m1\u001b[0m.\u001b[31m0\u001b[0m\u001b[32m1\u001b[0m\u001b[34m1\u001b[0m  \u001b[32m0\u001b[0m\u001b[34m1\u001b[0m.\u001b[31m0\u001b[0m\u001b[32m0\u001b[0m\u001b[34m1\u001b[0m.\u001b[31m0\u001b[0m\u001b[32m0\u001b[0m\u001b[34m1\u001b[0m.\u001b[31m0\u001b[0m\u001b[32m0\u001b[0m\u001b[34m1\u001b[0m.\u001b[31m0\u001b[0m\u001b[32m0\u001b[0m\u001b[34m1\u001b[0m.\u001b[31m0\u001b[0m\u001b[32m0\u001b[0m\u001b[34m1\u001b[0m.\u001b[31m0\u001b[0m\u001b[32m0\u001b[0m\u001b[34m1\u001b[0m.\u001b[31m0\u001b[0m\u001b[32m0\u001b[0m\u001b[34m1\u001b[0m.\u001b[31m0\u001b[0m\u001b[32m0\u001b[0m\u001b[34m1\u001b[0m \n",
      "36 \u001b[32m0\u001b[0m\u001b[34m0\u001b[0m.\u001b[31m0\u001b[0m\u001b[32m0\u001b[0m\u001b[34m0\u001b[0m.\u001b[31m0\u001b[0m\u001b[32m0\u001b[0m\u001b[34m0\u001b[0m.\u001b[31m0\u001b[0m\u001b[32m0\u001b[0m\u001b[34m0\u001b[0m.\u001b[31m0\u001b[0m\u001b[32m0\u001b[0m\u001b[34m0\u001b[0m.\u001b[31m0\u001b[0m\u001b[32m0\u001b[0m\u001b[34m0\u001b[0m.\u001b[31m0\u001b[0m\u001b[32m0\u001b[0m\u001b[34m0\u001b[0m.\u001b[31m0\u001b[0m\u001b[32m0\u001b[0m\u001b[34m0\u001b[0m.\u001b[31m1\u001b[0m\u001b[32m0\u001b[0m\u001b[34m0\u001b[0m  \u001b[32m0\u001b[0m\u001b[34m1\u001b[0m.\u001b[31m1\u001b[0m\u001b[32m0\u001b[0m\u001b[34m1\u001b[0m.\u001b[31m1\u001b[0m\u001b[32m0\u001b[0m\u001b[34m1\u001b[0m.\u001b[31m1\u001b[0m\u001b[32m0\u001b[0m\u001b[34m1\u001b[0m.\u001b[31m1\u001b[0m\u001b[32m0\u001b[0m\u001b[34m1\u001b[0m.\u001b[31m1\u001b[0m\u001b[32m0\u001b[0m\u001b[34m1\u001b[0m.\u001b[31m1\u001b[0m\u001b[32m0\u001b[0m\u001b[34m1\u001b[0m.\u001b[31m1\u001b[0m\u001b[32m0\u001b[0m\u001b[34m1\u001b[0m.\u001b[31m1\u001b[0m\u001b[32m0\u001b[0m\u001b[34m1\u001b[0m  \u001b[32m0\u001b[0m\u001b[34m1\u001b[0m.\u001b[31m0\u001b[0m\u001b[32m0\u001b[0m\u001b[34m1\u001b[0m.\u001b[31m0\u001b[0m\u001b[32m0\u001b[0m\u001b[34m1\u001b[0m.\u001b[31m0\u001b[0m\u001b[32m0\u001b[0m\u001b[34m1\u001b[0m.\u001b[31m0\u001b[0m\u001b[32m0\u001b[0m\u001b[34m1\u001b[0m.\u001b[31m0\u001b[0m\u001b[32m0\u001b[0m\u001b[34m1\u001b[0m.\u001b[31m0\u001b[0m\u001b[32m0\u001b[0m\u001b[34m1\u001b[0m.\u001b[31m0\u001b[0m\u001b[32m0\u001b[0m\u001b[34m1\u001b[0m.\u001b[31m0\u001b[0m\u001b[32m0\u001b[0m\u001b[34m1\u001b[0m \n",
      "37 \u001b[32m0\u001b[0m\u001b[34m0\u001b[0m.\u001b[31m0\u001b[0m\u001b[32m0\u001b[0m\u001b[34m0\u001b[0m.\u001b[31m0\u001b[0m\u001b[32m0\u001b[0m\u001b[34m0\u001b[0m.\u001b[31m0\u001b[0m\u001b[32m0\u001b[0m\u001b[34m0\u001b[0m.\u001b[31m0\u001b[0m\u001b[32m0\u001b[0m\u001b[34m0\u001b[0m.\u001b[31m0\u001b[0m\u001b[32m0\u001b[0m\u001b[34m0\u001b[0m.\u001b[31m0\u001b[0m\u001b[32m0\u001b[0m\u001b[34m0\u001b[0m.\u001b[31m0\u001b[0m\u001b[32m0\u001b[0m\u001b[34m0\u001b[0m.\u001b[31m1\u001b[0m\u001b[32m0\u001b[0m\u001b[34m0\u001b[0m  \u001b[32m0\u001b[0m\u001b[34m1\u001b[0m.\u001b[31m1\u001b[0m\u001b[32m0\u001b[0m\u001b[34m1\u001b[0m.\u001b[31m1\u001b[0m\u001b[32m0\u001b[0m\u001b[34m1\u001b[0m.\u001b[31m1\u001b[0m\u001b[32m0\u001b[0m\u001b[34m1\u001b[0m.\u001b[31m1\u001b[0m\u001b[32m0\u001b[0m\u001b[34m1\u001b[0m.\u001b[31m1\u001b[0m\u001b[32m0\u001b[0m\u001b[34m1\u001b[0m.\u001b[31m1\u001b[0m\u001b[32m0\u001b[0m\u001b[34m1\u001b[0m.\u001b[31m1\u001b[0m\u001b[32m0\u001b[0m\u001b[34m1\u001b[0m.\u001b[31m1\u001b[0m\u001b[32m0\u001b[0m\u001b[34m1\u001b[0m  \u001b[32m0\u001b[0m\u001b[34m1\u001b[0m.\u001b[31m0\u001b[0m\u001b[32m0\u001b[0m\u001b[34m1\u001b[0m.\u001b[31m0\u001b[0m\u001b[32m0\u001b[0m\u001b[34m1\u001b[0m.\u001b[31m0\u001b[0m\u001b[32m0\u001b[0m\u001b[34m1\u001b[0m.\u001b[31m0\u001b[0m\u001b[32m0\u001b[0m\u001b[34m1\u001b[0m.\u001b[31m0\u001b[0m\u001b[32m0\u001b[0m\u001b[34m1\u001b[0m.\u001b[31m0\u001b[0m\u001b[32m0\u001b[0m\u001b[34m1\u001b[0m.\u001b[31m0\u001b[0m\u001b[32m0\u001b[0m\u001b[34m1\u001b[0m.\u001b[31m0\u001b[0m\u001b[32m0\u001b[0m\u001b[34m1\u001b[0m \n"
     ]
    },
    {
     "name": "stdout",
     "output_type": "stream",
     "text": [
      "38 \u001b[32m0\u001b[0m\u001b[34m0\u001b[0m.\u001b[31m0\u001b[0m\u001b[32m0\u001b[0m\u001b[34m0\u001b[0m.\u001b[31m0\u001b[0m\u001b[32m0\u001b[0m\u001b[34m0\u001b[0m.\u001b[31m0\u001b[0m\u001b[32m0\u001b[0m\u001b[34m0\u001b[0m.\u001b[31m0\u001b[0m\u001b[32m0\u001b[0m\u001b[34m0\u001b[0m.\u001b[31m0\u001b[0m\u001b[32m0\u001b[0m\u001b[34m0\u001b[0m.\u001b[31m0\u001b[0m\u001b[32m0\u001b[0m\u001b[34m0\u001b[0m.\u001b[31m0\u001b[0m\u001b[32m0\u001b[0m\u001b[34m0\u001b[0m.\u001b[31m0\u001b[0m\u001b[32m0\u001b[0m\u001b[34m0\u001b[0m  \u001b[32m1\u001b[0m\u001b[34m1\u001b[0m.\u001b[31m0\u001b[0m\u001b[32m1\u001b[0m\u001b[34m1\u001b[0m.\u001b[31m0\u001b[0m\u001b[32m1\u001b[0m\u001b[34m1\u001b[0m.\u001b[31m0\u001b[0m\u001b[32m1\u001b[0m\u001b[34m1\u001b[0m.\u001b[31m0\u001b[0m\u001b[32m1\u001b[0m\u001b[34m1\u001b[0m.\u001b[31m0\u001b[0m\u001b[32m1\u001b[0m\u001b[34m1\u001b[0m.\u001b[31m0\u001b[0m\u001b[32m1\u001b[0m\u001b[34m1\u001b[0m.\u001b[31m0\u001b[0m\u001b[32m1\u001b[0m\u001b[34m1\u001b[0m.\u001b[31m0\u001b[0m\u001b[32m1\u001b[0m\u001b[34m1\u001b[0m  \u001b[32m0\u001b[0m\u001b[34m1\u001b[0m.\u001b[31m0\u001b[0m\u001b[32m0\u001b[0m\u001b[34m1\u001b[0m.\u001b[31m0\u001b[0m\u001b[32m0\u001b[0m\u001b[34m1\u001b[0m.\u001b[31m0\u001b[0m\u001b[32m0\u001b[0m\u001b[34m1\u001b[0m.\u001b[31m0\u001b[0m\u001b[32m0\u001b[0m\u001b[34m1\u001b[0m.\u001b[31m0\u001b[0m\u001b[32m0\u001b[0m\u001b[34m1\u001b[0m.\u001b[31m0\u001b[0m\u001b[32m0\u001b[0m\u001b[34m1\u001b[0m.\u001b[31m0\u001b[0m\u001b[32m0\u001b[0m\u001b[34m1\u001b[0m.\u001b[31m0\u001b[0m\u001b[32m0\u001b[0m\u001b[34m1\u001b[0m \n",
      "39 \u001b[32m0\u001b[0m\u001b[34m0\u001b[0m.\u001b[31m0\u001b[0m\u001b[32m0\u001b[0m\u001b[34m0\u001b[0m.\u001b[31m0\u001b[0m\u001b[32m0\u001b[0m\u001b[34m0\u001b[0m.\u001b[31m0\u001b[0m\u001b[32m0\u001b[0m\u001b[34m0\u001b[0m.\u001b[31m0\u001b[0m\u001b[32m0\u001b[0m\u001b[34m0\u001b[0m.\u001b[31m0\u001b[0m\u001b[32m0\u001b[0m\u001b[34m0\u001b[0m.\u001b[31m0\u001b[0m\u001b[32m0\u001b[0m\u001b[34m0\u001b[0m.\u001b[31m0\u001b[0m\u001b[32m0\u001b[0m\u001b[34m0\u001b[0m.\u001b[31m0\u001b[0m\u001b[32m0\u001b[0m\u001b[34m0\u001b[0m  \u001b[32m1\u001b[0m\u001b[34m1\u001b[0m.\u001b[31m0\u001b[0m\u001b[32m1\u001b[0m\u001b[34m1\u001b[0m.\u001b[31m0\u001b[0m\u001b[32m1\u001b[0m\u001b[34m1\u001b[0m.\u001b[31m0\u001b[0m\u001b[32m1\u001b[0m\u001b[34m1\u001b[0m.\u001b[31m0\u001b[0m\u001b[32m1\u001b[0m\u001b[34m1\u001b[0m.\u001b[31m0\u001b[0m\u001b[32m1\u001b[0m\u001b[34m1\u001b[0m.\u001b[31m0\u001b[0m\u001b[32m1\u001b[0m\u001b[34m1\u001b[0m.\u001b[31m0\u001b[0m\u001b[32m1\u001b[0m\u001b[34m1\u001b[0m.\u001b[31m0\u001b[0m\u001b[32m1\u001b[0m\u001b[34m1\u001b[0m  \u001b[32m0\u001b[0m\u001b[34m1\u001b[0m.\u001b[31m0\u001b[0m\u001b[32m0\u001b[0m\u001b[34m1\u001b[0m.\u001b[31m0\u001b[0m\u001b[32m0\u001b[0m\u001b[34m1\u001b[0m.\u001b[31m0\u001b[0m\u001b[32m0\u001b[0m\u001b[34m1\u001b[0m.\u001b[31m0\u001b[0m\u001b[32m0\u001b[0m\u001b[34m1\u001b[0m.\u001b[31m0\u001b[0m\u001b[32m0\u001b[0m\u001b[34m1\u001b[0m.\u001b[31m0\u001b[0m\u001b[32m0\u001b[0m\u001b[34m1\u001b[0m.\u001b[31m0\u001b[0m\u001b[32m0\u001b[0m\u001b[34m1\u001b[0m.\u001b[31m0\u001b[0m\u001b[32m0\u001b[0m\u001b[34m1\u001b[0m \n",
      "--------------------------------------------------------------------------------------------------------------\n",
      "40 \u001b[32m0\u001b[0m\u001b[34m0\u001b[0m.\u001b[31m0\u001b[0m\u001b[32m0\u001b[0m\u001b[34m0\u001b[0m.\u001b[31m0\u001b[0m\u001b[32m0\u001b[0m\u001b[34m0\u001b[0m.\u001b[31m0\u001b[0m\u001b[32m0\u001b[0m\u001b[34m0\u001b[0m.\u001b[31m0\u001b[0m\u001b[32m0\u001b[0m\u001b[34m0\u001b[0m.\u001b[31m0\u001b[0m\u001b[32m0\u001b[0m\u001b[34m0\u001b[0m.\u001b[31m0\u001b[0m\u001b[32m0\u001b[0m\u001b[34m1\u001b[0m.\u001b[31m0\u001b[0m\u001b[32m0\u001b[0m\u001b[34m1\u001b[0m.\u001b[31m0\u001b[0m\u001b[32m0\u001b[0m\u001b[34m0\u001b[0m  \u001b[32m0\u001b[0m\u001b[34m1\u001b[0m.\u001b[31m1\u001b[0m\u001b[32m0\u001b[0m\u001b[34m1\u001b[0m.\u001b[31m1\u001b[0m\u001b[32m0\u001b[0m\u001b[34m1\u001b[0m.\u001b[31m1\u001b[0m\u001b[32m0\u001b[0m\u001b[34m1\u001b[0m.\u001b[31m1\u001b[0m\u001b[32m0\u001b[0m\u001b[34m1\u001b[0m.\u001b[31m1\u001b[0m\u001b[32m0\u001b[0m\u001b[34m1\u001b[0m.\u001b[31m1\u001b[0m\u001b[32m0\u001b[0m\u001b[34m1\u001b[0m.\u001b[31m1\u001b[0m\u001b[32m0\u001b[0m\u001b[34m1\u001b[0m.\u001b[31m1\u001b[0m\u001b[32m0\u001b[0m\u001b[34m1\u001b[0m  \u001b[32m0\u001b[0m\u001b[34m1\u001b[0m.\u001b[31m0\u001b[0m\u001b[32m0\u001b[0m\u001b[34m1\u001b[0m.\u001b[31m0\u001b[0m\u001b[32m0\u001b[0m\u001b[34m1\u001b[0m.\u001b[31m0\u001b[0m\u001b[32m0\u001b[0m\u001b[34m1\u001b[0m.\u001b[31m0\u001b[0m\u001b[32m0\u001b[0m\u001b[34m1\u001b[0m.\u001b[31m0\u001b[0m\u001b[32m0\u001b[0m\u001b[34m1\u001b[0m.\u001b[31m0\u001b[0m\u001b[32m0\u001b[0m\u001b[34m1\u001b[0m.\u001b[31m0\u001b[0m\u001b[32m0\u001b[0m\u001b[34m1\u001b[0m.\u001b[31m0\u001b[0m\u001b[32m0\u001b[0m\u001b[34m1\u001b[0m \n",
      "41 \u001b[32m0\u001b[0m\u001b[34m0\u001b[0m.\u001b[31m0\u001b[0m\u001b[32m0\u001b[0m\u001b[34m0\u001b[0m.\u001b[31m0\u001b[0m\u001b[32m0\u001b[0m\u001b[34m0\u001b[0m.\u001b[31m0\u001b[0m\u001b[32m0\u001b[0m\u001b[34m0\u001b[0m.\u001b[31m0\u001b[0m\u001b[32m0\u001b[0m\u001b[34m0\u001b[0m.\u001b[31m0\u001b[0m\u001b[32m0\u001b[0m\u001b[34m0\u001b[0m.\u001b[31m0\u001b[0m\u001b[32m0\u001b[0m\u001b[34m1\u001b[0m.\u001b[31m0\u001b[0m\u001b[32m0\u001b[0m\u001b[34m1\u001b[0m.\u001b[31m0\u001b[0m\u001b[32m0\u001b[0m\u001b[34m0\u001b[0m  \u001b[32m0\u001b[0m\u001b[34m1\u001b[0m.\u001b[31m1\u001b[0m\u001b[32m0\u001b[0m\u001b[34m1\u001b[0m.\u001b[31m1\u001b[0m\u001b[32m0\u001b[0m\u001b[34m1\u001b[0m.\u001b[31m1\u001b[0m\u001b[32m0\u001b[0m\u001b[34m1\u001b[0m.\u001b[31m1\u001b[0m\u001b[32m0\u001b[0m\u001b[34m1\u001b[0m.\u001b[31m1\u001b[0m\u001b[32m0\u001b[0m\u001b[34m1\u001b[0m.\u001b[31m1\u001b[0m\u001b[32m0\u001b[0m\u001b[34m1\u001b[0m.\u001b[31m1\u001b[0m\u001b[32m0\u001b[0m\u001b[34m1\u001b[0m.\u001b[31m1\u001b[0m\u001b[32m0\u001b[0m\u001b[34m1\u001b[0m  \u001b[32m0\u001b[0m\u001b[34m1\u001b[0m.\u001b[31m0\u001b[0m\u001b[32m0\u001b[0m\u001b[34m1\u001b[0m.\u001b[31m0\u001b[0m\u001b[32m0\u001b[0m\u001b[34m1\u001b[0m.\u001b[31m0\u001b[0m\u001b[32m0\u001b[0m\u001b[34m1\u001b[0m.\u001b[31m0\u001b[0m\u001b[32m0\u001b[0m\u001b[34m1\u001b[0m.\u001b[31m0\u001b[0m\u001b[32m0\u001b[0m\u001b[34m1\u001b[0m.\u001b[31m0\u001b[0m\u001b[32m0\u001b[0m\u001b[34m1\u001b[0m.\u001b[31m0\u001b[0m\u001b[32m0\u001b[0m\u001b[34m1\u001b[0m.\u001b[31m0\u001b[0m\u001b[32m0\u001b[0m\u001b[34m1\u001b[0m \n",
      "42 \u001b[32m0\u001b[0m\u001b[34m0\u001b[0m.\u001b[31m0\u001b[0m\u001b[32m0\u001b[0m\u001b[34m0\u001b[0m.\u001b[31m0\u001b[0m\u001b[32m0\u001b[0m\u001b[34m0\u001b[0m.\u001b[31m0\u001b[0m\u001b[32m0\u001b[0m\u001b[34m0\u001b[0m.\u001b[31m0\u001b[0m\u001b[32m0\u001b[0m\u001b[34m0\u001b[0m.\u001b[31m0\u001b[0m\u001b[32m0\u001b[0m\u001b[34m0\u001b[0m.\u001b[31m0\u001b[0m\u001b[32m0\u001b[0m\u001b[34m1\u001b[0m.\u001b[31m0\u001b[0m\u001b[32m1\u001b[0m\u001b[34m1\u001b[0m.\u001b[31m0\u001b[0m\u001b[32m1\u001b[0m\u001b[34m0\u001b[0m  \u001b[32m1\u001b[0m\u001b[34m1\u001b[0m.\u001b[31m0\u001b[0m\u001b[32m1\u001b[0m\u001b[34m1\u001b[0m.\u001b[31m0\u001b[0m\u001b[32m1\u001b[0m\u001b[34m1\u001b[0m.\u001b[31m0\u001b[0m\u001b[32m1\u001b[0m\u001b[34m1\u001b[0m.\u001b[31m0\u001b[0m\u001b[32m1\u001b[0m\u001b[34m1\u001b[0m.\u001b[31m0\u001b[0m\u001b[32m1\u001b[0m\u001b[34m1\u001b[0m.\u001b[31m0\u001b[0m\u001b[32m1\u001b[0m\u001b[34m1\u001b[0m.\u001b[31m0\u001b[0m\u001b[32m1\u001b[0m\u001b[34m1\u001b[0m.\u001b[31m0\u001b[0m\u001b[32m1\u001b[0m\u001b[34m1\u001b[0m  \u001b[32m0\u001b[0m\u001b[34m1\u001b[0m.\u001b[31m0\u001b[0m\u001b[32m0\u001b[0m\u001b[34m1\u001b[0m.\u001b[31m0\u001b[0m\u001b[32m0\u001b[0m\u001b[34m1\u001b[0m.\u001b[31m0\u001b[0m\u001b[32m0\u001b[0m\u001b[34m1\u001b[0m.\u001b[31m0\u001b[0m\u001b[32m0\u001b[0m\u001b[34m1\u001b[0m.\u001b[31m0\u001b[0m\u001b[32m0\u001b[0m\u001b[34m1\u001b[0m.\u001b[31m0\u001b[0m\u001b[32m0\u001b[0m\u001b[34m1\u001b[0m.\u001b[31m0\u001b[0m\u001b[32m0\u001b[0m\u001b[34m1\u001b[0m.\u001b[31m0\u001b[0m\u001b[32m0\u001b[0m\u001b[34m1\u001b[0m \n",
      "43 \u001b[32m0\u001b[0m\u001b[34m0\u001b[0m.\u001b[31m0\u001b[0m\u001b[32m0\u001b[0m\u001b[34m0\u001b[0m.\u001b[31m0\u001b[0m\u001b[32m0\u001b[0m\u001b[34m0\u001b[0m.\u001b[31m0\u001b[0m\u001b[32m0\u001b[0m\u001b[34m0\u001b[0m.\u001b[31m0\u001b[0m\u001b[32m0\u001b[0m\u001b[34m0\u001b[0m.\u001b[31m0\u001b[0m\u001b[32m0\u001b[0m\u001b[34m0\u001b[0m.\u001b[31m0\u001b[0m\u001b[32m0\u001b[0m\u001b[34m1\u001b[0m.\u001b[31m0\u001b[0m\u001b[32m1\u001b[0m\u001b[34m1\u001b[0m.\u001b[31m0\u001b[0m\u001b[32m1\u001b[0m\u001b[34m0\u001b[0m  \u001b[32m1\u001b[0m\u001b[34m1\u001b[0m.\u001b[31m0\u001b[0m\u001b[32m1\u001b[0m\u001b[34m1\u001b[0m.\u001b[31m0\u001b[0m\u001b[32m1\u001b[0m\u001b[34m1\u001b[0m.\u001b[31m0\u001b[0m\u001b[32m1\u001b[0m\u001b[34m1\u001b[0m.\u001b[31m0\u001b[0m\u001b[32m1\u001b[0m\u001b[34m1\u001b[0m.\u001b[31m0\u001b[0m\u001b[32m1\u001b[0m\u001b[34m1\u001b[0m.\u001b[31m0\u001b[0m\u001b[32m1\u001b[0m\u001b[34m1\u001b[0m.\u001b[31m0\u001b[0m\u001b[32m1\u001b[0m\u001b[34m1\u001b[0m.\u001b[31m0\u001b[0m\u001b[32m1\u001b[0m\u001b[34m1\u001b[0m  \u001b[32m0\u001b[0m\u001b[34m1\u001b[0m.\u001b[31m0\u001b[0m\u001b[32m0\u001b[0m\u001b[34m1\u001b[0m.\u001b[31m0\u001b[0m\u001b[32m0\u001b[0m\u001b[34m1\u001b[0m.\u001b[31m0\u001b[0m\u001b[32m0\u001b[0m\u001b[34m1\u001b[0m.\u001b[31m0\u001b[0m\u001b[32m0\u001b[0m\u001b[34m1\u001b[0m.\u001b[31m0\u001b[0m\u001b[32m0\u001b[0m\u001b[34m1\u001b[0m.\u001b[31m0\u001b[0m\u001b[32m0\u001b[0m\u001b[34m1\u001b[0m.\u001b[31m0\u001b[0m\u001b[32m0\u001b[0m\u001b[34m1\u001b[0m.\u001b[31m0\u001b[0m\u001b[32m0\u001b[0m\u001b[34m1\u001b[0m \n",
      "44 \u001b[32m0\u001b[0m\u001b[34m0\u001b[0m.\u001b[31m0\u001b[0m\u001b[32m0\u001b[0m\u001b[34m0\u001b[0m.\u001b[31m0\u001b[0m\u001b[32m0\u001b[0m\u001b[34m0\u001b[0m.\u001b[31m0\u001b[0m\u001b[32m0\u001b[0m\u001b[34m0\u001b[0m.\u001b[31m0\u001b[0m\u001b[32m0\u001b[0m\u001b[34m0\u001b[0m.\u001b[31m0\u001b[0m\u001b[32m0\u001b[0m\u001b[34m0\u001b[0m.\u001b[31m0\u001b[0m\u001b[32m0\u001b[0m\u001b[34m1\u001b[0m.\u001b[31m0\u001b[0m\u001b[32m0\u001b[0m\u001b[34m1\u001b[0m.\u001b[31m1\u001b[0m\u001b[32m0\u001b[0m\u001b[34m0\u001b[0m  \u001b[32m0\u001b[0m\u001b[34m1\u001b[0m.\u001b[31m1\u001b[0m\u001b[32m0\u001b[0m\u001b[34m1\u001b[0m.\u001b[31m1\u001b[0m\u001b[32m0\u001b[0m\u001b[34m1\u001b[0m.\u001b[31m1\u001b[0m\u001b[32m0\u001b[0m\u001b[34m1\u001b[0m.\u001b[31m1\u001b[0m\u001b[32m0\u001b[0m\u001b[34m1\u001b[0m.\u001b[31m1\u001b[0m\u001b[32m0\u001b[0m\u001b[34m1\u001b[0m.\u001b[31m1\u001b[0m\u001b[32m0\u001b[0m\u001b[34m1\u001b[0m.\u001b[31m1\u001b[0m\u001b[32m0\u001b[0m\u001b[34m1\u001b[0m.\u001b[31m1\u001b[0m\u001b[32m0\u001b[0m\u001b[34m1\u001b[0m  \u001b[32m0\u001b[0m\u001b[34m1\u001b[0m.\u001b[31m0\u001b[0m\u001b[32m0\u001b[0m\u001b[34m1\u001b[0m.\u001b[31m0\u001b[0m\u001b[32m0\u001b[0m\u001b[34m1\u001b[0m.\u001b[31m0\u001b[0m\u001b[32m0\u001b[0m\u001b[34m1\u001b[0m.\u001b[31m0\u001b[0m\u001b[32m0\u001b[0m\u001b[34m1\u001b[0m.\u001b[31m0\u001b[0m\u001b[32m0\u001b[0m\u001b[34m1\u001b[0m.\u001b[31m0\u001b[0m\u001b[32m0\u001b[0m\u001b[34m1\u001b[0m.\u001b[31m0\u001b[0m\u001b[32m0\u001b[0m\u001b[34m1\u001b[0m.\u001b[31m0\u001b[0m\u001b[32m0\u001b[0m\u001b[34m1\u001b[0m \n",
      "45 \u001b[32m0\u001b[0m\u001b[34m0\u001b[0m.\u001b[31m0\u001b[0m\u001b[32m0\u001b[0m\u001b[34m0\u001b[0m.\u001b[31m0\u001b[0m\u001b[32m0\u001b[0m\u001b[34m0\u001b[0m.\u001b[31m0\u001b[0m\u001b[32m0\u001b[0m\u001b[34m0\u001b[0m.\u001b[31m0\u001b[0m\u001b[32m0\u001b[0m\u001b[34m0\u001b[0m.\u001b[31m0\u001b[0m\u001b[32m0\u001b[0m\u001b[34m0\u001b[0m.\u001b[31m0\u001b[0m\u001b[32m0\u001b[0m\u001b[34m1\u001b[0m.\u001b[31m0\u001b[0m\u001b[32m0\u001b[0m\u001b[34m1\u001b[0m.\u001b[31m1\u001b[0m\u001b[32m0\u001b[0m\u001b[34m0\u001b[0m  \u001b[32m0\u001b[0m\u001b[34m1\u001b[0m.\u001b[31m1\u001b[0m\u001b[32m0\u001b[0m\u001b[34m1\u001b[0m.\u001b[31m1\u001b[0m\u001b[32m0\u001b[0m\u001b[34m1\u001b[0m.\u001b[31m1\u001b[0m\u001b[32m0\u001b[0m\u001b[34m1\u001b[0m.\u001b[31m1\u001b[0m\u001b[32m0\u001b[0m\u001b[34m1\u001b[0m.\u001b[31m1\u001b[0m\u001b[32m0\u001b[0m\u001b[34m1\u001b[0m.\u001b[31m1\u001b[0m\u001b[32m0\u001b[0m\u001b[34m1\u001b[0m.\u001b[31m1\u001b[0m\u001b[32m0\u001b[0m\u001b[34m1\u001b[0m.\u001b[31m1\u001b[0m\u001b[32m0\u001b[0m\u001b[34m1\u001b[0m  \u001b[32m0\u001b[0m\u001b[34m1\u001b[0m.\u001b[31m0\u001b[0m\u001b[32m0\u001b[0m\u001b[34m1\u001b[0m.\u001b[31m0\u001b[0m\u001b[32m0\u001b[0m\u001b[34m1\u001b[0m.\u001b[31m0\u001b[0m\u001b[32m0\u001b[0m\u001b[34m1\u001b[0m.\u001b[31m0\u001b[0m\u001b[32m0\u001b[0m\u001b[34m1\u001b[0m.\u001b[31m0\u001b[0m\u001b[32m0\u001b[0m\u001b[34m1\u001b[0m.\u001b[31m0\u001b[0m\u001b[32m0\u001b[0m\u001b[34m1\u001b[0m.\u001b[31m0\u001b[0m\u001b[32m0\u001b[0m\u001b[34m1\u001b[0m.\u001b[31m0\u001b[0m\u001b[32m0\u001b[0m\u001b[34m1\u001b[0m \n",
      "46 \u001b[32m0\u001b[0m\u001b[34m0\u001b[0m.\u001b[31m0\u001b[0m\u001b[32m0\u001b[0m\u001b[34m0\u001b[0m.\u001b[31m0\u001b[0m\u001b[32m0\u001b[0m\u001b[34m0\u001b[0m.\u001b[31m0\u001b[0m\u001b[32m0\u001b[0m\u001b[34m0\u001b[0m.\u001b[31m0\u001b[0m\u001b[32m0\u001b[0m\u001b[34m0\u001b[0m.\u001b[31m0\u001b[0m\u001b[32m0\u001b[0m\u001b[34m0\u001b[0m.\u001b[31m0\u001b[0m\u001b[32m0\u001b[0m\u001b[34m1\u001b[0m.\u001b[31m0\u001b[0m\u001b[32m0\u001b[0m\u001b[34m1\u001b[0m.\u001b[31m0\u001b[0m\u001b[32m0\u001b[0m\u001b[34m0\u001b[0m  \u001b[32m1\u001b[0m\u001b[34m1\u001b[0m.\u001b[31m0\u001b[0m\u001b[32m1\u001b[0m\u001b[34m1\u001b[0m.\u001b[31m0\u001b[0m\u001b[32m1\u001b[0m\u001b[34m1\u001b[0m.\u001b[31m0\u001b[0m\u001b[32m1\u001b[0m\u001b[34m1\u001b[0m.\u001b[31m0\u001b[0m\u001b[32m1\u001b[0m\u001b[34m1\u001b[0m.\u001b[31m0\u001b[0m\u001b[32m1\u001b[0m\u001b[34m1\u001b[0m.\u001b[31m0\u001b[0m\u001b[32m1\u001b[0m\u001b[34m1\u001b[0m.\u001b[31m0\u001b[0m\u001b[32m1\u001b[0m\u001b[34m1\u001b[0m.\u001b[31m0\u001b[0m\u001b[32m1\u001b[0m\u001b[34m1\u001b[0m  \u001b[32m0\u001b[0m\u001b[34m1\u001b[0m.\u001b[31m0\u001b[0m\u001b[32m0\u001b[0m\u001b[34m1\u001b[0m.\u001b[31m0\u001b[0m\u001b[32m0\u001b[0m\u001b[34m1\u001b[0m.\u001b[31m0\u001b[0m\u001b[32m0\u001b[0m\u001b[34m1\u001b[0m.\u001b[31m0\u001b[0m\u001b[32m0\u001b[0m\u001b[34m1\u001b[0m.\u001b[31m0\u001b[0m\u001b[32m0\u001b[0m\u001b[34m1\u001b[0m.\u001b[31m0\u001b[0m\u001b[32m0\u001b[0m\u001b[34m1\u001b[0m.\u001b[31m0\u001b[0m\u001b[32m0\u001b[0m\u001b[34m1\u001b[0m.\u001b[31m0\u001b[0m\u001b[32m0\u001b[0m\u001b[34m1\u001b[0m \n",
      "47 \u001b[32m0\u001b[0m\u001b[34m0\u001b[0m.\u001b[31m0\u001b[0m\u001b[32m0\u001b[0m\u001b[34m0\u001b[0m.\u001b[31m0\u001b[0m\u001b[32m0\u001b[0m\u001b[34m0\u001b[0m.\u001b[31m0\u001b[0m\u001b[32m0\u001b[0m\u001b[34m0\u001b[0m.\u001b[31m0\u001b[0m\u001b[32m0\u001b[0m\u001b[34m0\u001b[0m.\u001b[31m0\u001b[0m\u001b[32m0\u001b[0m\u001b[34m0\u001b[0m.\u001b[31m0\u001b[0m\u001b[32m0\u001b[0m\u001b[34m1\u001b[0m.\u001b[31m0\u001b[0m\u001b[32m0\u001b[0m\u001b[34m1\u001b[0m.\u001b[31m0\u001b[0m\u001b[32m0\u001b[0m\u001b[34m0\u001b[0m  \u001b[32m1\u001b[0m\u001b[34m1\u001b[0m.\u001b[31m0\u001b[0m\u001b[32m1\u001b[0m\u001b[34m1\u001b[0m.\u001b[31m0\u001b[0m\u001b[32m1\u001b[0m\u001b[34m1\u001b[0m.\u001b[31m0\u001b[0m\u001b[32m1\u001b[0m\u001b[34m1\u001b[0m.\u001b[31m0\u001b[0m\u001b[32m1\u001b[0m\u001b[34m1\u001b[0m.\u001b[31m0\u001b[0m\u001b[32m1\u001b[0m\u001b[34m1\u001b[0m.\u001b[31m0\u001b[0m\u001b[32m1\u001b[0m\u001b[34m1\u001b[0m.\u001b[31m0\u001b[0m\u001b[32m1\u001b[0m\u001b[34m1\u001b[0m.\u001b[31m0\u001b[0m\u001b[32m1\u001b[0m\u001b[34m1\u001b[0m  \u001b[32m0\u001b[0m\u001b[34m1\u001b[0m.\u001b[31m0\u001b[0m\u001b[32m0\u001b[0m\u001b[34m1\u001b[0m.\u001b[31m0\u001b[0m\u001b[32m0\u001b[0m\u001b[34m1\u001b[0m.\u001b[31m0\u001b[0m\u001b[32m0\u001b[0m\u001b[34m1\u001b[0m.\u001b[31m0\u001b[0m\u001b[32m0\u001b[0m\u001b[34m1\u001b[0m.\u001b[31m0\u001b[0m\u001b[32m0\u001b[0m\u001b[34m1\u001b[0m.\u001b[31m0\u001b[0m\u001b[32m0\u001b[0m\u001b[34m1\u001b[0m.\u001b[31m0\u001b[0m\u001b[32m0\u001b[0m\u001b[34m1\u001b[0m.\u001b[31m0\u001b[0m\u001b[32m0\u001b[0m\u001b[34m1\u001b[0m \n"
     ]
    }
   ],
   "source": [
    "for d in range (0,48):\n",
    "    if not d %  8: print (110*'-')\n",
    "\n",
    "    print (\n",
    "        f'{d:2}',\n",
    "        f'{dartcolor (LUT_XORs[d,0]<<6, nBits=26, return_str=True)[:-18]} ', \n",
    "\n",
    "        f'{dartcolor (LUT_ANDs[d,0]<<6, nBits=26, return_str=True)[:-18]} ', \n",
    "        f'{dartcolor (LUT_ANDs[d,1]<<6, nBits=26, return_str=True)[:-18]} ', \n",
    "    )"
   ]
  },
  {
   "cell_type": "code",
   "execution_count": null,
   "metadata": {},
   "outputs": [],
   "source": [
    "def alpha_2_old (d):\n",
    "    \"\"\"\n",
    "    Implicitly encoded alpha_2\n",
    "    \n",
    "    Steps\n",
    "        1. get zcode encoding voxel's x,y,z\n",
    "        2. get 48-index of the dart for that voxel\n",
    "        3. get  3-index determining the scenario\n",
    "        4. get updated based on the two above indices\n",
    "        5. update, recombine\n",
    "        6. return the new dart\n",
    "    \"\"\"\n",
    "    \n",
    "    zcode = d >> 6\n",
    "    i48   = d & 0b111111 # TODO check if this index <= 47\n",
    "    \n",
    "    # i3 retrieves the index 0,1,2 for cases edge, shell, interior \n",
    "    zcodeXOR = zcode ^ LUT_XORs[i48,0]                         # 1 XOR column  is necessary for all scenarios\n",
    "    i3 =   (zcodeXOR & LUT_ANDs[i48,:2]).astype(np.bool).sum() # 2 AND columns are necessary, as the the 3rd one (interior) would be zero anyway ....\n",
    "#   i3 = np.count_nonzero((zcode ^ LUT_XORs[i48]) & LUT_ANDs[i48])  # ORIGINAL using 3 XOR and 3 AND columns\n",
    "\n",
    "    dz,dy,dx = LUT_DELTA [i48,i3]\n",
    "    newbits  = LUT_D     [i48,i3]\n",
    "    x,y,z = deinterleave3(zcode)\n",
    "    x+=dx; y+=dy; z+=dz\n",
    "    \n",
    "    return (interleave3(x,y,z) << 6) | newbits"
   ]
  },
  {
   "cell_type": "code",
   "execution_count": null,
   "metadata": {},
   "outputs": [],
   "source": [
    "# combined LUT experiment\n",
    "\n",
    "# 48 x 3 x 4 entries containing dx,dy,dz,bbbbbb\n",
    "\n",
    "LUT_DD = np.zeros ((48,3,4), dtype=np.int8)\n",
    "LUT_DD [..., :3] = LUT_DELTA [...,::-1]  #   [...,::-1] => flipping Deltas z,y,x -> x,y,z\n",
    "LUT_DD [...,  3] = LUT_D\n",
    "\n",
    "# XOR and tables shifted by 6 bits\n",
    "# alternative: (d XOR x) AND a = (d AND a) XOR (x AND a), the later can be precomputed\n",
    "# both following tables are 48x2\n",
    "LUT_XORoAND_6 = ( LUT_XORs[:,:1] & LUT_ANDs[:,:2]) << 6\n",
    "LUT_AND_6     =                    LUT_ANDs[:,:2]  << 6"
   ]
  },
  {
   "cell_type": "code",
   "execution_count": null,
   "metadata": {},
   "outputs": [],
   "source": [
    "def alpha_2 (d):\n",
    "    \"\"\"\n",
    "    Implicitly encoded alpha_2\n",
    "    \n",
    "    Steps\n",
    "        1. get zcode encoding voxel's x,y,z\n",
    "        2. get 48-index of the dart for that voxel\n",
    "        3. get  3-index determining the scenario\n",
    "        4. get updated based on the two above indices\n",
    "        5. update, recombine\n",
    "        6. return the new dart\n",
    "    \"\"\"\n",
    "    i48 =   d & 0b111111                                                       # dart     index\n",
    "    i3  = ((d & LUT_AND_6 [i48]) ^ LUT_XORoAND_6 [i48]).astype(np.bool).sum()  # scenario index\n",
    "    \n",
    "#   dx,dy,dz,bbbbbb = LUT_DD [i48,i3]  # the order of the deltas is now dx,dy,dz\n",
    "    x,y,z = deinterleave3(d      >> 6) + LUT_DD [i48,i3,:3]  # deinterleave the z-code and update it by dx,dy,dz\n",
    "    return (  interleave3(x,y,z) << 6) | LUT_DD [i48,i3, 3]  # interleave and append bbbbbb"
   ]
  },
  {
   "cell_type": "markdown",
   "metadata": {},
   "source": [
    "## $D$: Set of darts"
   ]
  },
  {
   "cell_type": "code",
   "execution_count": null,
   "metadata": {},
   "outputs": [],
   "source": [
    "# set of darts\n",
    "\n",
    "D = set()\n",
    "\n",
    "for z in range (S):\n",
    "    for y in range (R):\n",
    "        for x in range (C):\n",
    "            for i in range (48):\n",
    "                D |= {interleave3 (x,y,z) << 6 | i}\n",
    "\n",
    "z = S\n",
    "for y in range (R):\n",
    "    for x in range (C):\n",
    "        for i in range (16):\n",
    "            D |= {interleave3 (x,y,z) << 6 | i}\n",
    "\n",
    "y = R\n",
    "for x in range (C):\n",
    "    for z in range (S):\n",
    "        for i in range (16):\n",
    "            D |= {interleave3 (x,y,z) << 6 | 0b010000 | i}\n",
    "    \n",
    "x = C\n",
    "for y in range (R):\n",
    "    for z in range (S):\n",
    "        for i in range (16):\n",
    "            if (interleave3 (x,y,z) << 6 | 0b100000 | i) in D:\n",
    "                print ('grrr')\n",
    "            D |= {interleave3 (x,y,z) << 6 | 0b100000 | i}"
   ]
  },
  {
   "cell_type": "markdown",
   "metadata": {},
   "source": [
    "### involution checks"
   ]
  },
  {
   "cell_type": "code",
   "execution_count": null,
   "metadata": {},
   "outputs": [],
   "source": [
    "# involution checks\n",
    "\n",
    "assert all ([alpha_0(alpha_0 (d)) == d for d in D])\n",
    "assert all ([alpha_1(alpha_1 (d)) == d for d in D])\n",
    "assert all ([alpha_2(alpha_2 (d)) == d for d in D])\n",
    "\n",
    "assert all ([alpha_0(alpha_2(alpha_0(alpha_2(d)))) == d for d in D])\n",
    "assert all ([alpha_0(alpha_3(alpha_0(alpha_3(d)))) == d for d in D])\n",
    "assert all ([alpha_1(alpha_3(alpha_1(alpha_3(d)))) == d for d in D])"
   ]
  },
  {
   "cell_type": "markdown",
   "metadata": {},
   "source": [
    "### sanity check with array-based gmaps"
   ]
  },
  {
   "cell_type": "code",
   "execution_count": null,
   "metadata": {},
   "outputs": [],
   "source": [
    "from combinatorial.gmaps import nGmap"
   ]
  },
  {
   "cell_type": "code",
   "execution_count": null,
   "metadata": {},
   "outputs": [],
   "source": [
    "A = np.full ((4,1+max(D)),-1)  # initialize with invalid darts (-1)\n",
    "\n",
    "for d in D:\n",
    "    A[0,d] = alpha_0(d)\n",
    "    A[1,d] = alpha_1(d)\n",
    "    A[2,d] = alpha_2(d)\n",
    "    A[3,d] = alpha_3(d)"
   ]
  },
  {
   "cell_type": "code",
   "execution_count": null,
   "metadata": {},
   "outputs": [],
   "source": [
    "g = nGmap.from_alpha_array (A)\n",
    "assert g.is_valid\n",
    "assert g.no_0_cells == (S+1)*(R+1)*(C+1)\n",
    "assert g.no_1_cells == S*(R+1)*(C+1) + (S+1)*R*(C+1) + (S+1)*(R+1)*C\n",
    "assert g.no_2_cells == (S+1)*R*C + (R+1)*S*C + (C+1)*S*R\n",
    "assert g.no_3_cells == S*R*C + 1 # also background counted\n",
    "assert g.no_ccs     == 1"
   ]
  },
  {
   "cell_type": "code",
   "execution_count": null,
   "metadata": {},
   "outputs": [
    {
     "name": "stdout",
     "output_type": "stream",
     "text": [
      "2x4x6 volume resulted in 3-gMap of 3008 darts:\n",
      "  # 0-cells: 105\n",
      "  # 1-cells: 244\n",
      "  # 2-cells: 188\n",
      "  # 3-cells: 49\n",
      "  # ccs    : 1\n",
      "\n"
     ]
    }
   ],
   "source": [
    "print (f'{S}x{R}x{C} volume resulted in', g)"
   ]
  },
  {
   "cell_type": "markdown",
   "metadata": {},
   "source": [
    "# Future \n",
    "\n",
    "## Dart set $D$ as bit-array"
   ]
  },
  {
   "cell_type": "code",
   "execution_count": null,
   "metadata": {},
   "outputs": [
    {
     "data": {
      "text/plain": [
       "bitarray('11111111111111111111111111111111111111111111111100000000000000001111111111111111111111111111111111111111111111110000000000000000')"
      ]
     },
     "execution_count": null,
     "metadata": {},
     "output_type": "execute_result"
    }
   ],
   "source": [
    "# voxel example, i.e, 2*48 darts\n",
    "import bitarray\n",
    "\n",
    "ba = bitarray.bitarray (2**7)\n",
    "\n",
    "ba[:] = 0\n",
    "\n",
    "ba[:48] = 1\n",
    "ba[64:64+48] = 1\n",
    "\n",
    "ba"
   ]
  },
  {
   "cell_type": "markdown",
   "metadata": {},
   "source": [
    "# Dart set $D$ implicitly\n",
    "\n",
    "2D version uncommented"
   ]
  },
  {
   "cell_type": "code",
   "execution_count": null,
   "metadata": {},
   "outputs": [],
   "source": [
    "# check for membership\n",
    "\n",
    "# max_x = interleave2 (C,0) << 3\n",
    "# max_y = interleave2 (0,R) << 3\n",
    "\n",
    "# mask_x = 0xffffffff ^ 2**nBits-1 | (MASK_H << 3)\n",
    "# mask_y = 0xffffffff ^ 2**nBits-1 | (MASK_V << 3)\n",
    "\n",
    "# print (f'''\\\n",
    "# {mask_x:032b} ... x-mask for (at most) 32-bit integer numbers\n",
    "# {mask_y:032b} ... y-mask for (at most) 32-bit integer numbers\n",
    "# ''')\n",
    "\n",
    "\n",
    "# def is_in (d):\n",
    "#     return (\n",
    "#            d & mask_x <  max_x and d & mask_y <  max_y                    # x <  C and y <  R\n",
    "#         or d & mask_x <  max_x and d & mask_y == max_y and not d & 0b100  # x <  C and y == R and last 3 bits are in 0...3\n",
    "#         or d & mask_x == max_x and d & mask_y <  max_y and     d & 0b100  # x == C and y <  R and last 3 bits are in 4...7\n",
    "#     )"
   ]
  },
  {
   "cell_type": "code",
   "execution_count": null,
   "metadata": {},
   "outputs": [],
   "source": [
    "# assert all (    is_in(d) for d in D)\n",
    "\n",
    "# for d in D | {dd for dd in range (len(D), len(D)+10050)}:\n",
    "#         if (d in D and not is_in(d)) or (not d in D  and is_in(d)):\n",
    "#             z = d >> 3\n",
    "#             x,y = deinterleave2 (z)\n",
    "#             print (f'{d:4} {d:08b} {x} {y} {is_in (d)}')"
   ]
  }
 ],
 "metadata": {
  "kernelspec": {
   "display_name": "Python 3",
   "language": "python",
   "name": "python3"
  }
 },
 "nbformat": 4,
 "nbformat_minor": 4
}
