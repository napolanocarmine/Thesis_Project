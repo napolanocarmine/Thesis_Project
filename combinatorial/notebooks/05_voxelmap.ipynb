{
 "cells": [
  {
   "cell_type": "code",
   "execution_count": null,
   "metadata": {},
   "outputs": [],
   "source": [
    "%load_ext autoreload\n",
    "%autoreload 2"
   ]
  },
  {
   "cell_type": "code",
   "execution_count": null,
   "metadata": {},
   "outputs": [],
   "source": [
    "# default_exp voxelmap"
   ]
  },
  {
   "cell_type": "code",
   "execution_count": null,
   "metadata": {},
   "outputs": [],
   "source": [
    "# export \n",
    "from combinatorial.gmaps import nGmap\n",
    "from combinatorial.pixelmap import PixelMap\n",
    "\n",
    "import numpy as np"
   ]
  },
  {
   "cell_type": "markdown",
   "metadata": {},
   "source": [
    "## Understanding sew orbits\n",
    "\n",
    "when i-sewing darts d1,d2 in an n-Gmap, the orbits under isomorphism are defined as $<0 \\ldots i-2, i+2 \\ldots n>$.\n",
    "\n",
    "This sequence may be empty for 4 cases (see bellow). For these cases the isomorphism check is not necessary, as both orbits consist of a single dart. It is sufficient to check if both d1 and d2 are i-free."
   ]
  },
  {
   "cell_type": "code",
   "execution_count": null,
   "metadata": {},
   "outputs": [],
   "source": [
    "import itertools"
   ]
  },
  {
   "cell_type": "code",
   "execution_count": null,
   "metadata": {},
   "outputs": [
    {
     "name": "stdout",
     "output_type": "stream",
     "text": [
      "n | i=0        i=1        i=2        i=3        i=4        i=5        i=6        i=7        i=8        \n",
      "--------------------------------------------------------------------------------------------------------------------\n",
      "0 | <>         \n",
      "1 | <>         <>         \n",
      "2 | <2>        <>         <0>        \n",
      "3 | <23>       <3>        <0>        <01>       \n",
      "4 | <234>      <34>       <04>       <01>       <012>      \n",
      "5 | <2345>     <345>      <045>      <015>      <012>      <0123>     \n",
      "6 | <23456>    <3456>     <0456>     <0156>     <0126>     <0123>     <01234>    \n",
      "7 | <234567>   <34567>    <04567>    <01567>    <01267>    <01237>    <01234>    <012345>   \n",
      "8 | <2345678>  <345678>   <045678>   <015678>   <012678>   <012378>   <012348>   <012345>   <0123456>  \n"
     ]
    }
   ],
   "source": [
    "print ('n | ', end = '')\n",
    "for i in range (9):\n",
    "    print (f'i={i}        ', end = '') \n",
    "print ()\n",
    "print (116*'-')\n",
    "for n in range (9):\n",
    "    print (n, end =' | ')\n",
    "    for i in range (n+1):\n",
    "        s = '<'\n",
    "        for num in (itertools.chain(range(0, i - 1), range(i + 2, n + 1))):\n",
    "            s+=f'{num}'\n",
    "        s += '>'\n",
    "        print (f'{s:10}', end = ' ')\n",
    "    print ()    "
   ]
  },
  {
   "cell_type": "code",
   "execution_count": null,
   "metadata": {},
   "outputs": [
    {
     "data": {
      "text/plain": [
       "2-gMap of 4 darts:\n",
       "  # 0-cells: 4\n",
       "  # 1-cells: 2\n",
       "  # 2-cells: 2\n",
       "  # ccs    : 2"
      ]
     },
     "execution_count": null,
     "metadata": {},
     "output_type": "execute_result"
    }
   ],
   "source": [
    "g = nGmap.from_string (\"\"\"\\\n",
    "1 0 3 2\n",
    "0 1 2 3\n",
    "0 1 2 3\"\"\")\n",
    "g"
   ]
  },
  {
   "cell_type": "code",
   "execution_count": null,
   "metadata": {},
   "outputs": [],
   "source": [
    "g.sew_no_assert (1,2, 1)"
   ]
  },
  {
   "cell_type": "code",
   "execution_count": null,
   "metadata": {},
   "outputs": [
    {
     "data": {
      "text/plain": [
       "2-gMap of 4 darts:\n",
       "  # 0-cells: 3\n",
       "  # 1-cells: 2\n",
       "  # 2-cells: 1\n",
       "  # ccs    : 1"
      ]
     },
     "execution_count": null,
     "metadata": {},
     "output_type": "execute_result"
    }
   ],
   "source": [
    "g"
   ]
  },
  {
   "cell_type": "code",
   "execution_count": null,
   "metadata": {},
   "outputs": [
    {
     "data": {
      "text/plain": [
       "2-gMap of 4 darts:\n",
       "  # 0-cells: 2\n",
       "  # 1-cells: 1\n",
       "  # 2-cells: 2\n",
       "  # ccs    : 1"
      ]
     },
     "execution_count": null,
     "metadata": {},
     "output_type": "execute_result"
    }
   ],
   "source": [
    "g = nGmap.from_string (\"\"\"\\\n",
    "1 0 3 2\n",
    "0 1 2 3\n",
    "2 3 0 1\"\"\")\n",
    "g"
   ]
  },
  {
   "cell_type": "code",
   "execution_count": null,
   "metadata": {},
   "outputs": [
    {
     "data": {
      "text/plain": [
       "2-gMap of 4 darts:\n",
       "  # 0-cells: 2\n",
       "  # 1-cells: 1\n",
       "  # 2-cells: 1\n",
       "  # ccs    : 1"
      ]
     },
     "execution_count": null,
     "metadata": {},
     "output_type": "execute_result"
    }
   ],
   "source": [
    "g.sew_no_assert (1,3, 1)\n",
    "g"
   ]
  },
  {
   "cell_type": "code",
   "execution_count": null,
   "metadata": {},
   "outputs": [
    {
     "name": "stdout",
     "output_type": "stream",
     "text": [
      "===================\n",
      " D# |   0  1  2  3 \n",
      "-------------------\n",
      " α0 |   1  0  3  2 \n",
      " α1 |   0  3  2  1 \n",
      " α2 |   2  3  0  1 \n",
      "===================\n"
     ]
    }
   ],
   "source": [
    "g.print_alpha_table()"
   ]
  },
  {
   "cell_type": "markdown",
   "metadata": {},
   "source": [
    "# create cube by 2-sewing edges of bounded square"
   ]
  },
  {
   "cell_type": "code",
   "execution_count": null,
   "metadata": {},
   "outputs": [],
   "source": [
    "g = PixelMap.from_shape(1,6,sew=False)"
   ]
  },
  {
   "cell_type": "code",
   "execution_count": null,
   "metadata": {},
   "outputs": [
    {
     "data": {
      "image/png": "[encoded data removed]",
      "text/plain": [
       "<Figure size 432x288 with 1 Axes>"
      ]
     },
     "metadata": {},
     "output_type": "display_data"
    }
   ],
   "source": [
    "g.plot_faces()"
   ]
  },
  {
   "cell_type": "code",
   "execution_count": null,
   "metadata": {},
   "outputs": [
    {
     "data": {
      "text/plain": [
       "3-gMap of 48 darts:\n",
       "  # 0-cells: 24\n",
       "  # 1-cells: 24\n",
       "  # 2-cells: 6\n",
       "  # 3-cells: 6\n",
       "  # ccs    : 6"
      ]
     },
     "execution_count": null,
     "metadata": {},
     "output_type": "execute_result"
    }
   ],
   "source": [
    "# make a 3-gMap out of 2-gMap, adding the identity involution\n",
    "array_4x48 = np.vstack ((np.array (g),np.arange(48)))\n",
    "g = nGmap.from_alpha_array (array_4x48)\n",
    "g"
   ]
  },
  {
   "cell_type": "code",
   "execution_count": null,
   "metadata": {},
   "outputs": [],
   "source": [
    "def i_sew (g,i,d1,d2):\n",
    "    \"\"\"\n",
    "    i-sew making knowing that d1,d2 are i-sewable\n",
    "    \"\"\"\n",
    "    if i == 2:\n",
    "        sew_seq = [0]\n",
    "    if i == 3:\n",
    "        sew_seq = [0,1]\n",
    "    for _d1,_d2 in zip (g.orbit(sew_seq,d1), g.orbit(sew_seq,d2)):\n",
    "        g._link (i,_d1,_d2)\n"
   ]
  },
  {
   "cell_type": "code",
   "execution_count": null,
   "metadata": {},
   "outputs": [],
   "source": [
    "# darts to 2-sew, see image\n",
    "\n",
    "sew_indices = np.fromstring ('0 43 2 39 4 19 6 11 24 47 26 15 28 23 30 35 8 45 12 17 32 41 36 21', sep=\" \", dtype = np.uint8).reshape (12,2)\n",
    "sew_indices.T;"
   ]
  },
  {
   "cell_type": "code",
   "execution_count": null,
   "metadata": {},
   "outputs": [],
   "source": [
    "for d1,d2 in sew_indices:\n",
    "    i_sew(g,2,d1,d2)"
   ]
  },
  {
   "cell_type": "code",
   "execution_count": null,
   "metadata": {},
   "outputs": [],
   "source": [
    "assert g.is_valid"
   ]
  },
  {
   "cell_type": "markdown",
   "metadata": {},
   "source": [
    "# Replicate the cubes"
   ]
  },
  {
   "cell_type": "code",
   "execution_count": null,
   "metadata": {},
   "outputs": [],
   "source": [
    "# number of slices, rows, and coluns\n",
    "S,R,C = 2,1,1"
   ]
  },
  {
   "cell_type": "code",
   "execution_count": null,
   "metadata": {},
   "outputs": [],
   "source": [
    "big_array = np.tile (np.array(g),S*R*C).reshape (4,S*R*C,48)"
   ]
  },
  {
   "cell_type": "code",
   "execution_count": null,
   "metadata": {},
   "outputs": [],
   "source": [
    "for i_cube in range (S*R*C):\n",
    "    big_array[:,i_cube] += 48*i_cube\n",
    "big_array = big_array.reshape (4,-1)"
   ]
  },
  {
   "cell_type": "code",
   "execution_count": null,
   "metadata": {},
   "outputs": [
    {
     "data": {
      "text/plain": [
       "(4, 96)"
      ]
     },
     "execution_count": null,
     "metadata": {},
     "output_type": "execute_result"
    }
   ],
   "source": [
    "big_array.shape"
   ]
  },
  {
   "cell_type": "code",
   "execution_count": null,
   "metadata": {},
   "outputs": [],
   "source": [
    "voxel_map = nGmap.from_alpha_array (big_array)"
   ]
  },
  {
   "cell_type": "code",
   "execution_count": null,
   "metadata": {},
   "outputs": [
    {
     "data": {
      "text/plain": [
       "True"
      ]
     },
     "execution_count": null,
     "metadata": {},
     "output_type": "execute_result"
    }
   ],
   "source": [
    "voxel_map.is_valid"
   ]
  },
  {
   "cell_type": "code",
   "execution_count": null,
   "metadata": {},
   "outputs": [
    {
     "data": {
      "text/plain": [
       "3-gMap of 96 darts:\n",
       "  # 0-cells: 16\n",
       "  # 1-cells: 24\n",
       "  # 2-cells: 12\n",
       "  # 3-cells: 2\n",
       "  # ccs    : 2"
      ]
     },
     "execution_count": null,
     "metadata": {},
     "output_type": "execute_result"
    }
   ],
   "source": [
    "voxel_map"
   ]
  },
  {
   "cell_type": "markdown",
   "metadata": {},
   "source": [
    "# 3-sew the cubes\n",
    "\n",
    "- columns sews : 0, 25+48\n",
    "- row sews : 8, 33+48\n",
    "- slice sews: 21, 40+48"
   ]
  },
  {
   "cell_type": "code",
   "execution_count": null,
   "metadata": {},
   "outputs": [],
   "source": [
    "darts_to_sew = [[21,40], [8,33], [0,25]]\n",
    "\n",
    "# column-wise sew\n",
    "dart_to_sew_1st, dart_to_sew_2nd = darts_to_sew[2]\n",
    "for s in range (S):            # for all Slices \n",
    "    for r in range (R):        # for all Rows\n",
    "        for c in range (C-1):  # for all Columns but last one\n",
    "            i_sew (voxel_map, 3, 48*(s*R*C+r*C+c) + dart_to_sew_1st, 48*(s*R*C+r*C+c+1) + dart_to_sew_2nd)\n",
    "\n",
    "# row-wise sew\n",
    "dart_to_sew_1st, dart_to_sew_2nd = darts_to_sew[1]\n",
    "for s in range (S):            # for all Slices \n",
    "    for r in range (R-1):      # for all Rows but last one\n",
    "        for c in range (C):    # for all Columns\n",
    "            i_sew (voxel_map, 3, 48*(s*R*C+r*C+c) + dart_to_sew_1st, 48*(s*R*C+(r+1)*C+c) + dart_to_sew_2nd)\n",
    "\n",
    "# slice-wise sew\n",
    "dart_to_sew_1st, dart_to_sew_2nd = darts_to_sew[0]\n",
    "for s in range (S-1):          # for all Slices but last one \n",
    "    for r in range (R):        # for all Rows\n",
    "        for c in range (C):    # for all Columns\n",
    "            i_sew (voxel_map, 3, 48*(s*R*C+r*C+c) + dart_to_sew_1st, 48*((s+1)*R*C+r*C+c) + dart_to_sew_2nd)"
   ]
  },
  {
   "cell_type": "code",
   "execution_count": null,
   "metadata": {},
   "outputs": [
    {
     "data": {
      "text/plain": [
       "True"
      ]
     },
     "execution_count": null,
     "metadata": {},
     "output_type": "execute_result"
    }
   ],
   "source": [
    "voxel_map.is_valid"
   ]
  },
  {
   "cell_type": "code",
   "execution_count": null,
   "metadata": {},
   "outputs": [
    {
     "data": {
      "text/plain": [
       "3-gMap of 96 darts:\n",
       "  # 0-cells: 12\n",
       "  # 1-cells: 20\n",
       "  # 2-cells: 11\n",
       "  # 3-cells: 2\n",
       "  # ccs    : 1"
      ]
     },
     "execution_count": null,
     "metadata": {},
     "output_type": "execute_result"
    }
   ],
   "source": [
    "voxel_map"
   ]
  },
  {
   "cell_type": "markdown",
   "metadata": {},
   "source": [
    "# Remove the first two faces"
   ]
  },
  {
   "cell_type": "code",
   "execution_count": null,
   "metadata": {},
   "outputs": [],
   "source": [
    "voxel_map.remove_2_cell (0)"
   ]
  },
  {
   "cell_type": "code",
   "execution_count": null,
   "metadata": {},
   "outputs": [
    {
     "data": {
      "text/plain": [
       "3-gMap of 88 darts:\n",
       "  # 0-cells: 12\n",
       "  # 1-cells: 20\n",
       "  # 2-cells: 10\n",
       "  # 3-cells: 2\n",
       "  # ccs    : 1"
      ]
     },
     "execution_count": null,
     "metadata": {},
     "output_type": "execute_result"
    }
   ],
   "source": [
    "voxel_map"
   ]
  },
  {
   "cell_type": "code",
   "execution_count": null,
   "metadata": {},
   "outputs": [],
   "source": [
    "voxel_map.remove_2_cell (48)"
   ]
  },
  {
   "cell_type": "code",
   "execution_count": null,
   "metadata": {},
   "outputs": [
    {
     "data": {
      "text/plain": [
       "3-gMap of 80 darts:\n",
       "  # 0-cells: 12\n",
       "  # 1-cells: 20\n",
       "  # 2-cells: 9\n",
       "  # 3-cells: 2\n",
       "  # ccs    : 1"
      ]
     },
     "execution_count": null,
     "metadata": {},
     "output_type": "execute_result"
    }
   ],
   "source": [
    "voxel_map"
   ]
  },
  {
   "cell_type": "code",
   "execution_count": null,
   "metadata": {},
   "outputs": [
    {
     "data": {
      "text/plain": [
       "[0, 1]"
      ]
     },
     "execution_count": null,
     "metadata": {},
     "output_type": "execute_result"
    }
   ],
   "source": [
    "list (voxel_map.sew_seq (3))"
   ]
  },
  {
   "cell_type": "markdown",
   "metadata": {},
   "source": [
    "# VoxelMap: Putting the things together in class"
   ]
  },
  {
   "cell_type": "code",
   "execution_count": null,
   "metadata": {},
   "outputs": [],
   "source": [
    "# export\n",
    "\n",
    "# darts of 12 edges to be sewn when constructing cube from squares\n",
    "#      0  2  4  6 24 26 28 30  8 12 32 36\n",
    "#     43 39 19 11 47 15 23 35 45 17 41 21\n",
    "\n",
    "DARTS_TO_2_SEW = np.fromstring (\"\"\"\n",
    "     0  2  4  6    24 26 28 30   10 18 39 47\n",
    "     9 40 32 17    12 45 37 20   23 34 42 15\n",
    "\"\"\", sep=' ', dtype=np.uint8).reshape ((2,12)).T\n",
    "\n",
    "\n",
    "# darts to be 3-sewn, when linking voxels, along axis 0, 1, and 2\n",
    "# DARTS_TO_3_SEW = [[21, 40], [8, 33], [0, 25]]\n",
    "DARTS_TO_3_SEW = [[24,0], [32,8], [40,16]]\n",
    "\n",
    "\n",
    "def make_cube():\n",
    "    six_squares = PixelMap.from_shape(1, 6, sew=False)\n",
    "    # make a 3-gMap out of 2-gMap, adding the identity involution\n",
    "    array_4x48 = np.vstack((np.array(six_squares), np.arange(48)))\n",
    "\n",
    "    cube = nGmap.from_alpha_array(array_4x48)\n",
    "\n",
    "    for d1, d2 in DARTS_TO_2_SEW:  # iterate over 2-tuples of darts to 2-sew, see image\n",
    "        cube.sew_no_assert(d1, d2, 2)\n",
    "    return cube\n",
    "\n",
    "\n",
    "class VoxelMap (nGmap):\n",
    "    @property\n",
    "    def n_slices (self):\n",
    "        return self._nS\n",
    "\n",
    "    @property\n",
    "    def n_columns (self):\n",
    "        return self._nC\n",
    "\n",
    "    @property\n",
    "    def n_rows (self):\n",
    "        return self._nR\n",
    "\n",
    "    @classmethod\n",
    "    def from_shape (cls, n_slices, n_rows, n_columns, sew=True, bounded=True):\n",
    "        \"\"\"Constructs grid-like gmap from number slices, rows and columns\n",
    "\n",
    "        Args:\n",
    "            n_slices: number of slices\n",
    "            n_rows: number of rows\n",
    "            n_columns: number of columns\n",
    "            sew: sew the pixels together (default) or not?\n",
    "            bounded: set to False to add the outer boundary\n",
    "\n",
    "        Returns:\n",
    "            3-gMap representing a voxel array\n",
    "        \"\"\"\n",
    "\n",
    "        cube = make_cube()\n",
    "\n",
    "        # step 1: replicate the cube n_slices*n_rows*n_columns times with dart increments of 48\n",
    "        big_array = np.tile(np.array(cube), n_slices * n_rows * n_columns)\n",
    "        big_array = big_array.reshape((4, n_slices * n_rows * n_columns, 48))\n",
    "        for i_cube in range(n_slices * n_rows * n_columns):\n",
    "            big_array[:, i_cube] += 48 * i_cube\n",
    "        big_array = big_array.reshape((4, -1))\n",
    "\n",
    "        # make a gmap consisting of n_slices * n_rows * n_columns cubes\n",
    "        vox_map = cls.from_alpha_array(big_array)\n",
    "        vox_map._nS, vox_map._nR, vox_map._nC = n_slices, n_rows, n_columns\n",
    "\n",
    "        if sew:  # 3-sew the cubes\n",
    "            # column-wise 3-sews\n",
    "            dart_to_sew_1st, dart_to_sew_2nd = DARTS_TO_3_SEW[2]\n",
    "            for s in range(n_slices):  # for all Slices\n",
    "                for r in range(n_rows):  # for all Rows\n",
    "                    for c in range(n_columns - 1):  # for all Columns but last one\n",
    "                        vox_map.sew_no_assert(\n",
    "                            48 * (s * n_rows * n_columns + r * n_columns + c) + dart_to_sew_1st,\n",
    "                            48 * (s * n_rows * n_columns + r * n_columns + c + 1) + dart_to_sew_2nd,\n",
    "                            3)\n",
    "\n",
    "            # row-wise 3-sews\n",
    "            dart_to_sew_1st, dart_to_sew_2nd = DARTS_TO_3_SEW[1]\n",
    "            for s in range(n_slices):  # for all Slices\n",
    "                for r in range(n_rows - 1):  # for all Rows but last one\n",
    "                    for c in range(n_columns):  # for all Columns\n",
    "                        vox_map.sew_no_assert(\n",
    "                            48 * (s * n_rows * n_columns + r * n_columns + c) + dart_to_sew_1st,\n",
    "                            48 * (s * n_rows * n_columns + (1 + r) * n_columns + c) + dart_to_sew_2nd,\n",
    "                            3)\n",
    "\n",
    "            # slice-wise 3-sews\n",
    "            dart_to_sew_1st, dart_to_sew_2nd = DARTS_TO_3_SEW[0]\n",
    "            for s in range(n_slices - 1):  # for all Slices but last one\n",
    "                for r in range(n_rows):  # for all Rows\n",
    "                    for c in range(n_columns):  # for all Columns\n",
    "                        vox_map.sew_no_assert(\n",
    "                            48 * (s * n_rows * n_columns + r * n_columns + c) + dart_to_sew_1st,\n",
    "                            48 * ((1 + s) * n_rows * n_columns + r * n_columns + c) + dart_to_sew_2nd,\n",
    "                            3)\n",
    "\n",
    "        if not bounded:  # TODO implement the shell darts for an unbounded map\n",
    "            raise NotImplemented\n",
    "\n",
    "        assert vox_map.is_valid\n",
    "\n",
    "        return vox_map"
   ]
  },
  {
   "cell_type": "code",
   "execution_count": null,
   "metadata": {},
   "outputs": [
    {
     "name": "stdout",
     "output_type": "stream",
     "text": [
      "Tests for 9x5x9 sewn and unsewn voxel maps.\n",
      "Tests Passed\n"
     ]
    }
   ],
   "source": [
    "# test that a randomly SxRxC unbounded gmap has a proper number of vertices, edges, faces, and volumes\n",
    "\n",
    "S,R,C=np.random.randint (1,10,3)\n",
    "# S,R,C=1,1,1\n",
    "\n",
    "print (f\"Tests for {S}x{R}x{C} sewn and unsewn voxel maps.\")\n",
    "\n",
    "g_sewn   = VoxelMap.from_shape (S,R,C, sew=True)\n",
    "g_free   = VoxelMap.from_shape (S,R,C, sew=False)\n",
    "\n",
    "assert   g_sewn.is_valid\n",
    "assert   g_free.is_valid\n",
    "\n",
    "\n",
    "# test for sewn voxels\n",
    "# print (type (g_sewn))\n",
    "assert g_sewn.n_slices   == S\n",
    "assert g_sewn.n_rows     == R\n",
    "assert g_sewn.n_columns  == C\n",
    "assert g_sewn.n_darts    == S*R*C*48 \n",
    "assert g_sewn.no_0_cells == (S+1)*(R+1)*(C+1)\n",
    "assert g_sewn.no_1_cells == S*(R+1)*(C+1) + R*(S+1)*(C+1) + C*(S+1)*(R+1)\n",
    "assert g_sewn.no_2_cells == (S+1)*R*C + (R+1)*S*C + (C+1)*S*R \n",
    "assert g_sewn.no_3_cells == S*R*C\n",
    "assert g_sewn.no_ccs     == 1\n",
    "\n",
    "# test for unsewn voxels\n",
    "assert g_free.n_slices   == S\n",
    "assert g_free.n_rows     == R\n",
    "assert g_free.n_columns  == C\n",
    "assert g_free.n_darts    == S*R*C * 48 \n",
    "assert g_free.no_0_cells == S*R*C *  8\n",
    "assert g_free.no_1_cells == S*R*C * 12 \n",
    "assert g_free.no_2_cells == S*R*C *  6\n",
    "assert g_free.no_3_cells == S*R*C\n",
    "assert g_free.no_ccs     == S*R*C\n",
    "\n",
    "print ('Tests Passed')"
   ]
  },
  {
   "cell_type": "markdown",
   "metadata": {},
   "source": [
    "## Experiments"
   ]
  },
  {
   "cell_type": "code",
   "execution_count": null,
   "metadata": {},
   "outputs": [],
   "source": [
    "g_tunnel = VoxelMap.from_shape(1,1,1)"
   ]
  },
  {
   "cell_type": "code",
   "execution_count": null,
   "metadata": {},
   "outputs": [],
   "source": [
    "class VoxMap (VoxelMap):\n",
    "    def i2d (self,s,r,c,far,ax,no):\n",
    "        \"\"\"Index to dart\n",
    "        \n",
    "        \"\"\"\n",
    "        return 48*(s * self.n_rows * self.n_columns + r * self.n_columns + c) + 8 *(ax+3*far) + no\n",
    "    \n",
    "    def d2i (self, d):\n",
    "        \"\"\"Dart to index\"\"\"\n",
    "    \n",
    "        src,fan = d // 48, d % 48\n",
    "        fa,no = fan // 8, fan % 8\n",
    "        far,ax = fa // 3, fa % 3\n",
    "        \n",
    "        s  = src // (self.n_rows * self.n_columns)\n",
    "        rc = src %  (self.n_rows * self.n_columns)\n",
    "        r  = rc  //  self.n_columns\n",
    "        c  = rc  %   self.n_columns\n",
    "\n",
    "        return s,r,c,far,ax,no"
   ]
  },
  {
   "cell_type": "code",
   "execution_count": null,
   "metadata": {},
   "outputs": [],
   "source": [
    "for d,(s,r,c,far,ax,no) in enumerate (itertools.product(\n",
    "    range (gg.n_slices),\n",
    "    range (gg.n_rows),\n",
    "    range (gg.n_columns),\n",
    "    range (2),\n",
    "    range (3),\n",
    "    range (8))):\n",
    "    \n",
    "    assert d == gg.i2d (s,r,c,far,ax,no)\n",
    "#     print (f'{d:3} {gg.i2d (s,r,c,ax,nf,no):3}   ', s,r,c,ax,nf,no)\n",
    "\n",
    "#     print (d, gg.d2i (d))\n",
    "    assert gg.d2i (d) == (s,r,c,far,ax,no), gg.d2i (d)"
   ]
  },
  {
   "cell_type": "code",
   "execution_count": null,
   "metadata": {},
   "outputs": [],
   "source": [
    "gg = VoxMap.from_shape (1,3,3)\n",
    "\n",
    "# for each 'y','x' remove the 'far' face along 'ax' axis\n",
    "#   y x  ax\n",
    "to_remove = np.fromstring (\"\"\"\\\n",
    "    0 0  2\n",
    "    0 1  2 \n",
    "    0 2  1\n",
    "    1 2  1 \n",
    "    2 1  2\n",
    "    2 0  2\n",
    "    1 0  1\n",
    "    0 0  1\n",
    "\"\"\", sep = \" \", dtype=int).reshape (-1,3)\n",
    "\n",
    "to_remove = np.fromstring (\"\"\"\\\n",
    "    0 1  1\n",
    "    1 0  2\n",
    "    1 1  2\n",
    "    1 1  1\n",
    "\"\"\", sep = \" \", dtype=int).reshape (-1,3)\n"
   ]
  },
  {
   "cell_type": "code",
   "execution_count": null,
   "metadata": {},
   "outputs": [
    {
     "name": "stdout",
     "output_type": "stream",
     "text": [
      "[(0, 0)]\n",
      "[(0, 1), (1, 0), (1, 1), (1, 2), (2, 1)]\n",
      "[(0, 2)]\n",
      "[(2, 0)]\n",
      "[(2, 2)]\n"
     ]
    }
   ],
   "source": [
    "for (r,c,ax) in to_remove [:]:\n",
    "    gg.remove_face (gg.i2d(0,r,c,1,ax,0))\n",
    "#     print (gg)\n",
    "for d in gg.darts_of_i_cells (3):\n",
    "    print (sorted ({gg.d2i(e)[1:3] for e in gg.cell_3(d)}))"
   ]
  },
  {
   "cell_type": "code",
   "execution_count": null,
   "metadata": {},
   "outputs": [
    {
     "data": {
      "text/plain": [
       "3-gMap of 368 darts:\n",
       "  # 0-cells: 32\n",
       "  # 1-cells: 64\n",
       "  # 2-cells: 38\n",
       "  # 3-cells: 5\n",
       "  # ccs    : 1"
      ]
     },
     "execution_count": null,
     "metadata": {},
     "output_type": "execute_result"
    }
   ],
   "source": [
    "gg"
   ]
  },
  {
   "cell_type": "code",
   "execution_count": null,
   "metadata": {},
   "outputs": [
    {
     "name": "stdout",
     "output_type": "stream",
     "text": [
      "(1, 1, 0, 1, 0) (0, 1, 1, 1, 0)\n",
      "(1, 1, 0, 1, 1) (0, 1, 1, 1, 1)\n",
      "(1, 1, 0, 1, 2) (0, 1, 1, 1, 2)\n",
      "(1, 1, 0, 1, 3) (0, 1, 1, 1, 3)\n",
      "(1, 1, 0, 1, 4) (0, 1, 1, 1, 4)\n",
      "(1, 1, 0, 1, 5) (0, 1, 1, 1, 5)\n",
      "(1, 1, 0, 1, 6) (0, 1, 1, 1, 6)\n",
      "(1, 1, 0, 1, 7) (0, 1, 1, 1, 7)\n",
      "(1, 1, 0, 2, 0) (1, 0, 1, 2, 0)\n",
      "(1, 1, 0, 2, 1) (1, 0, 1, 2, 1)\n",
      "(1, 1, 0, 2, 2) (1, 0, 1, 2, 2)\n",
      "(1, 1, 0, 2, 3) (1, 0, 1, 2, 3)\n",
      "(1, 1, 0, 2, 4) (1, 0, 1, 2, 4)\n",
      "(1, 1, 0, 2, 5) (1, 0, 1, 2, 5)\n",
      "(1, 1, 0, 2, 6) (1, 0, 1, 2, 6)\n",
      "(1, 1, 0, 2, 7) (1, 0, 1, 2, 7)\n",
      "(1, 1, 1, 1, 0) (2, 1, 0, 1, 0)\n",
      "(1, 1, 1, 1, 1) (2, 1, 0, 1, 1)\n",
      "(1, 1, 1, 1, 2) (2, 1, 0, 1, 2)\n",
      "(1, 1, 1, 1, 3) (2, 1, 0, 1, 3)\n",
      "(1, 1, 1, 1, 4) (2, 1, 0, 1, 4)\n",
      "(1, 1, 1, 1, 5) (2, 1, 0, 1, 5)\n",
      "(1, 1, 1, 1, 6) (2, 1, 0, 1, 6)\n",
      "(1, 1, 1, 1, 7) (2, 1, 0, 1, 7)\n",
      "(1, 1, 1, 2, 0) (1, 2, 0, 2, 0)\n",
      "(1, 1, 1, 2, 1) (1, 2, 0, 2, 1)\n",
      "(1, 1, 1, 2, 2) (1, 2, 0, 2, 2)\n",
      "(1, 1, 1, 2, 3) (1, 2, 0, 2, 3)\n",
      "(1, 1, 1, 2, 4) (1, 2, 0, 2, 4)\n",
      "(1, 1, 1, 2, 5) (1, 2, 0, 2, 5)\n",
      "(1, 1, 1, 2, 6) (1, 2, 0, 2, 6)\n",
      "(1, 1, 1, 2, 7) (1, 2, 0, 2, 7)\n"
     ]
    }
   ],
   "source": [
    "for d in sorted (list(gg.cell_i (3,192))):\n",
    "    e = gg.a3(d)\n",
    "    if d != e:\n",
    "        print (gg.d2i(d)[1:], gg.d2i(e)[1:])#, gg.a3(d))"
   ]
  },
  {
   "cell_type": "code",
   "execution_count": null,
   "metadata": {},
   "outputs": [],
   "source": [
    "hh = VoxMap.from_shape (1,1,2)\n",
    "hh.remove_face (41)"
   ]
  },
  {
   "cell_type": "code",
   "execution_count": null,
   "metadata": {},
   "outputs": [
    {
     "data": {
      "text/plain": [
       "3-gMap of 80 darts:\n",
       "  # 0-cells: 12\n",
       "  # 1-cells: 20\n",
       "  # 2-cells: 10\n",
       "  # 3-cells: 1\n",
       "  # ccs    : 1"
      ]
     },
     "execution_count": null,
     "metadata": {},
     "output_type": "execute_result"
    }
   ],
   "source": [
    "hh"
   ]
  },
  {
   "cell_type": "code",
   "execution_count": null,
   "metadata": {},
   "outputs": [],
   "source": [
    "for e in 2,15,26,38:\n",
    "    hh.remove_edge (e)\n"
   ]
  },
  {
   "cell_type": "code",
   "execution_count": null,
   "metadata": {},
   "outputs": [
    {
     "data": {
      "text/plain": [
       "3-gMap of 64 darts:\n",
       "  # 0-cells: 12\n",
       "  # 1-cells: 16\n",
       "  # 2-cells: 6\n",
       "  # 3-cells: 1\n",
       "  # ccs    : 1"
      ]
     },
     "execution_count": null,
     "metadata": {},
     "output_type": "execute_result"
    }
   ],
   "source": [
    "hh"
   ]
  },
  {
   "cell_type": "code",
   "execution_count": null,
   "metadata": {},
   "outputs": [
    {
     "name": "stdout",
     "output_type": "stream",
     "text": [
      "=======================================================================================================================================================================================================\n",
      " D# |   0  1  4  5  6  7  8  9 10 11 12 13 16 17 18 19 20 21 22 23 24 25 28 29 30 31 32 33 34 35 36 37 48 49 50 51 52 53 56 57 60 61 62 63 72 73 74 75 76 77 80 81 84 85 86 87 88 89 90 91 92 93 94 95 \n",
      "-------------------------------------------------------------------------------------------------------------------------------------------------------------------------------------------------------\n",
      " α0 |   1  0  5  4  7  6  9  8 11 10 13 12 17 16 19 18 21 20 23 22 25 24 29 28 31 30 33 32 35 34 37 36 49 48 51 50 53 52 57 56 61 60 63 62 73 72 75 74 77 76 81 80 85 84 87 86 89 88 91 90 93 92 95 94 \n",
      " α1 |   7 48 53  6  5  0 57 10  9 12 11 60 23 18 17 20 19 22 21 16 31 72 77 30 29 24 81 34 33 36 35 84  1 50 49 52 51  4 63  8 13 62 61 56 25 74 73 76 75 28 87 32 37 86 85 80 95 90 89 92 91 94 93 88 \n",
      " α2 |   9  8 32 33 17 16  1  0 23 22 24 25  7  6 34 35 30 31 11 10 12 13 37 36 20 21  4  5 18 19 29 28 57 56 88 89 80 81 49 48 72 73 94 95 60 61 93 92 85 84 52 53 77 76 91 90 50 51 87 86 75 74 62 63 \n",
      " α3 |   0  1  4  5  6  7  8  9 10 11 12 13 16 17 18 19 20 21 22 23 24 25 28 29 30 31 32 33 34 35 36 37 48 49 50 51 52 53 56 57 60 61 62 63 72 73 74 75 76 77 80 81 84 85 86 87 88 89 90 91 92 93 94 95 \n",
      "=======================================================================================================================================================================================================\n"
     ]
    }
   ],
   "source": [
    "hh.print_alpha_table()"
   ]
  },
  {
   "cell_type": "code",
   "execution_count": null,
   "metadata": {},
   "outputs": [],
   "source": []
  }
 ],
 "metadata": {
  "kernelspec": {
   "display_name": "Python 3",
   "language": "python",
   "name": "python3"
  }
 },
 "nbformat": 4,
 "nbformat_minor": 4
}
