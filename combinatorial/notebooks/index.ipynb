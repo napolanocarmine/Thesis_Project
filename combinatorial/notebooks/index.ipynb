{
 "cells": [
  {
   "cell_type": "code",
   "execution_count": null,
   "metadata": {},
   "outputs": [],
   "source": [
    "#hide\n"
   ]
  },
  {
   "cell_type": "markdown",
   "metadata": {},
   "source": [
    "# n-Gmaps\n",
    "\n",
    "> Implementations of gmaps in Python."
   ]
  },
  {
   "cell_type": "markdown",
   "metadata": {},
   "source": [
    "Quick start\n",
    "\n",
    "1. git clone this repo\n",
    "2. `export PYTHONPATH=$(pwd)`\n",
    "3. `make` will generate the importable python files from the notebooks\n",
    "3. `jupyter notebook`\n"
   ]
  },
  {
   "cell_type": "markdown",
   "metadata": {},
   "source": [
    "## Construction of n-Gmaps\n",
    "\n",
    "Currently there are three options to construct an n-Gmap:\n",
    "\n",
    "1. Zoo examples. There is a collection of gmaps in `combinatorial.zoo`\n",
    "1. 2D maps representing pixel R $\\times$ C pixel arrays\n",
    "1. 2D maps maps from labeled images, such as those found in `combinatorial.zoo_labels`"
   ]
  },
  {
   "cell_type": "code",
   "execution_count": null,
   "metadata": {},
   "outputs": [],
   "source": [
    "from combinatorial.gmaps import nGmap\n",
    "from combinatorial.zoo import G2_SQUARE_BOUNDED"
   ]
  },
  {
   "cell_type": "markdown",
   "metadata": {},
   "source": [
    "### Constructing n-Gmaps from toy examples\n",
    "\n",
    "see the other strings and their comment in `zoo` notebook"
   ]
  },
  {
   "cell_type": "code",
   "execution_count": null,
   "metadata": {},
   "outputs": [
    {
     "name": "stdout",
     "output_type": "stream",
     "text": [
      "    1 0 3 2 5 4 7 6\n",
      "    7 2 1 4 3 6 5 0\n",
      "    0 1 2 3 4 5 6 7\n",
      "\n"
     ]
    }
   ],
   "source": [
    "print (G2_SQUARE_BOUNDED)   #  this is just a multi-line string"
   ]
  },
  {
   "cell_type": "code",
   "execution_count": null,
   "metadata": {},
   "outputs": [
    {
     "data": {
      "text/plain": [
       "2-gMap of 8 darts:\n",
       "  # 0-cells: 4\n",
       "  # 1-cells: 4\n",
       "  # 2-cells: 1\n",
       "  # ccs    : 1"
      ]
     },
     "execution_count": null,
     "metadata": {},
     "output_type": "execute_result"
    }
   ],
   "source": [
    "G = nGmap.from_string (G2_SQUARE_BOUNDED)\n",
    "G"
   ]
  },
  {
   "cell_type": "code",
   "execution_count": null,
   "metadata": {},
   "outputs": [
    {
     "name": "stdout",
     "output_type": "stream",
     "text": [
      "===============================\n",
      " D# |   0  1  2  3  4  5  6  7 \n",
      "-------------------------------\n",
      " α0 |   1  0  3  2  5  4  7  6 \n",
      " α1 |   7  2  1  4  3  6  5  0 \n",
      " α2 |   0  1  2  3  4  5  6  7 \n",
      "===============================\n"
     ]
    }
   ],
   "source": [
    "G.print_alpha_table()"
   ]
  },
  {
   "cell_type": "code",
   "execution_count": null,
   "metadata": {},
   "outputs": [
    {
     "data": {
      "text/plain": [
       "(2, 8, True)"
      ]
     },
     "execution_count": null,
     "metadata": {},
     "output_type": "execute_result"
    }
   ],
   "source": [
    "# some members, dimension, number of darts, validity check\n",
    "G.n, G.n_darts, G.is_valid"
   ]
  },
  {
   "cell_type": "markdown",
   "metadata": {},
   "source": [
    "### Construction of Pixel Maps\n",
    "\n",
    "Construct a 2-gMap that corresponds to 2D images -- either bounded or unbounded ones.\n",
    "The unbounded PixelMaps have the additional background face."
   ]
  },
  {
   "cell_type": "code",
   "execution_count": null,
   "metadata": {},
   "outputs": [
    {
     "data": {
      "image/png": "[encoded data removed]",
      "text/plain": [
       "<Figure size 432x288 with 1 Axes>"
      ]
     },
     "metadata": {},
     "output_type": "display_data"
    }
   ],
   "source": [
    "from combinatorial.pixelmap import PixelMap\n",
    "\n",
    "# bounded pixel map exmple\n",
    "bpm = PixelMap.from_shape(1,2)\n",
    "bpm.plot_faces()"
   ]
  },
  {
   "cell_type": "code",
   "execution_count": null,
   "metadata": {},
   "outputs": [
    {
     "name": "stdout",
     "output_type": "stream",
     "text": [
      "=======================================================\n",
      " D# |   0  1  2  3  4  5  6  7  8  9 10 11 12 13 14 15 \n",
      "-------------------------------------------------------\n",
      " α0 |   1  0  3  2  5  4  7  6  9  8 11 10 13 12 15 14 \n",
      " α1 |   7  2  1  4  3  6  5  0 15 10  9 12 11 14 13  8 \n",
      " α2 |   0  1 15 14  4  5  6  7  8  9 10 11 12 13  3  2 \n",
      "=======================================================\n"
     ]
    },
    {
     "data": {
      "text/plain": [
       "2-gMap of 16 darts:\n",
       "  # 0-cells: 6\n",
       "  # 1-cells: 7\n",
       "  # 2-cells: 2\n",
       "  # ccs    : 1"
      ]
     },
     "execution_count": null,
     "metadata": {},
     "output_type": "execute_result"
    }
   ],
   "source": [
    "bpm.print_alpha_table()\n",
    "bpm\n"
   ]
  },
  {
   "cell_type": "code",
   "execution_count": null,
   "metadata": {},
   "outputs": [
    {
     "data": {
      "text/plain": [
       "2-gMap of 28 darts:\n",
       "  # 0-cells: 6\n",
       "  # 1-cells: 7\n",
       "  # 2-cells: 3\n",
       "  # ccs    : 1"
      ]
     },
     "execution_count": null,
     "metadata": {},
     "output_type": "execute_result"
    }
   ],
   "source": [
    "# unbounded pixel map example\n",
    "# note the extra 2-cell (background)\n",
    "\n",
    "upm = PixelMap.from_shape(1,2, bounded=False)\n",
    "upm"
   ]
  },
  {
   "cell_type": "code",
   "execution_count": null,
   "metadata": {},
   "outputs": [
    {
     "name": "stdout",
     "output_type": "stream",
     "text": [
      "===========================================================================================\n",
      " D# |   0  1  2  3  4  5  6  7  8  9 10 11 12 13 14 15 16 17 18 19 20 21 22 23 24 25 26 27 \n",
      "-------------------------------------------------------------------------------------------\n",
      " α0 |   1  0  3  2  5  4  7  6  9  8 11 10 13 12 15 14 17 16 19 18 21 20 23 22 25 24 27 26 \n",
      " α1 |   7  2  1  4  3  6  5  0 15 10  9 12 11 14 13  8 27 18 17 20 19 22 21 24 23 26 25 16 \n",
      " α2 |  27 26 15 14 19 18 17 16 25 24 23 22 21 20  3  2  7  6  5  4 13 12 11 10  9  8  1  0 \n",
      "===========================================================================================\n"
     ]
    }
   ],
   "source": [
    "upm.print_alpha_table()"
   ]
  },
  {
   "cell_type": "markdown",
   "metadata": {},
   "source": [
    "## Iteration techniques\n",
    "\n",
    "\n",
    "### Dart iteration\n",
    "\n",
    "The `darts` member is a generator, so you can iterate (rather than creating unnecessary copies):"
   ]
  },
  {
   "cell_type": "code",
   "execution_count": null,
   "metadata": {},
   "outputs": [
    {
     "name": "stdout",
     "output_type": "stream",
     "text": [
      "0 1 2 3 4 5 6 7 8 9 10 11 12 13 14 15 "
     ]
    }
   ],
   "source": [
    "for d in bpm.darts:\n",
    "    print (d, end = ' ')"
   ]
  },
  {
   "cell_type": "code",
   "execution_count": null,
   "metadata": {},
   "outputs": [
    {
     "data": {
      "text/plain": [
       "{0, 1, 2, 3, 4, 5, 6, 7, 8, 9, 10, 11, 12, 13, 14, 15}"
      ]
     },
     "execution_count": null,
     "metadata": {},
     "output_type": "execute_result"
    }
   ],
   "source": [
    "set (bpm.darts)"
   ]
  },
  {
   "cell_type": "markdown",
   "metadata": {},
   "source": [
    "### Orbit iteration = i-Cells\n",
    "\n",
    "Similarly, orbits are generators rather than sets.\n",
    "\n",
    "Lets have a look at 0-cells, 1-cells, and 2-cells containing dart 6.\n",
    "The `cell_i` mambers are shortcuts to the `orbit` members."
   ]
  },
  {
   "cell_type": "code",
   "execution_count": null,
   "metadata": {},
   "outputs": [
    {
     "data": {
      "text/plain": [
       "({5, 6}, {5, 6})"
      ]
     },
     "execution_count": null,
     "metadata": {},
     "output_type": "execute_result"
    }
   ],
   "source": [
    "set (bpm.cell_0 (6)),   set (bpm.orbit ([1,2], 6))"
   ]
  },
  {
   "cell_type": "code",
   "execution_count": null,
   "metadata": {},
   "outputs": [
    {
     "data": {
      "text/plain": [
       "({6, 7}, {6, 7})"
      ]
     },
     "execution_count": null,
     "metadata": {},
     "output_type": "execute_result"
    }
   ],
   "source": [
    "set (bpm.cell_1 (6)),   set (bpm.orbit ([0,2], 6))"
   ]
  },
  {
   "cell_type": "code",
   "execution_count": null,
   "metadata": {},
   "outputs": [
    {
     "data": {
      "text/plain": [
       "({0, 1, 2, 3, 4, 5, 6, 7}, {0, 1, 2, 3, 4, 5, 6, 7})"
      ]
     },
     "execution_count": null,
     "metadata": {},
     "output_type": "execute_result"
    }
   ],
   "source": [
    "set (bpm.cell_2 (6)),   set (bpm.orbit ([0,1], 6))"
   ]
  },
  {
   "cell_type": "markdown",
   "metadata": {},
   "source": [
    "## Dual\n",
    "\n",
    "The nice feature of gMaps is that the dual has reverted the involutions.\n",
    "Represented by tables, we can thus have an in-place dual view.\n",
    "Similar to numpy transpose we have member `nGmap.D` to access gmap's dual."
   ]
  },
  {
   "cell_type": "code",
   "execution_count": null,
   "metadata": {},
   "outputs": [
    {
     "name": "stdout",
     "output_type": "stream",
     "text": [
      "Primal:  2-gMap of 16 darts:\n",
      "  # 0-cells: 6\n",
      "  # 1-cells: 7\n",
      "  # 2-cells: 2\n",
      "  # ccs    : 1\n",
      " Dual:  2-gMap of 16 darts:\n",
      "  # 0-cells: 2\n",
      "  # 1-cells: 7\n",
      "  # 2-cells: 6\n",
      "  # ccs    : 1\n",
      "\n"
     ]
    }
   ],
   "source": [
    "print ('Primal: ', bpm, 'Dual: ', bpm.D)\n"
   ]
  },
  {
   "cell_type": "code",
   "execution_count": null,
   "metadata": {},
   "outputs": [
    {
     "name": "stdout",
     "output_type": "stream",
     "text": [
      "Involutions of the primal: \n",
      "=======================================================\n",
      " D# |   0  1  2  3  4  5  6  7  8  9 10 11 12 13 14 15 \n",
      "-------------------------------------------------------\n",
      " α0 |   1  0  3  2  5  4  7  6  9  8 11 10 13 12 15 14 \n",
      " α1 |   7  2  1  4  3  6  5  0 15 10  9 12 11 14 13  8 \n",
      " α2 |   0  1 15 14  4  5  6  7  8  9 10 11 12 13  3  2 \n",
      "=======================================================\n",
      "Involutions of the dual:\n",
      "=======================================================\n",
      " D# |   0  1  2  3  4  5  6  7  8  9 10 11 12 13 14 15 \n",
      "-------------------------------------------------------\n",
      " α0 |   0  1 15 14  4  5  6  7  8  9 10 11 12 13  3  2 \n",
      " α1 |   7  2  1  4  3  6  5  0 15 10  9 12 11 14 13  8 \n",
      " α2 |   1  0  3  2  5  4  7  6  9  8 11 10 13 12 15 14 \n",
      "=======================================================\n"
     ]
    }
   ],
   "source": [
    "print ('Involutions of the primal: ')\n",
    "bpm.print_alpha_table()\n",
    "print ('Involutions of the dual:')\n",
    "bpm.D.print_alpha_table()"
   ]
  },
  {
   "cell_type": "markdown",
   "metadata": {},
   "source": [
    "## Removal and contraction\n",
    "\n",
    "n-Gmaps allow to remove (contract) i-cells that are incident at most two i+1 (i-1) cells.\n",
    "Let's remove the edge between the labels ..."
   ]
  },
  {
   "cell_type": "code",
   "execution_count": null,
   "metadata": {},
   "outputs": [
    {
     "name": "stdout",
     "output_type": "stream",
     "text": [
      "===========================================\n",
      " D# |   0  1  4  5  6  7  8  9 10 11 12 13 \n",
      "-------------------------------------------\n",
      " α0 |   1  0  5  4  7  6  9  8 11 10 13 12 \n",
      " α1 |   7  8 13  6  5  0  1 10  9 12 11  4 \n",
      " α2 |   0  1  4  5  6  7  8  9 10 11 12 13 \n",
      "===========================================\n"
     ]
    },
    {
     "data": {
      "image/png": "[encoded data removed]",
      "text/plain": [
       "<Figure size 432x288 with 1 Axes>"
      ]
     },
     "metadata": {},
     "output_type": "display_data"
    }
   ],
   "source": [
    "bpm.remove_edge(2)\n",
    "bpm.print_alpha_table()\n",
    "bpm.plot_faces()"
   ]
  },
  {
   "cell_type": "markdown",
   "metadata": {},
   "source": [
    "... and lets remove two vertices.\n",
    "Note that the vertex containing dart 1 can be equivalently removed by contracting the corresponding face of the dual."
   ]
  },
  {
   "cell_type": "code",
   "execution_count": null,
   "metadata": {},
   "outputs": [
    {
     "name": "stdout",
     "output_type": "stream",
     "text": [
      "===============================\n",
      " D# |   0  5  6  7  9 10 11 12 \n",
      "-------------------------------\n",
      " α0 |   9 12  7  6  0 11 10  5 \n",
      " α1 |   7  6  5  0 10  9 12 11 \n",
      " α2 |   0  5  6  7  9 10 11 12 \n",
      "===============================\n"
     ]
    },
    {
     "data": {
      "image/png": "[encoded data removed]",
      "text/plain": [
       "<Figure size 432x288 with 1 Axes>"
      ]
     },
     "metadata": {},
     "output_type": "display_data"
    }
   ],
   "source": [
    "bpm.D.contract_face(1)  #  bpm.remove_vertex(1) would do the same job\n",
    "bpm.remove_vertex(4)\n",
    "\n",
    "bpm.print_alpha_table()\n",
    "bpm.plot_faces()"
   ]
  },
  {
   "cell_type": "markdown",
   "metadata": {},
   "source": [
    "## 2-gMaps from labels\n",
    "\n",
    "3-faces spiral example.\n",
    "\n",
    "1. Pick some label image, e.g, from `zoo_labels`\n",
    "1. create a 2-gMap out of the label image\n",
    "1. remove edges and vertices\n",
    "1. plot it"
   ]
  },
  {
   "cell_type": "code",
   "execution_count": null,
   "metadata": {},
   "outputs": [
    {
     "name": "stdout",
     "output_type": "stream",
     "text": [
      ". . . . . . . . . w w w w w w w w w w w w w\n",
      ". w w w w w w w . w . . . . . . . . . . . w\n",
      ". w . . . . . w . w . w w w w w w w w w . w\n",
      ". w . w w w . w . w . w . . . . . . . w . w\n",
      ". w . w . w . w . w . w . w w w w w . w . w\n",
      ". w . w . w w w . w . w . w . . . w . w . w\n",
      ". w . w . . . . . w . w . w . w . w . w . w\n",
      ". w . w w w w w w w . w . w . w . . . w . w\n",
      ". w . . . . . . . . . w . w . w w w w w . w\n",
      ". w w w w w w w w w w w . w . . . . . . . w\n",
      ". . . . . . . . . . . . . w w w w w w w w w\n",
      "\n"
     ]
    }
   ],
   "source": [
    "# Similar to gmap-zoo `G2_...` strings, `L2_SPIRAL_WW` is just a multi-line string.\n",
    "\n",
    "from combinatorial.zoo_labels import L2_SPIRAL_WB, str2labels\n",
    "\n",
    "print (L2_SPIRAL_WB)"
   ]
  },
  {
   "cell_type": "code",
   "execution_count": null,
   "metadata": {},
   "outputs": [
    {
     "data": {
      "text/plain": [
       "(11, 22, 3)"
      ]
     },
     "execution_count": null,
     "metadata": {},
     "output_type": "execute_result"
    }
   ],
   "source": [
    "# convert the string to an RGB image\n",
    "\n",
    "from combinatorial.pixelmap import LabelMap\n",
    "\n",
    "image = str2labels (L2_SPIRAL_WB)\n",
    "image.shape"
   ]
  },
  {
   "cell_type": "code",
   "execution_count": null,
   "metadata": {},
   "outputs": [
    {
     "data": {
      "text/plain": [
       "2-gMap of 1936 darts:\n",
       "  # 0-cells: 276\n",
       "  # 1-cells: 517\n",
       "  # 2-cells: 242\n",
       "  # ccs    : 1"
      ]
     },
     "execution_count": null,
     "metadata": {},
     "output_type": "execute_result"
    }
   ],
   "source": [
    "# construct a 2-gMap out of the lables\n",
    "\n",
    "lm_spiral = LabelMap.from_labels (image)\n",
    "lm_spiral"
   ]
  },
  {
   "cell_type": "code",
   "execution_count": null,
   "metadata": {},
   "outputs": [
    {
     "data": {
      "text/plain": [
       "2-gMap of 8 darts:\n",
       "  # 0-cells: 2\n",
       "  # 1-cells: 3\n",
       "  # 2-cells: 2\n",
       "  # ccs    : 1"
      ]
     },
     "execution_count": null,
     "metadata": {},
     "output_type": "execute_result"
    }
   ],
   "source": [
    "# simplify the 2-gMap\n",
    "\n",
    "lm_spiral.remove_edges()\n",
    "lm_spiral.remove_vertices()\n",
    "lm_spiral"
   ]
  },
  {
   "cell_type": "code",
   "execution_count": null,
   "metadata": {},
   "outputs": [
    {
     "data": {
      "image/png": "[encoded data removed]",
      "text/plain": [
       "<Figure size 432x288 with 1 Axes>"
      ]
     },
     "metadata": {},
     "output_type": "display_data"
    }
   ],
   "source": [
    "lm_spiral.plot(number_darts=False)"
   ]
  }
 ],
 "metadata": {
  "kernelspec": {
   "display_name": "Python 3",
   "language": "python",
   "name": "python3"
  }
 },
 "nbformat": 4,
 "nbformat_minor": 2
}
