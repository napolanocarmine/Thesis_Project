{
 "cells": [
  {
   "cell_type": "code",
   "execution_count": 12,
   "source": [
    "import numpy as np"
   ],
   "outputs": [],
   "metadata": {
    "tags": []
   }
  },
  {
   "cell_type": "markdown",
   "source": [
    "$H_n = 2^n n! = (2n)!! $ is number of darts in n-dimensional hypercube, n = 0..."
   ],
   "metadata": {}
  },
  {
   "cell_type": "code",
   "execution_count": 13,
   "source": [
    "# number of dart in n-dimensional hypercubes\r\n",
    "H = [2**i * np.math.factorial (i) for i in range (11)]\r\n",
    "H"
   ],
   "outputs": [
    {
     "output_type": "execute_result",
     "data": {
      "text/plain": [
       "[1, 2, 8, 48, 384, 3840, 46080, 645120, 10321920, 185794560, 3715891200]"
      ]
     },
     "metadata": {},
     "execution_count": 13
    }
   ],
   "metadata": {}
  },
  {
   "cell_type": "code",
   "execution_count": 14,
   "source": [
    "# How many bits are needed to represent dart indices (signed because we want to store deltas in the same table, too)\r\n",
    "\r\n",
    "for n in range (1,11):\r\n",
    "    nDarts = 2**n * np.product (range (1,n+1))  # n^2 n! darts of hypercube\r\n",
    "    print (f'{n} {nDarts} {np.ceil (1 + np.log2 (nDarts)):.0f}')"
   ],
   "outputs": [
    {
     "output_type": "stream",
     "name": "stdout",
     "text": [
      "1 2 2\n",
      "2 8 4\n",
      "3 48 7\n",
      "4 384 10\n",
      "5 3840 13\n",
      "6 46080 17\n",
      "7 645120 21\n",
      "8 10321920 25\n",
      "9 185794560 29\n",
      "10 -579076096 nan\n"
     ]
    },
    {
     "output_type": "stream",
     "name": "stderr",
     "text": [
      "C:\\Users\\CARMINE\\AppData\\Local\\Temp/ipykernel_22740/626728141.py:4: RuntimeWarning: overflow encountered in long_scalars\n",
      "  nDarts = 2**n * np.product (range (1,n+1))  # n^2 n! darts of hypercube\n",
      "C:\\Users\\CARMINE\\AppData\\Local\\Temp/ipykernel_22740/626728141.py:5: RuntimeWarning: invalid value encountered in log2\n",
      "  print (f'{n} {nDarts} {np.ceil (1 + np.log2 (nDarts)):.0f}')\n"
     ]
    }
   ],
   "metadata": {
    "tags": []
   }
  },
  {
   "cell_type": "code",
   "execution_count": 15,
   "source": [
    "import itertools\r\n",
    "\r\n",
    "def no_i_cells (i, dimensions):\r\n",
    "    \"\"\"Number of i-cells in n-dimensional cubical complex given by n dimensions\r\n",
    "    \r\n",
    "    Works roughly as follows:\r\n",
    "        Sum up products of all possible i-subsets times their n-i compplements increased bu 1. \r\n",
    "        Figure out what happens for an SxRxC 3D-volume \r\n",
    "        \r\n",
    "        # 0 cells = (S+1)*(R+1)*(C+1)\r\n",
    "        # 1 cells = S*(R+1)*(C+1) + R*(S+1)*(C+1) + C*(S+1)*(R+1)\r\n",
    "        # 2 cells = R*C*(S+1) + S*C*(R+1) + S*R*(C+1)\r\n",
    "        # 3 cells = S*R*C\r\n",
    "        \r\n",
    "    Params:\r\n",
    "        i - dimension of cells in query\r\n",
    "        dimensions - np.array of n dimensions\r\n",
    "    \"\"\"\r\n",
    "\r\n",
    "    n = len (dimensions)\r\n",
    "    N = {i for i in range (n)}\r\n",
    "    s = 0\r\n",
    "    for i0 in (itertools.combinations (np.arange (n), i)):\r\n",
    "        i0 = list (i0)\r\n",
    "        i1 = list (N - set (i0))\r\n",
    "        d0 = dimensions[i0]\r\n",
    "        d1 = dimensions[i1] + 1\r\n",
    "        p0 = np.product (d0)\r\n",
    "        p1 = np.product (d1)\r\n",
    "\r\n",
    "        s += p0*p1\r\n",
    "#     print (s)\r\n",
    "    return s"
   ],
   "outputs": [],
   "metadata": {}
  },
  {
   "cell_type": "markdown",
   "source": [
    "# $n$: dimensionslity and shape"
   ],
   "metadata": {}
  },
  {
   "cell_type": "code",
   "execution_count": 16,
   "source": [
    "n          = np.random.randint (2,6) #  up to 5 dimensions, otherwise it take long\r\n",
    "dimensions = np.random.randint (1, 5, size = n) # shape of the voxel scene \r\n",
    "\r\n",
    "# n, dimensions = 7, np.array ([1,1,1,1,1,1,1], dtype=int)\r\n",
    "n, dimensions = 5, np.array ([3,1,3,1,2],     dtype=int)\r\n",
    "# n, dimensions = 3, np.array ([2,2,2],     dtype=int)\r\n",
    "n, dimensions = 2, np.array ([2,3],     dtype=int)\r\n",
    "\r\n",
    "\r\n",
    "\r\n",
    "dim_str = \"x\".join( [str(i) for i in dimensions])\r\n",
    "\r\n",
    "print (f\"We'll construct an unbounded {n}-Gmap of {dim_str}+1 {n}-cells. Membranes have {2*H[n-1]} darts.\")\r\n",
    "print ('We expect to see:')\r\n",
    "for i in range (0,1+n):\r\n",
    "    print (f'   # {i}-cells ... {no_i_cells (i,dimensions)}{\" interior + 1 background\" if i==n else \"\"}')"
   ],
   "outputs": [
    {
     "output_type": "stream",
     "name": "stdout",
     "text": [
      "We'll construct an unbounded 2-Gmap of 2x3+1 2-cells. Membranes have 4 darts.\n",
      "We expect to see:\n",
      "   # 0-cells ... 12\n",
      "   # 1-cells ... 17\n",
      "   # 2-cells ... 6 interior + 1 background\n"
     ]
    }
   ],
   "metadata": {}
  },
  {
   "cell_type": "code",
   "execution_count": 17,
   "source": [
    "# Radix weights to be used in dart to tuple and vice versa\r\n",
    "\r\n",
    "R = np.hstack ((dimensions+1, [H[n], 1]))\r\n",
    "W = np.cumproduct( R[::-1]) [::-1]\r\n",
    "np.vstack ((R,W))"
   ],
   "outputs": [
    {
     "output_type": "execute_result",
     "data": {
      "text/plain": [
       "array([[ 3,  4,  8,  1],\n",
       "       [96, 32,  8,  1]])"
      ]
     },
     "metadata": {},
     "execution_count": 17
    }
   ],
   "metadata": {}
  },
  {
   "cell_type": "markdown",
   "source": [
    "# $D$: Set of darts in all membranes"
   ],
   "metadata": {}
  },
  {
   "cell_type": "code",
   "execution_count": 18,
   "source": [
    "# iterate over all positions\r\n",
    "\r\n",
    "D = set()\r\n",
    "\r\n",
    "import itertools\r\n",
    "for p in itertools.product( *(range (m+1) for m in dimensions)):\r\n",
    "    GE = p >= dimensions\r\n",
    "#     print (p, GE, end=' ')\r\n",
    "    if sum(GE) == 0:\r\n",
    "#         print ('adding all membranes : ', end = ' ')\r\n",
    "        f,t = 0,H[n]\r\n",
    "    if sum(GE) == 1:\r\n",
    "        a = np.argmax(GE)\r\n",
    "#         print (f'adding   {a}-membrane  : ', end = ' ')\r\n",
    "        f,t = a * (H[n] // n), (a+1) * (H[n] // n)\r\n",
    "    if sum(GE) >  1:\r\n",
    "#         print ('... skipping ', end = '')\r\n",
    "        f,t = -1,-1\r\n",
    "#     print (f,t,end=' ... ')\r\n",
    "    for s in range (f,t):\r\n",
    "        tup = p + (s,)\r\n",
    "        dart = tup @ W[1:]\r\n",
    "#         print (dart, end=' ')\r\n",
    "        assert not dart in D\r\n",
    "        D |= {dart}\r\n",
    "        \r\n",
    "#     print()"
   ],
   "outputs": [],
   "metadata": {
    "tags": []
   }
  },
  {
   "cell_type": "markdown",
   "source": [
    "# Involutions"
   ],
   "metadata": {}
  },
  {
   "cell_type": "code",
   "execution_count": 19,
   "source": [
    "LUT_ALPHA_STAR        = np.loadtxt(f'LUT/LUT_{n}D_alpha_star.tsv',            dtype=np.int64)\r\n",
    "LUT_DD                = np.loadtxt(f'LUT/LUT_{n}D_alpha_{n-1}_scenarios.tsv', dtype=np.int64).reshape(-1,3,n+1)\r\n",
    "LUT_PosDartDescriptor = np.loadtxt(f'LUT/LUT_{n}D_PosDartDescriptor.tsv',     dtype=np.uint8)"
   ],
   "outputs": [],
   "metadata": {}
  },
  {
   "cell_type": "code",
   "execution_count": 20,
   "source": [
    "# alphas for i != n-1\r\n",
    "\r\n",
    "m = dimensions\r\n",
    "scenarios = [\r\n",
    "    [2,2], # if bounding cell test fails  ( = 0)\r\n",
    "    [1,0], # if bounding cell test passes ( = 1), then [corner failed, corner passed]\r\n",
    "]\r\n",
    "def alpha_i (i,d):\r\n",
    "    tup = d % W[:-1] // W [1:]  \r\n",
    "    p,s = tup [:n], tup[-1]\r\n",
    "    \r\n",
    "    if i == n-1:\r\n",
    "        x_n1, I_n1, x_n2, I_n2 = LUT_PosDartDescriptor [s,:4]   # first 4 descriptors\r\n",
    "\r\n",
    "#       # i3: original scenario index\r\n",
    "#         i3 = 2\r\n",
    "#         if p[x_n1] == m [x_n1] * (1 - I_n1):\r\n",
    "#             i3 = 1\r\n",
    "#             if p[x_n2] == I_n2 * (m[x_n2]-1):\r\n",
    "#                 i3 = 0\r\n",
    "                \r\n",
    "        # i3: branch-less-coded scenario index\r\n",
    "        b =  int( p[x_n1] ==  m [x_n1]    * (1 - I_n1) )  # boundary \r\n",
    "        c =  int( p[x_n2] == (m[ x_n2]-1) *      I_n2  )  # corner\r\n",
    "        i3 = scenarios [b][c]\r\n",
    "\r\n",
    "        p += LUT_DD [s,i3,:n]\r\n",
    "        s  = LUT_DD [s,i3, n]\r\n",
    "    else:\r\n",
    "        s = LUT_ALPHA_STAR [s,i]\r\n",
    "        \r\n",
    "    tup [:n],tup[-1] = p,s\r\n",
    "    return tup @ W[1:] # tuple x radix"
   ],
   "outputs": [],
   "metadata": {}
  },
  {
   "cell_type": "markdown",
   "source": [
    "### involution checks"
   ],
   "metadata": {}
  },
  {
   "cell_type": "code",
   "execution_count": 21,
   "source": [
    "# # involution checks are performed during gmpa construction, too\r\n",
    "\r\n",
    "# if n == 2:\r\n",
    "#     assert all ([alpha_0(alpha_0 (d)) == d for d in D])\r\n",
    "#     assert all ([alpha_1(alpha_1 (d)) == d for d in D])\r\n",
    "#     assert all ([alpha_2(alpha_2 (d)) == d for d in D])\r\n",
    "\r\n",
    "#     assert all ([alpha_0(alpha_2(alpha_0(alpha_2(d)))) == d for d in D])\r\n",
    "# if n == 3:\r\n",
    "#     assert all ([alpha_0(alpha_0 (d)) == d for d in D])\r\n",
    "#     assert all ([alpha_1(alpha_1 (d)) == d for d in D])\r\n",
    "#     assert all ([alpha_2(alpha_2 (d)) == d for d in D])\r\n",
    "#     assert all ([alpha_3(alpha_3 (d)) == d for d in D])\r\n",
    "\r\n",
    "#     assert all ([alpha_0(alpha_2(alpha_0(alpha_2(d)))) == d for d in D])\r\n",
    "#     assert all ([alpha_0(alpha_3(alpha_0(alpha_3(d)))) == d for d in D])\r\n",
    "#     assert all ([alpha_1(alpha_3(alpha_1(alpha_3(d)))) == d for d in D])"
   ],
   "outputs": [],
   "metadata": {}
  },
  {
   "cell_type": "markdown",
   "source": [
    "# Sanity check with array-based nGmaps"
   ],
   "metadata": {}
  },
  {
   "cell_type": "code",
   "execution_count": 22,
   "source": [
    "from combinatorial.gmaps import nGmap"
   ],
   "outputs": [],
   "metadata": {}
  },
  {
   "cell_type": "code",
   "execution_count": 23,
   "source": [
    "A = np.full ((1+n,1+max(D)), -1)  # initialize with invalid darts (-1)\r\n",
    "\r\n",
    "for d in D:\r\n",
    "    for i in range (1+n):\r\n",
    "        A[i,d] = alpha_i(i,d)\r\n"
   ],
   "outputs": [],
   "metadata": {}
  },
  {
   "cell_type": "code",
   "execution_count": 24,
   "source": [
    "g = nGmap.from_alpha_array (A)\r\n",
    "\r\n",
    "assert g.is_valid\r\n",
    "\r\n",
    "# check the number of i-cells for given dimension\r\n",
    "assert g.no_ccs       == 1\r\n",
    "\r\n",
    "for i in range (1+n):\r\n",
    "    assert g.no_i_cells (i) == no_i_cells (i,dimensions) + (i == n) # count the extra background cell\r\n",
    "\r\n",
    "print (f'The {dim_str} hyper-volume resulted in unbounded', g, f' (note the already counted-in background {n}-cell)')"
   ],
   "outputs": [
    {
     "output_type": "stream",
     "name": "stdout",
     "text": [
      "The 2x3 hyper-volume resulted in unbounded 2-gMap of 68 darts:\n",
      "  # 0-cells: 12\n",
      "  # 1-cells: 17\n",
      "  # 2-cells: 7\n",
      "  # ccs    : 1\n",
      "  (note the already counted-in background 2-cell)\n"
     ]
    }
   ],
   "metadata": {}
  },
  {
   "cell_type": "markdown",
   "source": [
    "# Sequential membrane numbering\n",
    "\n",
    "Let's consider a $m_0 \\times  m_1 \\times  ...  \\times m_{n-1}$ hypervolume.\n",
    "\n",
    "- There will be $(1+m_a) \\prod_{i \\neq  a} m_i$ membranes orthogonal to axis $a$.\n",
    "\n",
    "- Hypercube will have $2n$ membranes. Each (double) membrane will have\n",
    "$\n",
    "2 \\frac{H_n}{2n} \n",
    "= \\frac{H_n}{n}\n",
    "= \\frac{2^n n!}{n}\n",
    "= 2 \\cdot 2^{n-1} (n-1)!\n",
    "= 2 H_{n-1} \n",
    "$\n",
    "\n",
    "darts. \n",
    "\n",
    "- there will be $k_n = 2 H_{n-1} \\cdot (1+m_a) \\cdot \\prod_{i \\neq  a} m_i $ darts orthogonal to axis $a$, c.f., the $n$ row-wise products of matrix $R$.\n",
    "\n",
    "- CS is the cumulative sum of vector $[0, k_0 ... k_{n-1}]$. It is used to:\n",
    "    - offset axis-restricted dart number to the axis-corresponding \"bin\" \n",
    "    - determine, given global dart $d$, which axis $a$ we are working with.\n",
    "\n",
    "## Radix per axis\n",
    "\n",
    "\n",
    "\n",
    "- $R$ is the following $n \\times (n+2)$ matrix\n",
    "\n",
    "$\n",
    "R = \n",
    "\\begin{pmatrix}\n",
    "1+m_0   &   m_1   & \\cdots & m_{n-1}    & 2 H_{n-1} & 1  \\\\\n",
    "  m_0   & 1+m_1   & \\cdots & m_{n-1}    & 2 H_{n-1} & 1  \\\\\n",
    "\\vdots  & \\vdots  & \\ddots & \\vdots     & 2 H_{n-1} & 1  \\\\\n",
    "  m_0   &   m_1   & \\cdots & 1+m_{n-1}  & 2 H_{n-1} & 1  \\\\\n",
    "\\end{pmatrix}\n",
    "$\n",
    "\n",
    "- $W$ is row-wise cummulative product of $R$. It is used to compute the radix machinery.\n",
    "\n"
   ],
   "metadata": {}
  },
  {
   "cell_type": "code",
   "execution_count": 25,
   "source": [
    "R = np.hstack ((\r\n",
    "    np.repeat ([dimensions], n, axis=0) + np.eye (n, dtype=int),\r\n",
    "    np.full (n,2*H[n-1]).reshape (n,-1),\r\n",
    "    np.full (n,1).reshape (n,-1)\r\n",
    "))\r\n",
    "\r\n",
    "W = np.cumproduct( R[:,::-1], axis=1) [:,::-1]\r\n",
    "W\r\n",
    "\r\n",
    "# n_membranes = [np.product (dimensions + np.eye (n, dtype=np.uint8) [i]) for i in range (n)]\r\n",
    "# assert sum (n_membranes) * 2*H[n-1] == g.n_darts\r\n",
    "# CS = np.cumsum ([0] + n_membranes)\r\n",
    "# CS *= 2*H[n-1]\r\n",
    "\r\n",
    "\r\n",
    "\r\n",
    "darts_per_axis = np.product (R, axis = 1)  # k_i\r\n",
    "assert darts_per_axis.sum() == g.n_darts\r\n",
    "CS = np.hstack (([0], np.cumsum (darts_per_axis)))\r\n"
   ],
   "outputs": [],
   "metadata": {}
  },
  {
   "cell_type": "code",
   "execution_count": 26,
   "source": [
    "def ps2d (p,s):\r\n",
    "    '''(p,s) to dart'''\r\n",
    "    a = s // (2*H[n-1]) # which axis\r\n",
    "    tup = np.zeros (1+n, dtype=int)\r\n",
    "    tup [:n] = p\r\n",
    "    tup [-1] = s % (2*H[n-1])\r\n",
    "    d  = W[a][1:] @ tup\r\n",
    "    d += CS[a]\r\n",
    "    return d"
   ],
   "outputs": [],
   "metadata": {}
  },
  {
   "cell_type": "code",
   "execution_count": 27,
   "source": [
    "def d2ps (d):\r\n",
    "    '''dart to (p,s)'''\r\n",
    "    a = (d >= CS[1:]).sum() # which axis\r\n",
    "    d -= CS[a]\r\n",
    "    \r\n",
    "    tup = d % W[a][:-1] // W[a][1:]\r\n",
    "    p,s = tup [:n], tup [-1]\r\n",
    "    s += a * (2*H[n-1])\r\n",
    "    return p,s"
   ],
   "outputs": [],
   "metadata": {
    "tags": []
   }
  },
  {
   "cell_type": "code",
   "execution_count": 28,
   "source": [
    "# test ps2d\r\n",
    "# for each axis\r\n",
    "# for each position (including +1 along that axis)\r\n",
    "for a in range (n):\r\n",
    "    for p in itertools.product( *(range (m) for m in dimensions + np.eye (n, dtype=int)[a])):\r\n",
    "        for s in range (a*(2*H[n-1]), (a+1)*(2*H[n-1])):\r\n",
    "            d = ps2d (p,s)\r\n",
    "            pp,ss = d2ps(d)\r\n",
    "            assert (pp == p).all()\r\n",
    "            assert ss == s\r\n"
   ],
   "outputs": [],
   "metadata": {}
  },
  {
   "cell_type": "code",
   "execution_count": 29,
   "source": [
    "for d in range (g.n_darts):\r\n",
    "    p,s = d2ps(d)\r\n",
    "    assert (ps2d (p,s) == d)\r\n",
    "#     if s == 32:\r\n",
    "#         print (f'{d:2} -> [{p[0]},{p[1]},{p[2]}] {s}')"
   ],
   "outputs": [],
   "metadata": {}
  },
  {
   "cell_type": "markdown",
   "source": [
    "# Sound\n",
    "\n",
    "to confirm all the cells of the notebook have run w/o error when rerstarting the kernel and re-running the notebook."
   ],
   "metadata": {}
  },
  {
   "cell_type": "code",
   "execution_count": 30,
   "source": [
    "from IPython.lib.display import Audio\r\n",
    "\r\n",
    "framerate = 4410\r\n",
    "play_time_seconds = 1\r\n",
    "\r\n",
    "\r\n",
    "t = np.linspace(0, play_time_seconds, framerate*play_time_seconds)\r\n",
    "audio_data = np.sin(2*np.pi*300*t) + np.sin(2*np.pi*240*t)\r\n",
    "Audio(audio_data, rate=framerate, autoplay=True)\r\n",
    "\r\n",
    "# import os\r\n",
    "# # os.system('''say \"All cells passed\"''');\r\n",
    "# os.system('say -v Laura \"Experiment úspešný!\"');"
   ],
   "outputs": [
    {
     "output_type": "execute_result",
     "data": {
      "text/html": [
       "\n",
       "                <audio  controls=\"controls\" autoplay=\"autoplay\">\n",
       "                    <source src=\"data:audio/wav;base64,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\" type=\"audio/wav\" />\n",
       "                    Your browser does not support the audio element.\n",
       "                </audio>\n",
       "              "
      ],
      "text/plain": [
       "<IPython.lib.display.Audio object>"
      ]
     },
     "metadata": {},
     "execution_count": 30
    }
   ],
   "metadata": {}
  }
 ],
 "metadata": {
  "kernelspec": {
   "name": "python3",
   "display_name": "Python 3.8.9 64-bit"
  },
  "language_info": {
   "name": "python",
   "version": "3.8.9",
   "mimetype": "text/x-python",
   "codemirror_mode": {
    "name": "ipython",
    "version": 3
   },
   "pygments_lexer": "ipython3",
   "nbconvert_exporter": "python",
   "file_extension": ".py"
  },
  "interpreter": {
   "hash": "794bd4b92b3596e0b5ae4f69a7dfafc38cdcdcd51c999c72d12e256123231552"
  }
 },
 "nbformat": 4,
 "nbformat_minor": 4
}