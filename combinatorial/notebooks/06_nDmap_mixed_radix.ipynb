{
 "cells": [
  {
   "cell_type": "code",
   "execution_count": null,
   "id": "6afaf603",
   "metadata": {},
   "outputs": [],
   "source": [
    "import numpy as np\n",
    "import itertools"
   ]
  },
  {
   "cell_type": "code",
   "execution_count": null,
   "id": "6e034858",
   "metadata": {},
   "outputs": [],
   "source": [
    "# radix vector\n",
    "R = np.array ([7,24,60,60,1])"
   ]
  },
  {
   "cell_type": "code",
   "execution_count": null,
   "id": "6e79ea91",
   "metadata": {},
   "outputs": [
    {
     "data": {
      "text/plain": [
       "array([[     7,     24,     60,     60,      1],\n",
       "       [604800,  86400,   3600,     60,      1]])"
      ]
     },
     "execution_count": null,
     "metadata": {},
     "output_type": "execute_result"
    }
   ],
   "source": [
    "# weight vector\n",
    "W = np.cumproduct( R[::-1]) [::-1]\n",
    "np.vstack ((R,W))"
   ]
  },
  {
   "cell_type": "code",
   "execution_count": null,
   "id": "e4566338",
   "metadata": {},
   "outputs": [],
   "source": [
    "def dhms2s (DHMS):\n",
    "    \"\"\"(days, hours, minutes, seconds) to seconds.\n",
    "    \n",
    "    Implemented as a dot product with right part of W\n",
    "    \n",
    "    DHMS : n x 4 matrix of n DHMS tuples\n",
    "    out  : n x 1 matrix of n seconds  \n",
    "    \"\"\"\n",
    "    return (DHMS @ W[1:]).reshape (-1,1)\n",
    "\n",
    "\n",
    "def s2dhms (s):\n",
    "    \"\"\"Seconds tp (days, hours, minutes, seconds).\n",
    "    \n",
    "    Implemented as\n",
    "        - modulo by left part of W\n",
    "        - followed by integral division by right part of W\n",
    "    \n",
    "    s    : n x 1 matrix of n seconds \n",
    "    out  : n x 4 matrix of n DHMS tuples\n",
    "    \"\"\"\n",
    "\n",
    "    return s % W[:-1] // W [1:] "
   ]
  },
  {
   "cell_type": "code",
   "execution_count": null,
   "id": "f3a69c84",
   "metadata": {},
   "outputs": [],
   "source": [
    "DHMS = np.zeros ((W[0],4), dtype = np.uint32)\n",
    "S    = np.arange (W[0], dtype=np.uint32).reshape (W[0],1)\n",
    "\n",
    "i = 0\n",
    "for d in range (R[0]):\n",
    "    for h in range (R[1]):\n",
    "        for m in range (R[2]):\n",
    "            for s in range (R[3]):\n",
    "\n",
    "                DHMS [i] = d,h,m,s\n",
    "                i += 1"
   ]
  },
  {
   "cell_type": "code",
   "execution_count": null,
   "id": "085845b8",
   "metadata": {},
   "outputs": [
    {
     "data": {
      "text/plain": [
       "array([[ 0,  0,  0,  0],\n",
       "       [ 0,  0,  0,  1],\n",
       "       [ 0,  0,  0,  2],\n",
       "       ...,\n",
       "       [ 6, 23, 59, 57],\n",
       "       [ 6, 23, 59, 58],\n",
       "       [ 6, 23, 59, 59]], dtype=uint32)"
      ]
     },
     "execution_count": null,
     "metadata": {},
     "output_type": "execute_result"
    }
   ],
   "source": [
    "DHMS"
   ]
  },
  {
   "cell_type": "code",
   "execution_count": null,
   "id": "6bb8ad0e",
   "metadata": {},
   "outputs": [
    {
     "data": {
      "text/plain": [
       "array([[     0],\n",
       "       [     1],\n",
       "       [     2],\n",
       "       ...,\n",
       "       [604797],\n",
       "       [604798],\n",
       "       [604799]], dtype=uint32)"
      ]
     },
     "execution_count": null,
     "metadata": {},
     "output_type": "execute_result"
    }
   ],
   "source": [
    "S"
   ]
  },
  {
   "cell_type": "code",
   "execution_count": null,
   "id": "12d9c06f",
   "metadata": {},
   "outputs": [
    {
     "data": {
      "text/plain": [
       "True"
      ]
     },
     "execution_count": null,
     "metadata": {},
     "output_type": "execute_result"
    }
   ],
   "source": [
    "(dhms2s (DHMS) == S).all()"
   ]
  },
  {
   "cell_type": "code",
   "execution_count": null,
   "id": "1eebd71d",
   "metadata": {},
   "outputs": [
    {
     "data": {
      "text/plain": [
       "True"
      ]
     },
     "execution_count": null,
     "metadata": {},
     "output_type": "execute_result"
    }
   ],
   "source": [
    "(s2dhms (S) == DHMS).all()"
   ]
  },
  {
   "cell_type": "code",
   "execution_count": null,
   "id": "5d47debe",
   "metadata": {},
   "outputs": [
    {
     "data": {
      "text/plain": [
       "array([[ 3,  2,  2,  2,  1,  2,  1],\n",
       "       [48, 16,  8,  4,  2,  2,  1]])"
      ]
     },
     "execution_count": null,
     "metadata": {},
     "output_type": "execute_result"
    }
   ],
   "source": [
    "## nD \n",
    "\n",
    "n = 3\n",
    "R = np.array ([5,2,4,2,3,2,2,2,1,2,1]) [9-2*n+1:]\n",
    "# R = np.array ([    4,2,3,2,2,2,1,2,1])\n",
    "\n",
    "W = np.cumproduct( R[::-1]) [::-1]\n",
    "np.vstack ((R,W))"
   ]
  },
  {
   "cell_type": "code",
   "execution_count": null,
   "id": "352ee221",
   "metadata": {},
   "outputs": [
    {
     "data": {
      "text/plain": [
       "array([2, 0, 0, 1, 0, 1])"
      ]
     },
     "execution_count": null,
     "metadata": {},
     "output_type": "execute_result"
    }
   ],
   "source": [
    "d = 83\n",
    "d_radix = s2dhms (d)\n",
    "d_radix\n",
    "# dhms2s (d_radix)"
   ]
  },
  {
   "cell_type": "markdown",
   "id": "0fc8c4dc",
   "metadata": {},
   "source": [
    "    0123 [0] = 0\n",
    "     123 [2] = 3\n",
    "     12  [0] = 1\n",
    "      2  [0] = 2"
   ]
  },
  {
   "cell_type": "code",
   "execution_count": null,
   "id": "0ee35a36",
   "metadata": {},
   "outputs": [],
   "source": [
    "def radix2axes (d_radix):\n",
    "    result = d_radix.copy()\n",
    "    axes = [i for i in np.arange (n)]\n",
    "    for i in range (0,len (d_radix),2):\n",
    "        j = d_radix[i]\n",
    "        ax = axes [j]\n",
    "        result [i] = ax\n",
    "        axes.remove (ax)\n",
    "    return result"
   ]
  },
  {
   "cell_type": "code",
   "execution_count": null,
   "id": "39bd0ad4",
   "metadata": {},
   "outputs": [],
   "source": [
    "def axes2radix (d_axes):\n",
    "    result = d_axes.copy()\n",
    "    axes = [i for i in np.arange (n)]\n",
    "\n",
    "    for i in range (0, len (d_axes), 2):\n",
    "        j = d_axes [i]\n",
    "        rad = list (axes).index (j)\n",
    "        result [i] = rad\n",
    "        axes.remove (j)\n",
    "    return result"
   ]
  },
  {
   "cell_type": "code",
   "execution_count": null,
   "id": "8bca0c7d",
   "metadata": {},
   "outputs": [
    {
     "data": {
      "text/plain": [
       "array([2, 0, 0])"
      ]
     },
     "execution_count": null,
     "metadata": {},
     "output_type": "execute_result"
    }
   ],
   "source": [
    "d_radix [::2]"
   ]
  },
  {
   "cell_type": "code",
   "execution_count": null,
   "id": "a1a1a1c5",
   "metadata": {},
   "outputs": [
    {
     "data": {
      "text/plain": [
       "array([2, 0, 0])"
      ]
     },
     "execution_count": null,
     "metadata": {},
     "output_type": "execute_result"
    }
   ],
   "source": [
    "axes2radix (_)"
   ]
  },
  {
   "cell_type": "code",
   "execution_count": null,
   "id": "8db91d14",
   "metadata": {},
   "outputs": [
    {
     "data": {
      "text/plain": [
       "array([2, 0, 0])"
      ]
     },
     "execution_count": null,
     "metadata": {},
     "output_type": "execute_result"
    }
   ],
   "source": [
    "radix2axes (_)"
   ]
  },
  {
   "cell_type": "markdown",
   "id": "c4fe7c1d-faf3-4fbc-a706-d20ec96a6bcd",
   "metadata": {
    "tags": []
   },
   "source": [
    "## nD "
   ]
  },
  {
   "cell_type": "code",
   "execution_count": null,
   "id": "04e0c84a-3e5b-4cc8-aaa5-84d02f04f434",
   "metadata": {},
   "outputs": [],
   "source": [
    "dimensions = [1,1,1,1,1,1,1] # shape of the voxel scene \n",
    "n = len (dimensions) # dimensionality\n",
    "\n",
    "R = np.array ([8,2, 7,2, 6,2, 5,2, 4,2, 3,2, 2,2, 1,2, 1]) [16-2*n:]    # e.g, for n = 3: [3,2, 2,2, 1,2, 1]\n",
    "W = np.cumproduct( R[::-1]) [::-1]\n",
    "\n",
    "\n",
    "nDarts = W[0] # darts of one n-cell\n",
    "assert nDarts == 2**n * np.product (np.arange (1,1+n)) == np.product (np.arange(2*n,1,-2))  # 2^n * n! == (2n)!!\n",
    "\n",
    "\n",
    "alpha_star = np.zeros ((nDarts,n+1), dtype=np.uint64)\n",
    "delta      = np.zeros ((nDarts,n  ), dtype=np. int64)\n",
    "\n",
    "for d in range (nDarts):\n",
    "    # alpha_star[0]\n",
    "    d_radix = s2dhms (d)\n",
    "    d_radix [-1] = 1 - d_radix[-1]\n",
    "    alpha_star[d,0] = dhms2s (d_radix)[0,0]\n",
    "\n",
    "    # alpha_star[n]\n",
    "    d_radix = s2dhms (d)\n",
    "    d_radix [1] = 1 - d_radix[1]\n",
    "    alpha_star[d,n] = dhms2s (d_radix)[0,0]\n",
    "    \n",
    "    # alpha_star[i] for 1<i<n\n",
    "    for i in range (1,n):\n",
    "        d_axes = radix2axes (s2dhms (d))\n",
    "        # swapping 2-tuples\n",
    "        a,b,c,e = d_axes[2*n-2*(i+1):2*n-2*(i+1)+4]\n",
    "        d_axes[2*n-2*(i+1):2*n-2*(i+1)+4] = c,e,a,b\n",
    "        alpha_star[d,i] = dhms2s (axes2radix (d_axes))[0,0]\n",
    "\n",
    "    # delta\n",
    "    xn1,in1 = radix2axes (s2dhms (d))[:2]\n",
    "    delta [d] = [-1,1][in1] * np.eye(n,dtype=int)[xn1]\n",
    "\n",
    "#     print table\n",
    "#     print (f'{d:2}', end=': ')\n",
    "#     for a in alpha_star[d]:\n",
    "#         print (f'{a:3}', end=' ')\n",
    "#     print (end = '   [')\n",
    "#     for de in delta[d]:\n",
    "#         print (f'{de:2}', end= ' ')\n",
    "#     print (']')"
   ]
  },
  {
   "cell_type": "code",
   "execution_count": null,
   "id": "a75b64f9",
   "metadata": {},
   "outputs": [],
   "source": [
    "# export alpha star\n",
    "\n",
    "# header\n",
    "header  = [f'a{i}' for i in range (n+1)]\n",
    "header += [f'd{i}' for i in range (n)]\n",
    "header  = '\\t'.join (header)\n",
    "\n",
    "\n",
    "TABLE = np.hstack ((alpha_star, delta)).astype (int)\n",
    "np.savetxt (\n",
    "    f'LUT/LUT_{n}D_alpha_star.tsv',\n",
    "    TABLE,\n",
    "    delimiter='\\t',\n",
    "    fmt='%4d',\n",
    "    header = header\n",
    ")\n",
    "\n",
    "np.save (\n",
    "    f'LUT/LUT_{n}D_alpha_star',\n",
    "    TABLE\n",
    ")"
   ]
  },
  {
   "cell_type": "markdown",
   "id": "1fef1fa9",
   "metadata": {},
   "source": [
    "## Proofs of concept"
   ]
  },
  {
   "cell_type": "code",
   "execution_count": null,
   "id": "8dd97c14",
   "metadata": {},
   "outputs": [],
   "source": [
    "from combinatorial.gmaps import nGmap"
   ]
  },
  {
   "cell_type": "code",
   "execution_count": null,
   "id": "a96acf20",
   "metadata": {},
   "outputs": [
    {
     "data": {
      "text/plain": [
       "7-gMap of 645120 darts:\n",
       "  # 0-cells: 128\n",
       "  # 1-cells: 448\n",
       "  # 2-cells: 672\n",
       "  # 3-cells: 560\n",
       "  # 4-cells: 280\n",
       "  # 5-cells: 84\n",
       "  # 6-cells: 14\n",
       "  # 7-cells: 1\n",
       "  # ccs    : 1"
      ]
     },
     "execution_count": null,
     "metadata": {},
     "output_type": "execute_result"
    }
   ],
   "source": [
    "# single n-cell\n",
    "\n",
    "alpha = alpha_star.copy()\n",
    "alpha[:,-1] = np.arange (nDarts) # boundary: alpha_n = Id\n",
    "G = nGmap (alpha.T)\n",
    "G"
   ]
  },
  {
   "cell_type": "code",
   "execution_count": null,
   "id": "b3d3a2a1",
   "metadata": {},
   "outputs": [],
   "source": [
    "# some sanity checks\n",
    "assert G.no_i_cells(  0) == 2**n\n",
    "assert G.no_i_cells(n-1) ==  2*n\n",
    "assert G.no_i_cells(  n) ==    1\n",
    "\n",
    "# number of all cells in n-hypercube == 3^n\n",
    "assert (sum (G.no_i_cells (i) for i in range (1+n)) == 3**n)"
   ]
  },
  {
   "cell_type": "code",
   "execution_count": null,
   "id": "2dbe9c1a",
   "metadata": {},
   "outputs": [],
   "source": [
    "# iterate over all positions\n",
    "# for p in itertools.product( *(range (m) for m in dimensions) ):\n",
    "#     print (p)"
   ]
  },
  {
   "cell_type": "code",
   "execution_count": null,
   "id": "bb5616e7",
   "metadata": {},
   "outputs": [
    {
     "data": {
      "text/plain": [
       "array([[     1,      1,      1,      1,      1,      1,      1, 645120,\n",
       "             1],\n",
       "       [645120, 645120, 645120, 645120, 645120, 645120, 645120, 645120,\n",
       "             1]])"
      ]
     },
     "execution_count": null,
     "metadata": {},
     "output_type": "execute_result"
    }
   ],
   "source": [
    "# radix for dart dimensions x darts-in-n-cell \n",
    "RR = dimensions + [W[0],1] # e.fg., [ny,nx,8,1] or [nx,ny,nx,48,1]\n",
    "WW = np.cumproduct(RR[::-1]) [::-1]\n",
    "np.vstack ((RR,WW))"
   ]
  },
  {
   "cell_type": "code",
   "execution_count": null,
   "id": "a7bc3928",
   "metadata": {},
   "outputs": [],
   "source": [
    "def alpha_i (d,i):\n",
    "    # dart to (p,s)\n",
    "    tup = d % WW[:-1] // WW [1:]  \n",
    "    p,s = tup [:n], tup[-1]\n",
    "    \n",
    "    if i == n: # update p\n",
    "        p += delta [s]\n",
    "        # borders for alpha_n: if updated p would fall out of scene: return identity\n",
    "        if np.any (p < 0          ): return d\n",
    "        if np.any (p >= dimensions): return d\n",
    "\n",
    "    s = alpha_star [s,i] # update s\n",
    "\n",
    "    tup [:n],tup[-1] = p,s\n",
    "    \n",
    "    return tup @ WW[1:] # tuple x radix"
   ]
  },
  {
   "cell_type": "code",
   "execution_count": null,
   "id": "f207b5ca",
   "metadata": {},
   "outputs": [],
   "source": [
    "# construct alpha for n-Gmap given by `dimensions`\n",
    "alpha = np.zeros ((np.product (dimensions) * nDarts, 1+n), dtype=np.uint64)\n",
    "\n",
    "for d in range (np.product (dimensions) * nDarts):\n",
    "    for i in range (1+n):\n",
    "        alpha [d,i] = alpha_i (d,i) "
   ]
  },
  {
   "cell_type": "code",
   "execution_count": null,
   "id": "5e93d2a3",
   "metadata": {},
   "outputs": [
    {
     "data": {
      "text/plain": [
       "7-gMap of 645120 darts:\n",
       "  # 0-cells: 128\n",
       "  # 1-cells: 448\n",
       "  # 2-cells: 672\n",
       "  # 3-cells: 560\n",
       "  # 4-cells: 280\n",
       "  # 5-cells: 84\n",
       "  # 6-cells: 14\n",
       "  # 7-cells: 1\n",
       "  # ccs    : 1"
      ]
     },
     "execution_count": null,
     "metadata": {},
     "output_type": "execute_result"
    }
   ],
   "source": [
    "G = nGmap.from_alpha_array (alpha.T)\n",
    "G"
   ]
  },
  {
   "cell_type": "markdown",
   "id": "d6418046-e986-4d92-a2b2-1b59c0b28502",
   "metadata": {},
   "source": [
    "## Towards membrane-centric endocding\n",
    "\n",
    "\n",
    "### scenario 2 (internal $90^\\circ$ dart flips)\n",
    "\n",
    "- $\\alpha_{n-1}^{90^\\circ} (s) = \\alpha_{n-1}^* (s)$\n",
    "- $\\Delta^{90^\\circ} p (s) = \\max \\{ 0, \\Delta p (\\alpha_{n-1}^* (s)) \\} - \\max \\{ 0, \\Delta p (s) \\}$"
   ]
  },
  {
   "cell_type": "code",
   "execution_count": null,
   "id": "f54b3337-e587-4d0f-9b2f-9b5537d85b1f",
   "metadata": {},
   "outputs": [],
   "source": [
    "# compute membrane-deltas for interior\n",
    "\n",
    "alpha_n1_090 = alpha_star[:,n-1]\n",
    "\n",
    "coords_from  =  delta.copy()\n",
    "coords_from *= (coords_from != -1) # replace -1s with 0s\n",
    "\n",
    "coords_to    = delta[alpha_star[:,n-1]].copy()\n",
    "coords_to   *= (coords_to != -1)   # replace -1s with 0s\n",
    "\n",
    "# subtract\n",
    "delta_090 = coords_to - coords_from"
   ]
  },
  {
   "cell_type": "code",
   "execution_count": null,
   "id": "7ca33058-6133-4449-9b4a-2ea9f9bafc69",
   "metadata": {},
   "outputs": [],
   "source": [
    "assert (np.maximum (0,delta[alpha_star[:,n-1]]) - np.maximum (0,delta) == delta_090).all()"
   ]
  },
  {
   "cell_type": "markdown",
   "id": "1477361b",
   "metadata": {},
   "source": [
    "### scenario 1 (shell, $180^\\circ$ dart flips)\n",
    "\n",
    "- $\\alpha_{n-1}^{90^\\circ} (s) = \\alpha_{n-1}^* ( \\alpha_n^* ( \\alpha_{n-1}^* (s)))$\n",
    "- $\\Delta^{90^\\circ}p(s) = \\Delta^{90^\\circ}p(s) + \\Delta^{90^\\circ}p (\\alpha_n^* (\\alpha_{n-1}^* (s)))$"
   ]
  },
  {
   "cell_type": "code",
   "execution_count": null,
   "id": "d528911f-a204-4a52-bf0a-33c4b5ec2f95",
   "metadata": {},
   "outputs": [],
   "source": [
    "alpha_n1_180 = alpha_star [alpha_star [alpha_star[:,n-1], n], n-1]\n",
    "delta_180    = delta_090 + delta_090 [alpha_star [alpha_star[:,n-1], n]]"
   ]
  },
  {
   "cell_type": "markdown",
   "id": "8af615d6-3a08-449d-aa00-0fe812864afa",
   "metadata": {},
   "source": [
    "### scenario 0 (shell, $270^\\circ$ dart flips)\n",
    "\n",
    "- $\\alpha_{n-1}^{270^\\circ}(s) = \\alpha_n^* (\\alpha_{n-1}^* (\\alpha_n^* (s)))$\n",
    "- $\\Delta^{270^\\circ}p(s) = \\Delta^{90^\\circ}p( \\alpha_n^* (s)))$"
   ]
  },
  {
   "cell_type": "code",
   "execution_count": null,
   "id": "331adc59-d970-41ce-b961-dccb65cff717",
   "metadata": {},
   "outputs": [],
   "source": [
    "alpha_n1_270 = alpha_star [alpha_star [alpha_star[:,n], n-1], n]\n",
    "delta_270    = delta_090  [alpha_star[:,n]]"
   ]
  },
  {
   "cell_type": "markdown",
   "id": "fa261402-6d02-4cc4-849a-0fddb640c503",
   "metadata": {},
   "source": [
    "### All three $\\alpha_{n-1}$ tables"
   ]
  },
  {
   "cell_type": "code",
   "execution_count": null,
   "id": "792a5772-a05e-4c8f-bb44-103509a4dcea",
   "metadata": {},
   "outputs": [
    {
     "data": {
      "text/plain": [
       "(True, True, True)"
      ]
     },
     "execution_count": null,
     "metadata": {},
     "output_type": "execute_result"
    }
   ],
   "source": [
    "# check for permutation\n",
    "all (np.sort (alpha_n1_270) == np.arange (nDarts)),\\\n",
    "all (np.sort (alpha_n1_180) == np.arange (nDarts)),\\\n",
    "all (np.sort (alpha_n1_090) == np.arange (nDarts))"
   ]
  },
  {
   "cell_type": "code",
   "execution_count": null,
   "id": "f2d320d4-c25b-4913-8d3c-e427ea5439ac",
   "metadata": {},
   "outputs": [
    {
     "data": {
      "text/plain": [
       "(True, True, True)"
      ]
     },
     "execution_count": null,
     "metadata": {},
     "output_type": "execute_result"
    }
   ],
   "source": [
    "# check self involutions\n",
    "all (alpha_n1_270 [alpha_n1_270] == np.arange (nDarts)),\\\n",
    "all (alpha_n1_180 [alpha_n1_180] == np.arange (nDarts)),\\\n",
    "all (alpha_n1_090 [alpha_n1_090] == np.arange (nDarts))"
   ]
  },
  {
   "cell_type": "code",
   "execution_count": null,
   "id": "14e8280f-925b-466d-9bbc-683ab600a7d9",
   "metadata": {},
   "outputs": [
    {
     "data": {
      "text/plain": [
       "(True, True, True)"
      ]
     },
     "execution_count": null,
     "metadata": {},
     "output_type": "execute_result"
    }
   ],
   "source": [
    "# check self involution deltas\n",
    "np.all ((delta_270 + delta_270 [alpha_n1_270]) == 0),\\\n",
    "np.all ((delta_180 + delta_180 [alpha_n1_180]) == 0),\\\n",
    "np.all ((delta_090 + delta_090 [alpha_n1_090]) == 0)"
   ]
  },
  {
   "cell_type": "code",
   "execution_count": null,
   "id": "9b4f9be5-1d22-4288-918b-5fb5e18aae39",
   "metadata": {},
   "outputs": [
    {
     "data": {
      "text/plain": [
       "True"
      ]
     },
     "execution_count": null,
     "metadata": {},
     "output_type": "execute_result"
    }
   ],
   "source": [
    "# check a0 a2\n",
    "all (alpha_star [:,0] [alpha_n1_270 [alpha_star[:,0] [alpha_n1_270]]] == np.arange (nDarts)) "
   ]
  },
  {
   "cell_type": "code",
   "execution_count": null,
   "id": "e3fbad9c-1d38-45a2-b1a1-d275c37ea786",
   "metadata": {},
   "outputs": [
    {
     "data": {
      "text/plain": [
       "array([[     0,     -1,      0, ...,      0,      0,  92160],\n",
       "       [     1,     -1,      0, ...,      0,      0,  92161],\n",
       "       [     2,     -1,      0, ...,      0,      0,  92162],\n",
       "       ...,\n",
       "       [645117,      0,      0, ...,      1,     -1, 552957],\n",
       "       [645118,      0,      0, ...,      1,     -1, 552958],\n",
       "       [645119,      0,      0, ...,      1,     -1, 552959]])"
      ]
     },
     "execution_count": null,
     "metadata": {},
     "output_type": "execute_result"
    }
   ],
   "source": [
    "np.vstack ((\n",
    "    np.arange(nDarts),\n",
    "    delta_270.T, alpha_n1_270, \n",
    "    delta_180.T, alpha_n1_180, \n",
    "    delta_090.T, alpha_n1_090, \n",
    ")).T.astype (int)"
   ]
  },
  {
   "cell_type": "code",
   "execution_count": null,
   "id": "0a004847-155a-477d-9ab4-a26d0efd2221",
   "metadata": {},
   "outputs": [],
   "source": [
    "# export the table in tab separated values\n",
    "\n",
    "\n",
    "LUT_DD = np.vstack ((\n",
    "    delta_270.T, alpha_n1_270, \n",
    "    delta_180.T, alpha_n1_180, \n",
    "    delta_090.T, alpha_n1_090, \n",
    ")).T.astype (np.int32)\n",
    "\n",
    "# header\n",
    "header = []\n",
    "for s in 0,1,2:\n",
    "    header += [ f's{s}_d{i}' for i in range (n)]\n",
    "    header += [ f's{s}_a{n-1}']\n",
    "header = '\\t'.join (header)\n",
    "\n",
    "np.savetxt (\n",
    "    f'LUT/LUT_{n}D_alpha_{n-1}_scenarios.tsv',\n",
    "    LUT_DD,\n",
    "    comments  = '#',\n",
    "    header    = header,\n",
    "    fmt       = '%5d',\n",
    "    delimiter = '\\t', \n",
    ")\n",
    "\n",
    "np.save (f'LUT/LUT_{n}D_alpha_{n-1}_scenarios', LUT_DD)"
   ]
  },
  {
   "cell_type": "markdown",
   "id": "b6ee0a21-b1a6-4011-8751-f0c4662d7c31",
   "metadata": {},
   "source": [
    "### Scenario decisions\n",
    "\n",
    "The scenario of a dart is based on\n",
    "\n",
    "- dimenions $m = (m_0, m_1 ... m_{n-1} )$ of the hyper volume\n",
    "- position $p = (p_0, p_1 ... p_{n-1} )$\n",
    "- first 4 dart descriptors $x_{n-1} I_{n-1} x_{n-2} I_{n-2} \\ldots$\n",
    "\n",
    "The logic is as follows:\n",
    "\n",
    "\n",
    "- 2. scenario: Most of darts are internal, i.e., not belonging to the background cell $n$-cell.\n",
    "\n",
    "- 1. scenario: To belong to the background $n$-cell, in general: $p_{x_{n-1}}$ must equal either to zero or to the corresponding dimensions: \n",
    "    - if $I_{n-1} = 1$ (i.e, ↑): $p_{x_{n-1}} = 0$\n",
    "    - if $I_{n-1} = 0$ (i.e, ↓): $p_{x_{n-1}} = m_{x_{n-1}}$  \n",
    "    - The above two test can be combined into the following single test:\n",
    "    - $p_{x_{n-1}} = m_{x_{n-1}}  (1 - I_{n-1})$\n",
    "  \n",
    "- 0. scenario: If already in the background $n$-cell, (i.e., previous test test holds) to qualify additionally for a corner/edge/... $p_{x_n-2}$ must equal either to zero or to the corresponding dimension minus 1:\n",
    "    - if $I_{n-2} = 1$ (i.e, ↑): $p_{x_{n-2}} = m_{x_{n-2}}-1$\n",
    "    - if $I_{n-2} = 0$ (i.e, ↓): $p_{x_{n-2}} = 0$\n",
    "    - The above two test can be combined into the following single test:\n",
    "    - $p_{x_{n-2}} = I_{n-2} (m_{x_{n-2}}-1)$"
   ]
  },
  {
   "cell_type": "code",
   "execution_count": null,
   "id": "b682859b-5dfb-46af-981d-4daea6ab0f6b",
   "metadata": {},
   "outputs": [],
   "source": [
    "LUT_PosDartDescriptor = np.zeros ((nDarts, 2*n), dtype = np.uint8)\n",
    "for d in range (nDarts):\n",
    "    LUT_PosDartDescriptor [d] = radix2axes (s2dhms ([d])) \n",
    "\n",
    "# columns 1 and 3 must be either 0 or 1 (down / up arrow)\n",
    "assert np.all (LUT_PosDartDescriptor [:,1::2] <= 1)\n",
    "assert np.all (LUT_PosDartDescriptor [:,1::2] >= 0)\n",
    "\n",
    "assert np.all (LUT_PosDartDescriptor [:,0::2] < n)\n",
    "assert np.all (LUT_PosDartDescriptor [:,0::2] >= 0)\n",
    "\n",
    "# header\n",
    "header = [f'x{i}\\tI{i}' for i in range (n-1,-1,-1)]\n",
    "header = '\\t'.join (header)\n",
    "\n",
    "np.savetxt (\n",
    "  f'LUT/LUT_{n}D_PosDartDescriptor.tsv',\n",
    "    LUT_PosDartDescriptor,   \n",
    "    comments  = '#',\n",
    "    header    = header,\n",
    "    fmt       = '%1d',\n",
    "    delimiter = '\\t', \n",
    ")\n",
    "\n",
    "np.save (f'LUT/LUT_{n}D_PosDartDescriptor', LUT_PosDartDescriptor)"
   ]
  },
  {
   "cell_type": "code",
   "execution_count": null,
   "id": "b037a34f-e95e-46b1-adaf-90be74abf1ba",
   "metadata": {
    "tags": []
   },
   "outputs": [],
   "source": [
    "m = dimensions\n",
    "print (m)\n",
    "for p in [[0,0,0]]:#,[0,1],[0,2]]:\n",
    "    print (40*'-')\n",
    "    for d in range (nDarts):\n",
    "        # take the first four descriptors\n",
    "        x_n1, I_n1, x_n2, I_n2 = radix2axes (s2dhms ([d])) [:4]\n",
    "\n",
    "        # preparing for worst: internal scenario:\n",
    "        s = 2\n",
    "        \n",
    "        if p[x_n1] == m [x_n1] * (1 - I_n1):\n",
    "#         if I_n1 == 0 and p[x_n1] == m [x_n1] or \\\n",
    "#            I_n1 == 1 and p[x_n1] == 0:\n",
    "            s = 1\n",
    "\n",
    "            if p[x_n2] == I_n2 * (m[x_n2]-1):\n",
    "#             if I_n2 == 0 and p[x_n2] == 0         or \\\n",
    "#                I_n2 == 1 and p[x_n2] == m[x_n2]-1 :\n",
    "                    s = 0\n",
    "        print (p, f'{d:2}', s) #, '...', m [r[2]])\n"
   ]
  }
 ],
 "metadata": {
  "kernelspec": {
   "display_name": "Python 3",
   "language": "python",
   "name": "python3"
  }
 },
 "nbformat": 4,
 "nbformat_minor": 5
}
