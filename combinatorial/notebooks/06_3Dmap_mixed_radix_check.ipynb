{
 "cells": [
  {
   "cell_type": "code",
   "execution_count": null,
   "metadata": {
    "tags": []
   },
   "outputs": [],
   "source": [
    "import numpy as np"
   ]
  },
  {
   "cell_type": "code",
   "execution_count": null,
   "metadata": {
    "tags": []
   },
   "outputs": [],
   "source": [
    "# The following routines are for 32-bits\n",
    "# TODO: have onese for 8, 16, and 64 bits\n",
    "\n",
    "def part1by1(n):\n",
    "    n&= 0x0000ffff\n",
    "    n = (n | (n << 8)) & 0x00FF00FF\n",
    "    n = (n | (n << 4)) & 0x0F0F0F0F\n",
    "    n = (n | (n << 2)) & 0x33333333\n",
    "    n = (n | (n << 1)) & 0x55555555\n",
    "    return n\n",
    "\n",
    "def unpart1by1(n):\n",
    "    n&= 0x55555555\n",
    "    n = (n ^ (n >> 1)) & 0x33333333\n",
    "    n = (n ^ (n >> 2)) & 0x0f0f0f0f\n",
    "    n = (n ^ (n >> 4)) & 0x00ff00ff\n",
    "    n = (n ^ (n >> 8)) & 0x0000ffff\n",
    "    return n\n",
    "\n",
    "def interleave2(x, y):\n",
    "    return part1by1(x) | (part1by1(y) << 1)\n",
    "\n",
    "def deinterleave2(n):\n",
    "    return unpart1by1(n), unpart1by1(n >> 1)"
   ]
  },
  {
   "cell_type": "code",
   "execution_count": null,
   "metadata": {
    "tags": []
   },
   "outputs": [],
   "source": [
    "# The following routines are for 32-bits\n",
    "# TODO: have onese for 8, 16, and 64 bits\n",
    "\n",
    "def part1by2(n):\n",
    "    n&= 0x000003ff\n",
    "    n = (n ^ (n << 16)) & 0xff0000ff\n",
    "    n = (n ^ (n <<  8)) & 0x0300f00f\n",
    "    n = (n ^ (n <<  4)) & 0x030c30c3\n",
    "    n = (n ^ (n <<  2)) & 0x09249249\n",
    "    return n\n",
    "\n",
    "\n",
    "def unpart1by2(n):\n",
    "    n&= 0x09249249\n",
    "    n = (n ^ (n >>  2)) & 0x030c30c3\n",
    "    n = (n ^ (n >>  4)) & 0x0300f00f\n",
    "    n = (n ^ (n >>  8)) & 0xff0000ff\n",
    "    n = (n ^ (n >> 16)) & 0x000003ff\n",
    "    return n\n",
    "\n",
    "def interleave3(x, y, z):\n",
    "    return part1by2(x) | (part1by2(y) << 1) | (part1by2(z) << 2)\n",
    "\n",
    "def deinterleave3(n):\n",
    "    return unpart1by2(n), unpart1by2(n >> 1), unpart1by2(n >> 2)"
   ]
  },
  {
   "cell_type": "code",
   "execution_count": null,
   "metadata": {},
   "outputs": [],
   "source": [
    "#S,R,C = 15,15,15\n",
    "S,R,C = 2,2,2\n",
    "S,R,C = 5,3,1\n",
    "\n",
    "n = 3"
   ]
  },
  {
   "cell_type": "code",
   "execution_count": null,
   "metadata": {},
   "outputs": [],
   "source": [
    "# overwrite the LUT with membrance centric radix generated\n",
    "\n",
    "LUT_ALPHA_STAR        = np.loadtxt(f'LUT_{n}D_alpha_star.tsv',            dtype=np.int32)                    # 48 x 4\n",
    "LUT_DD                = np.loadtxt(f'LUT_{n}D_alpha_{n-1}_scenarios.tsv', dtype=np.int32).reshape(-1,3,n+1)  # 48 x 3 x 4\n",
    "LUT_PosDartDescriptor = np.loadtxt(f'LUT_{n}D_PosDartDescriptor.tsv',     dtype=np.uint8, skiprows=0)        # 48 x 4     "
   ]
  },
  {
   "cell_type": "code",
   "execution_count": null,
   "metadata": {},
   "outputs": [],
   "source": [
    "# alphas for i != n-1\n",
    "\n",
    "def alpha_i (i,d):\n",
    "    \n",
    "    i48 =   d & 0b111111 \n",
    "    \n",
    "    x,y,z = deinterleave3(d      >> 6)  \n",
    "    return (  interleave3(x,y,z) << 6) | LUT_ALPHA_STAR [i48,i]"
   ]
  },
  {
   "cell_type": "code",
   "execution_count": null,
   "metadata": {},
   "outputs": [],
   "source": [
    " def alpha_2 (d):\n",
    "    \"\"\"\n",
    "    Implicitly encoded alpha_2\n",
    "    \n",
    "    Steps\n",
    "        1. get 48-index of the dart for that voxel\n",
    "        2. get  3-index determining the scenario\n",
    "        3. zcode -> [x,y,z] + [dx,dy,dz]\n",
    "        4. update the z-core, append new 6-bits, return\n",
    "    \"\"\"\n",
    "    i48 =   d & 0b111111                                                       # dart     index\n",
    "    \n",
    "    # ##############\n",
    "    # scenatio idnex based on dimension and positional dart descriptors\n",
    "    m = (S,R,C)                                  # dimensions\n",
    "    p = deinterleave3(d      >> 6) [::-1]        # position in the z,y,x order\n",
    "    x_n1, I_n1, x_n2, I_n2 = LUT_PosDartDescriptor [i48,:4]   # first 4 descriptors\n",
    "\n",
    "    # preparing for worst: internal scenario:\n",
    "    s = 2\n",
    "\n",
    "    if p[x_n1] == m [x_n1] * (1 - I_n1):\n",
    "#         if I_n1 == 0 and p[x_n1] == m [x_n1] or \\\n",
    "#            I_n1 == 1 and p[x_n1] == 0:\n",
    "        s = 1\n",
    "\n",
    "        if p[x_n2] == I_n2 * (m[x_n2]-1):\n",
    "#             if I_n2 == 0 and p[x_n2] == 0         or \\\n",
    "#                I_n2 == 1 and p[x_n2] == m[x_n2]-1 :\n",
    "                s = 0\n",
    "    i3 = s\n",
    "    \n",
    "#   dx,dy,dz,bbbbbb = LUT_DD [i48,i3]  # the order of the deltas in the table is dz,dy,dx\n",
    "    x,y,z = deinterleave3(d      >> 6) + LUT_DD [i48,i3,:3][::-1]  # deinterleave the z-code and update it by dx,dy,dz\n",
    "    return (  interleave3(x,y,z) << 6) | LUT_DD [i48,i3, 3]        # interleave and append bbbbbb"
   ]
  },
  {
   "cell_type": "code",
   "execution_count": null,
   "metadata": {},
   "outputs": [],
   "source": [
    "alpha_0 = lambda d: alpha_i (0,d) # alpha_0 = lambda d: d ^ 0b000001\n",
    "alpha_1 = lambda d: alpha_i (1,d) # can still be done by bit tricks\n",
    "alpha_3 = lambda d: alpha_i (3,d) # alpha_3 = lambda d: d ^ 0b001000"
   ]
  },
  {
   "cell_type": "markdown",
   "metadata": {},
   "source": [
    "## $D$: Set of darts"
   ]
  },
  {
   "cell_type": "code",
   "execution_count": null,
   "metadata": {},
   "outputs": [],
   "source": [
    "# set of darts\n",
    "\n",
    "D = set()\n",
    "\n",
    "for z in range (S):\n",
    "    for y in range (R):\n",
    "        for x in range (C):\n",
    "            for i in range (48):\n",
    "                D |= {interleave3 (x,y,z) << 6 | i}\n",
    "\n",
    "z = S\n",
    "for y in range (R):\n",
    "    for x in range (C):\n",
    "        for i in range (16):\n",
    "            D |= {interleave3 (x,y,z) << 6 | i}\n",
    "\n",
    "y = R\n",
    "for x in range (C):\n",
    "    for z in range (S):\n",
    "        for i in range (16):\n",
    "            D |= {interleave3 (x,y,z) << 6 | 0b010000 | i}\n",
    "    \n",
    "x = C\n",
    "for y in range (R):\n",
    "    for z in range (S):\n",
    "        for i in range (16):\n",
    "            if (interleave3 (x,y,z) << 6 | 0b100000 | i) in D:\n",
    "                print ('grrr')\n",
    "            D |= {interleave3 (x,y,z) << 6 | 0b100000 | i}"
   ]
  },
  {
   "cell_type": "markdown",
   "metadata": {},
   "source": [
    "### involution checks"
   ]
  },
  {
   "cell_type": "code",
   "execution_count": null,
   "metadata": {},
   "outputs": [],
   "source": [
    "# involution checks\n",
    "\n",
    "assert all ([alpha_0(alpha_0 (d)) == d for d in D])\n",
    "assert all ([alpha_1(alpha_1 (d)) == d for d in D])\n",
    "assert all ([alpha_2(alpha_2 (d)) == d for d in D])\n",
    "\n",
    "assert all ([alpha_0(alpha_2(alpha_0(alpha_2(d)))) == d for d in D])\n",
    "assert all ([alpha_0(alpha_3(alpha_0(alpha_3(d)))) == d for d in D])\n",
    "assert all ([alpha_1(alpha_3(alpha_1(alpha_3(d)))) == d for d in D])"
   ]
  },
  {
   "cell_type": "markdown",
   "metadata": {},
   "source": [
    "### sanity check with array-based gmaps"
   ]
  },
  {
   "cell_type": "code",
   "execution_count": null,
   "metadata": {},
   "outputs": [],
   "source": [
    "from combinatorial.gmaps import nGmap"
   ]
  },
  {
   "cell_type": "code",
   "execution_count": null,
   "metadata": {},
   "outputs": [],
   "source": [
    "A = np.full ((4,1+max(D)),-1)  # initialize with invalid darts (-1)\n",
    "\n",
    "for d in D:\n",
    "    A[0,d] = alpha_0(d)\n",
    "    A[1,d] = alpha_1(d)\n",
    "    A[2,d] = alpha_2(d)\n",
    "    A[3,d] = alpha_3(d)"
   ]
  },
  {
   "cell_type": "code",
   "execution_count": null,
   "metadata": {},
   "outputs": [
    {
     "data": {
      "text/plain": [
       "array([[    1,     0,     3, ..., 17676, 17679, 17678],\n",
       "       [    4,     6,     5, ..., 17674, 17673, 17675],\n",
       "       [   16,    17,   152, ..., 17443, 17514, 17515],\n",
       "       [    8,     9,    10, ..., 17669, 17670, 17671]])"
      ]
     },
     "execution_count": null,
     "metadata": {},
     "output_type": "execute_result"
    }
   ],
   "source": [
    "A"
   ]
  },
  {
   "cell_type": "code",
   "execution_count": null,
   "metadata": {},
   "outputs": [],
   "source": [
    "g = nGmap.from_alpha_array (A)\n",
    "assert g.is_valid\n",
    "assert g.no_0_cells == (S+1)*(R+1)*(C+1)\n",
    "assert g.no_1_cells == S*(R+1)*(C+1) + (S+1)*R*(C+1) + (S+1)*(R+1)*C\n",
    "assert g.no_2_cells == (S+1)*R*C + (R+1)*S*C + (C+1)*S*R == 3*S*R*C + R*C + S*C + S*R\n",
    "assert g.no_3_cells == S*R*C + 1 # also background counted\n",
    "assert g.no_ccs     == 1"
   ]
  },
  {
   "cell_type": "code",
   "execution_count": null,
   "metadata": {},
   "outputs": [
    {
     "name": "stdout",
     "output_type": "stream",
     "text": [
      "5x3x1 volume resulted in 3-gMap of 1088 darts:\n",
      "  # 0-cells: 48\n",
      "  # 1-cells: 100\n",
      "  # 2-cells: 68\n",
      "  # 3-cells: 16\n",
      "  # ccs    : 1\n",
      "\n"
     ]
    }
   ],
   "source": [
    "print (f'{S}x{R}x{C} volume resulted in', g)"
   ]
  },
  {
   "cell_type": "code",
   "execution_count": null,
   "metadata": {},
   "outputs": [
    {
     "data": {
      "text/html": [
       "\n",
       "                <audio  controls=\"controls\" autoplay=\"autoplay\">\n",
       "                    <source src=\"data:audio/wav;base64,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\" type=\"audio/wav\" />\n",
       "                    Your browser does not support the audio element.\n",
       "                </audio>\n",
       "              "
      ],
      "text/plain": [
       "<IPython.lib.display.Audio object>"
      ]
     },
     "execution_count": null,
     "metadata": {},
     "output_type": "execute_result"
    }
   ],
   "source": [
    "from IPython.lib.display import Audio\n",
    "\n",
    "framerate = 4410\n",
    "play_time_seconds = 1\n",
    "\n",
    "\n",
    "t = np.linspace(0, play_time_seconds, framerate*play_time_seconds)\n",
    "audio_data = np.sin(2*np.pi*300*t) + np.sin(2*np.pi*240*t)\n",
    "Audio(audio_data, rate=framerate, autoplay=True)"
   ]
  }
 ],
 "metadata": {
  "kernelspec": {
   "display_name": "Python 3",
   "language": "python",
   "name": "python3"
  }
 },
 "nbformat": 4,
 "nbformat_minor": 4
}
