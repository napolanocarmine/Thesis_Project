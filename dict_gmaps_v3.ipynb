{
 "cells": [
  {
   "cell_type": "code",
   "execution_count": 1031,
   "metadata": {},
   "outputs": [],
   "source": [
    "# default_exp dict_gmaps"
   ]
  },
  {
   "cell_type": "markdown",
   "metadata": {},
   "source": [
    "# dict_nGmaps\n",
    "\n",
    "> Implementation based on dicts"
   ]
  },
  {
   "cell_type": "code",
   "execution_count": 1032,
   "metadata": {},
   "outputs": [],
   "source": [
    "# hide\n",
    "from nbdev.showdoc import *"
   ]
  },
  {
   "cell_type": "code",
   "execution_count": 1033,
   "metadata": {},
   "outputs": [],
   "source": [
    "# export\n",
    "\n",
    "from collections import defaultdict\n",
    "from itertools import chain, product\n",
    "import logging\n"
   ]
  },
  {
   "cell_type": "code",
   "execution_count": 1034,
   "metadata": {},
   "outputs": [],
   "source": [
    "# export\n",
    "\n",
    "class dict_nGmap:\n",
    "    \n",
    "    def __init__(self, n):\n",
    "        \n",
    "        self.n = n\n",
    "        \n",
    "        self.darts = set()\n",
    "        self.alpha = [dict() for _ in range(n + 1)]\n",
    "        self.marks = defaultdict(lambda:defaultdict(lambda:False))\n",
    "        # self.marks[index][dart]\n",
    "        \n",
    "        \"\"\"\n",
    "            Added a tmp dict to create a tmp-Gmap to insert/expand it into the current one.\n",
    "        \"\"\"\n",
    "        self.c = {}\n",
    "\n",
    "\n",
    "        \"\"\"\n",
    "            That variable has the goal of increment itself whenever a new operation is computed\n",
    "            (removal or contraction).\n",
    "        \"\"\"\n",
    "        self.level = 0\n",
    "\n",
    "        \"\"\"\n",
    "            I want to use the following dictionary to keep trace of the level for each dart in order\n",
    "            to reconstruct also until a certain level that the user can indicate in input.\n",
    "        \"\"\"\n",
    "        self.dart_level = {}\n",
    "\n",
    "        \"\"\"\n",
    "            Considering the new version of the implementation using the canonical representation\n",
    "            I need to use another list of the alphas to overcome the fact that I do not have the code\n",
    "            for the implicitly econding of the base level.\n",
    "        \"\"\"\n",
    "        self.custom_alpha = [dict() for _ in range(n + 1)]\n",
    "        \n",
    "        self.taken_marks = {-1}\n",
    "        self.lowest_unused_dart_index = 0\n",
    "        \n",
    "    @classmethod\n",
    "    def from_string(cls, string):\n",
    "        lines = string.strip().split(\"\\n\")\n",
    "        lines = [[int(k) for k in l.split(\" \") if k != \"\"] for l in lines]\n",
    "    \n",
    "        return cls.from_list_of_lists(lines)\n",
    "        \n",
    "    @classmethod    \n",
    "    def from_list_of_lists(cls, ll):\n",
    "        n = len(ll) - 1\n",
    "        d = len(ll[0])\n",
    "        \n",
    "        darts = set(ll[0])\n",
    "        \n",
    "        assert all(set(l) == darts for l in ll)\n",
    "                \n",
    "        my_nGmap = cls(n)\n",
    "        my_nGmap.darts.update(darts)\n",
    "        \n",
    "        for alpha, l in zip(my_nGmap.alpha, ll):\n",
    "            for a, b in zip(sorted(darts), l):\n",
    "                alpha[a] = b\n",
    "                \n",
    "        my_nGmap.lowest_unused_dart_index = max(darts) + 1\n",
    "        \n",
    "        return my_nGmap\n",
    "    \n",
    "    @property\n",
    "    def is_valid(self):\n",
    "        \"\"\"\n",
    "        checks condition 2 and 3 from definition 1\n",
    "        (condition 1 is always true as a computer probably has finite memory)\n",
    "        \"\"\"\n",
    "        for dart in self.darts:\n",
    "            for alpha in self.alpha:\n",
    "                if alpha[alpha[dart]] != dart:\n",
    "                    return False\n",
    "            for i in range(0, self.n - 1): # n-1 not included\n",
    "                alpha1 = self.alpha[i]\n",
    "                for j in range(i + 2, self.n + 1): # n+1 again not included\n",
    "                    alpha2 = self.alpha[j]\n",
    "                    if alpha1[alpha2[alpha1[alpha2[dart]]]] != dart:\n",
    "                        return False\n",
    "        return True\n",
    "    \n",
    "    def reserve_mark(self):\n",
    "        \"\"\"\n",
    "        algorithm 2\n",
    "        \"\"\"\n",
    "        i = max(self.taken_marks) + 1\n",
    "        self.taken_marks.add(i)\n",
    "        return i\n",
    "    \n",
    "    def free_mark(self, i):\n",
    "        \"\"\"\n",
    "        algorithm 3\n",
    "        also includes deleting all these marks, making it safe to call everytime\n",
    "        \"\"\"\n",
    "        del self.marks[i]\n",
    "        self.taken_marks.remove(i)    \n",
    "    \n",
    "    def is_marked(self, d, i):\n",
    "        \"\"\"\n",
    "        algorithm 4\n",
    "        d ... dart\n",
    "        i ... mark index\n",
    "        \"\"\"\n",
    "        return self.marks[i][d]\n",
    "    \n",
    "    def mark(self, d, i):\n",
    "        \"\"\"\n",
    "        algorithm 5\n",
    "        d ... dart\n",
    "        i ... mark index\n",
    "        \"\"\"\n",
    "        self.marks[i][d] = True\n",
    "        \n",
    "    def unmark(self, d, i):\n",
    "        \"\"\"\n",
    "        algorithm 6\n",
    "        d ... dart\n",
    "        i ... mark index\n",
    "        \"\"\"\n",
    "        # same as bla = False\n",
    "        del self.marks[i][d]\n",
    "    \n",
    "    def mark_all(self, i):\n",
    "        for d in self.darts:\n",
    "            self.mark(d, i)\n",
    "    \n",
    "    def unmark_all(self, i):\n",
    "        del self.marks[i]\n",
    "    \n",
    "    def ai(self, i, d):\n",
    "        return self.alpha[i][d]\n",
    "    \n",
    "    def set_ai(self, i, d, d1):\n",
    "        assert 0 <= i <= self.n\n",
    "        #self.custom_alpha[i][d] = d1\n",
    "        #print(f'd -> {d}\\nd1 -> {d1}')\n",
    "        #self.dart_level[d] = self.level\n",
    "        self.alpha[i][d] = d1\n",
    "        \n",
    "    def _remove_dart(self, d):\n",
    "\n",
    "        \"\"\"\n",
    "            We are removing the dart from the set.\n",
    "        \"\"\"\n",
    "        self.darts.remove(d)\n",
    "\n",
    "        \"\"\"\n",
    "            We are removing the dart from every alpha\n",
    "        \"\"\"\n",
    "        for i in self.all_dimensions:\n",
    "            del self.alpha[i][d]\n",
    "    \n",
    "    def orbit(self, sequence, d):\n",
    "        \"\"\"\n",
    "        algorithm 7\n",
    "        sequence ... valid list of dimensional indices\n",
    "        d ... dart\n",
    "        \"\"\"\n",
    "        ma = self.reserve_mark()\n",
    "        self.mark_orbit(sequence, d, ma)\n",
    "        orbit = self.marks[ma].keys()\n",
    "        self.free_mark(ma)\n",
    "        return orbit\n",
    "    \n",
    "    def mark_orbit(self, sequence, d, ma):\n",
    "        \"\"\"\n",
    "        used as in algorithm 7 and 8 etc...\n",
    "        sequence ... valid list of dimension indices\n",
    "        d ... dart\n",
    "        ma ... mark to use\n",
    "        \"\"\"\n",
    "        P = [d]\n",
    "        self.mark(d, ma)\n",
    "        while P:\n",
    "            cur = P.pop()\n",
    "            for i in sequence:\n",
    "                other = self.alpha[i][cur]\n",
    "                if not self.is_marked(other, ma):\n",
    "                    self.mark(other, ma)\n",
    "                    P.append(other)\n",
    "    \n",
    "    def cell_i(self, i, dart):\n",
    "        \"\"\"iterator over i-cell of a given dart\"\"\"\n",
    "        return self.orbit(self.all_dimensions_but_i(i), dart)\n",
    "\n",
    "    def cell_0(self, dart):\n",
    "        return self.cell_i(0, dart)\n",
    "    def cell_1(self, dart):\n",
    "        return self.cell_i(1, dart)\n",
    "    def cell_2(self, dart):\n",
    "        return self.cell_i(2, dart)\n",
    "    def cell_3(self, dart):\n",
    "        return self.cell_i(3, dart)\n",
    "    def cell_4(self, dart):\n",
    "        return self.cell_i(4, dart)\n",
    "    \n",
    "    def no_i_cells (self, i=None):\n",
    "        \"\"\"\n",
    "        Counts\n",
    "            i-cells,             if 0 <= i <= n\n",
    "            connected components if i is None\n",
    "        \"\"\"\n",
    "        assert i is None or 0 <= i <= self.n\n",
    "        # return more_itertools.ilen (self.darts_of_i_cells(i))\n",
    "        return sum ((1 for d in self.darts_of_i_cells(i)))\n",
    "\n",
    "    @property\n",
    "    def no_0_cells (self): return self.no_i_cells (0)\n",
    "    @property\n",
    "    def no_1_cells (self): return self.no_i_cells (1)\n",
    "    @property\n",
    "    def no_2_cells (self): return self.no_i_cells (2)\n",
    "    @property\n",
    "    def no_3_cells (self): return self.no_i_cells (3)\n",
    "    @property\n",
    "    def no_4_cells (self): return self.no_i_cells (4)\n",
    "    @property\n",
    "    def no_ccs     (self): return self.no_i_cells ( )\n",
    "    \n",
    "    def darts_of_i_cells(self, i = None):\n",
    "        \"\"\"\n",
    "        algorithm 8\n",
    "        \"\"\"\n",
    "        ma = self.reserve_mark()\n",
    "        try:\n",
    "            for d in self.darts:\n",
    "                if not self.is_marked(d, ma):\n",
    "                    yield d\n",
    "                    self.mark_orbit(self.all_dimensions_but_i(i), d, ma)\n",
    "        finally:\n",
    "            self.free_mark(ma)\n",
    "    \n",
    "    def all_i_cells(self, i = None):\n",
    "        for d in self.darts_of_i_cells(i):\n",
    "            yield self.cell_i(i, d)\n",
    "    \n",
    "    def all_conected_components(self):\n",
    "        return self.all_i_cells()\n",
    "    \n",
    "    def darts_of_i_cells_incident_to_j_cell(self, d, i, j):\n",
    "        \"\"\"\n",
    "        algorithm 9\n",
    "        \"\"\"\n",
    "        assert i != j\n",
    "        ma = self.reserve_mark()\n",
    "        try:\n",
    "            for e in self.orbit(self.all_dimensions_but_i(j), d):\n",
    "                if not self.is_marked(e, ma):\n",
    "                    yield e\n",
    "                    self.mark_orbit(self.all_dimensions_but_i(j), e, ma)\n",
    "        finally:\n",
    "            self.free_mark(ma)\n",
    "        \n",
    "    def darts_of_i_cells_adjacent_to_i_cell(self, d, i):\n",
    "        \"\"\"\n",
    "        algorithm 10\n",
    "        \"\"\"\n",
    "        ma = self.reserve_mark()\n",
    "        try:\n",
    "            for e in self.orbit(self.all_dimensions_but_i(i), d):\n",
    "                f = self.alpha[i][e]\n",
    "                if not self.is_marked(f, ma):\n",
    "                    yield f\n",
    "                    self.mark_orbit(self.all_dimensions_but_i(i), f, ma)\n",
    "        finally:\n",
    "            self.free_mark(ma)\n",
    "        \n",
    "    def all_dimensions_but_i (self, i=None):\n",
    "        \"\"\"Return a sorted sequence [0,...,n], without i, if 0 <= i <= n\"\"\"\n",
    "        assert i is None or 0 <= i <= self.n\n",
    "        return [j for j in range (self.n+1) if j != i]\n",
    "    \n",
    "    @property\n",
    "    def all_dimensions(self):\n",
    "        return self.all_dimensions_but_i()\n",
    "    \n",
    "    def is_i_free(self, i, d):\n",
    "        \"\"\"\n",
    "        definiton 2 / algorithm 11\n",
    "        \"\"\"\n",
    "        return self.alpha[i][d] == d\n",
    "        \n",
    "    def is_i_sewn_with(self, i, d):\n",
    "        \"\"\"\n",
    "        definiton 2\n",
    "        \"\"\"\n",
    "        d2 = self.alpha[i][d]\n",
    "        return d != d2, d2\n",
    "    \n",
    "    def create_dart(self):\n",
    "        \"\"\"\n",
    "        algorithm 12\n",
    "        \"\"\"\n",
    "        d = self.lowest_unused_dart_index\n",
    "        self.lowest_unused_dart_index += 1\n",
    "        self.darts.add(d)\n",
    "        for alpha in self.alpha:\n",
    "            alpha[d] = d\n",
    "        return d\n",
    "    \n",
    "    def remove_isolated_dart(self, d):\n",
    "        \"\"\"\n",
    "        algorithm 13\n",
    "        \"\"\"\n",
    "        assert self.is_isolated(d)\n",
    "        self.remove_isolated_dart_no_assert(d)\n",
    "        \n",
    "    def remove_isolated_dart_no_assert(self, d):\n",
    "        self.darts.remove(d)\n",
    "        for alpha in self.alpha:\n",
    "            del alpha[d]\n",
    "    \n",
    "    def is_isolated(self, d):\n",
    "        for i in range(self.n + 1):\n",
    "            if not self.is_i_free(i, d):\n",
    "                return False\n",
    "        return True\n",
    "    \n",
    "    def increase_dim(self):\n",
    "        \"\"\"\n",
    "        algorithm 15 in place\n",
    "        \"\"\"\n",
    "        self.n += 1\n",
    "        self.alpha.append(dict((d,d) for d in self.darts))\n",
    "        \n",
    "    def decrease_dim(self):\n",
    "        \"\"\"\n",
    "        algorithm 16 in place\n",
    "        \"\"\"\n",
    "        assert all(self.is_i_free(self.n, d) for d in self.darts)\n",
    "        self.decrease_dim_no_assert()\n",
    "    \n",
    "    def decrease_dim_no_assert(self):\n",
    "        del self.alpha[self.n]\n",
    "        self.n -= 1\n",
    "    \n",
    "    def index_shift(self, by):\n",
    "        self.darts = {d + by for d in self.darts}\n",
    "        self.alpha = [{k + by : v + by for k, v in a.items()} for a in self.alpha]\n",
    "        for mark in self.marks:\n",
    "            new_dict = {key + by : value for key, value in self.marks[mark].items()}\n",
    "            self.marks[mark].clear()\n",
    "            self.marks[mark].update(new_dict) #this is done to preserve default dicts\n",
    "        self.lowest_unused_dart_index += by\n",
    "        \n",
    "    def merge(self, other):\n",
    "        \"\"\"\n",
    "        algorithm 17 in place\n",
    "        \"\"\"\n",
    "        assert self.n == other.n\n",
    "        self.taken_marks.update(other.taken_marks)\n",
    "        shift = max(self.darts) - min(other.darts) + 1\n",
    "        other.index_shift(shift)\n",
    "        \n",
    "        self.darts.update(other.darts)\n",
    "        for sa, oa in zip(self.alpha, other.alpha):\n",
    "            sa.update(oa)\n",
    "        for mk in other.marks:\n",
    "            self.marks[mk].update(other.marks[mk])\n",
    "        self.taken_marks.update(other.taken_marks)\n",
    "        self.lowest_unused_dart_index = other.lowest_unused_dart_index\n",
    "        \n",
    "    def restrict(self, D):\n",
    "        \"\"\"\n",
    "        algorithm 18\n",
    "        \"\"\"\n",
    "        raise NotImplementedError #boring\n",
    "    \n",
    "    def sew_seq(self, i):\n",
    "        \"\"\"\n",
    "        indices used in the sewing operations\n",
    "        (0, ..., i - 2, i + 2, ..., n)\n",
    "        \"\"\"\n",
    "        return chain(range(0, i - 1), range(i + 2, self.n + 1))\n",
    "    \n",
    "    def sewable(self, d1, d2, i):\n",
    "        \"\"\"\n",
    "        algorithm 19\n",
    "        tests wether darts d1, d2 are sewable along i\n",
    "        returns bool\n",
    "        \"\"\"\n",
    "        if d1 == d2 or not self.is_i_free(i, d1) or not self.is_i_free(i, d2):\n",
    "            return False\n",
    "        try:\n",
    "            f = dict()\n",
    "            for d11, d22 in strict_zip(self.orbit(self.sew_seq(i), d1), self.orbit(self.sew_seq(i), d2), strict = True):\n",
    "                f[d11] = d22\n",
    "                for j in self.sew_seq(i):\n",
    "                    if self.alpha[j][d11] in f and f[self.alpha[j][d11]] != self.alpha[j][d22]:\n",
    "                        return False\n",
    "        except ValueError: #iterators not same length\n",
    "            return False\n",
    "        return True\n",
    "    \n",
    "    def sew(self, d1, d2, i):\n",
    "        \"\"\"\n",
    "        algorithm 20\n",
    "        \"\"\"\n",
    "        assert self.sewable(d1, d2, i)\n",
    "        self.sew_no_assert(d1, d2, i)\n",
    "        \n",
    "    def sew_no_assert(self, d1, d2, i):\n",
    "        for e1, e2 in strict_zip(self.orbit(self.sew_seq(i), d1), self.orbit(self.sew_seq(i), d2), strict = True):\n",
    "            self.alpha[i][e1] = e2\n",
    "            self.alpha[i][e2] = e1\n",
    "    \n",
    "    def unsew(self, d, i):\n",
    "        \"\"\"\n",
    "        algorithm 21\n",
    "        \"\"\"\n",
    "        assert not self.is_i_free(i, d)\n",
    "        for e in self.orbit(self.sew_seq(i), d):\n",
    "            f = self.alpha[i][e]\n",
    "            self.alpha[i][f] = f\n",
    "            self.alpha[i][e] = e\n",
    "    \n",
    "    def incident (self, i, d1, j, d2):\n",
    "        \"\"\"\n",
    "        checks wether the i-cell of d1 is incident to the j-cell of d2\n",
    "        \"\"\"\n",
    "        for e1, e2 in product(self.cell_i(i, d1), self.cell_i(j, d2)):\n",
    "            if e1 == e2:\n",
    "                return True\n",
    "        return False\n",
    "    \n",
    "    def adjacent(self, i, d1, d2):\n",
    "        \"\"\"\n",
    "        checks wether the i-cell of d1 is adjacent to the i-cell of d2\n",
    "        \"\"\"\n",
    "        first_cell = self.cell_i(i, d1)\n",
    "        second_cell = set(self.cell_i(i, d2))\n",
    "        for d in first_cell:\n",
    "            if self.alpha[i][d] in second_cell:\n",
    "                return True\n",
    "        return False\n",
    "    \n",
    "    # Contractablilty & Removability\n",
    "    \n",
    "    def _is_i_removable_or_contractible(self, i, dart, rc):\n",
    "        \"\"\"\n",
    "        Test if an i-cell of dart is removable/contractible:\n",
    "\n",
    "        i    ... i-cell\n",
    "        dart ... dart\n",
    "        rc   ... +1 => removable test, -1 => contractible test\n",
    "        \"\"\"\n",
    "        assert dart in self.darts\n",
    "        assert 0 <= i <= self.n\n",
    "        assert rc in {-1, +1}\n",
    "\n",
    "        if rc == +1:  # removable test\n",
    "            if i == self.n  : return False\n",
    "            if i == self.n-1: return True\n",
    "        if rc == -1:  # contractible test\n",
    "            if i == 0: return False\n",
    "            if i == 1: return True\n",
    "\n",
    "        for d in self.cell_i(i, dart):\n",
    "            if self.alpha[i+rc][self.alpha[i+rc+rc][d]] != self.alpha[i+rc+rc][self.alpha[i+rc][d]]:\n",
    "                return False\n",
    "        return True\n",
    "\n",
    "    def is_i_removable(self, i, dart):\n",
    "        \"\"\"True if i-cell of dart can be removed\"\"\"\n",
    "        return self._is_i_removable_or_contractible(i, dart, rc=+1)\n",
    "\n",
    "    def is_i_contractible(self, i, dart):\n",
    "        \"\"\"True if i-cell of dart can be contracted\"\"\"\n",
    "        return self._is_i_removable_or_contractible(i, dart, rc=-1)\n",
    "    \n",
    "    def _i_remove_contract(self, i, dart, rc, skip_check=False):\n",
    "        \"\"\"\n",
    "        Remove / contract an i-cell of dart\n",
    "        d  ... dart\n",
    "        i  ... i-cell\n",
    "        rc ... +1 => remove, -1 => contract\n",
    "        skip_check ... set to True if you are sure you can remove / contract the i-cell\n",
    "        \"\"\"\n",
    "        logging.debug (f'{\"Remove\" if rc == 1 else \"Contract\"} {i}-Cell of dart {dart}')\n",
    "\n",
    "        if not skip_check:\n",
    "            assert self._is_i_removable_or_contractible(i, dart, rc),\\\n",
    "                f'{i}-cell of dart {dart} is not {\"removable\" if rc == 1 else \"contractible\"}!'\n",
    "\n",
    "        \"\"\"\n",
    "            Every time the checking is over I assume that I can increment the variable that keeps trace of\n",
    "            the levels because the dart is removed/contracted, for sure.\n",
    "        \"\"\"\n",
    "        self.level += 1\n",
    "        #print(f'level -> {self.level}')\n",
    "\n",
    "        i_cell = set(self.cell_i(i, dart))  # mark all the darts in ci(d)\n",
    "        logging.debug (f'\\n{i}-cell to be removed {i_cell}')\n",
    "        for d in i_cell:\n",
    "            d1 = self.ai (i,d) # d1 ← d.Alphas[i];\n",
    "            if d1 not in i_cell:  # if not isMarkedNself(d1,ma) then\n",
    "                # d2 ← d.Alphas[i + 1].Alphas[i];\n",
    "                d2 = self.ai (i+rc,d)\n",
    "                d2 = self.ai (i   ,d2)\n",
    "                while d2 in i_cell: # while isMarkedNself(d2,ma) do\n",
    "                    # d2 ← d.Alphas[i + 1].Alphas[i];\n",
    "                    d2 = self.ai (i+rc,d2)\n",
    "                    d2 = self.ai (i   ,d2)\n",
    "                logging.debug (f'Modifying alpha_{i} of dart {d1} from {self.ai (i,d1)} to {d2}')\n",
    "\n",
    "\n",
    "                \"\"\"\n",
    "                    The computation of the 'set_ai' method is ok, but in that method I do not want to\n",
    "                    update the same value in the dict that represent the base level, instead, I want to\n",
    "                    add a new item in 'custom_alpha' in order to have the possibility of reconstructing\n",
    "                    the pyramid.\n",
    "                \"\"\"\n",
    "\n",
    "                #print(f'd1 -> {d1}\\nd2 -> {d2}')\n",
    "                self.set_ai(i,d1,d2) # d1.Alphas[i] ← d2;\n",
    "\n",
    "        #print(f'i-cell -> {i_cell}')\n",
    "                \n",
    "        for d in i_cell:  # foreach dart d' ∈ ci(d) do\n",
    "            #print(f'd -> {d}')\n",
    "            for j in self.all_dimensions:\n",
    "                self.custom_alpha[j][d] = self.alpha[j][d]\n",
    "            self.dart_level[d] = self.level\n",
    "            self._remove_dart (d)  # remove d' from gm.Darts;\n",
    "            #print(f'darts -> {self.darts}')\n",
    "\n",
    "    \n",
    "    def _remove(self, i, dart, skip_check=False):\n",
    "        \"\"\"Remove i-cell of dart\"\"\"\n",
    "        self._i_remove_contract(i, dart, rc=+1, skip_check=skip_check)\n",
    "\n",
    "    def _contract(self, i, dart, skip_check=False):\n",
    "        \"\"\"Contract i-cell of dart\"\"\"\n",
    "        self._i_remove_contract(i, dart, rc=-1, skip_check=skip_check)\n",
    "\n",
    "    def __repr__(self):\n",
    "        out = f\"{self.n}dGmap of {len(self.darts)} darts:\\n\"\n",
    "        for i in range(self.n + 1):\n",
    "            out += f\" {i}-cells: {self.no_i_cells(i)}\\n\"\n",
    "        out += f\" ccs: {self.no_ccs}\"\n",
    "        return out\n",
    "\n",
    "    def print_alpha(self):\n",
    "\n",
    "        print(f'\\nD[i]    | ', end= \" \")\n",
    "        for i in sorted(self.alpha[0].keys()):\n",
    "            print(f'{i} |', end= \" \")\n",
    "\n",
    "        for i in range(0, self.n+1):\n",
    "            print(f'\\nAlpha_{i} | ', end= \" \")\n",
    "            for k in sorted(self.alpha[i].keys()):\n",
    "                print(f'{self.alpha[i][k]} |', end= \" \")\n",
    "\n",
    "    def print_custom(self):\n",
    "        print(f'\\n\\nDart    | ', end= \" \")\n",
    "        for i in self.custom_alpha[0].keys():\n",
    "            print(f'{i} |', end= \" \")\n",
    "\n",
    "        for i in range(0, self.n+1):\n",
    "            print(f'\\nAlpha_{i} | ', end= \" \")\n",
    "            for j in self.custom_alpha[i].values():\n",
    "                    print(f'{j} |', end= \" \")\n",
    "\n",
    "\n",
    "    def print_history_levels(self):\n",
    "        print(f'\\n\\nHistory')\n",
    "\n",
    "        print(f'Dart  | Level')\n",
    "\n",
    "        for k, v in zip(self.dart_level.keys(), self.dart_level.values()):\n",
    "            print(f'  {k}   |   {v}')\n",
    "\n",
    "\n",
    "    ##### METHODS FOR RECONSTRUCTING THE GMAP ON THE PREVIOUS LAYER OF THE PYRAMID #####\n",
    "    ##### Carmine #####\n",
    "    # THE FOLLOWING METHODS ARE NOT USEFUL AT THE MOMENT\n",
    "\n",
    "    def is_insertable(self, c, i, assoc):\n",
    "\n",
    "        \"\"\"\n",
    "            Algorithm 60\n",
    "        \"\"\"\n",
    "\n",
    "        \"\"\"\n",
    "            if 'c' contains more than one i-cell then return False\n",
    "        \"\"\"\n",
    "        \n",
    "        ### it is wrong\n",
    "        #i_cell = self.all_i_cells(i)\n",
    "        \n",
    "        i_cell = self.cell_i(i, list(c.keys())[0])\n",
    "        print(f' i_cell -> {i_cell}')\n",
    "            \n",
    "        #len(i_cell) maybe is wrong because every key is not necessarily an i_cell\n",
    "        if len(i_cell) > 1:\n",
    "            return False\n",
    "\n",
    "        ###\n",
    "\n",
    "        \"\"\"\n",
    "            if the i-cell in 'c' is not removable then return False\n",
    "        \"\"\"\n",
    "\n",
    "        for d in i_cell:\n",
    "            flag = self.is_i_removable(i, d)\n",
    "            if flag == False:\n",
    "                print(f'dart {d} is not removable')\n",
    "                return False\n",
    "\n",
    "\n",
    "        \"\"\"\n",
    "            Computing assoc^(-1) that is an associative array between darts, inverse of 'assoc'\n",
    "        \"\"\"\n",
    "        #reversed_dictionary = {value : key for (key, value) in c.items()}\n",
    "\n",
    "        \n",
    "        inverse_assoc = {value : key for key, value in c.items()} \n",
    "\n",
    "        for d in assoc:\n",
    "\n",
    "            print(f'd -> {d}')\n",
    "            if not self.is_i_free(i, d):\n",
    "                print(f'dart {d} is not i_free')\n",
    "                return False\n",
    "            \n",
    "            d1 = assoc[d]\n",
    "\n",
    "            #get the right value of 'n' of dict_nGmap class\n",
    "            for j in range(0, self.n + 1):\n",
    "\n",
    "                print(f'self.custom_alpha[j][d] -> {self.custom_alpha[j][d]}')\n",
    "                print(f'\\nassoc -> {assoc}')\n",
    "                print(f'\\nassoc[self.custom_alpha[j][d]] -> {assoc[self.custom_alpha[j][d]]}')\n",
    "                print(f'\\nself.alpha[j][assoc[d]] -> {self.alpha[j][assoc[d]]}')\n",
    "                \n",
    "                # I think that the first term of the if refers to the dart present (or not) in the passive part\n",
    "                # because from that part the processo of reconstructing the pyramid starts\n",
    "                if self.custom_alpha[j][d] in assoc and assoc[self.custom_alpha[j][d]] != self.custom_alpha[j][assoc[d]]:\n",
    "                    print('I am here')\n",
    "                    return False\n",
    "                \n",
    "                #check this condition if it is right\n",
    "                if self.alpha[j][d] in inverse_assoc and inverse_assoc[self.alpha[j][d1]] != inverse_assoc[d1][j][d1]:\n",
    "                    print('if 2')\n",
    "                    return False\n",
    "\n",
    "\n",
    "            d2 = self.alpha[i+1][d]\n",
    "\n",
    "            while d2 not in assoc:\n",
    "                self.alpha[i+1][self.alpha[i][d2]]\n",
    "\n",
    "            if assoc[d2] != self.alpha[i][d1]:\n",
    "                return False\n",
    "\n",
    "        return True\n",
    "\n",
    "    def insert_nGmap(self, c, i, assoc):\n",
    "        \"\"\"\n",
    "            Algorithm 61\n",
    "        \"\"\"\n",
    "\n",
    "        print(f'c -> {c}')\n",
    "        l = []\n",
    "        #for d in c.darts:\n",
    "        for d in c.keys():\n",
    "            self.darts.add(d)\n",
    "            print('sono entrato nel for')\n",
    "            # I cannot delete an item of dict while I am using the dict to iterate\n",
    "            # del c[d]\n",
    "            l.append(d)\n",
    "\n",
    "            if d in assoc:\n",
    "                self.alpha[i][d] = assoc[d]\n",
    "                assoc[self.alpha[i][d]] = d\n",
    "\n",
    "        ln = len(l)\n",
    "        for k in range(0, ln):\n",
    "            del c[l[k]]\n",
    "\n",
    "        print(f'c -> {c}')\n",
    "\n",
    "    def is_expansible(self, c, i, assoc):\n",
    "\n",
    "        \"\"\"\n",
    "            if 'c' contains more than one i-cell then return False\n",
    "        \"\"\"\n",
    "        i_cell = self.all_i_cells(i)\n",
    "        if i_cell > 1:\n",
    "            return False\n",
    "\n",
    "        \"\"\"\n",
    "            if the i-cell in c is not contractible the return False\n",
    "        \"\"\"\n",
    "\n",
    "        for d in i_cell:\n",
    "            flag = self.is_i_contractible(i, d)\n",
    "            if flag == False:\n",
    "                return False\n",
    "\n",
    "        inverse_assoc = '' #something\n",
    "\n",
    "        for d in assoc:\n",
    "\n",
    "            if not self.is_i_free(i, d):\n",
    "                return False\n",
    "            \n",
    "            d1 = assoc[d]\n",
    "\n",
    "            for j in self.n:\n",
    "                if self.alpha[j][d] in assoc and assoc[self.alpha[i][d]] != assoc[d][self.alpha[j]]:\n",
    "                    return False\n",
    "\n",
    "                if self.alpha[j][d1] in inverse_assoc and inverse_assoc[self.alpha[j][d1]] != inverse_assoc[d1][self.alpha[j]]:\n",
    "                    return False\n",
    "\n",
    "            d2 = self.alpha[i-1][d]\n",
    "\n",
    "            while d2 not in assoc:\n",
    "                # i think that part is a set_ai\n",
    "                self.alpha[i].alpha[i-1]\n",
    "\n",
    "            if assoc[d2] != self.alpha[i][d1]:\n",
    "                return False\n",
    "\n",
    "        return True\n",
    "    \n",
    "    def expand(self, c, i, assoc):\n",
    "        \"\"\"\n",
    "            Algorithm 63\n",
    "        \"\"\"\n",
    "\n",
    "        for d in c.darts:\n",
    "            self.create_dart(d)\n",
    "            del c.darts[d]\n",
    "\n",
    "            if d in assoc:\n",
    "                self.alpha[i][d] = assoc[d]\n",
    "                assoc[d][self.alpha[i]] = d\n",
    "\n",
    "    def set_Gmap(self, i, d, d1):\n",
    "        assert 0 <= i <= self.n\n",
    "        self.c[d] = d1\n",
    "\n",
    "    def custom_create_dart(self, d):\n",
    "        self.darts.add(d)\n",
    "        for alpha in self.alpha:\n",
    "            alpha[d] = d\n",
    "        return d\n",
    "\n",
    "    ##### Carmine #####\n",
    "\n",
    "    def _insert(self, i, dart):\n",
    "        \n",
    "        \"\"\"\n",
    "        d = self.custom_create_dart(d)\n",
    "\n",
    "        if d in self.custom_alpha[i].keys():\n",
    "            # i should insert the value in a tmp dict where i have only the mini Gmap I want to insert\n",
    "            # i could change the method to replace set_ai and use another one to store in a tmp dict\n",
    "            #self.set_ai(d, self.custom_alpha[i][d])\n",
    "            self.set_Gmap(i, d, self.custom_alpha[i][d])\n",
    "\n",
    "            if not self.is_insertable(self.c, i, self.alpha[i]): \n",
    "                print(f'The dart {d} is not insertable!')\n",
    "                return False\n",
    "\n",
    "            del self.custom_alpha[i][d]\n",
    "\n",
    "            self.insert_nGmap(self.c, i, self.custom_alpha[i]) \n",
    "        \n",
    "        else:\n",
    "            print(f'The dart {d} is already in the current Gmap!')\n",
    "\n",
    "        \"\"\"\n",
    "\n",
    "\n",
    "        \"\"\"\n",
    "            The following solution is implemented assuming that if a dart was removed/contracted previously\n",
    "            then it is inserible into the current Gmap.\n",
    "        \"\"\"\n",
    "        self.darts.add(dart)\n",
    "\n",
    "        \"\"\"\n",
    "            I am assuming that the dart taken in input is already present into custom_alpha\n",
    "        \"\"\"\n",
    "        #tmp = self.alpha[i][self.custom_alpha[i][dart]] # if dart = 2 -> 4\n",
    "\n",
    "        self.alpha[i][self.custom_alpha[i][dart]] = dart\n",
    "        for j in range(0, self.n + 1):\n",
    "            \n",
    "            self.alpha[j][dart] = self.custom_alpha[j][dart]\n",
    "            del self.custom_alpha[j][dart]\n",
    "\n",
    "    def _insert_until_level(self, level, i=None):   \n",
    "\n",
    "        f = open(\"reconstruction.txt\", \"w\")\n",
    "        \n",
    "        \n",
    "        l = []\n",
    "        for k in reversed(self.dart_level):\n",
    "            #print(f'dict_level -> {self.dart_level[k]}\\ninput_level -> {level}')\n",
    "            \n",
    "            if self.dart_level[k] > level:\n",
    "                \"\"\"\n",
    "                    If you over this condition It means you can reconstruct something.\n",
    "                \"\"\"\n",
    "                l.append(k)\n",
    "                self.darts.add(k)\n",
    "                #print(f'dart {k} added to the set of darts')\n",
    "\n",
    "                for j in range(0, self.n + 1):\n",
    "                    try:\n",
    "                        \n",
    "                        s1 = '\\nAlpha[{j}][custom_alpha[{j}][{k}]] -> '.format(j = j, k = k)\n",
    "                        f.write(s1)\n",
    "                        self.alpha[j][self.custom_alpha[j][k]] = k\n",
    "                        z = str(self.alpha[j][self.custom_alpha[j][k]])\n",
    "                        f.write(z)\n",
    "                        f.write('\\n')\n",
    "                        \n",
    "                        s2 = 'Alpha[{j}][{k}] -> '.format(j = j, k = k)\n",
    "                        f.write(s2)\n",
    "                        self.alpha[j][k] = self.custom_alpha[j][k]\n",
    "                        y = str(self.alpha[j][k])\n",
    "                        f.write(y)\n",
    "                        f.write('\\n')\n",
    "\n",
    "                        del self.custom_alpha[j][k]\n",
    "                        #print(f'I have reconstructed the level {self.dart_level[k]} with the dart {k}')\n",
    "                    except KeyError:\n",
    "                        #print(f'd -> {k}')\n",
    "                        print(f'error at level {self.dart_level[k]}')\n",
    "                        continue\n",
    "        f.close()                  \n",
    "        for el in l:\n",
    "            del self.dart_level[el]\n",
    "                \n",
    "def strict_zip(arg1, arg2, strict = False):\n",
    "    \"\"\"\n",
    "    strict keyword for zip is only avaliable in python 3.10 which is still in alpha :(\n",
    "    \"\"\"\n",
    "    assert strict == True\n",
    "    arg1 = list(arg1)\n",
    "    arg2 = list(arg2)\n",
    "    if len(arg1) == len(arg2):\n",
    "        return zip(arg1, arg2)\n",
    "    else:\n",
    "        raise ValueError\n",
    "\n",
    "    "
   ]
  },
  {
   "cell_type": "markdown",
   "metadata": {},
   "source": [
    "# Carmine test: compare the results of that implementation with mine"
   ]
  },
  {
   "cell_type": "code",
   "execution_count": 1035,
   "metadata": {},
   "outputs": [
    {
     "data": {
      "text/plain": [
       "2dGmap of 12 darts:\n",
       " 0-cells: 6\n",
       " 1-cells: 6\n",
       " 2-cells: 2\n",
       " ccs: 2"
      ]
     },
     "execution_count": 1035,
     "metadata": {},
     "output_type": "execute_result"
    }
   ],
   "source": [
    "from combinatorial.notebooks.combinatorial.zoo import G2_HOUSE_1, G2_TWO_TRIANGLES_1\n",
    "\n",
    "m = dict_nGmap.from_string(G2_TWO_TRIANGLES_1)\n",
    "\n",
    "m\n"
   ]
  },
  {
   "cell_type": "code",
   "execution_count": 1036,
   "metadata": {},
   "outputs": [
    {
     "name": "stdout",
     "output_type": "stream",
     "text": [
      "\n",
      "D[i]    |  1 | 2 | 3 | 4 | 5 | 6 | 7 | 8 | 9 | 10 | 11 | 12 | \n",
      "Alpha_0 |  2 | 1 | 4 | 3 | 6 | 5 | 8 | 7 | 10 | 9 | 12 | 11 | \n",
      "Alpha_1 |  6 | 3 | 2 | 5 | 4 | 1 | 12 | 9 | 8 | 11 | 10 | 7 | \n",
      "Alpha_2 |  1 | 2 | 3 | 4 | 5 | 6 | 7 | 8 | 9 | 10 | 11 | 12 | "
     ]
    }
   ],
   "source": [
    "m.print_alpha()"
   ]
  },
  {
   "cell_type": "code",
   "execution_count": 1037,
   "metadata": {},
   "outputs": [
    {
     "data": {
      "text/plain": [
       "True"
      ]
     },
     "execution_count": 1037,
     "metadata": {},
     "output_type": "execute_result"
    }
   ],
   "source": [
    "m._remove(0, 1)\n",
    "m.is_valid"
   ]
  },
  {
   "cell_type": "code",
   "execution_count": 1038,
   "metadata": {},
   "outputs": [
    {
     "name": "stdout",
     "output_type": "stream",
     "text": [
      "\n",
      "\n",
      "Dart    |  1 | 6 | \n",
      "Alpha_0 |  2 | 5 | \n",
      "Alpha_1 |  6 | 1 | \n",
      "Alpha_2 |  1 | 6 | \n",
      "\n",
      "History\n",
      "Dart  | Level\n",
      "  1   |   1\n",
      "  6   |   1\n"
     ]
    }
   ],
   "source": [
    "m.print_custom()\n",
    "m.print_history_levels()"
   ]
  },
  {
   "cell_type": "code",
   "execution_count": 1039,
   "metadata": {},
   "outputs": [],
   "source": [
    "m._contract(1, 7)"
   ]
  },
  {
   "cell_type": "code",
   "execution_count": 1040,
   "metadata": {},
   "outputs": [
    {
     "name": "stdout",
     "output_type": "stream",
     "text": [
      "\n",
      "\n",
      "Dart    |  1 | 6 | 8 | 7 | \n",
      "Alpha_0 |  2 | 5 | 7 | 8 | \n",
      "Alpha_1 |  6 | 1 | 9 | 12 | \n",
      "Alpha_2 |  1 | 6 | 8 | 7 | \n",
      "\n",
      "History\n",
      "Dart  | Level\n",
      "  1   |   1\n",
      "  6   |   1\n",
      "  8   |   2\n",
      "  7   |   2\n"
     ]
    }
   ],
   "source": [
    "m.print_custom()\n",
    "m.print_history_levels()"
   ]
  },
  {
   "cell_type": "code",
   "execution_count": 1041,
   "metadata": {},
   "outputs": [],
   "source": [
    "m._remove(0, 2)"
   ]
  },
  {
   "cell_type": "code",
   "execution_count": 1042,
   "metadata": {},
   "outputs": [
    {
     "name": "stdout",
     "output_type": "stream",
     "text": [
      "\n",
      "\n",
      "Dart    |  1 | 6 | 8 | 7 | 2 | 3 | \n",
      "Alpha_0 |  2 | 5 | 7 | 8 | 5 | 4 | \n",
      "Alpha_1 |  6 | 1 | 9 | 12 | 3 | 2 | \n",
      "Alpha_2 |  1 | 6 | 8 | 7 | 2 | 3 | \n",
      "\n",
      "History\n",
      "Dart  | Level\n",
      "  1   |   1\n",
      "  6   |   1\n",
      "  8   |   2\n",
      "  7   |   2\n",
      "  2   |   3\n",
      "  3   |   3\n"
     ]
    }
   ],
   "source": [
    "m.print_custom()\n",
    "m.print_history_levels()"
   ]
  },
  {
   "cell_type": "code",
   "execution_count": 1043,
   "metadata": {},
   "outputs": [
    {
     "name": "stdout",
     "output_type": "stream",
     "text": [
      "\n",
      "D[i]    |  4 | 5 | 9 | 10 | 11 | 12 | \n",
      "Alpha_0 |  5 | 4 | 10 | 9 | 12 | 11 | \n",
      "Alpha_1 |  5 | 4 | 12 | 11 | 10 | 9 | \n",
      "Alpha_2 |  4 | 5 | 9 | 10 | 11 | 12 | "
     ]
    }
   ],
   "source": [
    "m.print_alpha()"
   ]
  },
  {
   "cell_type": "code",
   "execution_count": 1044,
   "metadata": {},
   "outputs": [],
   "source": [
    "\"\"\"\n",
    "    You can give in input the level of the pyramid until you want to reconstruct. This value is escluded from the considered interval of levels.\n",
    "    Ex. INPUT = 1 -> level belong to ]1, top]\n",
    "\"\"\"\n",
    "m._insert_until_level(0)"
   ]
  },
  {
   "cell_type": "code",
   "execution_count": 1045,
   "metadata": {},
   "outputs": [
    {
     "name": "stdout",
     "output_type": "stream",
     "text": [
      "\n",
      "D[i]    |  1 | 2 | 3 | 4 | 5 | 6 | 7 | 8 | 9 | 10 | 11 | 12 | \n",
      "Alpha_0 |  2 | 1 | 4 | 3 | 6 | 5 | 8 | 7 | 10 | 9 | 12 | 11 | \n",
      "Alpha_1 |  6 | 3 | 2 | 5 | 4 | 1 | 12 | 9 | 8 | 11 | 10 | 7 | \n",
      "Alpha_2 |  1 | 2 | 3 | 4 | 5 | 6 | 7 | 8 | 9 | 10 | 11 | 12 | \n",
      "\n",
      "\n",
      "\n",
      "Dart    |  \n",
      "Alpha_0 |  \n",
      "Alpha_1 |  \n",
      "Alpha_2 |  \n",
      "\n",
      "History\n",
      "Dart  | Level\n",
      "\n",
      "Set of the darts\n",
      "[1, 2, 3, 4, 5, 6, 7, 8, 9, 10, 11, 12]\n"
     ]
    }
   ],
   "source": [
    "m.print_alpha()\n",
    "\n",
    "print('\\n')\n",
    "m.print_custom()\n",
    "\n",
    "m.print_history_levels()\n",
    "\n",
    "print('\\nSet of the darts')\n",
    "print(sorted(m.darts))"
   ]
  },
  {
   "cell_type": "code",
   "execution_count": 1046,
   "metadata": {},
   "outputs": [
    {
     "data": {
      "text/plain": [
       "2dGmap of 12 darts:\n",
       " 0-cells: 6\n",
       " 1-cells: 6\n",
       " 2-cells: 2\n",
       " ccs: 2"
      ]
     },
     "execution_count": 1046,
     "metadata": {},
     "output_type": "execute_result"
    }
   ],
   "source": [
    "m"
   ]
  },
  {
   "cell_type": "markdown",
   "metadata": {},
   "source": [
    "# Test using another Gmap"
   ]
  },
  {
   "cell_type": "code",
   "execution_count": 1047,
   "metadata": {},
   "outputs": [
    {
     "data": {
      "text/plain": [
       "2dGmap of 24 darts:\n",
       " 0-cells: 5\n",
       " 1-cells: 6\n",
       " 2-cells: 3\n",
       " ccs: 1"
      ]
     },
     "execution_count": 1047,
     "metadata": {},
     "output_type": "execute_result"
    }
   ],
   "source": [
    "m1 = dict_nGmap.from_string(G2_HOUSE_1)\n",
    "\n",
    "m1"
   ]
  },
  {
   "cell_type": "code",
   "execution_count": 1048,
   "metadata": {},
   "outputs": [
    {
     "name": "stdout",
     "output_type": "stream",
     "text": [
      "\n",
      "D[i]    |  1 | 2 | 3 | 4 | 5 | 6 | 7 | 8 | 9 | 10 | 11 | 12 | 13 | 14 | 15 | 16 | 17 | 18 | 19 | 20 | 21 | 22 | 23 | 24 | \n",
      "Alpha_0 |  2 | 1 | 4 | 3 | 6 | 5 | 8 | 7 | 10 | 9 | 12 | 11 | 14 | 13 | 16 | 15 | 18 | 17 | 20 | 19 | 22 | 21 | 24 | 23 | \n",
      "Alpha_1 |  8 | 3 | 2 | 5 | 4 | 7 | 6 | 1 | 14 | 11 | 10 | 13 | 12 | 9 | 24 | 17 | 16 | 19 | 18 | 21 | 20 | 23 | 22 | 15 | \n",
      "Alpha_2 |  15 | 16 | 9 | 10 | 21 | 22 | 23 | 24 | 3 | 4 | 20 | 19 | 18 | 17 | 1 | 2 | 14 | 13 | 12 | 11 | 5 | 6 | 7 | 8 | \n",
      "\n",
      "Dart    |  \n",
      "Alpha_0 |  \n",
      "Alpha_1 |  \n",
      "Alpha_2 |  "
     ]
    }
   ],
   "source": [
    "m1.print_alpha()\n",
    "\n",
    "m1.print_custom()"
   ]
  },
  {
   "cell_type": "code",
   "execution_count": 1049,
   "metadata": {},
   "outputs": [
    {
     "data": {
      "text/plain": [
       "True"
      ]
     },
     "execution_count": 1049,
     "metadata": {},
     "output_type": "execute_result"
    }
   ],
   "source": [
    "m1._contract(1, 8)\n",
    "m1.is_valid"
   ]
  },
  {
   "cell_type": "code",
   "execution_count": 1050,
   "metadata": {},
   "outputs": [
    {
     "name": "stdout",
     "output_type": "stream",
     "text": [
      "\n",
      "D[i]    |  1 | 2 | 3 | 4 | 5 | 6 | 9 | 10 | 11 | 12 | 13 | 14 | 15 | 16 | 17 | 18 | 19 | 20 | 21 | 22 | \n",
      "Alpha_0 |  2 | 1 | 4 | 3 | 6 | 5 | 10 | 9 | 12 | 11 | 14 | 13 | 16 | 15 | 18 | 17 | 20 | 19 | 22 | 21 | \n",
      "Alpha_1 |  6 | 3 | 2 | 5 | 4 | 1 | 14 | 11 | 10 | 13 | 12 | 9 | 22 | 17 | 16 | 19 | 18 | 21 | 20 | 15 | \n",
      "Alpha_2 |  15 | 16 | 9 | 10 | 21 | 22 | 3 | 4 | 20 | 19 | 18 | 17 | 1 | 2 | 14 | 13 | 12 | 11 | 5 | 6 | \n",
      "\n",
      "Dart    |  8 | 24 | 23 | 7 | \n",
      "Alpha_0 |  7 | 23 | 24 | 8 | \n",
      "Alpha_1 |  1 | 15 | 22 | 6 | \n",
      "Alpha_2 |  24 | 8 | 7 | 23 | "
     ]
    }
   ],
   "source": [
    "m1.print_alpha()\n",
    "\n",
    "m1.print_custom()"
   ]
  },
  {
   "cell_type": "code",
   "execution_count": 1051,
   "metadata": {},
   "outputs": [
    {
     "data": {
      "text/plain": [
       "True"
      ]
     },
     "execution_count": 1051,
     "metadata": {},
     "output_type": "execute_result"
    }
   ],
   "source": [
    "m1._remove(1, 11)\n",
    "m1.is_valid"
   ]
  },
  {
   "cell_type": "code",
   "execution_count": 1052,
   "metadata": {},
   "outputs": [
    {
     "name": "stdout",
     "output_type": "stream",
     "text": [
      "\n",
      "D[i]    |  1 | 2 | 3 | 4 | 5 | 6 | 9 | 10 | 13 | 14 | 15 | 16 | 17 | 18 | 21 | 22 | \n",
      "Alpha_0 |  2 | 1 | 4 | 3 | 6 | 5 | 10 | 9 | 14 | 13 | 16 | 15 | 18 | 17 | 22 | 21 | \n",
      "Alpha_1 |  6 | 3 | 2 | 5 | 4 | 1 | 14 | 21 | 18 | 9 | 22 | 17 | 16 | 13 | 10 | 15 | \n",
      "Alpha_2 |  15 | 16 | 9 | 10 | 21 | 22 | 3 | 4 | 18 | 17 | 1 | 2 | 14 | 13 | 5 | 6 | \n",
      "\n",
      "Dart    |  8 | 24 | 23 | 7 | 19 | 11 | 12 | 20 | \n",
      "Alpha_0 |  7 | 23 | 24 | 8 | 20 | 12 | 11 | 19 | \n",
      "Alpha_1 |  1 | 15 | 22 | 6 | 18 | 10 | 13 | 21 | \n",
      "Alpha_2 |  24 | 8 | 7 | 23 | 12 | 20 | 19 | 11 | "
     ]
    }
   ],
   "source": [
    "m1.print_alpha()\n",
    "\n",
    "m1.print_custom()"
   ]
  },
  {
   "cell_type": "code",
   "execution_count": 1053,
   "metadata": {},
   "outputs": [
    {
     "data": {
      "text/plain": [
       "True"
      ]
     },
     "execution_count": 1053,
     "metadata": {},
     "output_type": "execute_result"
    }
   ],
   "source": [
    "m1._remove(1, 15)\n",
    "m1.is_valid"
   ]
  },
  {
   "cell_type": "code",
   "execution_count": 1054,
   "metadata": {},
   "outputs": [
    {
     "name": "stdout",
     "output_type": "stream",
     "text": [
      "\n",
      "D[i]    |  3 | 4 | 5 | 6 | 9 | 10 | 13 | 14 | 17 | 18 | 21 | 22 | \n",
      "Alpha_0 |  4 | 3 | 6 | 5 | 10 | 9 | 14 | 13 | 18 | 17 | 22 | 21 | \n",
      "Alpha_1 |  17 | 5 | 4 | 22 | 14 | 21 | 18 | 9 | 3 | 13 | 10 | 6 | \n",
      "Alpha_2 |  9 | 10 | 21 | 22 | 3 | 4 | 18 | 17 | 14 | 13 | 5 | 6 | \n",
      "\n",
      "Dart    |  8 | 24 | 23 | 7 | 19 | 11 | 12 | 20 | 16 | 1 | 2 | 15 | \n",
      "Alpha_0 |  7 | 23 | 24 | 8 | 20 | 12 | 11 | 19 | 15 | 2 | 1 | 16 | \n",
      "Alpha_1 |  1 | 15 | 22 | 6 | 18 | 10 | 13 | 21 | 17 | 6 | 3 | 22 | \n",
      "Alpha_2 |  24 | 8 | 7 | 23 | 12 | 20 | 19 | 11 | 2 | 15 | 16 | 1 | "
     ]
    }
   ],
   "source": [
    "m1.print_alpha()\n",
    "\n",
    "m1.print_custom()"
   ]
  },
  {
   "cell_type": "code",
   "execution_count": 1055,
   "metadata": {},
   "outputs": [
    {
     "data": {
      "text/plain": [
       "True"
      ]
     },
     "execution_count": 1055,
     "metadata": {},
     "output_type": "execute_result"
    }
   ],
   "source": [
    "m1._contract(1, 22)\n",
    "m1.is_valid"
   ]
  },
  {
   "cell_type": "code",
   "execution_count": 1056,
   "metadata": {},
   "outputs": [
    {
     "name": "stdout",
     "output_type": "stream",
     "text": [
      "\n",
      "D[i]    |  3 | 4 | 9 | 10 | 13 | 14 | 17 | 18 | \n",
      "Alpha_0 |  4 | 3 | 10 | 9 | 14 | 13 | 18 | 17 | \n",
      "Alpha_1 |  17 | 10 | 14 | 4 | 18 | 9 | 3 | 13 | \n",
      "Alpha_2 |  9 | 10 | 3 | 4 | 18 | 17 | 14 | 13 | \n",
      "\n",
      "Dart    |  8 | 24 | 23 | 7 | 19 | 11 | 12 | 20 | 16 | 1 | 2 | 15 | 5 | 21 | 22 | 6 | \n",
      "Alpha_0 |  7 | 23 | 24 | 8 | 20 | 12 | 11 | 19 | 15 | 2 | 1 | 16 | 6 | 22 | 21 | 5 | \n",
      "Alpha_1 |  1 | 15 | 22 | 6 | 18 | 10 | 13 | 21 | 17 | 6 | 3 | 22 | 4 | 10 | 6 | 22 | \n",
      "Alpha_2 |  24 | 8 | 7 | 23 | 12 | 20 | 19 | 11 | 2 | 15 | 16 | 1 | 21 | 5 | 6 | 22 | "
     ]
    }
   ],
   "source": [
    "m1.print_alpha()\n",
    "\n",
    "m1.print_custom()"
   ]
  },
  {
   "cell_type": "code",
   "execution_count": 1057,
   "metadata": {},
   "outputs": [],
   "source": [
    "m1._insert_until_level(0)"
   ]
  },
  {
   "cell_type": "code",
   "execution_count": 1058,
   "metadata": {},
   "outputs": [
    {
     "name": "stdout",
     "output_type": "stream",
     "text": [
      "\n",
      "D[i]    |  1 | 2 | 3 | 4 | 5 | 6 | 7 | 8 | 9 | 10 | 11 | 12 | 13 | 14 | 15 | 16 | 17 | 18 | 19 | 20 | 21 | 22 | 23 | 24 | \n",
      "Alpha_0 |  2 | 1 | 4 | 3 | 6 | 5 | 8 | 7 | 10 | 9 | 12 | 11 | 14 | 13 | 16 | 15 | 18 | 17 | 20 | 19 | 22 | 21 | 24 | 23 | \n",
      "Alpha_1 |  8 | 3 | 2 | 5 | 4 | 7 | 6 | 1 | 14 | 11 | 10 | 13 | 12 | 9 | 24 | 17 | 16 | 19 | 18 | 21 | 20 | 23 | 22 | 15 | \n",
      "Alpha_2 |  15 | 16 | 9 | 10 | 21 | 22 | 23 | 24 | 3 | 4 | 20 | 19 | 18 | 17 | 1 | 2 | 14 | 13 | 12 | 11 | 5 | 6 | 7 | 8 | \n",
      "\n",
      "Dart    |  \n",
      "Alpha_0 |  \n",
      "Alpha_1 |  \n",
      "Alpha_2 |  "
     ]
    }
   ],
   "source": [
    "m1.print_alpha()\n",
    "\n",
    "m1.print_custom()"
   ]
  },
  {
   "cell_type": "code",
   "execution_count": 1059,
   "metadata": {},
   "outputs": [
    {
     "data": {
      "text/plain": [
       "2dGmap of 24 darts:\n",
       " 0-cells: 5\n",
       " 1-cells: 6\n",
       " 2-cells: 3\n",
       " ccs: 1"
      ]
     },
     "execution_count": 1059,
     "metadata": {},
     "output_type": "execute_result"
    }
   ],
   "source": [
    "m1"
   ]
  },
  {
   "cell_type": "markdown",
   "metadata": {},
   "source": [
    "# Checking part for the manual insert of the dart"
   ]
  },
  {
   "cell_type": "code",
   "execution_count": 1060,
   "metadata": {},
   "outputs": [
    {
     "ename": "KeyError",
     "evalue": "2",
     "output_type": "error",
     "traceback": [
      "\u001b[1;31m---------------------------------------------------------------------------\u001b[0m",
      "\u001b[1;31mKeyError\u001b[0m                                  Traceback (most recent call last)",
      "\u001b[1;32m~\\AppData\\Local\\Temp/ipykernel_23620/3462698061.py\u001b[0m in \u001b[0;36m<module>\u001b[1;34m\u001b[0m\n\u001b[1;32m----> 1\u001b[1;33m \u001b[0mm\u001b[0m\u001b[1;33m.\u001b[0m\u001b[0m_insert\u001b[0m\u001b[1;33m(\u001b[0m\u001b[1;36m0\u001b[0m\u001b[1;33m,\u001b[0m \u001b[1;36m2\u001b[0m\u001b[1;33m)\u001b[0m\u001b[1;33m\u001b[0m\u001b[1;33m\u001b[0m\u001b[0m\n\u001b[0m",
      "\u001b[1;32m~\\AppData\\Local\\Temp/ipykernel_23620/640480481.py\u001b[0m in \u001b[0;36m_insert\u001b[1;34m(self, i, dart)\u001b[0m\n\u001b[0;32m    792\u001b[0m         \u001b[1;31m#tmp = self.alpha[i][self.custom_alpha[i][dart]] # if dart = 2 -> 4\u001b[0m\u001b[1;33m\u001b[0m\u001b[1;33m\u001b[0m\u001b[1;33m\u001b[0m\u001b[0m\n\u001b[0;32m    793\u001b[0m \u001b[1;33m\u001b[0m\u001b[0m\n\u001b[1;32m--> 794\u001b[1;33m         \u001b[0mself\u001b[0m\u001b[1;33m.\u001b[0m\u001b[0malpha\u001b[0m\u001b[1;33m[\u001b[0m\u001b[0mi\u001b[0m\u001b[1;33m]\u001b[0m\u001b[1;33m[\u001b[0m\u001b[0mself\u001b[0m\u001b[1;33m.\u001b[0m\u001b[0mcustom_alpha\u001b[0m\u001b[1;33m[\u001b[0m\u001b[0mi\u001b[0m\u001b[1;33m]\u001b[0m\u001b[1;33m[\u001b[0m\u001b[0mdart\u001b[0m\u001b[1;33m]\u001b[0m\u001b[1;33m]\u001b[0m \u001b[1;33m=\u001b[0m \u001b[0mdart\u001b[0m\u001b[1;33m\u001b[0m\u001b[1;33m\u001b[0m\u001b[0m\n\u001b[0m\u001b[0;32m    795\u001b[0m         \u001b[1;32mfor\u001b[0m \u001b[0mj\u001b[0m \u001b[1;32min\u001b[0m \u001b[0mrange\u001b[0m\u001b[1;33m(\u001b[0m\u001b[1;36m0\u001b[0m\u001b[1;33m,\u001b[0m \u001b[0mself\u001b[0m\u001b[1;33m.\u001b[0m\u001b[0mn\u001b[0m \u001b[1;33m+\u001b[0m \u001b[1;36m1\u001b[0m\u001b[1;33m)\u001b[0m\u001b[1;33m:\u001b[0m\u001b[1;33m\u001b[0m\u001b[1;33m\u001b[0m\u001b[0m\n\u001b[0;32m    796\u001b[0m \u001b[1;33m\u001b[0m\u001b[0m\n",
      "\u001b[1;31mKeyError\u001b[0m: 2"
     ]
    }
   ],
   "source": [
    "m._insert(0, 2)"
   ]
  },
  {
   "cell_type": "code",
   "execution_count": null,
   "metadata": {},
   "outputs": [
    {
     "name": "stdout",
     "output_type": "stream",
     "text": [
      "Active part\n",
      "alpha[0] -> {4: 5, 5: 2, 9: 10, 10: 9, 11: 12, 12: 11, 2: 5}\n",
      "alpha[1] -> {4: 5, 5: 4, 9: 12, 10: 11, 11: 10, 12: 9, 2: 3}\n",
      "alpha[2] -> {4: 4, 5: 5, 9: 9, 10: 10, 11: 11, 12: 12, 2: 2}\n",
      "\n",
      "Passive part\n",
      "custom_alpha[0] -> {1: 2, 6: 5, 8: 7, 7: 8, 3: 4}\n",
      "custom_alpha[1] -> {1: 6, 6: 1, 8: 9, 7: 12, 3: 2}\n",
      "custom_alpha[2] -> {1: 1, 6: 6, 8: 8, 7: 7, 3: 3}\n"
     ]
    }
   ],
   "source": [
    "print('Active part')\n",
    "m.print_alpha()\n",
    "\n",
    "print('\\nPassive part')\n",
    "m.print_custom()"
   ]
  },
  {
   "cell_type": "code",
   "execution_count": null,
   "metadata": {},
   "outputs": [],
   "source": [
    "m._insert(0, 3)"
   ]
  },
  {
   "cell_type": "code",
   "execution_count": null,
   "metadata": {},
   "outputs": [
    {
     "name": "stdout",
     "output_type": "stream",
     "text": [
      "Active part\n",
      "alpha[0] -> {4: 3, 5: 2, 9: 10, 10: 9, 11: 12, 12: 11, 2: 5, 3: 4}\n",
      "alpha[1] -> {4: 5, 5: 4, 9: 12, 10: 11, 11: 10, 12: 9, 2: 3, 3: 2}\n",
      "alpha[2] -> {4: 4, 5: 5, 9: 9, 10: 10, 11: 11, 12: 12, 2: 2, 3: 3}\n",
      "\n",
      "Passive part\n",
      "custom_alpha[0] -> {1: 2, 6: 5, 8: 7, 7: 8}\n",
      "custom_alpha[1] -> {1: 6, 6: 1, 8: 9, 7: 12}\n",
      "custom_alpha[2] -> {1: 1, 6: 6, 8: 8, 7: 7}\n"
     ]
    }
   ],
   "source": [
    "print('Active part')\n",
    "m.print_alpha()\n",
    "\n",
    "print('\\nPassive part')\n",
    "m.print_custom()"
   ]
  },
  {
   "cell_type": "code",
   "execution_count": null,
   "metadata": {},
   "outputs": [],
   "source": [
    "m._insert(1, 7)"
   ]
  },
  {
   "cell_type": "code",
   "execution_count": null,
   "metadata": {},
   "outputs": [
    {
     "name": "stdout",
     "output_type": "stream",
     "text": [
      "Active part\n",
      "alpha[0] -> {4: 3, 5: 2, 9: 10, 10: 9, 11: 12, 12: 11, 2: 5, 3: 4, 7: 8}\n",
      "alpha[1] -> {4: 5, 5: 4, 9: 12, 10: 11, 11: 10, 12: 7, 2: 3, 3: 2, 7: 12}\n",
      "alpha[2] -> {4: 4, 5: 5, 9: 9, 10: 10, 11: 11, 12: 12, 2: 2, 3: 3, 7: 7}\n",
      "\n",
      "Passive part\n",
      "custom_alpha[0] -> {1: 2, 6: 5, 8: 7}\n",
      "custom_alpha[1] -> {1: 6, 6: 1, 8: 9}\n",
      "custom_alpha[2] -> {1: 1, 6: 6, 8: 8}\n"
     ]
    }
   ],
   "source": [
    "print('Active part')\n",
    "m.print_alpha()\n",
    "\n",
    "print('\\nPassive part')\n",
    "m.print_custom()"
   ]
  },
  {
   "cell_type": "code",
   "execution_count": null,
   "metadata": {},
   "outputs": [],
   "source": [
    "m._insert(1, 8)"
   ]
  },
  {
   "cell_type": "code",
   "execution_count": null,
   "metadata": {},
   "outputs": [
    {
     "name": "stdout",
     "output_type": "stream",
     "text": [
      "Active part\n",
      "alpha[0] -> {4: 3, 5: 2, 9: 10, 10: 9, 11: 12, 12: 11, 2: 5, 3: 4, 7: 8, 8: 7}\n",
      "alpha[1] -> {4: 5, 5: 4, 9: 8, 10: 11, 11: 10, 12: 7, 2: 3, 3: 2, 7: 12, 8: 9}\n",
      "alpha[2] -> {4: 4, 5: 5, 9: 9, 10: 10, 11: 11, 12: 12, 2: 2, 3: 3, 7: 7, 8: 8}\n",
      "\n",
      "Passive part\n",
      "custom_alpha[0] -> {1: 2, 6: 5}\n",
      "custom_alpha[1] -> {1: 6, 6: 1}\n",
      "custom_alpha[2] -> {1: 1, 6: 6}\n"
     ]
    }
   ],
   "source": [
    "print('Active part')\n",
    "m.print_alpha()\n",
    "\n",
    "print('\\nPassive part')\n",
    "m.print_custom()"
   ]
  },
  {
   "cell_type": "code",
   "execution_count": null,
   "metadata": {},
   "outputs": [],
   "source": [
    "m._insert(0, 1)\n",
    "m._insert(0, 6)"
   ]
  },
  {
   "cell_type": "code",
   "execution_count": null,
   "metadata": {},
   "outputs": [
    {
     "name": "stdout",
     "output_type": "stream",
     "text": [
      "Active part\n",
      "alpha[0] -> {4: 3, 5: 6, 9: 10, 10: 9, 11: 12, 12: 11, 2: 1, 3: 4, 7: 8, 8: 7, 1: 2, 6: 5}\n",
      "alpha[1] -> {4: 5, 5: 4, 9: 8, 10: 11, 11: 10, 12: 7, 2: 3, 3: 2, 7: 12, 8: 9, 1: 6, 6: 1}\n",
      "alpha[2] -> {4: 4, 5: 5, 9: 9, 10: 10, 11: 11, 12: 12, 2: 2, 3: 3, 7: 7, 8: 8, 1: 1, 6: 6}\n",
      "\n",
      "Passive part\n",
      "custom_alpha[0] -> {}\n",
      "custom_alpha[1] -> {}\n",
      "custom_alpha[2] -> {}\n",
      "{4, 5, 1, 3, 2, 9, 10, 11, 12, 7, 8, 6}\n"
     ]
    }
   ],
   "source": [
    "print('Active part')\n",
    "m.print_alpha()\n",
    "\n",
    "print('\\nPassive part')\n",
    "m.print_custom()\n",
    "\n",
    "print(m.darts)"
   ]
  },
  {
   "cell_type": "code",
   "execution_count": null,
   "metadata": {},
   "outputs": [
    {
     "data": {
      "text/plain": [
       "2dGmap of 12 darts:\n",
       " 0-cells: 6\n",
       " 1-cells: 6\n",
       " 2-cells: 2\n",
       " ccs: 2"
      ]
     },
     "execution_count": 816,
     "metadata": {},
     "output_type": "execute_result"
    }
   ],
   "source": [
    "m"
   ]
  },
  {
   "cell_type": "markdown",
   "metadata": {},
   "source": [
    "# Prof test"
   ]
  },
  {
   "cell_type": "code",
   "execution_count": null,
   "metadata": {},
   "outputs": [
    {
     "data": {
      "text/plain": [
       "2dGmap of 24 darts:\n",
       " 0-cells: 5\n",
       " 1-cells: 6\n",
       " 2-cells: 3\n",
       " ccs: 1"
      ]
     },
     "execution_count": 817,
     "metadata": {},
     "output_type": "execute_result"
    }
   ],
   "source": [
    "from combinatorial.notebooks.combinatorial.zoo import G2_HOUSE_1\n",
    "\n",
    "m = dict_nGmap.from_string(G2_HOUSE_1)\n",
    "\n",
    "m"
   ]
  },
  {
   "cell_type": "code",
   "execution_count": null,
   "metadata": {},
   "outputs": [
    {
     "data": {
      "text/plain": [
       "[1, 9, 15]"
      ]
     },
     "execution_count": 818,
     "metadata": {},
     "output_type": "execute_result"
    }
   ],
   "source": [
    "list(m.darts_of_i_cells(2))"
   ]
  },
  {
   "cell_type": "code",
   "execution_count": null,
   "metadata": {},
   "outputs": [
    {
     "data": {
      "text/plain": [
       "[1]"
      ]
     },
     "execution_count": 819,
     "metadata": {},
     "output_type": "execute_result"
    }
   ],
   "source": [
    "list(m.darts_of_i_cells_incident_to_j_cell(1, 2, 1))"
   ]
  },
  {
   "cell_type": "code",
   "execution_count": null,
   "metadata": {},
   "outputs": [
    {
     "data": {
      "text/plain": [
       "[15, 10]"
      ]
     },
     "execution_count": 820,
     "metadata": {},
     "output_type": "execute_result"
    }
   ],
   "source": [
    "list(m.darts_of_i_cells_adjacent_to_i_cell(1, 2))"
   ]
  },
  {
   "cell_type": "code",
   "execution_count": null,
   "metadata": {},
   "outputs": [
    {
     "data": {
      "text/plain": [
       "25"
      ]
     },
     "execution_count": 821,
     "metadata": {},
     "output_type": "execute_result"
    }
   ],
   "source": [
    "d = m.create_dart()\n",
    "d"
   ]
  },
  {
   "cell_type": "code",
   "execution_count": null,
   "metadata": {},
   "outputs": [],
   "source": [
    "m.remove_isolated_dart(d)"
   ]
  },
  {
   "cell_type": "code",
   "execution_count": null,
   "metadata": {},
   "outputs": [],
   "source": [
    "m.increase_dim()"
   ]
  },
  {
   "cell_type": "code",
   "execution_count": null,
   "metadata": {},
   "outputs": [
    {
     "data": {
      "text/plain": [
       "3dGmap of 24 darts:\n",
       " 0-cells: 5\n",
       " 1-cells: 6\n",
       " 2-cells: 3\n",
       " 3-cells: 1\n",
       " ccs: 1"
      ]
     },
     "execution_count": 824,
     "metadata": {},
     "output_type": "execute_result"
    }
   ],
   "source": [
    "m"
   ]
  },
  {
   "cell_type": "code",
   "execution_count": null,
   "metadata": {},
   "outputs": [],
   "source": [
    "m.decrease_dim()"
   ]
  },
  {
   "cell_type": "code",
   "execution_count": null,
   "metadata": {},
   "outputs": [
    {
     "data": {
      "text/plain": [
       "2dGmap of 24 darts:\n",
       " 0-cells: 5\n",
       " 1-cells: 6\n",
       " 2-cells: 3\n",
       " ccs: 1"
      ]
     },
     "execution_count": 826,
     "metadata": {},
     "output_type": "execute_result"
    }
   ],
   "source": [
    "m"
   ]
  },
  {
   "cell_type": "code",
   "execution_count": null,
   "metadata": {},
   "outputs": [
    {
     "data": {
      "text/plain": [
       "True"
      ]
     },
     "execution_count": 827,
     "metadata": {},
     "output_type": "execute_result"
    }
   ],
   "source": [
    "m.is_valid"
   ]
  },
  {
   "cell_type": "code",
   "execution_count": null,
   "metadata": {},
   "outputs": [
    {
     "data": {
      "text/plain": [
       "True"
      ]
     },
     "execution_count": 828,
     "metadata": {},
     "output_type": "execute_result"
    }
   ],
   "source": [
    "m.merge(dict_nGmap.from_string(G2_HOUSE_1))\n",
    "m.is_valid"
   ]
  },
  {
   "cell_type": "code",
   "execution_count": null,
   "metadata": {},
   "outputs": [
    {
     "data": {
      "text/plain": [
       "2dGmap of 48 darts:\n",
       " 0-cells: 10\n",
       " 1-cells: 12\n",
       " 2-cells: 6\n",
       " ccs: 2"
      ]
     },
     "execution_count": 829,
     "metadata": {},
     "output_type": "execute_result"
    }
   ],
   "source": [
    "m"
   ]
  },
  {
   "cell_type": "code",
   "execution_count": null,
   "metadata": {},
   "outputs": [
    {
     "data": {
      "text/plain": [
       "False"
      ]
     },
     "execution_count": 830,
     "metadata": {},
     "output_type": "execute_result"
    }
   ],
   "source": [
    "d = 8\n",
    "m.is_i_free(2, d)"
   ]
  },
  {
   "cell_type": "code",
   "execution_count": null,
   "metadata": {},
   "outputs": [
    {
     "data": {
      "text/plain": [
       "2dGmap of 48 darts:\n",
       " 0-cells: 10\n",
       " 1-cells: 13\n",
       " 2-cells: 6\n",
       " ccs: 2"
      ]
     },
     "execution_count": 831,
     "metadata": {},
     "output_type": "execute_result"
    }
   ],
   "source": [
    "_, f = m.is_i_sewn_with(2, d)\n",
    "m.unsew(d, 2)\n",
    "m"
   ]
  },
  {
   "cell_type": "code",
   "execution_count": null,
   "metadata": {},
   "outputs": [
    {
     "data": {
      "text/plain": [
       "2dGmap of 48 darts:\n",
       " 0-cells: 10\n",
       " 1-cells: 12\n",
       " 2-cells: 6\n",
       " ccs: 2"
      ]
     },
     "execution_count": 832,
     "metadata": {},
     "output_type": "execute_result"
    }
   ],
   "source": [
    "m.sew(d, f, 2)\n",
    "m"
   ]
  },
  {
   "cell_type": "code",
   "execution_count": null,
   "metadata": {},
   "outputs": [
    {
     "data": {
      "text/plain": [
       "[dict_keys([1, 2, 8, 7, 6, 5, 4, 3]),\n",
       " dict_keys([9, 10, 14, 13, 12, 11]),\n",
       " dict_keys([15, 16, 24, 23, 22, 21, 20, 19, 18, 17]),\n",
       " dict_keys([25, 26, 32, 31, 30, 29, 28, 27]),\n",
       " dict_keys([33, 34, 38, 37, 36, 35]),\n",
       " dict_keys([39, 40, 48, 47, 46, 45, 44, 43, 42, 41])]"
      ]
     },
     "execution_count": 833,
     "metadata": {},
     "output_type": "execute_result"
    }
   ],
   "source": [
    "list(m.all_i_cells(2))"
   ]
  },
  {
   "cell_type": "code",
   "execution_count": null,
   "metadata": {},
   "outputs": [
    {
     "data": {
      "text/plain": [
       "[dict_keys([1, 2, 8, 15, 16, 24, 23, 22, 7, 6, 5, 4, 21, 20, 19, 11, 12, 10, 9, 14, 3, 13, 17, 18]),\n",
       " dict_keys([25, 26, 32, 39, 40, 48, 47, 46, 31, 30, 29, 28, 45, 44, 43, 35, 36, 34, 33, 38, 27, 37, 41, 42])]"
      ]
     },
     "execution_count": 834,
     "metadata": {},
     "output_type": "execute_result"
    }
   ],
   "source": [
    "list(m.all_conected_components())"
   ]
  },
  {
   "cell_type": "code",
   "execution_count": null,
   "metadata": {},
   "outputs": [
    {
     "name": "stdout",
     "output_type": "stream",
     "text": [
      "True\n",
      "False\n"
     ]
    }
   ],
   "source": [
    "print(m.incident(2, 1, 1, 9))\n",
    "print(m.incident(2, 33, 1, 9))"
   ]
  },
  {
   "cell_type": "code",
   "execution_count": null,
   "metadata": {},
   "outputs": [
    {
     "name": "stdout",
     "output_type": "stream",
     "text": [
      "True\n",
      "True\n",
      "False\n"
     ]
    }
   ],
   "source": [
    "print(m.adjacent(2, 1, 12))\n",
    "print(m.adjacent(1, 1, 4))\n",
    "print(m.adjacent(1, 15, 22))"
   ]
  },
  {
   "cell_type": "code",
   "execution_count": null,
   "metadata": {},
   "outputs": [
    {
     "name": "stdout",
     "output_type": "stream",
     "text": [
      "False\n",
      "True\n",
      "True\n",
      "True\n"
     ]
    }
   ],
   "source": [
    "print(m.is_i_contractible(0, 1))\n",
    "print(m.is_i_contractible(1, 8))\n",
    "print(m.is_i_removable(0, 1))\n",
    "print(m.is_i_removable(1, 8))\n"
   ]
  },
  {
   "cell_type": "code",
   "execution_count": null,
   "metadata": {},
   "outputs": [
    {
     "name": "stdout",
     "output_type": "stream",
     "text": [
      "level -> 1\n",
      "d -> 7\n",
      "d1 -> 2\n",
      "d -> 2\n",
      "d1 -> 7\n",
      "d -> 23\n",
      "d1 -> 16\n",
      "d -> 16\n",
      "d1 -> 23\n"
     ]
    },
    {
     "data": {
      "text/plain": [
       "True"
      ]
     },
     "execution_count": 838,
     "metadata": {},
     "output_type": "execute_result"
    }
   ],
   "source": [
    "m._remove(0, 1)\n",
    "m.is_valid"
   ]
  },
  {
   "cell_type": "code",
   "execution_count": null,
   "metadata": {},
   "outputs": [
    {
     "data": {
      "text/plain": [
       "2dGmap of 44 darts:\n",
       " 0-cells: 9\n",
       " 1-cells: 11\n",
       " 2-cells: 6\n",
       " ccs: 2"
      ]
     },
     "execution_count": 839,
     "metadata": {},
     "output_type": "execute_result"
    }
   ],
   "source": [
    "m"
   ]
  },
  {
   "cell_type": "code",
   "execution_count": null,
   "metadata": {},
   "outputs": [],
   "source": []
  }
 ],
 "metadata": {
  "interpreter": {
   "hash": "ec904cc508e64af8cc7b4019b8ba061516bb876417171e76154460a41879f546"
  },
  "kernelspec": {
   "display_name": "Python 3.8.9 64-bit ('venv_NC': venv)",
   "name": "python3"
  },
  "language_info": {
   "codemirror_mode": {
    "name": "ipython",
    "version": 3
   },
   "file_extension": ".py",
   "mimetype": "text/x-python",
   "name": "python",
   "nbconvert_exporter": "python",
   "pygments_lexer": "ipython3",
   "version": "3.8.9"
  }
 },
 "nbformat": 4,
 "nbformat_minor": 4
}
