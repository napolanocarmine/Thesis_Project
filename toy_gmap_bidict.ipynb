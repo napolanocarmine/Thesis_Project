{
 "cells": [
  {
   "cell_type": "markdown",
   "metadata": {},
   "source": [
    "# Bidict_nGmaps\n",
    "\n",
    "> Implementation based on bidict"
   ]
  },
  {
   "cell_type": "code",
   "execution_count": 1,
   "metadata": {},
   "outputs": [],
   "source": [
    "from combinatorial.notebooks.combinatorial.custom_gmaps import nGmap\n",
    "from combinatorial.notebooks.combinatorial.zoo import G2_SQUARE_BOUNDED\n",
    "from my_gmaps import MyBidict#, my_Gmaps\n",
    "\n",
    "from collections import defaultdict\n",
    "from itertools import chain, product\n",
    "import logging"
   ]
  },
  {
   "cell_type": "code",
   "execution_count": 2,
   "metadata": {},
   "outputs": [],
   "source": [
    "class bidict_nGmap:\n",
    "\n",
    "    def __init__(self, n):\n",
    "\n",
    "        self.n = n\n",
    "\n",
    "        self.darts = set()\n",
    "        self.alpha = [MyBidict() for _ in range(self.n + 1)]\n",
    "        self.marks = defaultdict(lambda: defaultdict(lambda: False))\n",
    "        \n",
    "        # self.marks[index][dart]\n",
    "\n",
    "        self.taken_marks = {-1}\n",
    "        self.lowest_unused_dart_index = 0\n",
    "\n",
    "    @classmethod\n",
    "    def from_string(cls, string):\n",
    "        lines = string.strip().split(\"\\n\")\n",
    "        lines = [[int(k) for k in l.split(\" \") if k != \"\"] for l in lines]\n",
    "\n",
    "        return cls.from_list_of_lists(lines)\n",
    "\n",
    "    @classmethod\n",
    "    def from_list_of_lists(cls, ll):\n",
    "        n = len(ll) - 1\n",
    "        d = len(ll[0])\n",
    "\n",
    "        darts = set(ll[0])\n",
    "\n",
    "        assert all(set(l) == darts for l in ll)\n",
    "\n",
    "        my_nGmap = cls(n)\n",
    "        my_nGmap.darts.update(darts)\n",
    "\n",
    "        #print(my_nGmap.alpha) #are Mybidict objects\n",
    "\n",
    "        for alpha, l in zip(my_nGmap.alpha, ll):\n",
    "            for a, b in zip(sorted(darts), l):\n",
    "                #alpha[a] = b\n",
    "                alpha.add_item(a, b)    ##### Carmine 13.10.21\n",
    "                \n",
    "\n",
    "        my_nGmap.lowest_unused_dart_index = max(darts) + 1\n",
    "\n",
    "        return my_nGmap\n",
    "\n",
    "    @property\n",
    "    def is_valid(self):\n",
    "        \"\"\"\n",
    "        checks condition 2 and 3 from definition 1\n",
    "        (condition 1 is always true as a computer probably has finite memory)\n",
    "        \"\"\"\n",
    "        for dart in self.darts:\n",
    "            for alpha in self.alpha:\n",
    "                ##### Carmine 13.10.21 ore 22.21\n",
    "                \n",
    "                #if alpha[alpha[dart]] != dart:\n",
    "                index = alpha.get_item(dart)[0]\n",
    "                #print(f'index: {index}')\n",
    "                item = alpha.get_item(index)[0]\n",
    "                #print(f'item: {item}')\n",
    "                if item != dart:\n",
    "                    return False\n",
    "            for i in range(0, self.n - 1):  # n-1 not included\n",
    "                alpha1 = self.alpha[i]\n",
    "                for j in range(i + 2, self.n + 1):  # n+1 again not included\n",
    "                    alpha2 = self.alpha[j]\n",
    "                    if alpha1.get_item(alpha2.get_item(alpha1.get_item(alpha2.get_item(dart)[0])[0])[0])[0] != dart:\n",
    "                        return False\n",
    "        return True\n",
    "\n",
    "    def reserve_mark(self):\n",
    "        \"\"\"\n",
    "        algorithm 2\n",
    "        \"\"\"\n",
    "        i = max(self.taken_marks) + 1\n",
    "        self.taken_marks.add(i)\n",
    "        return i\n",
    "\n",
    "    def free_mark(self, i):\n",
    "        \"\"\"\n",
    "        algorithm 3\n",
    "        also includes deleting all these marks, making it safe to call everytime\n",
    "        \"\"\"\n",
    "        del self.marks[i]\n",
    "        self.taken_marks.remove(i)\n",
    "\n",
    "    def is_marked(self, d, i):\n",
    "        \"\"\"\n",
    "        algorithm 4\n",
    "        d ... dart\n",
    "        i ... mark index\n",
    "        \"\"\"\n",
    "        return self.marks[i][d]\n",
    "\n",
    "    def mark(self, d, i):\n",
    "        \"\"\"\n",
    "        algorithm 5\n",
    "        d ... dart\n",
    "        i ... mark index\n",
    "        \"\"\"\n",
    "        self.marks[i][d] = True\n",
    "\n",
    "    def unmark(self, d, i):\n",
    "        \"\"\"\n",
    "        algorithm 6\n",
    "        d ... dart\n",
    "        i ... mark index\n",
    "        \"\"\"\n",
    "        # same as bla = False\n",
    "        del self.marks[i][d]\n",
    "\n",
    "    def mark_all(self, i):\n",
    "        for d in self.darts:\n",
    "            self.mark(d, i)\n",
    "\n",
    "    def unmark_all(self, i):\n",
    "        del self.marks[i]\n",
    "\n",
    "    def ai(self, i, d):\n",
    "        return self.alpha[i][d]\n",
    "\n",
    "    def set_ai(self, i, d, d1):\n",
    "        assert 0 <= i <= self.n\n",
    "        self.alpha[i][d] = d1\n",
    "\n",
    "    def _remove_dart(self, d):\n",
    "        self.darts.remove(d)\n",
    "        for i in self.all_dimensions:\n",
    "            del self.alpha[i][d]\n",
    "\n",
    "    def orbit(self, sequence, d):\n",
    "        \"\"\"\n",
    "        algorithm 7\n",
    "        sequence ... valid list of dimensional indices\n",
    "        d ... dart\n",
    "        \"\"\"\n",
    "        ma = self.reserve_mark()\n",
    "        self.mark_orbit(sequence, d, ma)\n",
    "        orbit = self.marks[ma].keys()\n",
    "        self.free_mark(ma)\n",
    "        return orbit\n",
    "\n",
    "    def mark_orbit(self, sequence, d, ma):\n",
    "        \"\"\"\n",
    "        used as in algorithm 7 and 8 etc...\n",
    "        sequence ... valid list of dimension indices\n",
    "        d ... dart\n",
    "        ma ... mark to use\n",
    "        \"\"\"\n",
    "        P = [d]\n",
    "        self.mark(d, ma)\n",
    "        while P:\n",
    "            cur = P.pop()\n",
    "            for i in sequence:\n",
    "                #other = self.alpha[i][cur]\n",
    "                type_alpha = type(self.alpha[i])\n",
    "                #print(f'type alpha: {type_alpha}')\n",
    "                other = self.alpha[i].get_item(cur) ##### Carmine 13.10.21\n",
    "                #print(f'other: {other[0]}')\n",
    "                if not self.is_marked(other[0], ma):  ##### Carmine 13.10.21 ore 17:26\n",
    "                    self.mark(other[0], ma) ##### Carmine 13.10.21 ore 17:30\n",
    "                    P.append(other[0])  ##### Carmine 13.10.21 ore 17:30\n",
    "\n",
    "    def cell_i(self, i, dart):\n",
    "        \"\"\"iterator over i-cell of a given dart\"\"\"\n",
    "        return self.orbit(self.all_dimensions_but_i(i), dart)\n",
    "\n",
    "    def cell_0(self, dart):\n",
    "        return self.cell_i(0, dart)\n",
    "\n",
    "    def cell_1(self, dart):\n",
    "        return self.cell_i(1, dart)\n",
    "\n",
    "    def cell_2(self, dart):\n",
    "        return self.cell_i(2, dart)\n",
    "\n",
    "    def cell_3(self, dart):\n",
    "        return self.cell_i(3, dart)\n",
    "\n",
    "    def cell_4(self, dart):\n",
    "        return self.cell_i(4, dart)\n",
    "\n",
    "    def no_i_cells(self, i=None):\n",
    "        \"\"\"\n",
    "        Counts\n",
    "            i-cells,             if 0 <= i <= n\n",
    "            connected components if i is None\n",
    "        \"\"\"\n",
    "        assert i is None or 0 <= i <= self.n\n",
    "        # return more_itertools.ilen (self.darts_of_i_cells(i))\n",
    "        return sum((1 for d in self.darts_of_i_cells(i)))\n",
    "\n",
    "    @property\n",
    "    def no_0_cells(self): return self.no_i_cells(0)\n",
    "    @property\n",
    "    def no_1_cells(self): return self.no_i_cells(1)\n",
    "    @property\n",
    "    def no_2_cells(self): return self.no_i_cells(2)\n",
    "    @property\n",
    "    def no_3_cells(self): return self.no_i_cells(3)\n",
    "    @property\n",
    "    def no_4_cells(self): return self.no_i_cells(4)\n",
    "    @property\n",
    "    def no_ccs(self): return self.no_i_cells()\n",
    "\n",
    "    def darts_of_i_cells(self, i=None):\n",
    "        \"\"\"\n",
    "        algorithm 8\n",
    "        \"\"\"\n",
    "        ma = self.reserve_mark()\n",
    "        try:\n",
    "            for d in self.darts:\n",
    "                if not self.is_marked(d, ma):\n",
    "                    yield d\n",
    "                    self.mark_orbit(self.all_dimensions_but_i(i), d, ma)\n",
    "        finally:\n",
    "            self.free_mark(ma)\n",
    "\n",
    "    def all_i_cells(self, i=None):\n",
    "        for d in self.darts_of_i_cells(i):\n",
    "            yield self.cell_i(i, d)\n",
    "\n",
    "    def all_conected_components(self):\n",
    "        return self.all_i_cells()\n",
    "\n",
    "    def darts_of_i_cells_incident_to_j_cell(self, d, i, j):\n",
    "        \"\"\"\n",
    "        algorithm 9\n",
    "        \"\"\"\n",
    "        assert i != j\n",
    "        ma = self.reserve_mark()\n",
    "        try:\n",
    "            for e in self.orbit(self.all_dimensions_but_i(j), d):\n",
    "                if not self.is_marked(e, ma):\n",
    "                    yield e\n",
    "                    self.mark_orbit(self.all_dimensions_but_i(j), e, ma)\n",
    "        finally:\n",
    "            self.free_mark(ma)\n",
    "\n",
    "    def darts_of_i_cells_adjacent_to_i_cell(self, d, i):\n",
    "        \"\"\"\n",
    "        algorithm 10\n",
    "        \"\"\"\n",
    "        ma = self.reserve_mark()\n",
    "        try:\n",
    "            for e in self.orbit(self.all_dimensions_but_i(i), d):\n",
    "                f = self.alpha[i].get_item(e)[0]    ##### Carmine 13.10.21 ore 17.44\n",
    "                #print(f'f: {f}')\n",
    "                if not self.is_marked(f, ma):\n",
    "                    yield f\n",
    "                    self.mark_orbit(self.all_dimensions_but_i(i), f, ma)\n",
    "        finally:\n",
    "            self.free_mark(ma)\n",
    "\n",
    "    def all_dimensions_but_i(self, i=None):\n",
    "        \"\"\"Return a sorted sequence [0,...,n], without i, if 0 <= i <= n\"\"\"\n",
    "        assert i is None or 0 <= i <= self.n\n",
    "        return [j for j in range(self.n+1) if j != i]\n",
    "\n",
    "    @property\n",
    "    def all_dimensions(self):\n",
    "        return self.all_dimensions_but_i()\n",
    "\n",
    "    def is_i_free(self, i, d):\n",
    "        \"\"\"\n",
    "        definiton 2 / algorithm 11\n",
    "        \"\"\"\n",
    "        return self.alpha[i].get_item(d)[0] == d   ##### Carmine 13.10.21 ore 18.31\n",
    "\n",
    "    def is_i_sewn_with(self, i, d):\n",
    "        \"\"\"\n",
    "        definiton 2\n",
    "        \"\"\"\n",
    "        d2 = self.alpha[i][d]\n",
    "        return d != d2, d2\n",
    "\n",
    "    def create_dart(self):\n",
    "        \"\"\"\n",
    "        algorithm 12\n",
    "        \"\"\"\n",
    "        d = self.lowest_unused_dart_index\n",
    "        self.lowest_unused_dart_index += 1\n",
    "        self.darts.add(d)\n",
    "        for alpha in self.alpha:\n",
    "            alpha.add_item(d, d) ##### Carmine 13.10.21 ore 17.57\n",
    "        return d\n",
    "\n",
    "    def remove_isolated_dart(self, d):\n",
    "        \"\"\"\n",
    "        algorithm 13\n",
    "        \"\"\"\n",
    "        assert self.is_isolated(d)\n",
    "        self.remove_isolated_dart_no_assert(d)\n",
    "\n",
    "    def remove_isolated_dart_no_assert(self, d):\n",
    "        self.darts.remove(d)\n",
    "        for alpha in self.alpha:\n",
    "            #del alpha[d]\n",
    "            alpha.delete_item(d)\n",
    "\n",
    "    def is_isolated(self, d):\n",
    "        for i in range(self.n + 1):\n",
    "            if not self.is_i_free(i, d):\n",
    "                return False\n",
    "        return True\n",
    "\n",
    "    ##### Carmine 13.10.21 ore 20.25\n",
    "    def initialize(self):\n",
    "        init_dict = dict()\n",
    "        for d in self.darts:\n",
    "            init_dict[d] = d\n",
    "\n",
    "        return init_dict\n",
    "\n",
    "    def increase_dim(self):\n",
    "        \"\"\"\n",
    "        algorithm 15 in place\n",
    "        \"\"\"\n",
    "        self.n += 1\n",
    "        #self.alpha.append(dict((d, d) for d in self.darts))\n",
    "        ##### Carmine 13.10.21 ore 20.25\n",
    "        init_dict = self.initialize()\n",
    "        self.alpha.append(MyBidict(init_dict))\n",
    "\n",
    "        #print(self.alpha[3].get_normal_dict())        \n",
    "\n",
    "    def decrease_dim(self):\n",
    "        \"\"\"\n",
    "        algorithm 16 in place\n",
    "        \"\"\"\n",
    "        assert all(self.is_i_free(self.n, d) for d in self.darts)\n",
    "        self.decrease_dim_no_assert()\n",
    "\n",
    "    def decrease_dim_no_assert(self):\n",
    "        del self.alpha[self.n]\n",
    "        self.n -= 1\n",
    "\n",
    "    def index_shift(self, by):\n",
    "        self.darts = {d + by for d in self.darts}\n",
    "        self.alpha = [{k + by: v + by for k, v in a.get_normal_dict().items()}\n",
    "                      for a in self.alpha]\n",
    "        for mark in self.marks:\n",
    "            new_dict = {key + by: value for key,\n",
    "                        value in self.marks[mark].items()}\n",
    "            self.marks[mark].clear()\n",
    "            # this is done to preserve default dicts\n",
    "            self.marks[mark].update(new_dict)\n",
    "        self.lowest_unused_dart_index += by\n",
    "\n",
    "    def merge(self, other):\n",
    "        \"\"\"\n",
    "        algorithm 17 in place\n",
    "        \"\"\"\n",
    "        print(f'n: {self.n} -> type: {type(self.n)}')\n",
    "        print(f'\\nother: {other.n} -> type: {type(other.n)}')\n",
    "        assert self.n - 1 == other.n\n",
    "        self.taken_marks.update(other.taken_marks)\n",
    "        shift = max(self.darts) - min(other.darts) + 1\n",
    "        other.index_shift(shift)\n",
    "\n",
    "        self.darts.update(other.darts)\n",
    "        for sa, oa in zip(self.alpha, other.alpha):\n",
    "            sa.update(oa)\n",
    "        for mk in other.marks:\n",
    "            self.marks[mk].update(other.marks[mk])\n",
    "        self.taken_marks.update(other.taken_marks)\n",
    "        self.lowest_unused_dart_index = other.lowest_unused_dart_index\n",
    "\n",
    "    def restrict(self, D):\n",
    "        \"\"\"\n",
    "        algorithm 18\n",
    "        \"\"\"\n",
    "        raise NotImplementedError  # boring\n",
    "\n",
    "    def sew_seq(self, i):\n",
    "        \"\"\"\n",
    "        indices used in the sewing operations\n",
    "        (0, ..., i - 2, i + 2, ..., n)\n",
    "        \"\"\"\n",
    "        return chain(range(0, i - 1), range(i + 2, self.n + 1))\n",
    "\n",
    "    def sewable(self, d1, d2, i):\n",
    "        \"\"\"\n",
    "        algorithm 19\n",
    "        tests wether darts d1, d2 are sewable along i\n",
    "        returns bool\n",
    "        \"\"\"\n",
    "        if d1 == d2 or not self.is_i_free(i, d1) or not self.is_i_free(i, d2):\n",
    "            return False\n",
    "        try:\n",
    "            f = dict()\n",
    "            for d11, d22 in strict_zip(self.orbit(self.sew_seq(i), d1), self.orbit(self.sew_seq(i), d2), strict=True):\n",
    "                f[d11] = d22\n",
    "                for j in self.sew_seq(i):\n",
    "                    if self.alpha[j][d11] in f and f[self.alpha[j][d11]] != self.alpha[j][d22]:\n",
    "                        return False\n",
    "        except ValueError:  # iterators not same length\n",
    "            return False\n",
    "        return True\n",
    "\n",
    "    def sew(self, d1, d2, i):\n",
    "        \"\"\"\n",
    "        algorithm 20\n",
    "        \"\"\"\n",
    "        assert self.sewable(d1, d2, i)\n",
    "        self.sew_no_assert(d1, d2, i)\n",
    "\n",
    "    def sew_no_assert(self, d1, d2, i):\n",
    "        for e1, e2 in strict_zip(self.orbit(self.sew_seq(i), d1), self.orbit(self.sew_seq(i), d2), strict=True):\n",
    "            self.alpha[i][e1] = e2\n",
    "            self.alpha[i][e2] = e1\n",
    "\n",
    "    def unsew(self, d, i):\n",
    "        \"\"\"\n",
    "        algorithm 21\n",
    "        \"\"\"\n",
    "        assert not self.is_i_free(i, d)\n",
    "        for e in self.orbit(self.sew_seq(i), d):\n",
    "            f = self.alpha[i][e]\n",
    "            self.alpha[i][f] = f\n",
    "            self.alpha[i][e] = e\n",
    "\n",
    "    def incident(self, i, d1, j, d2):\n",
    "        \"\"\"\n",
    "        checks wether the i-cell of d1 is incident to the j-cell of d2\n",
    "        \"\"\"\n",
    "        for e1, e2 in product(self.cell_i(i, d1), self.cell_i(j, d2)):\n",
    "            if e1 == e2:\n",
    "                return True\n",
    "        return False\n",
    "\n",
    "    def adjacent(self, i, d1, d2):\n",
    "        \"\"\"\n",
    "        checks wether the i-cell of d1 is adjacent to the i-cell of d2\n",
    "        \"\"\"\n",
    "        first_cell = self.cell_i(i, d1)\n",
    "        second_cell = set(self.cell_i(i, d2))\n",
    "        for d in first_cell:\n",
    "            if self.alpha[i][d] in second_cell:\n",
    "                return True\n",
    "        return False\n",
    "\n",
    "    # Contractablilty & Removability\n",
    "\n",
    "    def _is_i_removable_or_contractible(self, i, dart, rc):\n",
    "        \"\"\"\n",
    "        Test if an i-cell of dart is removable/contractible:\n",
    "\n",
    "        i    ... i-cell\n",
    "        dart ... dart\n",
    "        rc   ... +1 => removable test, -1 => contractible test\n",
    "        \"\"\"\n",
    "        assert dart in self.darts\n",
    "        assert 0 <= i <= self.n\n",
    "        assert rc in {-1, +1}\n",
    "\n",
    "        if rc == +1:  # removable test\n",
    "            if i == self.n:\n",
    "                return False\n",
    "            if i == self.n-1:\n",
    "                return True\n",
    "        if rc == -1:  # contractible test\n",
    "            if i == 0:\n",
    "                return False\n",
    "            if i == 1:\n",
    "                return True\n",
    "\n",
    "        for d in self.cell_i(i, dart):\n",
    "            if self.alpha[i+rc][self.alpha[i+rc+rc][d]] != self.alpha[i+rc+rc][self.alpha[i+rc][d]]:\n",
    "                return False\n",
    "        return True\n",
    "\n",
    "    def is_i_removable(self, i, dart):\n",
    "        \"\"\"True if i-cell of dart can be removed\"\"\"\n",
    "        return self._is_i_removable_or_contractible(i, dart, rc=+1)\n",
    "\n",
    "    def is_i_contractible(self, i, dart):\n",
    "        \"\"\"True if i-cell of dart can be contracted\"\"\"\n",
    "        return self._is_i_removable_or_contractible(i, dart, rc=-1)\n",
    "\n",
    "    def _i_remove_contract(self, i, dart, rc, skip_check=False):\n",
    "        \"\"\"\n",
    "        Remove / contract an i-cell of dart\n",
    "        d  ... dart\n",
    "        i  ... i-cell\n",
    "        rc ... +1 => remove, -1 => contract\n",
    "        skip_check ... set to True if you are sure you can remove / contract the i-cell\n",
    "        \"\"\"\n",
    "        logging.debug(\n",
    "            f'{\"Remove\" if rc == 1 else \"Contract\"} {i}-Cell of dart {dart}')\n",
    "\n",
    "        if not skip_check:\n",
    "            assert self._is_i_removable_or_contractible(i, dart, rc),\\\n",
    "                f'{i}-cell of dart {dart} is not {\"removable\" if rc == 1 else \"contractible\"}!'\n",
    "\n",
    "        i_cell = set(self.cell_i(i, dart))  # mark all the darts in ci(d)\n",
    "        logging.debug(f'\\n{i}-cell to be removed {i_cell}')\n",
    "        for d in i_cell:\n",
    "            d1 = self.ai(i, d)  # d1 ← d.Alphas[i];\n",
    "            if d1 not in i_cell:  # if not isMarkedNself(d1,ma) then\n",
    "                # d2 ← d.Alphas[i + 1].Alphas[i];\n",
    "                d2 = self.ai(i+rc, d)\n",
    "                d2 = self.ai(i, d2)\n",
    "                while d2 in i_cell:  # while isMarkedNself(d2,ma) do\n",
    "                    # d2 ← d.Alphas[i + 1].Alphas[i];\n",
    "                    d2 = self.ai(i+rc, d2)\n",
    "                    d2 = self.ai(i, d2)\n",
    "                logging.debug(\n",
    "                    f'Modifying alpha_{i} of dart {d1} from {self.ai (i,d1)} to {d2}')\n",
    "\n",
    "                self.set_ai(i, d1, d2)  # d1.Alphas[i] ← d2;\n",
    "        for d in i_cell:  # foreach dart d' ∈ ci(d) do\n",
    "            self._remove_dart(d)  # remove d' from gm.Darts;\n",
    "\n",
    "    def _remove(self, i, dart, skip_check=False):\n",
    "        \"\"\"Remove i-cell of dart\"\"\"\n",
    "        self._i_remove_contract(i, dart, rc=+1, skip_check=skip_check)\n",
    "\n",
    "    def _contract(self, i, dart, skip_check=False):\n",
    "        \"\"\"Contract i-cell of dart\"\"\"\n",
    "        self._i_remove_contract(i, dart, rc=-1, skip_check=skip_check)\n",
    "\n",
    "    def __repr__(self):\n",
    "        out = f\"{self.n}dGmap of {len(self.darts)} darts:\\n\"\n",
    "        for i in range(self.n + 1):\n",
    "            out += f\" {i}-cells: {self.no_i_cells(i)}\\n\"\n",
    "        out += f\" ccs: {self.no_ccs}\"\n",
    "        return out\n",
    "\n",
    "\n",
    "def strict_zip(arg1, arg2, strict=False):\n",
    "    \"\"\"\n",
    "    strict keyword for zip is only avaliable in python 3.10 which is still in alpha :(\n",
    "    \"\"\"\n",
    "    assert strict == True\n",
    "    arg1 = list(arg1)\n",
    "    arg2 = list(arg2)\n",
    "    if len(arg1) == len(arg2):\n",
    "        return zip(arg1, arg2)\n",
    "    else:\n",
    "        raise ValueError\n"
   ]
  },
  {
   "cell_type": "code",
   "execution_count": 3,
   "metadata": {},
   "outputs": [
    {
     "data": {
      "text/plain": [
       "2dGmap of 24 darts:\n",
       " 0-cells: 5\n",
       " 1-cells: 6\n",
       " 2-cells: 3\n",
       " ccs: 1"
      ]
     },
     "execution_count": 3,
     "metadata": {},
     "output_type": "execute_result"
    }
   ],
   "source": [
    "from combinatorial.notebooks.combinatorial.zoo import G2_HOUSE_1\n",
    "\n",
    "\n",
    "m = bidict_nGmap.from_string(G2_HOUSE_1)\n",
    "\n",
    "m"
   ]
  },
  {
   "cell_type": "code",
   "execution_count": 4,
   "metadata": {},
   "outputs": [
    {
     "data": {
      "text/plain": [
       "[1, 9, 15]"
      ]
     },
     "execution_count": 4,
     "metadata": {},
     "output_type": "execute_result"
    }
   ],
   "source": [
    "list(m.darts_of_i_cells(2))"
   ]
  },
  {
   "cell_type": "code",
   "execution_count": 5,
   "metadata": {},
   "outputs": [
    {
     "data": {
      "text/plain": [
       "[1]"
      ]
     },
     "execution_count": 5,
     "metadata": {},
     "output_type": "execute_result"
    }
   ],
   "source": [
    "list(m.darts_of_i_cells_incident_to_j_cell(1, 2, 1))"
   ]
  },
  {
   "cell_type": "code",
   "execution_count": 6,
   "metadata": {},
   "outputs": [
    {
     "data": {
      "text/plain": [
       "[15, 10]"
      ]
     },
     "execution_count": 6,
     "metadata": {},
     "output_type": "execute_result"
    }
   ],
   "source": [
    "list(m.darts_of_i_cells_adjacent_to_i_cell(1, 2))"
   ]
  },
  {
   "cell_type": "code",
   "execution_count": 7,
   "metadata": {},
   "outputs": [
    {
     "data": {
      "text/plain": [
       "25"
      ]
     },
     "execution_count": 7,
     "metadata": {},
     "output_type": "execute_result"
    }
   ],
   "source": [
    "d = m.create_dart()\n",
    "d"
   ]
  },
  {
   "cell_type": "code",
   "execution_count": 8,
   "metadata": {},
   "outputs": [],
   "source": [
    "m.remove_isolated_dart(d)"
   ]
  },
  {
   "cell_type": "code",
   "execution_count": 9,
   "metadata": {},
   "outputs": [],
   "source": [
    "m.increase_dim()"
   ]
  },
  {
   "cell_type": "code",
   "execution_count": 10,
   "metadata": {},
   "outputs": [
    {
     "data": {
      "text/plain": [
       "3dGmap of 24 darts:\n",
       " 0-cells: 5\n",
       " 1-cells: 6\n",
       " 2-cells: 3\n",
       " 3-cells: 1\n",
       " ccs: 1"
      ]
     },
     "execution_count": 10,
     "metadata": {},
     "output_type": "execute_result"
    }
   ],
   "source": [
    "m"
   ]
  },
  {
   "cell_type": "code",
   "execution_count": 11,
   "metadata": {},
   "outputs": [
    {
     "data": {
      "text/plain": [
       "True"
      ]
     },
     "execution_count": 11,
     "metadata": {},
     "output_type": "execute_result"
    }
   ],
   "source": [
    "m.is_valid"
   ]
  },
  {
   "cell_type": "code",
   "execution_count": 12,
   "metadata": {},
   "outputs": [
    {
     "name": "stdout",
     "output_type": "stream",
     "text": [
      "n: 3 -> type: <class 'int'>\n",
      "\n",
      "other: 2 -> type: <class 'int'>\n"
     ]
    },
    {
     "ename": "TypeError",
     "evalue": "can only concatenate list (not \"int\") to list",
     "output_type": "error",
     "traceback": [
      "\u001b[1;31m---------------------------------------------------------------------------\u001b[0m",
      "\u001b[1;31mTypeError\u001b[0m                                 Traceback (most recent call last)",
      "\u001b[1;32m~\\AppData\\Local\\Temp/ipykernel_28864/3598339693.py\u001b[0m in \u001b[0;36m<module>\u001b[1;34m\u001b[0m\n\u001b[1;32m----> 1\u001b[1;33m \u001b[0mm\u001b[0m\u001b[1;33m.\u001b[0m\u001b[0mmerge\u001b[0m\u001b[1;33m(\u001b[0m\u001b[0mbidict_nGmap\u001b[0m\u001b[1;33m.\u001b[0m\u001b[0mfrom_string\u001b[0m\u001b[1;33m(\u001b[0m\u001b[0mG2_HOUSE_1\u001b[0m\u001b[1;33m)\u001b[0m\u001b[1;33m)\u001b[0m\u001b[1;33m\u001b[0m\u001b[1;33m\u001b[0m\u001b[0m\n\u001b[0m\u001b[0;32m      2\u001b[0m \u001b[0mm\u001b[0m\u001b[1;33m.\u001b[0m\u001b[0mis_valid\u001b[0m\u001b[1;33m\u001b[0m\u001b[1;33m\u001b[0m\u001b[0m\n",
      "\u001b[1;32m~\\AppData\\Local\\Temp/ipykernel_28864/3306846602.py\u001b[0m in \u001b[0;36mmerge\u001b[1;34m(self, other)\u001b[0m\n\u001b[0;32m    358\u001b[0m         \u001b[0mself\u001b[0m\u001b[1;33m.\u001b[0m\u001b[0mtaken_marks\u001b[0m\u001b[1;33m.\u001b[0m\u001b[0mupdate\u001b[0m\u001b[1;33m(\u001b[0m\u001b[0mother\u001b[0m\u001b[1;33m.\u001b[0m\u001b[0mtaken_marks\u001b[0m\u001b[1;33m)\u001b[0m\u001b[1;33m\u001b[0m\u001b[1;33m\u001b[0m\u001b[0m\n\u001b[0;32m    359\u001b[0m         \u001b[0mshift\u001b[0m \u001b[1;33m=\u001b[0m \u001b[0mmax\u001b[0m\u001b[1;33m(\u001b[0m\u001b[0mself\u001b[0m\u001b[1;33m.\u001b[0m\u001b[0mdarts\u001b[0m\u001b[1;33m)\u001b[0m \u001b[1;33m-\u001b[0m \u001b[0mmin\u001b[0m\u001b[1;33m(\u001b[0m\u001b[0mother\u001b[0m\u001b[1;33m.\u001b[0m\u001b[0mdarts\u001b[0m\u001b[1;33m)\u001b[0m \u001b[1;33m+\u001b[0m \u001b[1;36m1\u001b[0m\u001b[1;33m\u001b[0m\u001b[1;33m\u001b[0m\u001b[0m\n\u001b[1;32m--> 360\u001b[1;33m         \u001b[0mother\u001b[0m\u001b[1;33m.\u001b[0m\u001b[0mindex_shift\u001b[0m\u001b[1;33m(\u001b[0m\u001b[0mshift\u001b[0m\u001b[1;33m)\u001b[0m\u001b[1;33m\u001b[0m\u001b[1;33m\u001b[0m\u001b[0m\n\u001b[0m\u001b[0;32m    361\u001b[0m \u001b[1;33m\u001b[0m\u001b[0m\n\u001b[0;32m    362\u001b[0m         \u001b[0mself\u001b[0m\u001b[1;33m.\u001b[0m\u001b[0mdarts\u001b[0m\u001b[1;33m.\u001b[0m\u001b[0mupdate\u001b[0m\u001b[1;33m(\u001b[0m\u001b[0mother\u001b[0m\u001b[1;33m.\u001b[0m\u001b[0mdarts\u001b[0m\u001b[1;33m)\u001b[0m\u001b[1;33m\u001b[0m\u001b[1;33m\u001b[0m\u001b[0m\n",
      "\u001b[1;32m~\\AppData\\Local\\Temp/ipykernel_28864/3306846602.py\u001b[0m in \u001b[0;36mindex_shift\u001b[1;34m(self, by)\u001b[0m\n\u001b[0;32m    339\u001b[0m     \u001b[1;32mdef\u001b[0m \u001b[0mindex_shift\u001b[0m\u001b[1;33m(\u001b[0m\u001b[0mself\u001b[0m\u001b[1;33m,\u001b[0m \u001b[0mby\u001b[0m\u001b[1;33m)\u001b[0m\u001b[1;33m:\u001b[0m\u001b[1;33m\u001b[0m\u001b[1;33m\u001b[0m\u001b[0m\n\u001b[0;32m    340\u001b[0m         \u001b[0mself\u001b[0m\u001b[1;33m.\u001b[0m\u001b[0mdarts\u001b[0m \u001b[1;33m=\u001b[0m \u001b[1;33m{\u001b[0m\u001b[0md\u001b[0m \u001b[1;33m+\u001b[0m \u001b[0mby\u001b[0m \u001b[1;32mfor\u001b[0m \u001b[0md\u001b[0m \u001b[1;32min\u001b[0m \u001b[0mself\u001b[0m\u001b[1;33m.\u001b[0m\u001b[0mdarts\u001b[0m\u001b[1;33m}\u001b[0m\u001b[1;33m\u001b[0m\u001b[1;33m\u001b[0m\u001b[0m\n\u001b[1;32m--> 341\u001b[1;33m         self.alpha = [{k + by: v + by for k, v in a.get_normal_dict().items()}\n\u001b[0m\u001b[0;32m    342\u001b[0m                       for a in self.alpha]\n\u001b[0;32m    343\u001b[0m         \u001b[1;32mfor\u001b[0m \u001b[0mmark\u001b[0m \u001b[1;32min\u001b[0m \u001b[0mself\u001b[0m\u001b[1;33m.\u001b[0m\u001b[0mmarks\u001b[0m\u001b[1;33m:\u001b[0m\u001b[1;33m\u001b[0m\u001b[1;33m\u001b[0m\u001b[0m\n",
      "\u001b[1;32m~\\AppData\\Local\\Temp/ipykernel_28864/3306846602.py\u001b[0m in \u001b[0;36m<listcomp>\u001b[1;34m(.0)\u001b[0m\n\u001b[0;32m    339\u001b[0m     \u001b[1;32mdef\u001b[0m \u001b[0mindex_shift\u001b[0m\u001b[1;33m(\u001b[0m\u001b[0mself\u001b[0m\u001b[1;33m,\u001b[0m \u001b[0mby\u001b[0m\u001b[1;33m)\u001b[0m\u001b[1;33m:\u001b[0m\u001b[1;33m\u001b[0m\u001b[1;33m\u001b[0m\u001b[0m\n\u001b[0;32m    340\u001b[0m         \u001b[0mself\u001b[0m\u001b[1;33m.\u001b[0m\u001b[0mdarts\u001b[0m \u001b[1;33m=\u001b[0m \u001b[1;33m{\u001b[0m\u001b[0md\u001b[0m \u001b[1;33m+\u001b[0m \u001b[0mby\u001b[0m \u001b[1;32mfor\u001b[0m \u001b[0md\u001b[0m \u001b[1;32min\u001b[0m \u001b[0mself\u001b[0m\u001b[1;33m.\u001b[0m\u001b[0mdarts\u001b[0m\u001b[1;33m}\u001b[0m\u001b[1;33m\u001b[0m\u001b[1;33m\u001b[0m\u001b[0m\n\u001b[1;32m--> 341\u001b[1;33m         self.alpha = [{k + by: v + by for k, v in a.get_normal_dict().items()}\n\u001b[0m\u001b[0;32m    342\u001b[0m                       for a in self.alpha]\n\u001b[0;32m    343\u001b[0m         \u001b[1;32mfor\u001b[0m \u001b[0mmark\u001b[0m \u001b[1;32min\u001b[0m \u001b[0mself\u001b[0m\u001b[1;33m.\u001b[0m\u001b[0mmarks\u001b[0m\u001b[1;33m:\u001b[0m\u001b[1;33m\u001b[0m\u001b[1;33m\u001b[0m\u001b[0m\n",
      "\u001b[1;32m~\\AppData\\Local\\Temp/ipykernel_28864/3306846602.py\u001b[0m in \u001b[0;36m<dictcomp>\u001b[1;34m(.0)\u001b[0m\n\u001b[0;32m    339\u001b[0m     \u001b[1;32mdef\u001b[0m \u001b[0mindex_shift\u001b[0m\u001b[1;33m(\u001b[0m\u001b[0mself\u001b[0m\u001b[1;33m,\u001b[0m \u001b[0mby\u001b[0m\u001b[1;33m)\u001b[0m\u001b[1;33m:\u001b[0m\u001b[1;33m\u001b[0m\u001b[1;33m\u001b[0m\u001b[0m\n\u001b[0;32m    340\u001b[0m         \u001b[0mself\u001b[0m\u001b[1;33m.\u001b[0m\u001b[0mdarts\u001b[0m \u001b[1;33m=\u001b[0m \u001b[1;33m{\u001b[0m\u001b[0md\u001b[0m \u001b[1;33m+\u001b[0m \u001b[0mby\u001b[0m \u001b[1;32mfor\u001b[0m \u001b[0md\u001b[0m \u001b[1;32min\u001b[0m \u001b[0mself\u001b[0m\u001b[1;33m.\u001b[0m\u001b[0mdarts\u001b[0m\u001b[1;33m}\u001b[0m\u001b[1;33m\u001b[0m\u001b[1;33m\u001b[0m\u001b[0m\n\u001b[1;32m--> 341\u001b[1;33m         self.alpha = [{k + by: v + by for k, v in a.get_normal_dict().items()}\n\u001b[0m\u001b[0;32m    342\u001b[0m                       for a in self.alpha]\n\u001b[0;32m    343\u001b[0m         \u001b[1;32mfor\u001b[0m \u001b[0mmark\u001b[0m \u001b[1;32min\u001b[0m \u001b[0mself\u001b[0m\u001b[1;33m.\u001b[0m\u001b[0mmarks\u001b[0m\u001b[1;33m:\u001b[0m\u001b[1;33m\u001b[0m\u001b[1;33m\u001b[0m\u001b[0m\n",
      "\u001b[1;31mTypeError\u001b[0m: can only concatenate list (not \"int\") to list"
     ]
    }
   ],
   "source": [
    "m.merge(bidict_nGmap.from_string(G2_HOUSE_1))\n",
    "m.is_valid"
   ]
  },
  {
   "cell_type": "code",
   "execution_count": null,
   "metadata": {},
   "outputs": [
    {
     "data": {
      "text/plain": [
       "3dGmap of 24 darts:\n",
       " 0-cells: 5\n",
       " 1-cells: 6\n",
       " 2-cells: 3\n",
       " 3-cells: 1\n",
       " ccs: 1"
      ]
     },
     "execution_count": 13,
     "metadata": {},
     "output_type": "execute_result"
    }
   ],
   "source": [
    "m"
   ]
  },
  {
   "cell_type": "markdown",
   "metadata": {},
   "source": [
    "# END OF IMPLEMENTATION FROM DICT N-GMAP / START OF THE TOY EXAMPLE IMPLEMENTATION"
   ]
  },
  {
   "cell_type": "code",
   "execution_count": null,
   "metadata": {},
   "outputs": [],
   "source": [
    "print (G2_SQUARE_BOUNDED)   #  this is just a multi-line string"
   ]
  },
  {
   "cell_type": "markdown",
   "metadata": {},
   "source": [
    "# Asking user if wants to reconstruct the lower layer of the pyramid after removal/contraction operation"
   ]
  },
  {
   "cell_type": "code",
   "execution_count": null,
   "metadata": {},
   "outputs": [],
   "source": [
    "def check_input(user_input):\n",
    "    if user_input == '0' or user_input == '1':\n",
    "        return True\n",
    "    return False\n"
   ]
  },
  {
   "cell_type": "code",
   "execution_count": null,
   "metadata": {},
   "outputs": [],
   "source": [
    "flag = False\n",
    "\n",
    "while flag == False:\n",
    "    user_input = input('Do you want to reconstruct the lower layer of the pyramid?\\n Yes = 1\\nNo = 0\\n')\n",
    "    flag = check_input(user_input)\n",
    "\n",
    "print(flag)"
   ]
  },
  {
   "cell_type": "code",
   "execution_count": null,
   "metadata": {},
   "outputs": [],
   "source": [
    "#G = nGmap.from_string(G2_SQUARE_BOUNDED)\n",
    "G = my_Gmaps.from_string (G2_SQUARE_BOUNDED, flag)\n",
    "G\n"
   ]
  },
  {
   "cell_type": "code",
   "execution_count": null,
   "metadata": {},
   "outputs": [],
   "source": [
    "G.print_alpha_table()"
   ]
  },
  {
   "cell_type": "markdown",
   "metadata": {},
   "source": [
    "# Implementation using bidict data structure"
   ]
  },
  {
   "cell_type": "markdown",
   "metadata": {},
   "source": [
    "## Removal"
   ]
  },
  {
   "cell_type": "markdown",
   "metadata": {},
   "source": [
    "## INPUT: set of dart to remove"
   ]
  },
  {
   "cell_type": "code",
   "execution_count": null,
   "metadata": {},
   "outputs": [],
   "source": [
    "dart = input(\"Please enter the value of the dart you want to remove:\\n\")\n",
    " \n",
    "print(f'You want to remove dart {dart}')"
   ]
  },
  {
   "cell_type": "markdown",
   "metadata": {},
   "source": [
    "INPUT: i-cell to remove"
   ]
  },
  {
   "cell_type": "code",
   "execution_count": null,
   "metadata": {},
   "outputs": [],
   "source": [
    "i = input(\"Please enter the i-cell you want to remove:\\n\")\n",
    " \n",
    "print(f'You want to remove {i}-cell')"
   ]
  },
  {
   "cell_type": "markdown",
   "metadata": {},
   "source": [
    "Execution of a remove methods using a custom name considering the i given in input"
   ]
  },
  {
   "cell_type": "code",
   "execution_count": null,
   "metadata": {},
   "outputs": [],
   "source": [
    "getattr(G, f'remove_{i}_cell')(int(dart))"
   ]
  },
  {
   "cell_type": "code",
   "execution_count": null,
   "metadata": {},
   "outputs": [],
   "source": [
    "print(G.get_dict(int(i)))"
   ]
  },
  {
   "cell_type": "code",
   "execution_count": null,
   "metadata": {},
   "outputs": [],
   "source": [
    "G.get_all_dict()\n"
   ]
  },
  {
   "cell_type": "code",
   "execution_count": null,
   "metadata": {},
   "outputs": [],
   "source": [
    "a = get_pair_from_normal(d, i)\n",
    "print(a)"
   ]
  },
  {
   "cell_type": "markdown",
   "metadata": {},
   "source": [
    "Use of the switch case instead of the if cases. #to improve"
   ]
  },
  {
   "cell_type": "code",
   "execution_count": null,
   "metadata": {},
   "outputs": [],
   "source": [
    "def switch_func(i):\n",
    "    print(i)\n",
    "    \n",
    "    switcher = {\n",
    "        0: G.remove_0_cell(int(dart)),\n",
    "        1: G.remove_1_cell(int(dart)),\n",
    "        2: G.remove_2_cell(int(dart))\n",
    "    }\n",
    "\n",
    "    # get() method of dictionary data type returns\n",
    "    # value of passed argument if it is present\n",
    "    # in dictionary otherwise second argument will\n",
    "    # be assigned as default value of passed argument\n",
    "    return switcher.get(i, \"Invalid value\")"
   ]
  },
  {
   "cell_type": "markdown",
   "metadata": {},
   "source": [
    "Snippet to have a list of methods of a specific class"
   ]
  },
  {
   "cell_type": "code",
   "execution_count": null,
   "metadata": {},
   "outputs": [],
   "source": [
    "object_methods = [method_name for method_name in dir(my_Gmaps)\n",
    "                  if callable(getattr(my_Gmaps, method_name))]\n",
    "\n",
    "print(object_methods)\n",
    "getattr(G, 'test_method')()"
   ]
  },
  {
   "cell_type": "code",
   "execution_count": null,
   "metadata": {},
   "outputs": [],
   "source": [
    "import sys\n",
    "s = 's'\n",
    "print(sys.getsizeof(s))"
   ]
  },
  {
   "cell_type": "code",
   "execution_count": null,
   "metadata": {},
   "outputs": [],
   "source": [
    "def byte_length(i):\n",
    "    return (i.bit_length() + 7) // 8"
   ]
  }
 ],
 "metadata": {
  "interpreter": {
   "hash": "ec904cc508e64af8cc7b4019b8ba061516bb876417171e76154460a41879f546"
  },
  "kernelspec": {
   "display_name": "Python 3.8.9 64-bit ('venv_NC': venv)",
   "name": "python3"
  },
  "language_info": {
   "codemirror_mode": {
    "name": "ipython",
    "version": 3
   },
   "file_extension": ".py",
   "mimetype": "text/x-python",
   "name": "python",
   "nbconvert_exporter": "python",
   "pygments_lexer": "ipython3",
   "version": "3.8.9"
  },
  "orig_nbformat": 4
 },
 "nbformat": 4,
 "nbformat_minor": 2
}
