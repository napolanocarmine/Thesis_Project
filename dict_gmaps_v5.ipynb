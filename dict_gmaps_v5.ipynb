{
 "cells": [
  {
   "cell_type": "markdown",
   "metadata": {},
   "source": [
    "# dict_nGmaps\n",
    "\n",
    "> Implementation based on dicts"
   ]
  },
  {
   "cell_type": "code",
   "execution_count": 1,
   "metadata": {},
   "outputs": [],
   "source": [
    "#import IPython\n",
    "\n",
    "#IPython.Application.instance().kernel.do_shutdown(True) #automatically restarts kernel"
   ]
  },
  {
   "cell_type": "code",
   "execution_count": 2,
   "metadata": {},
   "outputs": [],
   "source": [
    "# hide\n",
    "from nbdev.showdoc import *"
   ]
  },
  {
   "cell_type": "code",
   "execution_count": 3,
   "metadata": {},
   "outputs": [],
   "source": [
    "# export\n",
    "\n",
    "from collections import defaultdict\n",
    "from itertools import chain, product\n",
    "import logging\n"
   ]
  },
  {
   "cell_type": "code",
   "execution_count": 4,
   "metadata": {},
   "outputs": [
    {
     "data": {
      "image/png": "[encoded data removed]",
      "text/plain": [
       "<Figure size 1728x1152 with 1 Axes>"
      ]
     },
     "metadata": {},
     "output_type": "display_data"
    }
   ],
   "source": [
    "from implicit_dict_v2 import implicit_dict\n",
    "from pixel_map_z_curve_full import D, plot"
   ]
  },
  {
   "cell_type": "code",
   "execution_count": 5,
   "metadata": {},
   "outputs": [],
   "source": [
    "# export\n",
    "\n",
    "class dict_nGmap:\n",
    "    \n",
    "    def __init__(self, n):\n",
    "        \n",
    "        self.n = n\n",
    "\n",
    "        \"\"\"\n",
    "            A simple instance of the implicit_dict class.\n",
    "        \"\"\"\n",
    "        self.impl_dict = implicit_dict()\n",
    "        \n",
    "        \"\"\"\n",
    "            Initialization of the set of darts obtained from the implicitly encoding -> Morton code.\n",
    "        \"\"\"\n",
    "        self.darts = D\n",
    "        #print(self.darts)\n",
    "\n",
    "        \"\"\"\n",
    "            Initialization of custom python dictionaries to handle the involutions of the n-Gmap during the use\n",
    "            of the Morton code as implicitly encoding. Each alpha represent the ACTIVE part of the data structure,\n",
    "            i.e., the current n-Gmap.\n",
    "        \"\"\"\n",
    "        self.alpha = [implicit_dict(i) for i in range(n + 1)]\n",
    "\n",
    "        #self.print_alpha()\n",
    "\n",
    "        self.marks = defaultdict(lambda:defaultdict(lambda:False))\n",
    "        # self.marks[index][dart]\n",
    "        \n",
    "        \"\"\"\n",
    "            Added a tmp dict to create a tmp-Gmap to insert/expand it into the current one.\n",
    "        \"\"\"\n",
    "        self.c = {}\n",
    "\n",
    "\n",
    "        \"\"\"\n",
    "            That variable has the goal of increment itself whenever a new operation is computed\n",
    "            (removal or contraction).\n",
    "        \"\"\"\n",
    "        self.level = 0\n",
    "\n",
    "        \"\"\"\n",
    "            I want to use the following dictionary to keep trace of the level for each dart in order\n",
    "            to reconstruct also until a certain level that the user can indicate in input.\n",
    "        \"\"\"\n",
    "        self.dart_level = {}\n",
    "\n",
    "        \"\"\"\n",
    "            Considering the idea behind the implementation, I need to have the PASSIVE part\n",
    "            according to the canonical encoding. It is represented by the custom alphas.\n",
    "        \"\"\"\n",
    "        self.custom_alpha = [dict() for _ in range(n + 1)]\n",
    "        \n",
    "        self.taken_marks = {-1}\n",
    "        self.lowest_unused_dart_index = 0\n",
    "        \n",
    "    @classmethod\n",
    "    def from_string(cls, string):\n",
    "        lines = string.strip().split(\"\\n\")\n",
    "        lines = [[int(k) for k in l.split(\" \") if k != \"\"] for l in lines]\n",
    "    \n",
    "        return cls.from_list_of_lists(lines)\n",
    "        \n",
    "    @classmethod    \n",
    "    def from_list_of_lists(cls, ll):\n",
    "        n = len(ll) - 1\n",
    "        d = len(ll[0])\n",
    "        \n",
    "        darts = set(ll[0])\n",
    "        \n",
    "        assert all(set(l) == darts for l in ll)\n",
    "                \n",
    "        my_nGmap = cls(n)\n",
    "        my_nGmap.darts.update(darts)\n",
    "        \n",
    "        for alpha, l in zip(my_nGmap.alpha, ll):\n",
    "            for a, b in zip(sorted(darts), l):\n",
    "                alpha[a] = b\n",
    "                \n",
    "        my_nGmap.lowest_unused_dart_index = max(darts) + 1\n",
    "        \n",
    "        return my_nGmap\n",
    "    \n",
    "    @property\n",
    "    def is_valid(self):\n",
    "        \"\"\"\n",
    "        checks condition 2 and 3 from definition 1\n",
    "        (condition 1 is always true as a computer probably has finite memory)\n",
    "        \"\"\"\n",
    " \n",
    "        for dart in self.darts:\n",
    "            for alpha in self.alpha:\n",
    "\n",
    "                \"\"\" print(f'dart -> {dart}')\n",
    "                print(f'alpha[dart] -> {alpha[dart]}')\n",
    "                print(f'alpha[alpha[dart]] -> {alpha[alpha[dart]]}') \"\"\"\n",
    "                if alpha[alpha[dart]] != dart:\n",
    "                    return False\n",
    "            for i in range(0, self.n - 1): # n-1 not included\n",
    "                alpha1 = self.alpha[i]\n",
    "                for j in range(i + 2, self.n + 1): # n+1 again not included\n",
    "                    alpha2 = self.alpha[j]\n",
    "                    if alpha1[alpha2[alpha1[alpha2[dart]]]] != dart:\n",
    "                        return False\n",
    "        return True\n",
    "    \n",
    "    def reserve_mark(self):\n",
    "        \"\"\"\n",
    "        algorithm 2\n",
    "        \"\"\"\n",
    "        i = max(self.taken_marks) + 1\n",
    "        self.taken_marks.add(i)\n",
    "        return i\n",
    "    \n",
    "    def free_mark(self, i):\n",
    "        \"\"\"\n",
    "        algorithm 3\n",
    "        also includes deleting all these marks, making it safe to call everytime\n",
    "        \"\"\"\n",
    "        del self.marks[i]\n",
    "        self.taken_marks.remove(i)    \n",
    "    \n",
    "    def is_marked(self, d, i):\n",
    "        \"\"\"\n",
    "        algorithm 4\n",
    "        d ... dart\n",
    "        i ... mark index\n",
    "        \"\"\"\n",
    "        return self.marks[i][d]\n",
    "    \n",
    "    def mark(self, d, i):\n",
    "        \"\"\"\n",
    "        algorithm 5\n",
    "        d ... dart\n",
    "        i ... mark index\n",
    "        \"\"\"\n",
    "        self.marks[i][d] = True\n",
    "        \n",
    "    def unmark(self, d, i):\n",
    "        \"\"\"\n",
    "        algorithm 6\n",
    "        d ... dart\n",
    "        i ... mark index\n",
    "        \"\"\"\n",
    "        # same as bla = False\n",
    "        del self.marks[i][d]\n",
    "    \n",
    "    def mark_all(self, i):\n",
    "        for d in self.darts:\n",
    "            self.mark(d, i)\n",
    "    \n",
    "    def unmark_all(self, i):\n",
    "        del self.marks[i]\n",
    "    \n",
    "    def ai(self, i, d):\n",
    "        #print(f'ai -> {self.alpha[i][d]}, i -> {i}, d -> {d}')\n",
    "        self.alpha[i].set_i(i)\n",
    "        return self.alpha[i][d]\n",
    "    \n",
    "    def set_ai(self, i, d, d1):\n",
    "        assert 0 <= i <= self.n\n",
    "        #self.custom_alpha[i][d] = d1\n",
    "        #print(f'd -> {d}\\nd1 -> {d1}')\n",
    "        #self.dart_level[d] = self.level\n",
    "        self.alpha[i].set_i(i)\n",
    "        self.alpha[i][d] = d1\n",
    "        #print(f'alpha in set_ai -> {self.alpha[i][d]}')\n",
    "        \n",
    "    def _remove_dart(self, d):\n",
    "\n",
    "        \"\"\"\n",
    "            We are removing the dart from the set.\n",
    "        \"\"\"\n",
    "        self.darts.remove(d)\n",
    "\n",
    "\n",
    "        #print(f'delete -> {d}')\n",
    "\n",
    "        \"\"\"\n",
    "            We are removing the dart from every alpha\n",
    "        \"\"\"\n",
    "        for i in self.all_dimensions:\n",
    "            del self.alpha[i][d]\n",
    "    \n",
    "    def orbit(self, sequence, d):\n",
    "        \"\"\"\n",
    "        algorithm 7\n",
    "        sequence ... valid list of dimensional indices\n",
    "        d ... dart\n",
    "        \"\"\"\n",
    "        print(f'd -> {d}')\n",
    "        ma = self.reserve_mark()\n",
    "        self.mark_orbit(sequence, d, ma)\n",
    "        orbit = self.marks[ma].keys()\n",
    "        self.free_mark(ma)\n",
    "        return orbit\n",
    "    \n",
    "    def mark_orbit(self, sequence, d, ma):\n",
    "        \"\"\"\n",
    "        used as in algorithm 7 and 8 etc...\n",
    "        sequence ... valid list of dimension indices\n",
    "        d ... dart\n",
    "        ma ... mark to use\n",
    "        \"\"\"\n",
    "\n",
    "        P = [d]\n",
    "        self.mark(d, ma)\n",
    "        while P:\n",
    "            cur = P.pop()\n",
    "            for i in sequence:\n",
    "                other = self.alpha[i][cur]\n",
    "                if not self.is_marked(other, ma):\n",
    "                    self.mark(other, ma)\n",
    "                    P.append(other)\n",
    "    \n",
    "    def cell_i(self, i, dart):\n",
    "        \"\"\"iterator over i-cell of a given dart\"\"\"\n",
    "        return self.orbit(self.all_dimensions_but_i(i), dart)\n",
    "\n",
    "    def cell_0(self, dart):\n",
    "        return self.cell_i(0, dart)\n",
    "    def cell_1(self, dart):\n",
    "        return self.cell_i(1, dart)\n",
    "    def cell_2(self, dart):\n",
    "        return self.cell_i(2, dart)\n",
    "    def cell_3(self, dart):\n",
    "        return self.cell_i(3, dart)\n",
    "    def cell_4(self, dart):\n",
    "        return self.cell_i(4, dart)\n",
    "    \n",
    "    def no_i_cells (self, i=None):\n",
    "        \"\"\"\n",
    "        Counts\n",
    "            i-cells,             if 0 <= i <= n\n",
    "            connected components if i is None\n",
    "        \"\"\"\n",
    "        assert i is None or 0 <= i <= self.n\n",
    "        # return more_itertools.ilen (self.darts_of_i_cells(i))\n",
    "        return sum ((1 for d in self.darts_of_i_cells(i)))\n",
    "\n",
    "    @property\n",
    "    def no_0_cells (self): return self.no_i_cells (0)\n",
    "    @property\n",
    "    def no_1_cells (self): return self.no_i_cells (1)\n",
    "    @property\n",
    "    def no_2_cells (self): return self.no_i_cells (2)\n",
    "    @property\n",
    "    def no_3_cells (self): return self.no_i_cells (3)\n",
    "    @property\n",
    "    def no_4_cells (self): return self.no_i_cells (4)\n",
    "    @property\n",
    "    def no_ccs     (self): return self.no_i_cells ( )\n",
    "    \n",
    "    def darts_of_i_cells(self, i = None):\n",
    "        \"\"\"\n",
    "        algorithm 8\n",
    "        \"\"\"\n",
    "        ma = self.reserve_mark()\n",
    "        try:\n",
    "            for d in self.darts:\n",
    "                if not self.is_marked(d, ma):\n",
    "                    yield d\n",
    "                    self.mark_orbit(self.all_dimensions_but_i(i), d, ma)\n",
    "        finally:\n",
    "            self.free_mark(ma)\n",
    "    \n",
    "    def all_i_cells(self, i = None):\n",
    "        for d in self.darts_of_i_cells(i):\n",
    "            yield self.cell_i(i, d)\n",
    "    \n",
    "    def all_conected_components(self):\n",
    "        return self.all_i_cells()\n",
    "    \n",
    "    def darts_of_i_cells_incident_to_j_cell(self, d, i, j):\n",
    "        \"\"\"\n",
    "        algorithm 9\n",
    "        \"\"\"\n",
    "        assert i != j\n",
    "        ma = self.reserve_mark()\n",
    "        try:\n",
    "            for e in self.orbit(self.all_dimensions_but_i(j), d):\n",
    "                if not self.is_marked(e, ma):\n",
    "                    yield e\n",
    "                    self.mark_orbit(self.all_dimensions_but_i(j), e, ma)\n",
    "        finally:\n",
    "            self.free_mark(ma)\n",
    "        \n",
    "    def darts_of_i_cells_adjacent_to_i_cell(self, d, i):\n",
    "        \"\"\"\n",
    "        algorithm 10\n",
    "        \"\"\"\n",
    "        ma = self.reserve_mark()\n",
    "        try:\n",
    "            for e in self.orbit(self.all_dimensions_but_i(i), d):\n",
    "                f = self.alpha[i][e]\n",
    "                if not self.is_marked(f, ma):\n",
    "                    yield f\n",
    "                    self.mark_orbit(self.all_dimensions_but_i(i), f, ma)\n",
    "        finally:\n",
    "            self.free_mark(ma)\n",
    "        \n",
    "    def all_dimensions_but_i (self, i=None):\n",
    "        \"\"\"Return a sorted sequence [0,...,n], without i, if 0 <= i <= n\"\"\"\n",
    "        assert i is None or 0 <= i <= self.n\n",
    "        return [j for j in range (self.n+1) if j != i]\n",
    "    \n",
    "    @property\n",
    "    def all_dimensions(self):\n",
    "        return self.all_dimensions_but_i()\n",
    "    \n",
    "    def is_i_free(self, i, d):\n",
    "        \"\"\"\n",
    "        definiton 2 / algorithm 11\n",
    "        \"\"\"\n",
    "        return self.alpha[i][d] == d\n",
    "        \n",
    "    def is_i_sewn_with(self, i, d):\n",
    "        \"\"\"\n",
    "        definiton 2\n",
    "        \"\"\"\n",
    "        d2 = self.alpha[i][d]\n",
    "        return d != d2, d2\n",
    "    \n",
    "    def create_dart(self):\n",
    "        \"\"\"\n",
    "        algorithm 12\n",
    "        \"\"\"\n",
    "        d = self.lowest_unused_dart_index\n",
    "        self.lowest_unused_dart_index += 1\n",
    "        self.darts.add(d)\n",
    "        for alpha in self.alpha:\n",
    "            alpha[d] = d\n",
    "        return d\n",
    "    \n",
    "    def remove_isolated_dart(self, d):\n",
    "        \"\"\"\n",
    "        algorithm 13\n",
    "        \"\"\"\n",
    "        assert self.is_isolated(d)\n",
    "        self.remove_isolated_dart_no_assert(d)\n",
    "        \n",
    "    def remove_isolated_dart_no_assert(self, d):\n",
    "        self.darts.remove(d)\n",
    "        for alpha in self.alpha:\n",
    "            del alpha[d]\n",
    "    \n",
    "    def is_isolated(self, d):\n",
    "        for i in range(self.n + 1):\n",
    "            if not self.is_i_free(i, d):\n",
    "                return False\n",
    "        return True\n",
    "    \n",
    "    def increase_dim(self):\n",
    "        \"\"\"\n",
    "        algorithm 15 in place\n",
    "        \"\"\"\n",
    "        self.n += 1\n",
    "        self.alpha.append(dict((d,d) for d in self.darts))\n",
    "        \n",
    "    def decrease_dim(self):\n",
    "        \"\"\"\n",
    "        algorithm 16 in place\n",
    "        \"\"\"\n",
    "        assert all(self.is_i_free(self.n, d) for d in self.darts)\n",
    "        self.decrease_dim_no_assert()\n",
    "    \n",
    "    def decrease_dim_no_assert(self):\n",
    "        del self.alpha[self.n]\n",
    "        self.n -= 1\n",
    "    \n",
    "    def index_shift(self, by):\n",
    "        self.darts = {d + by for d in self.darts}\n",
    "        self.alpha = [{k + by : v + by for k, v in a.items()} for a in self.alpha]\n",
    "        for mark in self.marks:\n",
    "            new_dict = {key + by : value for key, value in self.marks[mark].items()}\n",
    "            self.marks[mark].clear()\n",
    "            self.marks[mark].update(new_dict) #this is done to preserve default dicts\n",
    "        self.lowest_unused_dart_index += by\n",
    "        \n",
    "    def merge(self, other):\n",
    "        \"\"\"\n",
    "        algorithm 17 in place\n",
    "        \"\"\"\n",
    "        assert self.n == other.n\n",
    "        self.taken_marks.update(other.taken_marks)\n",
    "        shift = max(self.darts) - min(other.darts) + 1\n",
    "        other.index_shift(shift)\n",
    "        \n",
    "        self.darts.update(other.darts)\n",
    "        for sa, oa in zip(self.alpha, other.alpha):\n",
    "            sa.update(oa)\n",
    "        for mk in other.marks:\n",
    "            self.marks[mk].update(other.marks[mk])\n",
    "        self.taken_marks.update(other.taken_marks)\n",
    "        self.lowest_unused_dart_index = other.lowest_unused_dart_index\n",
    "        \n",
    "    def restrict(self, D):\n",
    "        \"\"\"\n",
    "        algorithm 18\n",
    "        \"\"\"\n",
    "        raise NotImplementedError #boring\n",
    "    \n",
    "    def sew_seq(self, i):\n",
    "        \"\"\"\n",
    "        indices used in the sewing operations\n",
    "        (0, ..., i - 2, i + 2, ..., n)\n",
    "        \"\"\"\n",
    "        return chain(range(0, i - 1), range(i + 2, self.n + 1))\n",
    "    \n",
    "    def sewable(self, d1, d2, i):\n",
    "        \"\"\"\n",
    "        algorithm 19\n",
    "        tests wether darts d1, d2 are sewable along i\n",
    "        returns bool\n",
    "        \"\"\"\n",
    "        if d1 == d2 or not self.is_i_free(i, d1) or not self.is_i_free(i, d2):\n",
    "            return False\n",
    "        try:\n",
    "            f = dict()\n",
    "            for d11, d22 in strict_zip(self.orbit(self.sew_seq(i), d1), self.orbit(self.sew_seq(i), d2), strict = True):\n",
    "                f[d11] = d22\n",
    "                for j in self.sew_seq(i):\n",
    "                    if self.alpha[j][d11] in f and f[self.alpha[j][d11]] != self.alpha[j][d22]:\n",
    "                        return False\n",
    "        except ValueError: #iterators not same length\n",
    "            return False\n",
    "        return True\n",
    "    \n",
    "    def sew(self, d1, d2, i):\n",
    "        \"\"\"\n",
    "        algorithm 20\n",
    "        \"\"\"\n",
    "        assert self.sewable(d1, d2, i)\n",
    "        self.sew_no_assert(d1, d2, i)\n",
    "        \n",
    "    def sew_no_assert(self, d1, d2, i):\n",
    "        for e1, e2 in strict_zip(self.orbit(self.sew_seq(i), d1), self.orbit(self.sew_seq(i), d2), strict = True):\n",
    "            self.alpha[i][e1] = e2\n",
    "            self.alpha[i][e2] = e1\n",
    "    \n",
    "    def unsew(self, d, i):\n",
    "        \"\"\"\n",
    "        algorithm 21\n",
    "        \"\"\"\n",
    "        assert not self.is_i_free(i, d)\n",
    "        for e in self.orbit(self.sew_seq(i), d):\n",
    "            f = self.alpha[i][e]\n",
    "            self.alpha[i][f] = f\n",
    "            self.alpha[i][e] = e\n",
    "    \n",
    "    def incident (self, i, d1, j, d2):\n",
    "        \"\"\"\n",
    "        checks wether the i-cell of d1 is incident to the j-cell of d2\n",
    "        \"\"\"\n",
    "        for e1, e2 in product(self.cell_i(i, d1), self.cell_i(j, d2)):\n",
    "            if e1 == e2:\n",
    "                return True\n",
    "        return False\n",
    "    \n",
    "    def adjacent(self, i, d1, d2):\n",
    "        \"\"\"\n",
    "        checks wether the i-cell of d1 is adjacent to the i-cell of d2\n",
    "        \"\"\"\n",
    "        first_cell = self.cell_i(i, d1)\n",
    "        second_cell = set(self.cell_i(i, d2))\n",
    "        for d in first_cell:\n",
    "            if self.alpha[i][d] in second_cell:\n",
    "                return True\n",
    "        return False\n",
    "    \n",
    "    # Contractablilty & Removability\n",
    "\n",
    "    \"\"\"\n",
    "        The next three methods are useful for checking the contractability and removability of darts.\n",
    "    \"\"\"\n",
    "    \n",
    "    def _is_i_removable_or_contractible(self, i, dart, rc):\n",
    "        \"\"\"\n",
    "        Test if an i-cell of dart is removable/contractible:\n",
    "\n",
    "        i    ... i-cell\n",
    "        dart ... dart\n",
    "        rc   ... +1 => removable test, -1 => contractible test\n",
    "        \"\"\"\n",
    "        assert dart in self.darts\n",
    "        assert 0 <= i <= self.n\n",
    "        assert rc in {-1, +1}\n",
    "\n",
    "        if rc == +1:  # removable test\n",
    "            if i == self.n  : return False\n",
    "            if i == self.n-1: return True\n",
    "        if rc == -1:  # contractible test\n",
    "            if i == 0: return False\n",
    "            if i == 1: return True\n",
    "\n",
    "        for d in self.cell_i(i, dart):\n",
    "            if self.alpha[i+rc][self.alpha[i+rc+rc][d]] != self.alpha[i+rc+rc][self.alpha[i+rc][d]]:\n",
    "                return False\n",
    "        return True\n",
    "\n",
    "    def is_i_removable(self, i, dart):\n",
    "        \"\"\"True if i-cell of dart can be removed\"\"\"\n",
    "        return self._is_i_removable_or_contractible(i, dart, rc=+1)\n",
    "\n",
    "    def is_i_contractible(self, i, dart):\n",
    "        \"\"\"True if i-cell of dart can be contracted\"\"\"\n",
    "        return self._is_i_removable_or_contractible(i, dart, rc=-1)\n",
    "\n",
    "    \"\"\"\n",
    "        The i_remove_contract method is used for removing a certain dart from the n-Gmap.\n",
    "    \"\"\"\n",
    "    \n",
    "    def _i_remove_contract(self, i, dart, rc, skip_check=False):\n",
    "        \"\"\"\n",
    "        Remove / contract an i-cell of dart\n",
    "        d  ... dart\n",
    "        i  ... i-cell\n",
    "        rc ... +1 => remove, -1 => contract\n",
    "        skip_check ... set to True if you are sure you can remove / contract the i-cell\n",
    "        \"\"\"\n",
    "        logging.debug (f'{\"Remove\" if rc == 1 else \"Contract\"} {i}-Cell of dart {dart}')\n",
    "\n",
    "        if not skip_check:\n",
    "            assert self._is_i_removable_or_contractible(i, dart, rc),\\\n",
    "                f'{i}-cell of dart {dart} is not {\"removable\" if rc == 1 else \"contractible\"}!'\n",
    "\n",
    "        \"\"\"\n",
    "            Every time the checking is over I assume that I can increment the variable that keeps trace of\n",
    "            the levels because the dart is removed/contracted, for sure.\n",
    "        \"\"\"\n",
    "        self.level += 1\n",
    "        #print(f'level -> {self.level}')\n",
    "\n",
    "        \n",
    "        #print(type(self.alpha[i]))\n",
    "\n",
    "        i_cell = set(self.cell_i(i, dart))  # mark all the darts in ci(d)\n",
    "\n",
    "        #print(f'i-cell -> {i_cell}')\n",
    "        #print(f'\\n{i}-cell to be removed {i_cell}')\n",
    "        for d in i_cell:\n",
    "            d1 = self.ai (i,d) # d1 ← d.Alphas[i];\n",
    "            if d1 not in i_cell:  # if not isMarkedNself(d1,ma) then\n",
    "                # d2 ← d.Alphas[i + 1].Alphas[i];\n",
    "                d2 = self.ai (i+rc,d)\n",
    "                d2 = self.ai (i   ,d2)\n",
    "                while d2 in i_cell: # while isMarkedNself(d2,ma) do\n",
    "                    # d2 ← d.Alphas[i + 1].Alphas[i];\n",
    "                    d2 = self.ai (i+rc,d2)\n",
    "                    d2 = self.ai (i   ,d2)\n",
    "                logging.debug (f'Modifying alpha_{i} of dart {d1} from {self.ai (i,d1)} to {d2}')\n",
    "\n",
    "                self.set_ai(i,d1,d2) # d1.Alphas[i] ← d2;\n",
    "\n",
    "        \n",
    "        \"\"\"\n",
    "            In that for loop, in addition to remove the dart given in input,\n",
    "            I also check if involutions of this dart are different from the\n",
    "            implicitly ones. If they are different, then they will move into\n",
    "            the passive part, otherwise nothing will be stored.\n",
    "\n",
    "            I wanto to say that implementation is been provided to work with\n",
    "            2-Gmaps. For that reason there are only three if statements to check\n",
    "            which j-value I am analysing.\n",
    "        \"\"\"\n",
    "        for d in i_cell:  # foreach dart d' ∈ ci(d) do\n",
    "            for j in self.all_dimensions:\n",
    "                if j == 0:\n",
    "                    if self.alpha[j][d] != self.alpha[j].get_alpha0(d):\n",
    "                        self.custom_alpha[j][d] = self.alpha[j][d]\n",
    "\n",
    "                if j == 1:\n",
    "                    if self.alpha[j][d] != self.alpha[j].get_alpha1(d):\n",
    "                        self.custom_alpha[j][d] = self.alpha[j][d]\n",
    "\n",
    "                if j == 2:\n",
    "                    if self.alpha[j][d] != self.alpha[j].get_alpha2(d):\n",
    "                        self.custom_alpha[j][d] = self.alpha[j][d]\n",
    "                \n",
    "            self.dart_level[d] = self.level\n",
    "\n",
    "            #print(f'dart that will be removed -> {d}')\n",
    "            self._remove_dart (d)  # remove d' from gm.Darts;\n",
    "\n",
    "    \"\"\"\n",
    "        Method I need to call to remove a certain dart from the n-Gmap.\n",
    "    \"\"\"\n",
    "    def _remove(self, i, dart, skip_check=False):\n",
    "        \"\"\"Remove i-cell of dart\"\"\"\n",
    "        self._i_remove_contract(i, dart, rc=+1, skip_check=skip_check)\n",
    "\n",
    "    \"\"\"\n",
    "        Method I need to call to contract a certain dart from the n-Gmap.\n",
    "    \"\"\"\n",
    "    def _contract(self, i, dart, skip_check=False):\n",
    "        \"\"\"Contract i-cell of dart\"\"\"\n",
    "        self._i_remove_contract(i, dart, rc=-1, skip_check=skip_check)\n",
    "\n",
    "    \"\"\"\n",
    "        Useful method to have the summary of the current n-Gmap.\n",
    "    \"\"\"\n",
    "    def __repr__(self):\n",
    "        out = f\"{self.n}dGmap of {len(self.darts)} darts:\\n\"\n",
    "        for i in range(self.n + 1): # n+1 is not included\n",
    "            out += f\" {i}-cells: {self.no_i_cells(i)}\\n\"\n",
    "        out += f\" ccs: {self.no_ccs}\"\n",
    "        return out\n",
    "\n",
    "\n",
    "    \"\"\"\n",
    "        Method to check the initial involutions of the n-Gmap.\n",
    "    \"\"\"\n",
    "    def print_starting_alpha(self):\n",
    "\n",
    "        print(f'\\nD[i]    | ', end= \" \")\n",
    "        for i in self.darts:\n",
    "            print(f'{i} |', end= \" \")\n",
    "\n",
    "        for i in range(0, self.n+1):\n",
    "            print(f'\\nAlpha_{i} | ', end= \" \")\n",
    "            for k in self.darts:\n",
    "                if i == 0:\n",
    "                    print(f'{self.impl_dict.get_alpha0(k)} |', end= \" \")\n",
    "                elif i == 1:\n",
    "                    print(f'{self.impl_dict.get_alpha1(k)} |', end= \" \")\n",
    "                else:\n",
    "                    print(f'{self.impl_dict.get_alpha2(k)} |', end= \" \")\n",
    "\n",
    "\n",
    "    \"\"\"\n",
    "        Method to print the active part (current Gmap) that is stored into the data structure.\n",
    "    \"\"\"\n",
    "    def print_alpha(self):\n",
    "        for i in range(0, self.n + 1):\n",
    "            print(f'\\nAlpha_{i} -> {self.alpha[i]}')\n",
    "\n",
    "    \n",
    "    def print_final_alpha(self):\n",
    "        \n",
    "        print(f'\\nD[i]    | ', end= \" \")\n",
    "        for i in self.darts:\n",
    "            print(f'{i} |', end= \" \")\n",
    "\n",
    "        for i in range(0, self.n+1):\n",
    "            print(f'\\nAlpha_{i} | ', end= \" \")\n",
    "            for k in self.darts:\n",
    "                if i == 0:\n",
    "                    print(f'{self.alpha[i][k]} |', end= \" \")\n",
    "                elif i == 1:\n",
    "                    print(f'{self.alpha[i][k]} |', end= \" \")\n",
    "                else:\n",
    "                    print(f'{self.alpha[i][k]} |', end= \" \")\n",
    "        \n",
    "    \"\"\"\n",
    "        Method to print the passive part that is stored into the data structure.\n",
    "    \"\"\"\n",
    "    def print_custom(self):\n",
    "        \"\"\" print(f'\\n\\nDart    | ', end= \" \")\n",
    "        for i in self.custom_alpha[0].keys():\n",
    "            print(f'{i} |', end= \" \")\n",
    "\n",
    "        for i in range(0, self.n+1):\n",
    "            print(f'\\nAlpha_{i} | ', end= \" \")\n",
    "            for j in self.custom_alpha[i].values():\n",
    "                    print(f'{j} |', end= \" \") \"\"\"\n",
    "\n",
    "        print(self.custom_alpha[0])\n",
    "        print(self.custom_alpha[1])\n",
    "        print(self.custom_alpha[2])\n",
    "\n",
    "    \"\"\"\n",
    "        Method to check the history of the pyramid.\n",
    "    \"\"\"\n",
    "    def print_history_levels(self):\n",
    "        print(f'\\n\\nHistory')\n",
    "\n",
    "        print(f'Dart  | Level')\n",
    "\n",
    "        for k, v in zip(self.dart_level.keys(), self.dart_level.values()):\n",
    "            print(f'  {k}   |   {v}')\n",
    "\n",
    "\n",
    "\n",
    "    def _insert_until_level(self, level, filename=None, i=None,):   \n",
    "\n",
    "        l = []\n",
    "        for k in reversed(self.dart_level):\n",
    "            \n",
    "            if self.dart_level[k] > level:\n",
    "                \"\"\"\n",
    "                    If you over this condition It means you can reconstruct something.\n",
    "                \"\"\"\n",
    "                l.append(k)\n",
    "                self.darts.add(k)\n",
    "                print(f'dart {k} added to the set of darts')\n",
    "\n",
    "                for j in range(0, self.n + 1):\n",
    "                        # k = 75\n",
    "                        try:\n",
    "                            self.alpha[j][self.custom_alpha[j][k]] = k\n",
    "                        except KeyError:\n",
    "                            self.alpha[j].set_i(j)\n",
    "                            self.alpha[j][self.alpha[j][k]] = k ############################## alpha0[alpha0[75] -> 74] = 75\n",
    "\n",
    "                        try:\n",
    "                            \n",
    "                            self.alpha[j][k] = self.custom_alpha[j][k]\n",
    "                        except KeyError:\n",
    "                            if j == 0:\n",
    "                                if self.alpha[j][k] != self.alpha[j].get_alpha0(k):\n",
    "                                    #self.alpha[j][k] = self.alpha[j][k] ################## alpha0[75] = implicitly_encoding, actually\n",
    "                                    self.alpha[j][k] = self.alpha[j].get_alpha0(k)\n",
    "\n",
    "                            if j == 1:\n",
    "                                if self.alpha[j][k] != self.alpha[j].get_alpha1(k):\n",
    "                                    self.alpha[j][k] = self.alpha[j].get_alpha1(k)\n",
    "\n",
    "                            if j == 2:\n",
    "                                if self.alpha[j][k] != self.alpha[j].get_alpha2(k):\n",
    "                                    self.alpha[j][k] = self.alpha[j].get_alpha2(k)\n",
    "\n",
    "                        try:\n",
    "                            del self.custom_alpha[j][k]\n",
    "                        except KeyError:\n",
    "                            del self.alpha[j][self.alpha[j][k]]\n",
    "                \n",
    "        for el in l:\n",
    "            del self.dart_level[el]\n",
    "\n",
    "    def plot(self):\n",
    "        plot(self.darts)\n",
    "                \n",
    "def strict_zip(arg1, arg2, strict = False):\n",
    "    \"\"\"\n",
    "    strict keyword for zip is only avaliable in python 3.10 which is still in alpha :(\n",
    "    \"\"\"\n",
    "    assert strict == True\n",
    "    arg1 = list(arg1)\n",
    "    arg2 = list(arg2)\n",
    "    if len(arg1) == len(arg2):\n",
    "        return zip(arg1, arg2)\n",
    "    else:\n",
    "        raise ValueError\n",
    "\n",
    "    "
   ]
  },
  {
   "cell_type": "markdown",
   "metadata": {},
   "source": [
    "# Carmine test: compare the results of that implementation with mine"
   ]
  },
  {
   "cell_type": "code",
   "execution_count": 6,
   "metadata": {},
   "outputs": [],
   "source": [
    "from combinatorial.notebooks.combinatorial.zoo import G2_HOUSE_1, G2_TWO_TRIANGLES_1\n",
    "\n",
    "#m = dict_nGmap.from_string(G2_TWO_TRIANGLES_1)\n",
    "m = dict_nGmap(2)\n",
    "\n"
   ]
  },
  {
   "cell_type": "code",
   "execution_count": 7,
   "metadata": {},
   "outputs": [
    {
     "data": {
      "text/plain": [
       "2dGmap of 16 darts:\n",
       " 0-cells: 4\n",
       " 1-cells: 4\n",
       " 2-cells: 2\n",
       " ccs: 1"
      ]
     },
     "execution_count": 7,
     "metadata": {},
     "output_type": "execute_result"
    }
   ],
   "source": [
    "m"
   ]
  },
  {
   "cell_type": "code",
   "execution_count": 8,
   "metadata": {},
   "outputs": [
    {
     "data": {
      "image/png": "[encoded data removed]",
      "text/plain": [
       "<Figure size 1728x1152 with 1 Axes>"
      ]
     },
     "metadata": {},
     "output_type": "display_data"
    }
   ],
   "source": [
    "m.plot()"
   ]
  },
  {
   "cell_type": "code",
   "execution_count": 9,
   "metadata": {},
   "outputs": [
    {
     "name": "stdout",
     "output_type": "stream",
     "text": [
      "\n",
      "D[i]    |  0 | 1 | 2 | 3 | 4 | 5 | 6 | 7 | 12 | 13 | 14 | 15 | 16 | 17 | 18 | 19 | \n",
      "Alpha_0 |  1 | 0 | 3 | 2 | 5 | 4 | 7 | 6 | 13 | 12 | 15 | 14 | 17 | 16 | 19 | 18 | \n",
      "Alpha_1 |  4 | 14 | 6 | 12 | 0 | 18 | 2 | 16 | 3 | 17 | 1 | 19 | 7 | 13 | 5 | 15 | \n",
      "Alpha_2 |  2 | 3 | 0 | 1 | 6 | 7 | 4 | 5 | 14 | 15 | 12 | 13 | 18 | 19 | 16 | 17 | "
     ]
    }
   ],
   "source": [
    "m.print_starting_alpha()"
   ]
  },
  {
   "cell_type": "code",
   "execution_count": 10,
   "metadata": {},
   "outputs": [
    {
     "name": "stdout",
     "output_type": "stream",
     "text": [
      "{0, 1, 2, 3, 4, 5, 6, 7, 12, 13, 14, 15, 16, 17, 18, 19}\n"
     ]
    }
   ],
   "source": [
    "print(m.darts)"
   ]
  },
  {
   "cell_type": "code",
   "execution_count": 11,
   "metadata": {},
   "outputs": [
    {
     "name": "stdout",
     "output_type": "stream",
     "text": [
      "d -> 2\n",
      "d -> 2\n"
     ]
    },
    {
     "data": {
      "text/plain": [
       "True"
      ]
     },
     "execution_count": 11,
     "metadata": {},
     "output_type": "execute_result"
    }
   ],
   "source": [
    "m._remove(0, 2)\n",
    "m.is_valid"
   ]
  },
  {
   "cell_type": "code",
   "execution_count": 12,
   "metadata": {},
   "outputs": [
    {
     "name": "stdout",
     "output_type": "stream",
     "text": [
      "{}\n",
      "{}\n",
      "{}\n",
      "\n",
      "\n",
      "History\n",
      "Dart  | Level\n",
      "  0   |   1\n",
      "  2   |   1\n",
      "  4   |   1\n",
      "  6   |   1\n"
     ]
    }
   ],
   "source": [
    "m.print_custom()\n",
    "m.print_history_levels()"
   ]
  },
  {
   "cell_type": "code",
   "execution_count": 13,
   "metadata": {},
   "outputs": [
    {
     "name": "stdout",
     "output_type": "stream",
     "text": [
      "\n",
      "Alpha_0 -> {1: 5, 3: 7, 5: 1, 7: 3}\n",
      "\n",
      "Alpha_1 -> {}\n",
      "\n",
      "Alpha_2 -> {}\n",
      "{1, 3, 5, 7, 12, 13, 14, 15, 16, 17, 18, 19}\n"
     ]
    }
   ],
   "source": [
    "m.print_alpha()\n",
    "print(m.darts)"
   ]
  },
  {
   "cell_type": "code",
   "execution_count": 14,
   "metadata": {},
   "outputs": [
    {
     "data": {
      "image/png": "[encoded data removed]",
      "text/plain": [
       "<Figure size 1728x1152 with 1 Axes>"
      ]
     },
     "metadata": {},
     "output_type": "display_data"
    }
   ],
   "source": [
    "m.plot()"
   ]
  },
  {
   "cell_type": "code",
   "execution_count": 15,
   "metadata": {},
   "outputs": [
    {
     "name": "stdout",
     "output_type": "stream",
     "text": [
      "d -> 12\n"
     ]
    }
   ],
   "source": [
    "m._remove(1, 12)"
   ]
  },
  {
   "cell_type": "code",
   "execution_count": 16,
   "metadata": {},
   "outputs": [
    {
     "data": {
      "image/png": "[encoded data removed]",
      "text/plain": [
       "<Figure size 1728x1152 with 1 Axes>"
      ]
     },
     "metadata": {},
     "output_type": "display_data"
    }
   ],
   "source": [
    "m.plot()"
   ]
  },
  {
   "cell_type": "code",
   "execution_count": 17,
   "metadata": {},
   "outputs": [
    {
     "name": "stdout",
     "output_type": "stream",
     "text": [
      "{}\n",
      "{}\n",
      "{}\n",
      "\n",
      "Alpha_0 -> {1: 5, 3: 7, 5: 1, 7: 3}\n",
      "\n",
      "Alpha_1 -> {3: 1, 17: 19, 1: 3, 19: 17}\n",
      "\n",
      "Alpha_2 -> {}\n",
      "\n",
      "\n",
      "History\n",
      "Dart  | Level\n",
      "  0   |   1\n",
      "  2   |   1\n",
      "  4   |   1\n",
      "  6   |   1\n",
      "  12   |   2\n",
      "  13   |   2\n",
      "  14   |   2\n",
      "  15   |   2\n"
     ]
    }
   ],
   "source": [
    "m.print_custom()\n",
    "m.print_alpha()\n",
    "m.print_history_levels()"
   ]
  },
  {
   "cell_type": "code",
   "execution_count": 18,
   "metadata": {},
   "outputs": [
    {
     "name": "stdout",
     "output_type": "stream",
     "text": [
      "{1, 3, 5, 7, 16, 17, 18, 19}\n"
     ]
    }
   ],
   "source": [
    "print(m.darts)"
   ]
  },
  {
   "cell_type": "code",
   "execution_count": 19,
   "metadata": {},
   "outputs": [
    {
     "name": "stdout",
     "output_type": "stream",
     "text": [
      "d -> 1\n",
      "d -> 1\n"
     ]
    },
    {
     "data": {
      "image/png": "[encoded data removed]",
      "text/plain": [
       "<Figure size 1728x1152 with 1 Axes>"
      ]
     },
     "metadata": {},
     "output_type": "display_data"
    }
   ],
   "source": [
    "m._remove(0, 1)\n",
    "m.plot()"
   ]
  },
  {
   "cell_type": "code",
   "execution_count": 20,
   "metadata": {},
   "outputs": [
    {
     "name": "stdout",
     "output_type": "stream",
     "text": [
      "{1: 5, 3: 7}\n",
      "{1: 3, 3: 1}\n",
      "{}\n",
      "\n",
      "Alpha_0 -> {5: 7, 7: 5}\n",
      "\n",
      "Alpha_1 -> {17: 19, 19: 17}\n",
      "\n",
      "Alpha_2 -> {}\n",
      "\n",
      "\n",
      "History\n",
      "Dart  | Level\n",
      "  0   |   1\n",
      "  2   |   1\n",
      "  4   |   1\n",
      "  6   |   1\n",
      "  12   |   2\n",
      "  13   |   2\n",
      "  14   |   2\n",
      "  15   |   2\n",
      "  1   |   3\n",
      "  3   |   3\n"
     ]
    }
   ],
   "source": [
    "m.print_custom()\n",
    "m.print_alpha()\n",
    "m.print_history_levels()"
   ]
  },
  {
   "cell_type": "code",
   "execution_count": 21,
   "metadata": {},
   "outputs": [
    {
     "name": "stdout",
     "output_type": "stream",
     "text": [
      "d -> 17\n"
     ]
    },
    {
     "data": {
      "text/plain": [
       "True"
      ]
     },
     "execution_count": 21,
     "metadata": {},
     "output_type": "execute_result"
    }
   ],
   "source": [
    "m._contract(1,17)\n",
    "m.is_valid"
   ]
  },
  {
   "cell_type": "code",
   "execution_count": 22,
   "metadata": {},
   "outputs": [
    {
     "data": {
      "image/png": "[encoded data removed]",
      "text/plain": [
       "<Figure size 1728x1152 with 1 Axes>"
      ]
     },
     "metadata": {},
     "output_type": "display_data"
    }
   ],
   "source": [
    "m.plot()"
   ]
  },
  {
   "cell_type": "code",
   "execution_count": 23,
   "metadata": {},
   "outputs": [
    {
     "name": "stdout",
     "output_type": "stream",
     "text": [
      "{1: 5, 3: 7}\n",
      "{1: 3, 3: 1, 17: 19, 19: 17}\n",
      "{}\n",
      "\n",
      "\n",
      "History\n",
      "Dart  | Level\n",
      "  0   |   1\n",
      "  2   |   1\n",
      "  4   |   1\n",
      "  6   |   1\n",
      "  12   |   2\n",
      "  13   |   2\n",
      "  14   |   2\n",
      "  15   |   2\n",
      "  1   |   3\n",
      "  3   |   3\n",
      "  16   |   4\n",
      "  17   |   4\n",
      "  18   |   4\n",
      "  19   |   4\n"
     ]
    }
   ],
   "source": [
    "m.print_custom()\n",
    "m.print_history_levels()"
   ]
  },
  {
   "cell_type": "code",
   "execution_count": 24,
   "metadata": {},
   "outputs": [
    {
     "name": "stdout",
     "output_type": "stream",
     "text": [
      "\n",
      "Alpha_0 -> {5: 7, 7: 5}\n",
      "\n",
      "Alpha_1 -> {7: 5, 5: 7}\n",
      "\n",
      "Alpha_2 -> {}\n"
     ]
    }
   ],
   "source": [
    "m.print_alpha()"
   ]
  },
  {
   "cell_type": "code",
   "execution_count": 25,
   "metadata": {},
   "outputs": [
    {
     "name": "stdout",
     "output_type": "stream",
     "text": [
      "{5, 7}\n"
     ]
    }
   ],
   "source": [
    "print(m.darts)"
   ]
  },
  {
   "cell_type": "code",
   "execution_count": 26,
   "metadata": {},
   "outputs": [
    {
     "data": {
      "text/plain": [
       "2dGmap of 2 darts:\n",
       " 0-cells: 1\n",
       " 1-cells: 1\n",
       " 2-cells: 1\n",
       " ccs: 1"
      ]
     },
     "execution_count": 26,
     "metadata": {},
     "output_type": "execute_result"
    }
   ],
   "source": [
    "m"
   ]
  },
  {
   "cell_type": "code",
   "execution_count": 27,
   "metadata": {},
   "outputs": [
    {
     "name": "stdout",
     "output_type": "stream",
     "text": [
      "dart 19 added to the set of darts\n",
      "dart 18 added to the set of darts\n",
      "dart 17 added to the set of darts\n",
      "dart 16 added to the set of darts\n",
      "dart 3 added to the set of darts\n",
      "dart 1 added to the set of darts\n",
      "dart 15 added to the set of darts\n",
      "dart 14 added to the set of darts\n",
      "dart 13 added to the set of darts\n",
      "dart 12 added to the set of darts\n",
      "dart 6 added to the set of darts\n",
      "dart 4 added to the set of darts\n",
      "dart 2 added to the set of darts\n",
      "dart 0 added to the set of darts\n"
     ]
    }
   ],
   "source": [
    "\"\"\"\n",
    "    You can give in input the level of the pyramid until you want to reconstruct. This value is escluded from the considered interval of levels.\n",
    "    Ex. INPUT = 1 -> level belong to ]1, top]\n",
    "\"\"\"\n",
    "m._insert_until_level(0, 'implicit_involutions')"
   ]
  },
  {
   "cell_type": "code",
   "execution_count": 28,
   "metadata": {},
   "outputs": [
    {
     "name": "stdout",
     "output_type": "stream",
     "text": [
      "\n",
      "Alpha_0 -> {}\n",
      "\n",
      "Alpha_1 -> {}\n",
      "\n",
      "Alpha_2 -> {}\n",
      "\n",
      "\n",
      "{}\n",
      "{}\n",
      "{}\n",
      "\n",
      "\n",
      "History\n",
      "Dart  | Level\n",
      "\n",
      "Set of the darts\n",
      "[0, 1, 2, 3, 4, 5, 6, 7, 12, 13, 14, 15, 16, 17, 18, 19]\n"
     ]
    }
   ],
   "source": [
    "m.print_alpha()\n",
    "\n",
    "print('\\n')\n",
    "m.print_custom()\n",
    "\n",
    "m.print_history_levels()\n",
    "\n",
    "print('\\nSet of the darts')\n",
    "print(sorted(m.darts))"
   ]
  },
  {
   "cell_type": "code",
   "execution_count": 29,
   "metadata": {},
   "outputs": [
    {
     "data": {
      "text/plain": [
       "2dGmap of 16 darts:\n",
       " 0-cells: 4\n",
       " 1-cells: 4\n",
       " 2-cells: 2\n",
       " ccs: 1"
      ]
     },
     "execution_count": 29,
     "metadata": {},
     "output_type": "execute_result"
    }
   ],
   "source": [
    "m"
   ]
  },
  {
   "cell_type": "code",
   "execution_count": 30,
   "metadata": {},
   "outputs": [
    {
     "data": {
      "image/png": "[encoded data removed]",
      "text/plain": [
       "<Figure size 1728x1152 with 1 Axes>"
      ]
     },
     "metadata": {},
     "output_type": "display_data"
    }
   ],
   "source": [
    "m.plot()"
   ]
  },
  {
   "cell_type": "code",
   "execution_count": 31,
   "metadata": {},
   "outputs": [
    {
     "name": "stdout",
     "output_type": "stream",
     "text": [
      "\n",
      "D[i]    |  0 | 2 | 1 | 5 | 3 | 7 | 6 | 4 | 12 | 13 | 14 | 15 | 16 | 17 | 18 | 19 | \n",
      "Alpha_0 |  1 | 3 | 0 | 4 | 2 | 6 | 7 | 5 | 13 | 12 | 15 | 14 | 17 | 16 | 19 | 18 | \n",
      "Alpha_1 |  4 | 6 | 14 | 18 | 12 | 16 | 2 | 0 | 3 | 17 | 1 | 19 | 7 | 13 | 5 | 15 | \n",
      "Alpha_2 |  2 | 0 | 3 | 7 | 1 | 5 | 4 | 6 | 14 | 15 | 12 | 13 | 18 | 19 | 16 | 17 | "
     ]
    }
   ],
   "source": [
    "m.print_final_alpha()"
   ]
  },
  {
   "cell_type": "code",
   "execution_count": 32,
   "metadata": {},
   "outputs": [
    {
     "data": {
      "text/plain": [
       "2dGmap of 16 darts:\n",
       " 0-cells: 4\n",
       " 1-cells: 4\n",
       " 2-cells: 2\n",
       " ccs: 1"
      ]
     },
     "execution_count": 32,
     "metadata": {},
     "output_type": "execute_result"
    }
   ],
   "source": [
    "m"
   ]
  },
  {
   "cell_type": "markdown",
   "metadata": {},
   "source": [
    "# Test of maximum contraction edges"
   ]
  },
  {
   "cell_type": "code",
   "execution_count": 33,
   "metadata": {},
   "outputs": [
    {
     "name": "stdout",
     "output_type": "stream",
     "text": [
      "len set -> 16\n",
      "d -> 19\n",
      "len set -> 12\n",
      "d -> 1\n",
      "len set -> 8\n",
      "d -> 5\n",
      "len set -> 4\n",
      "d -> 12\n",
      "len set -> 0\n",
      "len set ------ 0\n"
     ]
    }
   ],
   "source": [
    "import random\n",
    "\n",
    "#that loop have to be stopped when all the remaining darts are not contractible\n",
    "while all(m.is_i_contractible(1, d) == True for d in m.darts):\n",
    "    try:\n",
    "        print(f'len set -> {len(m.darts)}')\n",
    "        c = random.sample(m.darts, 1)\n",
    "        m._contract(1, c[0])\n",
    "        \n",
    "    except ValueError:\n",
    "    #print(\"A random number from the set is: \" , c)\n",
    "        print(f'len set ------ {len(m.darts)}')\n",
    "        break\n",
    "    "
   ]
  },
  {
   "cell_type": "code",
   "execution_count": 34,
   "metadata": {},
   "outputs": [],
   "source": [
    "#m.plot()"
   ]
  },
  {
   "cell_type": "code",
   "execution_count": 35,
   "metadata": {},
   "outputs": [
    {
     "name": "stdout",
     "output_type": "stream",
     "text": [
      "8\n"
     ]
    }
   ],
   "source": [
    "#m.print_custom()\n",
    "print(len(m.custom_alpha[1]))"
   ]
  },
  {
   "cell_type": "code",
   "execution_count": 36,
   "metadata": {},
   "outputs": [
    {
     "name": "stdout",
     "output_type": "stream",
     "text": [
      "{16: 5, 17: 5, 18: 5, 19: 5, 0: 6, 1: 6, 2: 6, 3: 6, 4: 7, 5: 7, 6: 7, 7: 7, 12: 8, 13: 8, 14: 8, 15: 8}\n"
     ]
    }
   ],
   "source": [
    "print(m.dart_level)"
   ]
  },
  {
   "cell_type": "code",
   "execution_count": 37,
   "metadata": {},
   "outputs": [],
   "source": [
    "#m._insert_until_level(30)\n"
   ]
  },
  {
   "cell_type": "code",
   "execution_count": 38,
   "metadata": {},
   "outputs": [
    {
     "data": {
      "image/png": "[encoded data removed]",
      "text/plain": [
       "<Figure size 1728x1152 with 1 Axes>"
      ]
     },
     "metadata": {},
     "output_type": "display_data"
    }
   ],
   "source": [
    "m.plot()"
   ]
  }
 ],
 "metadata": {
  "interpreter": {
   "hash": "ec904cc508e64af8cc7b4019b8ba061516bb876417171e76154460a41879f546"
  },
  "kernelspec": {
   "display_name": "Python 3.8.9 64-bit ('venv_NC': venv)",
   "name": "python3"
  },
  "language_info": {
   "codemirror_mode": {
    "name": "ipython",
    "version": 3
   },
   "file_extension": ".py",
   "mimetype": "text/x-python",
   "name": "python",
   "nbconvert_exporter": "python",
   "pygments_lexer": "ipython3",
   "version": "3.9.9"
  }
 },
 "nbformat": 4,
 "nbformat_minor": 4
}
