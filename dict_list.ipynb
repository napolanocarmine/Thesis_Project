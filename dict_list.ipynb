{
 "cells": [
  {
   "cell_type": "code",
   "execution_count": 162,
   "metadata": {},
   "outputs": [],
   "source": [
    "from combinatorial.notebooks.combinatorial.custom_gmaps import nGmap\n",
    "from combinatorial.notebooks.combinatorial.zoo import G2_SQUARE_BOUNDED\n",
    "from my_gmaps import MyBidict#, my_Gmaps\n",
    "\n",
    "from collections import defaultdict\n",
    "from itertools import chain, product\n",
    "import logging"
   ]
  },
  {
   "cell_type": "code",
   "execution_count": 163,
   "metadata": {},
   "outputs": [],
   "source": [
    "# export\n",
    "\n",
    "class dict_nGmap:\n",
    "    \n",
    "    def __init__(self, n):\n",
    "        \n",
    "        self.n = n\n",
    "        \n",
    "        self.darts = set()\n",
    "        #self.alpha = [dict() for _ in range(n + 1)]\n",
    "        self.marks = defaultdict(lambda:defaultdict(lambda:False))\n",
    "        # self.marks[index][dart]\n",
    "        ##### Carmine #####\n",
    "\n",
    "        self.alpha = [dict() for _ in range(n + 1)]\n",
    "        \"\"\"\n",
    "        Variable to keep trace of levels that may be created applying removal/contraction operations.\n",
    "        In my opinion, I think it is possible to store only one variable like that to keep trace, for\n",
    "        each alpha, of the current level.\n",
    "        \"\"\"\n",
    "        self.level = 0\n",
    "\n",
    "        \"\"\"\n",
    "        We need a data structure to store the information about the history of the pyramid, in order\n",
    "        to reconstruct it.\n",
    "        \"\"\"\n",
    "        #self.levels = [[None]*(n+1) for _ in range(0, self.n + 1)]\n",
    "        #print(self.levels)\n",
    "        ##### Carmine #####\n",
    "        \n",
    "        self.taken_marks = {-1}\n",
    "        self.lowest_unused_dart_index = 0\n",
    "        \n",
    "    @classmethod\n",
    "    def from_string(cls, string):\n",
    "        lines = string.strip().split(\"\\n\")\n",
    "        lines = [[int(k) for k in l.split(\" \") if k != \"\"] for l in lines]\n",
    "    \n",
    "        return cls.from_list_of_lists(lines)\n",
    "        \n",
    "    @classmethod    \n",
    "    def from_list_of_lists(cls, ll):\n",
    "        n = len(ll) - 1\n",
    "        d = len(ll[0])\n",
    "        \n",
    "        darts = set(ll[0])\n",
    "        \n",
    "        assert all(set(l) == darts for l in ll)\n",
    "                \n",
    "        my_nGmap = cls(n)\n",
    "        my_nGmap.darts.update(darts)\n",
    "        \n",
    "        #for alpha, l in zip(my_nGmap.alpha, ll):\n",
    "        for alpha, l in zip(my_nGmap.alpha, ll):\n",
    "            for a, b in zip(sorted(darts), l):\n",
    "                alpha[a] = [b]\n",
    "                \n",
    "        my_nGmap.lowest_unused_dart_index = max(darts) + 1\n",
    "        \n",
    "        return my_nGmap\n",
    "    \n",
    "    @property\n",
    "    def is_valid(self):\n",
    "        \"\"\"\n",
    "        checks condition 2 and 3 from definition 1\n",
    "        (condition 1 is always true as a computer probably has finite memory)\n",
    "        \"\"\"\n",
    "        for dart in self.darts:\n",
    "            for alpha in self.alpha:\n",
    "                if alpha[alpha[dart]] != dart:\n",
    "                    return False\n",
    "            for i in range(0, self.n - 1): # n-1 not included\n",
    "                alpha1 = self.alpha[i]\n",
    "                for j in range(i + 2, self.n + 1): # n+1 again not included\n",
    "                    alpha2 = self.alpha[j]\n",
    "                    if alpha1[alpha2[alpha1[alpha2[dart]]]] != dart:\n",
    "                        return False\n",
    "        return True\n",
    "\n",
    "    @property\n",
    "    def is_valid_custom(self):\n",
    "\n",
    "        #print(f'alphas -> {self.alpha}')\n",
    "        for dart in self.darts:            \n",
    "            for alpha in self.alpha:\n",
    "                \n",
    "                if not alpha:\n",
    "                    continue\n",
    "\n",
    "                print(f'for -> alpha in is valid:\\n {alpha}')\n",
    "\n",
    "                try:\n",
    "                    x = next(item for item in alpha[dart] if item is not None)\n",
    "                    #print(f'I am in is valid:\\naplha[x] -> {alpha[x]}\\ndart -> {dart}')\n",
    "                    #if alpha[x] != dart:\n",
    "                    if dart not in alpha[x]:\n",
    "                        return False\n",
    "                except KeyError: # i should check if that handling is correct\n",
    "                    continue\n",
    "                \n",
    "            for i in range(0, self.n - 1): # n-1 not included\n",
    "                alpha1 = self.alpha[i]\n",
    "                for j in range(i + 2, self.n + 1): # n+1 again not included\n",
    "                    alpha2 = self.alpha[j]\n",
    "                    print(f'I am in the last if of valid_custom\\nalpha2[dart] -> {alpha2[dart]}')\n",
    "                    y = alpha2[dart][0]\n",
    "                    print(f'y -> {alpha1[y]}')\n",
    "                    if alpha1[alpha2[alpha1[y]]] != dart:\n",
    "                        return False\n",
    "\n",
    "        ##### Carmine #####\n",
    "        #print(f'\\nALPHA[0] -> {self.alpha[0]}')\n",
    "        #print(f'\\nALPHA[1] -> {self.alpha[1]}')\n",
    "        #print(f'\\nALPHA[2] -> {self.alpha[2]}')\n",
    "        ##### Carmine #####\n",
    "        return True\n",
    "    \n",
    "    def reserve_mark(self):\n",
    "        \"\"\"\n",
    "        algorithm 2\n",
    "        \"\"\"\n",
    "        i = max(self.taken_marks) + 1\n",
    "        self.taken_marks.add(i)\n",
    "        return i\n",
    "    \n",
    "    def free_mark(self, i):\n",
    "        \"\"\"\n",
    "        algorithm 3\n",
    "        also includes deleting all these marks, making it safe to call everytime\n",
    "        \"\"\"\n",
    "        del self.marks[i]\n",
    "        self.taken_marks.remove(i)    \n",
    "    \n",
    "    def is_marked(self, d, i):\n",
    "        \"\"\"\n",
    "        algorithm 4\n",
    "        d ... dart\n",
    "        i ... mark index\n",
    "        \"\"\"\n",
    "        return self.marks[i][d]\n",
    "    \n",
    "    def mark(self, d, i):\n",
    "        \"\"\"\n",
    "        algorithm 5\n",
    "        d ... dart\n",
    "        i ... mark index\n",
    "        \"\"\"\n",
    "        self.marks[i][d] = True\n",
    "        \n",
    "    def unmark(self, d, i):\n",
    "        \"\"\"\n",
    "        algorithm 6\n",
    "        d ... dart\n",
    "        i ... mark index\n",
    "        \"\"\"\n",
    "        # same as bla = False\n",
    "        del self.marks[i][d]\n",
    "    \n",
    "    def mark_all(self, i):\n",
    "        for d in self.darts:\n",
    "            self.mark(d, i)\n",
    "    \n",
    "    def unmark_all(self, i):\n",
    "        del self.marks[i]\n",
    "    \n",
    "    def ai(self, i, d):\n",
    "        print(f'alpha[{i}] -> {self.alpha[i]}')\n",
    "        #print(f'ciao sono qui in ai -> {self.alpha[i][d]}')\n",
    "        return self.alpha[i][d][0]\n",
    "    \n",
    "    def set_ai(self, i, d, d1):\n",
    "        assert 0 <= i <= self.n\n",
    "        ##### Carmine #####\n",
    "\n",
    "        #print(f'd = {d}\\nd1 = {d1}')\n",
    "        \"\"\"\n",
    "        I am inserting at position (self.level - 1) within self.levels, the dart d1.\n",
    "        \"\"\"\n",
    "        #self.levels.insert(self.level - 1, d1)\n",
    "        print(f'\\ncurrent level: {self.level} in the function set_ai')\n",
    "        \"\"\"\n",
    "        With alpha[i] we are selecting the alpha we have to modify by inserting the new information.\n",
    "        \"\"\"\n",
    "        if d in self.alpha[i]:\n",
    "            self.alpha[i][d].insert(self.level - 1, d1)\n",
    "        else:\n",
    "            \"\"\" the next line of the code is necessary because, otherwise, i cannot insert \n",
    "                in a certain position within the list. So, I had to create a list with None values\n",
    "                of size n. The size is n because at the moment I do not have idea of how to set \n",
    "                the fixed size. Basically, the size of the list should be log(n), at most.\n",
    "            \"\"\"\n",
    "            self.alpha[i][d] = [None] * self.n\n",
    "            self.alpha[i][d].insert(self.level - 1, d1)\n",
    "\n",
    "        ''' self.custom_alpha[i] = [d]\n",
    "        \n",
    "\n",
    "        self.custom_alpha[i][d].insert(self.level - 1, d1)\n",
    " '''\n",
    "        #print(f'\\nList of levels: {self.levels}')\n",
    "        #print(f'\\nAlphas: {self.alpha[i]}')\n",
    "        ##### Carmine #####\n",
    "        #self.alpha[i][d] = d1\n",
    "        \n",
    "    def _remove_dart(self, d):\n",
    "        self.darts.remove(d)\n",
    "        for i in self.all_dimensions:\n",
    "            del self.alpha[i][d]\n",
    "    \n",
    "    def orbit(self, sequence, d):\n",
    "        \"\"\"\n",
    "        algorithm 7\n",
    "        sequence ... valid list of dimensional indices\n",
    "        d ... dart\n",
    "        \"\"\"\n",
    "        ma = self.reserve_mark()\n",
    "        self.mark_orbit(sequence, d, ma)\n",
    "        orbit = self.marks[ma].keys()\n",
    "        self.free_mark(ma)\n",
    "        return orbit\n",
    "    \n",
    "    def mark_orbit(self, sequence, d, ma):\n",
    "        \"\"\"\n",
    "        used as in algorithm 7 and 8 etc...\n",
    "        sequence ... valid list of dimension indices\n",
    "        d ... dart\n",
    "        ma ... mark to use\n",
    "        \"\"\"\n",
    "        P = [d]\n",
    "        self.mark(d, ma)\n",
    "        while P:\n",
    "            cur = P.pop()\n",
    "            for i in sequence:\n",
    "                #next((item for item in a if item is not None), 'All are Nones')\n",
    "                #print(f'\\nalpha -> {self.alpha[i]}')\n",
    "                try:\n",
    "                    other = next((item for item in self.alpha[i][cur] if item is not None))\n",
    "                except:\n",
    "                    continue\n",
    "                #print(f'cur = {cur}')\n",
    "                #print(f'self.alpha[i][cur] = {self.alpha[i][cur]}')\n",
    "                #other = self.custom_alpha[i][cur]\n",
    "                if not self.is_marked(other, ma):\n",
    "                    self.mark(other, ma)\n",
    "                    P.append(other)\n",
    "    \n",
    "    def cell_i(self, i, dart):\n",
    "        \"\"\"iterator over i-cell of a given dart\"\"\"\n",
    "        return self.orbit(self.all_dimensions_but_i(i), dart)\n",
    "\n",
    "    def cell_0(self, dart):\n",
    "        return self.cell_i(0, dart)\n",
    "    def cell_1(self, dart):\n",
    "        return self.cell_i(1, dart)\n",
    "    def cell_2(self, dart):\n",
    "        return self.cell_i(2, dart)\n",
    "    def cell_3(self, dart):\n",
    "        return self.cell_i(3, dart)\n",
    "    def cell_4(self, dart):\n",
    "        return self.cell_i(4, dart)\n",
    "    \n",
    "    def no_i_cells (self, i=None):\n",
    "        \"\"\"\n",
    "        Counts\n",
    "            i-cells,             if 0 <= i <= n\n",
    "            connected components if i is None\n",
    "        \"\"\"\n",
    "        assert i is None or 0 <= i <= self.n\n",
    "        # return more_itertools.ilen (self.darts_of_i_cells(i))\n",
    "        return sum ((1 for d in self.darts_of_i_cells(i)))\n",
    "\n",
    "    @property\n",
    "    def no_0_cells (self): return self.no_i_cells (0)\n",
    "    @property\n",
    "    def no_1_cells (self): return self.no_i_cells (1)\n",
    "    @property\n",
    "    def no_2_cells (self): return self.no_i_cells (2)\n",
    "    @property\n",
    "    def no_3_cells (self): return self.no_i_cells (3)\n",
    "    @property\n",
    "    def no_4_cells (self): return self.no_i_cells (4)\n",
    "    @property\n",
    "    def no_ccs     (self): return self.no_i_cells ( )\n",
    "    \n",
    "    def darts_of_i_cells(self, i = None):\n",
    "        \"\"\"\n",
    "        algorithm 8\n",
    "        \"\"\"\n",
    "        ma = self.reserve_mark()\n",
    "        try:\n",
    "            for d in self.darts:\n",
    "                if not self.is_marked(d, ma):\n",
    "                    yield d\n",
    "                    self.mark_orbit(self.all_dimensions_but_i(i), d, ma)\n",
    "        finally:\n",
    "            self.free_mark(ma)\n",
    "    \n",
    "    def all_i_cells(self, i = None):\n",
    "        for d in self.darts_of_i_cells(i):\n",
    "            yield self.cell_i(i, d)\n",
    "    \n",
    "    def all_conected_components(self):\n",
    "        return self.all_i_cells()\n",
    "    \n",
    "    def darts_of_i_cells_incident_to_j_cell(self, d, i, j):\n",
    "        \"\"\"\n",
    "        algorithm 9\n",
    "        \"\"\"\n",
    "        assert i != j\n",
    "        ma = self.reserve_mark()\n",
    "        try:\n",
    "            for e in self.orbit(self.all_dimensions_but_i(j), d):\n",
    "                if not self.is_marked(e, ma):\n",
    "                    yield e\n",
    "                    self.mark_orbit(self.all_dimensions_but_i(j), e, ma)\n",
    "        finally:\n",
    "            self.free_mark(ma)\n",
    "        \n",
    "    def darts_of_i_cells_adjacent_to_i_cell(self, d, i):\n",
    "        \"\"\"\n",
    "        algorithm 10\n",
    "        \"\"\"\n",
    "        ma = self.reserve_mark()\n",
    "        try:\n",
    "            for e in self.orbit(self.all_dimensions_but_i(i), d):\n",
    "                f = self.alpha[i][e]\n",
    "                if not self.is_marked(f, ma):\n",
    "                    yield f\n",
    "                    self.mark_orbit(self.all_dimensions_but_i(i), f, ma)\n",
    "        finally:\n",
    "            self.free_mark(ma)\n",
    "        \n",
    "    def all_dimensions_but_i (self, i=None):\n",
    "        \"\"\"Return a sorted sequence [0,...,n], without i, if 0 <= i <= n\"\"\"\n",
    "        assert i is None or 0 <= i <= self.n\n",
    "        return [j for j in range (self.n+1) if j != i]\n",
    "    \n",
    "    @property\n",
    "    def all_dimensions(self):\n",
    "        return self.all_dimensions_but_i()\n",
    "    \n",
    "    def is_i_free(self, i, d):\n",
    "        \"\"\"\n",
    "        definiton 2 / algorithm 11\n",
    "        \"\"\"\n",
    "        return self.alpha[i][d] == d\n",
    "        \n",
    "    def is_i_sewn_with(self, i, d):\n",
    "        \"\"\"\n",
    "        definiton 2\n",
    "        \"\"\"\n",
    "        d2 = self.alpha[i][d]\n",
    "        return d != d2, d2\n",
    "    \n",
    "    def create_dart(self):\n",
    "        \"\"\"\n",
    "        algorithm 12\n",
    "        \"\"\"\n",
    "        d = self.lowest_unused_dart_index\n",
    "        self.lowest_unused_dart_index += 1\n",
    "        self.darts.add(d)\n",
    "        for alpha in self.alpha:\n",
    "            alpha[d] = d\n",
    "        return d\n",
    "    \n",
    "    def remove_isolated_dart(self, d):\n",
    "        \"\"\"\n",
    "        algorithm 13\n",
    "        \"\"\"\n",
    "        assert self.is_isolated(d)\n",
    "        self.remove_isolated_dart_no_assert(d)\n",
    "        \n",
    "    def remove_isolated_dart_no_assert(self, d):\n",
    "        self.darts.remove(d)\n",
    "        for alpha in self.alpha:\n",
    "            del alpha[d]\n",
    "    \n",
    "    def is_isolated(self, d):\n",
    "        for i in range(self.n + 1):\n",
    "            if not self.is_i_free(i, d):\n",
    "                return False\n",
    "        return True\n",
    "    \n",
    "    def increase_dim(self):\n",
    "        \"\"\"\n",
    "        algorithm 15 in place\n",
    "        \"\"\"\n",
    "        self.n += 1\n",
    "        self.alpha.append(dict((d,d) for d in self.darts))\n",
    "        \n",
    "    def decrease_dim(self):\n",
    "        \"\"\"\n",
    "        algorithm 16 in place\n",
    "        \"\"\"\n",
    "        assert all(self.is_i_free(self.n, d) for d in self.darts)\n",
    "        self.decrease_dim_no_assert()\n",
    "    \n",
    "    def decrease_dim_no_assert(self):\n",
    "        del self.alpha[self.n]\n",
    "        self.n -= 1\n",
    "    \n",
    "    def index_shift(self, by):\n",
    "        self.darts = {d + by for d in self.darts}\n",
    "        self.alpha = [{k + by : v + by for k, v in a.items()} for a in self.alpha]\n",
    "        #print(f'alpha: {self.alpha}')\n",
    "        for mark in self.marks:\n",
    "            new_dict = {key + by : value for key, value in self.marks[mark].items()}\n",
    "            self.marks[mark].clear()\n",
    "            self.marks[mark].update(new_dict) #this is done to preserve default dicts\n",
    "        self.lowest_unused_dart_index += by\n",
    "        \n",
    "    def merge(self, other):\n",
    "        \"\"\"\n",
    "        algorithm 17 in place\n",
    "        \"\"\"\n",
    "        assert self.n == other.n\n",
    "        self.taken_marks.update(other.taken_marks)\n",
    "        shift = max(self.darts) - min(other.darts) + 1\n",
    "        other.index_shift(shift)\n",
    "        \n",
    "        self.darts.update(other.darts)\n",
    "        print(f'alpha: {self.alpha}\\nother: {other.alpha}\\n')\n",
    "        for sa, oa in zip(self.alpha, other.alpha):\n",
    "            sa.update(oa)\n",
    "            print(f'sa: {sa}\\n')\n",
    "            print(f'oa: {oa}\\n')\n",
    "        for mk in other.marks:\n",
    "            self.marks[mk].update(other.marks[mk])\n",
    "        self.taken_marks.update(other.taken_marks)\n",
    "        self.lowest_unused_dart_index = other.lowest_unused_dart_index\n",
    "        \n",
    "    def restrict(self, D):\n",
    "        \"\"\"\n",
    "        algorithm 18\n",
    "        \"\"\"\n",
    "        raise NotImplementedError #boring\n",
    "    \n",
    "    def sew_seq(self, i):\n",
    "        \"\"\"\n",
    "        indices used in the sewing operations\n",
    "        (0, ..., i - 2, i + 2, ..., n)\n",
    "        \"\"\"\n",
    "        return chain(range(0, i - 1), range(i + 2, self.n + 1))\n",
    "    \n",
    "    def sewable(self, d1, d2, i):\n",
    "        \"\"\"\n",
    "        algorithm 19\n",
    "        tests wether darts d1, d2 are sewable along i\n",
    "        returns bool\n",
    "        \"\"\"\n",
    "        if d1 == d2 or not self.is_i_free(i, d1) or not self.is_i_free(i, d2):\n",
    "            return False\n",
    "        try:\n",
    "            f = dict()\n",
    "            for d11, d22 in strict_zip(self.orbit(self.sew_seq(i), d1), self.orbit(self.sew_seq(i), d2), strict = True):\n",
    "                f[d11] = d22\n",
    "                for j in self.sew_seq(i):\n",
    "                    if self.alpha[j][d11] in f and f[self.alpha[j][d11]] != self.alpha[j][d22]:\n",
    "                        return False\n",
    "        except ValueError: #iterators not same length\n",
    "            return False\n",
    "        return True\n",
    "    \n",
    "    def sew(self, d1, d2, i):\n",
    "        \"\"\"\n",
    "        algorithm 20\n",
    "        \"\"\"\n",
    "        assert self.sewable(d1, d2, i)\n",
    "        self.sew_no_assert(d1, d2, i)\n",
    "        \n",
    "    def sew_no_assert(self, d1, d2, i):\n",
    "        for e1, e2 in strict_zip(self.orbit(self.sew_seq(i), d1), self.orbit(self.sew_seq(i), d2), strict = True):\n",
    "            self.alpha[i][e1] = e2\n",
    "            self.alpha[i][e2] = e1\n",
    "    \n",
    "    def unsew(self, d, i):\n",
    "        \"\"\"\n",
    "        algorithm 21\n",
    "        \"\"\"\n",
    "        assert not self.is_i_free(i, d)\n",
    "        for e in self.orbit(self.sew_seq(i), d):\n",
    "            f = self.alpha[i][e]\n",
    "            self.alpha[i][f] = f\n",
    "            print(self.alpha[i][f])\n",
    "            self.alpha[i][e] = e\n",
    "            print(self.alpha[i][e])\n",
    "    \n",
    "    def incident (self, i, d1, j, d2):\n",
    "        \"\"\"\n",
    "        checks wether the i-cell of d1 is incident to the j-cell of d2\n",
    "        \"\"\"\n",
    "        for e1, e2 in product(self.cell_i(i, d1), self.cell_i(j, d2)):\n",
    "            if e1 == e2:\n",
    "                return True\n",
    "        return False\n",
    "    \n",
    "    def adjacent(self, i, d1, d2):\n",
    "        \"\"\"\n",
    "        checks wether the i-cell of d1 is adjacent to the i-cell of d2\n",
    "        \"\"\"\n",
    "        first_cell = self.cell_i(i, d1)\n",
    "        second_cell = set(self.cell_i(i, d2))\n",
    "        for d in first_cell:\n",
    "            if self.alpha[i][d] in second_cell:\n",
    "                return True\n",
    "        return False\n",
    "    \n",
    "    # Contractablilty & Removability\n",
    "    \n",
    "    def _is_i_removable_or_contractible(self, i, dart, rc):\n",
    "        \"\"\"\n",
    "        Test if an i-cell of dart is removable/contractible:\n",
    "\n",
    "        i    ... i-cell\n",
    "        dart ... dart\n",
    "        rc   ... +1 => removable test, -1 => contractible test\n",
    "        \"\"\"\n",
    "        #print(f'dart -> {dart}')\n",
    "        #print(f'set_darts -> {self.darts}')\n",
    "\n",
    "        assert dart in self.darts\n",
    "        assert 0 <= i <= self.n\n",
    "        assert rc in {-1, +1}\n",
    "\n",
    "        if rc == +1:  # removable test\n",
    "            if i == self.n  : return False\n",
    "            if i == self.n-1: return True\n",
    "        if rc == -1:  # contractible test\n",
    "            if i == 0: return False\n",
    "            if i == 1: return True\n",
    "        \n",
    "        #next((item for item in a if item is not None), 'All are Nones')\n",
    "        for d in self.cell_i(i, dart):\n",
    "            #print(f'in is removable -> {self.alpha[i+rc+rc][d]}')\n",
    "            if self.alpha[i+rc][self.alpha[i+rc+rc][d][0]] != self.alpha[i+rc+rc][self.alpha[i+rc][d][0]]:\n",
    "                return False\n",
    "        return True\n",
    "\n",
    "    def is_i_removable(self, i, dart):\n",
    "        \"\"\"True if i-cell of dart can be removed\"\"\"\n",
    "        return self._is_i_removable_or_contractible(i, dart, rc=+1)\n",
    "\n",
    "    def is_i_contractible(self, i, dart):\n",
    "        \"\"\"True if i-cell of dart can be contracted\"\"\"\n",
    "        return self._is_i_removable_or_contractible(i, dart, rc=-1)\n",
    "    \n",
    "    def _i_remove_contract(self, i, dart, rc, skip_check=False):\n",
    "        \"\"\"\n",
    "        Remove / contract an i-cell of dart\n",
    "        d  ... dart\n",
    "        i  ... i-cell\n",
    "        rc ... +1 => remove, -1 => contract\n",
    "        skip_check ... set to True if you are sure you can remove / contract the i-cell\n",
    "        \"\"\"\n",
    "        logging.debug (f'{\"Remove\" if rc == 1 else \"Contract\"} {i}-Cell of dart {dart}')\n",
    "\n",
    "        if not skip_check:\n",
    "            assert self._is_i_removable_or_contractible(i, dart, rc),\\\n",
    "                f'{i}-cell of dart {dart} is not {\"removable\" if rc == 1 else \"contractible\"}!'\n",
    "\n",
    "        i_cell = set(self.cell_i(i, dart))  # mark all the darts in ci(d)\n",
    "        logging.debug (f'\\n{i}-cell to be removed {i_cell}')\n",
    "        for d in i_cell:\n",
    "            d1 = self.ai (i,d) # d1 ← d.Alphas[i];\n",
    "            #print(f'd1 : {d1}')\n",
    "            if d1 not in i_cell:  # if not isMarkedNself(d1,ma) then\n",
    "                # d2 ← d.Alphas[i + 1].Alphas[i];\n",
    "                d2 = self.ai (i+rc,d)\n",
    "                d2 = self.ai (i   ,d2)\n",
    "                while d2 in i_cell: # while isMarkedNself(d2,ma) do\n",
    "                    # d2 ← d.Alphas[i + 1].Alphas[i];\n",
    "                    d2 = self.ai (i+rc,d2)\n",
    "                    d2 = self.ai (i   ,d2)\n",
    "                logging.debug (f'Modifying alpha_{i} of dart {d1} from {self.ai (i,d1)} to {d2}')\n",
    "                print(f'Modifying alpha_{i} of dart {d1} from {self.ai (i,d1)} to {d2}')\n",
    "                \n",
    "                \n",
    "                ##### Carmine #####\n",
    "                \"\"\"\n",
    "                We can increase the 'level' variable here because the check is skipped.\n",
    "                So, it means that the operation can be done.\n",
    "                \"\"\"\n",
    "                self.level += 1\n",
    "                print(f'\\ncurrent level: {self.level} in the function i_remove_contract')\n",
    "                ##### Carmine #####\n",
    "\n",
    "                self.set_ai(i,d1,d2) # d1.Alphas[i] ← d2;\n",
    "        for d in i_cell:  # foreach dart d' ∈ ci(d) do\n",
    "            self._remove_dart (d)  # remove d' from gm.Darts;\n",
    "    \n",
    "    def print_alpha(self, alpha_index, key_index, level_index):\n",
    "        return self.alpha[alpha_index][key_index][level_index - 1]\n",
    "\n",
    "    def print_all(self):\n",
    "        i = -1\n",
    "        for a in self.alpha:\n",
    "            i += 1\n",
    "            print(f'Alpha{i} -> {a}\\n')\n",
    "    \n",
    "    def _remove(self, i, dart, skip_check=False):\n",
    "        \"\"\"Remove i-cell of dart\"\"\"\n",
    "        self._i_remove_contract(i, dart, rc=+1, skip_check=skip_check)\n",
    "\n",
    "    def _contract(self, i, dart, skip_check=False):\n",
    "        \"\"\"Contract i-cell of dart\"\"\"\n",
    "        self._i_remove_contract(i, dart, rc=-1, skip_check=skip_check)\n",
    "\n",
    "    def __repr__(self):\n",
    "        out = f\"{self.n}dGmap of {len(self.darts)} darts:\\n\"\n",
    "        for i in range(self.n + 1):\n",
    "            out += f\" {i}-cells: {self.no_i_cells(i)}\\n\"\n",
    "        out += f\" ccs: {self.no_ccs}\"\n",
    "        return out\n",
    "    \n",
    "def strict_zip(arg1, arg2, strict = False):\n",
    "    \"\"\"\n",
    "    strict keyword for zip is only avaliable in python 3.10 which is still in alpha :(\n",
    "    \"\"\"\n",
    "    assert strict == True\n",
    "    arg1 = list(arg1)\n",
    "    arg2 = list(arg2)\n",
    "    if len(arg1) == len(arg2):\n",
    "        return zip(arg1, arg2)\n",
    "    else:\n",
    "        raise ValueError\n",
    "\n",
    "    "
   ]
  },
  {
   "cell_type": "markdown",
   "metadata": {},
   "source": [
    "# Tests with a particular data structure"
   ]
  },
  {
   "cell_type": "code",
   "execution_count": 164,
   "metadata": {},
   "outputs": [
    {
     "data": {
      "text/plain": [
       "2dGmap of 12 darts:\n",
       " 0-cells: 6\n",
       " 1-cells: 6\n",
       " 2-cells: 2\n",
       " ccs: 2"
      ]
     },
     "execution_count": 164,
     "metadata": {},
     "output_type": "execute_result"
    }
   ],
   "source": [
    "from combinatorial.notebooks.combinatorial.zoo import G2_HOUSE_1, G2_TWO_TRIANGLES_1, G2_345_BOUNDED_1\n",
    "\n",
    "\n",
    "m = dict_nGmap.from_string(G2_TWO_TRIANGLES_1)\n",
    "\n",
    "m"
   ]
  },
  {
   "cell_type": "code",
   "execution_count": 165,
   "metadata": {},
   "outputs": [
    {
     "data": {
      "text/plain": [
       "[dict_keys([1, 6]),\n",
       " dict_keys([2, 3]),\n",
       " dict_keys([4, 5]),\n",
       " dict_keys([7, 12]),\n",
       " dict_keys([8, 9]),\n",
       " dict_keys([10, 11])]"
      ]
     },
     "execution_count": 165,
     "metadata": {},
     "output_type": "execute_result"
    }
   ],
   "source": [
    "list(m.all_i_cells(0))"
   ]
  },
  {
   "cell_type": "code",
   "execution_count": 166,
   "metadata": {},
   "outputs": [
    {
     "data": {
      "text/plain": [
       "[dict_keys([1, 2]),\n",
       " dict_keys([3, 4]),\n",
       " dict_keys([5, 6]),\n",
       " dict_keys([7, 8]),\n",
       " dict_keys([9, 10]),\n",
       " dict_keys([11, 12])]"
      ]
     },
     "execution_count": 166,
     "metadata": {},
     "output_type": "execute_result"
    }
   ],
   "source": [
    "list(m.all_i_cells(1))"
   ]
  },
  {
   "cell_type": "code",
   "execution_count": 167,
   "metadata": {},
   "outputs": [
    {
     "data": {
      "text/plain": [
       "[dict_keys([1, 2, 6, 5, 4, 3]), dict_keys([7, 8, 12, 11, 10, 9])]"
      ]
     },
     "execution_count": 167,
     "metadata": {},
     "output_type": "execute_result"
    }
   ],
   "source": [
    "list(m.all_i_cells(2))"
   ]
  },
  {
   "cell_type": "code",
   "execution_count": 168,
   "metadata": {},
   "outputs": [
    {
     "name": "stdout",
     "output_type": "stream",
     "text": [
      "alpha[0] -> {1: [2], 2: [1], 3: [4], 4: [3], 5: [6], 6: [5], 7: [8], 8: [7], 9: [10], 10: [9], 11: [12], 12: [11]}\n",
      "alpha[1] -> {1: [6], 2: [3], 3: [2], 4: [5], 5: [4], 6: [1], 7: [12], 8: [9], 9: [8], 10: [11], 11: [10], 12: [7]}\n",
      "alpha[0] -> {1: [2], 2: [1], 3: [4], 4: [3], 5: [6], 6: [5], 7: [8], 8: [7], 9: [10], 10: [9], 11: [12], 12: [11]}\n",
      "alpha[0] -> {1: [2], 2: [1], 3: [4], 4: [3], 5: [6], 6: [5], 7: [8], 8: [7], 9: [10], 10: [9], 11: [12], 12: [11]}\n",
      "alpha[0] -> {1: [2], 2: [1], 3: [4], 4: [3], 5: [6], 6: [5], 7: [8], 8: [7], 9: [10], 10: [9], 11: [12], 12: [11]}\n",
      "Modifying alpha_0 of dart 2 from 1 to 5\n",
      "\n",
      "current level: 1 in the function i_remove_contract\n",
      "\n",
      "current level: 1 in the function set_ai\n",
      "alpha[0] -> {1: [2], 2: [5, 1], 3: [4], 4: [3], 5: [6], 6: [5], 7: [8], 8: [7], 9: [10], 10: [9], 11: [12], 12: [11]}\n",
      "alpha[1] -> {1: [6], 2: [3], 3: [2], 4: [5], 5: [4], 6: [1], 7: [12], 8: [9], 9: [8], 10: [11], 11: [10], 12: [7]}\n",
      "alpha[0] -> {1: [2], 2: [5, 1], 3: [4], 4: [3], 5: [6], 6: [5], 7: [8], 8: [7], 9: [10], 10: [9], 11: [12], 12: [11]}\n",
      "alpha[0] -> {1: [2], 2: [5, 1], 3: [4], 4: [3], 5: [6], 6: [5], 7: [8], 8: [7], 9: [10], 10: [9], 11: [12], 12: [11]}\n",
      "alpha[0] -> {1: [2], 2: [5, 1], 3: [4], 4: [3], 5: [6], 6: [5], 7: [8], 8: [7], 9: [10], 10: [9], 11: [12], 12: [11]}\n",
      "Modifying alpha_0 of dart 5 from 6 to 2\n",
      "\n",
      "current level: 2 in the function i_remove_contract\n",
      "\n",
      "current level: 2 in the function set_ai\n",
      "for -> alpha in is valid:\n",
      " {2: [5, 1], 3: [4], 4: [3], 5: [6, 2], 7: [8], 8: [7], 9: [10], 10: [9], 11: [12], 12: [11]}\n",
      "for -> alpha in is valid:\n",
      " {2: [3], 3: [2], 4: [5], 5: [4], 7: [12], 8: [9], 9: [8], 10: [11], 11: [10], 12: [7]}\n",
      "for -> alpha in is valid:\n",
      " {2: [2], 3: [3], 4: [4], 5: [5], 7: [7], 8: [8], 9: [9], 10: [10], 11: [11], 12: [12]}\n",
      "I am in the last if of valid_custom\n",
      "alpha2[dart] -> [2]\n",
      "y -> [5, 1]\n"
     ]
    },
    {
     "ename": "TypeError",
     "evalue": "unhashable type: 'list'",
     "output_type": "error",
     "traceback": [
      "\u001b[1;31m---------------------------------------------------------------------------\u001b[0m",
      "\u001b[1;31mTypeError\u001b[0m                                 Traceback (most recent call last)",
      "\u001b[1;32m~\\AppData\\Local\\Temp/ipykernel_24972/1007562307.py\u001b[0m in \u001b[0;36m<module>\u001b[1;34m\u001b[0m\n\u001b[0;32m      1\u001b[0m \u001b[1;31m# Meaning of the parameters of the remove method: type of i-cell, dart\u001b[0m\u001b[1;33m\u001b[0m\u001b[1;33m\u001b[0m\u001b[1;33m\u001b[0m\u001b[0m\n\u001b[0;32m      2\u001b[0m \u001b[0mm\u001b[0m\u001b[1;33m.\u001b[0m\u001b[0m_remove\u001b[0m\u001b[1;33m(\u001b[0m\u001b[1;36m0\u001b[0m\u001b[1;33m,\u001b[0m \u001b[1;36m1\u001b[0m\u001b[1;33m)\u001b[0m\u001b[1;33m\u001b[0m\u001b[1;33m\u001b[0m\u001b[0m\n\u001b[1;32m----> 3\u001b[1;33m \u001b[0mm\u001b[0m\u001b[1;33m.\u001b[0m\u001b[0mis_valid_custom\u001b[0m\u001b[1;33m\u001b[0m\u001b[1;33m\u001b[0m\u001b[0m\n\u001b[0m",
      "\u001b[1;32m~\\AppData\\Local\\Temp/ipykernel_24972/1752439031.py\u001b[0m in \u001b[0;36mis_valid_custom\u001b[1;34m(self)\u001b[0m\n\u001b[0;32m    106\u001b[0m                     \u001b[0my\u001b[0m \u001b[1;33m=\u001b[0m \u001b[0malpha2\u001b[0m\u001b[1;33m[\u001b[0m\u001b[0mdart\u001b[0m\u001b[1;33m]\u001b[0m\u001b[1;33m[\u001b[0m\u001b[1;36m0\u001b[0m\u001b[1;33m]\u001b[0m\u001b[1;33m\u001b[0m\u001b[1;33m\u001b[0m\u001b[0m\n\u001b[0;32m    107\u001b[0m                     \u001b[0mprint\u001b[0m\u001b[1;33m(\u001b[0m\u001b[1;34mf'y -> {alpha1[y]}'\u001b[0m\u001b[1;33m)\u001b[0m\u001b[1;33m\u001b[0m\u001b[1;33m\u001b[0m\u001b[0m\n\u001b[1;32m--> 108\u001b[1;33m                     \u001b[1;32mif\u001b[0m \u001b[0malpha1\u001b[0m\u001b[1;33m[\u001b[0m\u001b[0malpha2\u001b[0m\u001b[1;33m[\u001b[0m\u001b[0malpha1\u001b[0m\u001b[1;33m[\u001b[0m\u001b[0my\u001b[0m\u001b[1;33m]\u001b[0m\u001b[1;33m]\u001b[0m\u001b[1;33m]\u001b[0m \u001b[1;33m!=\u001b[0m \u001b[0mdart\u001b[0m\u001b[1;33m:\u001b[0m\u001b[1;33m\u001b[0m\u001b[1;33m\u001b[0m\u001b[0m\n\u001b[0m\u001b[0;32m    109\u001b[0m                         \u001b[1;32mreturn\u001b[0m \u001b[1;32mFalse\u001b[0m\u001b[1;33m\u001b[0m\u001b[1;33m\u001b[0m\u001b[0m\n\u001b[0;32m    110\u001b[0m \u001b[1;33m\u001b[0m\u001b[0m\n",
      "\u001b[1;31mTypeError\u001b[0m: unhashable type: 'list'"
     ]
    }
   ],
   "source": [
    "# Meaning of the parameters of the remove method: type of i-cell, dart\n",
    "m._remove(0, 1)\n",
    "m.is_valid_custom"
   ]
  },
  {
   "cell_type": "code",
   "execution_count": null,
   "metadata": {},
   "outputs": [
    {
     "name": "stdout",
     "output_type": "stream",
     "text": [
      "alpha[0] -> {2: [5, 1], 3: [4], 4: [3], 5: [6, 2], 7: [8], 8: [7], 9: [10], 10: [9], 11: [12], 12: [11]}\n",
      "alpha[1] -> {2: [3], 3: [2], 4: [5], 5: [4], 7: [12], 8: [9], 9: [8], 10: [11], 11: [10], 12: [7]}\n",
      "alpha[0] -> {2: [5, 1], 3: [4], 4: [3], 5: [6, 2], 7: [8], 8: [7], 9: [10], 10: [9], 11: [12], 12: [11]}\n",
      "alpha[0] -> {2: [5, 1], 3: [4], 4: [3], 5: [6, 2], 7: [8], 8: [7], 9: [10], 10: [9], 11: [12], 12: [11]}\n",
      "alpha[0] -> {2: [5, 1], 3: [4], 4: [3], 5: [6, 2], 7: [8], 8: [7], 9: [10], 10: [9], 11: [12], 12: [11]}\n",
      "Modifying alpha_0 of dart 5 from 6 to 4\n",
      "\n",
      "current level: 3 in the function i_remove_contract\n",
      "\n",
      "current level: 3 in the function set_ai\n",
      "alpha[0] -> {2: [5, 1], 3: [4], 4: [3], 5: [6, 2, 4], 7: [8], 8: [7], 9: [10], 10: [9], 11: [12], 12: [11]}\n",
      "alpha[1] -> {2: [3], 3: [2], 4: [5], 5: [4], 7: [12], 8: [9], 9: [8], 10: [11], 11: [10], 12: [7]}\n",
      "alpha[0] -> {2: [5, 1], 3: [4], 4: [3], 5: [6, 2, 4], 7: [8], 8: [7], 9: [10], 10: [9], 11: [12], 12: [11]}\n",
      "alpha[0] -> {2: [5, 1], 3: [4], 4: [3], 5: [6, 2, 4], 7: [8], 8: [7], 9: [10], 10: [9], 11: [12], 12: [11]}\n",
      "alpha[0] -> {2: [5, 1], 3: [4], 4: [3], 5: [6, 2, 4], 7: [8], 8: [7], 9: [10], 10: [9], 11: [12], 12: [11]}\n",
      "Modifying alpha_0 of dart 4 from 3 to 5\n",
      "\n",
      "current level: 4 in the function i_remove_contract\n",
      "\n",
      "current level: 4 in the function set_ai\n",
      "for -> alpha in is valid:\n",
      " {4: [3, 5], 5: [6, 2, 4], 7: [8], 8: [7], 9: [10], 10: [9], 11: [12], 12: [11]}\n",
      "for -> alpha in is valid:\n",
      " {4: [5], 5: [4], 7: [12], 8: [9], 9: [8], 10: [11], 11: [10], 12: [7]}\n",
      "I am in is valid:\n",
      "aplha[x] -> [4]\n",
      "dart -> 4\n"
     ]
    },
    {
     "data": {
      "text/plain": [
       "False"
      ]
     },
     "execution_count": 98,
     "metadata": {},
     "output_type": "execute_result"
    }
   ],
   "source": [
    "m._remove(0, 2)\n",
    "m.is_valid_custom"
   ]
  },
  {
   "cell_type": "code",
   "execution_count": null,
   "metadata": {},
   "outputs": [
    {
     "name": "stdout",
     "output_type": "stream",
     "text": [
      "\n",
      "0-cells:\n",
      "\n",
      "1-cells:\n",
      "\n",
      "2-cells:\n"
     ]
    },
    {
     "data": {
      "text/plain": [
       "[dict_keys([4, 3, 5, 6]), dict_keys([7, 8, 12, 11, 10, 9])]"
      ]
     },
     "execution_count": 99,
     "metadata": {},
     "output_type": "execute_result"
    }
   ],
   "source": [
    "print('\\n0-cells:')\n",
    "list(m.all_i_cells(0))\n",
    "print('\\n1-cells:')\n",
    "list(m.all_i_cells(1))\n",
    "print('\\n2-cells:')\n",
    "list(m.all_i_cells(2))"
   ]
  },
  {
   "cell_type": "code",
   "execution_count": null,
   "metadata": {},
   "outputs": [
    {
     "data": {
      "text/plain": [
       "2dGmap of 8 darts:\n",
       " 0-cells: 4\n",
       " 1-cells: 5\n",
       " 2-cells: 2\n",
       " ccs: 2"
      ]
     },
     "execution_count": 100,
     "metadata": {},
     "output_type": "execute_result"
    }
   ],
   "source": [
    "m"
   ]
  },
  {
   "cell_type": "code",
   "execution_count": null,
   "metadata": {},
   "outputs": [
    {
     "name": "stdout",
     "output_type": "stream",
     "text": [
      "alpha[1] -> {4: [5], 5: [4], 7: [12], 8: [9], 9: [8], 10: [11], 11: [10], 12: [7]}\n",
      "alpha[2] -> {4: [4], 5: [5], 7: [7], 8: [8], 9: [9], 10: [10], 11: [11], 12: [12]}\n",
      "alpha[1] -> {4: [5], 5: [4], 7: [12], 8: [9], 9: [8], 10: [11], 11: [10], 12: [7]}\n",
      "alpha[1] -> {4: [5], 5: [4], 7: [12], 8: [9], 9: [8], 10: [11], 11: [10], 12: [7]}\n",
      "alpha[1] -> {4: [5], 5: [4], 7: [12], 8: [9], 9: [8], 10: [11], 11: [10], 12: [7]}\n",
      "Modifying alpha_1 of dart 9 from 8 to 9\n",
      "\n",
      "current level: 5 in the function i_remove_contract\n",
      "\n",
      "current level: 5 in the function set_ai\n",
      "alpha[1] -> {4: [5], 5: [4], 7: [12], 8: [9], 9: [8, 9], 10: [11], 11: [10], 12: [7]}\n",
      "alpha[2] -> {4: [4], 5: [5], 7: [7], 8: [8], 9: [9], 10: [10], 11: [11], 12: [12]}\n",
      "alpha[1] -> {4: [5], 5: [4], 7: [12], 8: [9], 9: [8, 9], 10: [11], 11: [10], 12: [7]}\n",
      "alpha[1] -> {4: [5], 5: [4], 7: [12], 8: [9], 9: [8, 9], 10: [11], 11: [10], 12: [7]}\n",
      "alpha[1] -> {4: [5], 5: [4], 7: [12], 8: [9], 9: [8, 9], 10: [11], 11: [10], 12: [7]}\n",
      "Modifying alpha_1 of dart 12 from 7 to 12\n",
      "\n",
      "current level: 6 in the function i_remove_contract\n",
      "\n",
      "current level: 6 in the function set_ai\n",
      "for -> alpha in is valid:\n",
      " {4: [3, 5], 5: [6, 2, 4], 9: [10], 10: [9], 11: [12], 12: [11]}\n",
      "for -> alpha in is valid:\n",
      " {4: [5], 5: [4], 9: [8, 9], 10: [11], 11: [10], 12: [7, 12]}\n",
      "I am in is valid:\n",
      "aplha[x] -> [4]\n",
      "dart -> 4\n"
     ]
    },
    {
     "data": {
      "text/plain": [
       "False"
      ]
     },
     "execution_count": 101,
     "metadata": {},
     "output_type": "execute_result"
    }
   ],
   "source": [
    "m._remove(1, 7)\n",
    "m.is_valid_custom"
   ]
  },
  {
   "cell_type": "code",
   "execution_count": null,
   "metadata": {},
   "outputs": [
    {
     "name": "stdout",
     "output_type": "stream",
     "text": [
      "Alpha0 -> {4: [3, 5], 5: [6, 2, 4], 9: [10], 10: [9], 11: [12], 12: [11]}\n",
      "\n",
      "Alpha1 -> {4: [5], 5: [4], 9: [8, 9], 10: [11], 11: [10], 12: [7, 12]}\n",
      "\n",
      "Alpha2 -> {4: [4], 5: [5], 9: [9], 10: [10], 11: [11], 12: [12]}\n",
      "\n"
     ]
    }
   ],
   "source": [
    "m.print_all()"
   ]
  },
  {
   "cell_type": "code",
   "execution_count": null,
   "metadata": {},
   "outputs": [
    {
     "data": {
      "text/plain": [
       "2"
      ]
     },
     "execution_count": 103,
     "metadata": {},
     "output_type": "execute_result"
    }
   ],
   "source": [
    "#alpha_index, key_index, level_index\n",
    "m.print_alpha(0, 5, 2)"
   ]
  },
  {
   "cell_type": "markdown",
   "metadata": {},
   "source": [
    "# Some toy tests"
   ]
  },
  {
   "cell_type": "code",
   "execution_count": null,
   "metadata": {},
   "outputs": [],
   "source": [
    "n = 2\n",
    "alpha = [MyBidict() for _ in range(n + 1)]"
   ]
  },
  {
   "cell_type": "code",
   "execution_count": null,
   "metadata": {},
   "outputs": [],
   "source": [
    "alpha = [MyBidict({1: 2, 2: 1, 3: 4, 4: 3})]"
   ]
  },
  {
   "cell_type": "code",
   "execution_count": null,
   "metadata": {},
   "outputs": [],
   "source": [
    "alpha.append(MyBidict({1: 2, 2: 1, 3: 4, 4: 3}))"
   ]
  },
  {
   "cell_type": "code",
   "execution_count": null,
   "metadata": {},
   "outputs": [],
   "source": [
    "alpha.append(MyBidict({1: 2, 2: 1, 3: 4, 4: 3}))"
   ]
  },
  {
   "cell_type": "code",
   "execution_count": null,
   "metadata": {},
   "outputs": [
    {
     "name": "stdout",
     "output_type": "stream",
     "text": [
      "{1: [2], 2: [1], 3: [4], 4: [3]}\n"
     ]
    }
   ],
   "source": [
    "print(alpha[0].get_normal_dict())"
   ]
  },
  {
   "cell_type": "code",
   "execution_count": null,
   "metadata": {},
   "outputs": [],
   "source": [
    "my_set = {1, 2, 3}"
   ]
  },
  {
   "cell_type": "code",
   "execution_count": null,
   "metadata": {},
   "outputs": [],
   "source": [
    "def initialize():\n",
    "    init_dict = dict()\n",
    "    for d in my_set:\n",
    "        init_dict[d] = d\n",
    "\n",
    "    return init_dict"
   ]
  },
  {
   "cell_type": "code",
   "execution_count": null,
   "metadata": {},
   "outputs": [
    {
     "name": "stdout",
     "output_type": "stream",
     "text": [
      "{1: 1, 2: 2, 3: 3}\n",
      "<class 'list'>\n"
     ]
    }
   ],
   "source": [
    "init_dict = initialize()\n",
    "print(init_dict)\n",
    "alpha.append(MyBidict(init_dict))\n",
    "\n",
    "print(type(alpha))\n"
   ]
  },
  {
   "cell_type": "code",
   "execution_count": null,
   "metadata": {},
   "outputs": [
    {
     "name": "stdout",
     "output_type": "stream",
     "text": [
      "4\n",
      "{1: [1], 2: [2], 3: [3]}\n"
     ]
    }
   ],
   "source": [
    "print(len(alpha))\n",
    "print(alpha[3].get_normal_dict())"
   ]
  },
  {
   "cell_type": "code",
   "execution_count": null,
   "metadata": {},
   "outputs": [
    {
     "data": {
      "text/plain": [
       "\" by = 24\\nfor a in alpha:\\n    for k, v, in a.get_normal_dict().items():\\n        #print(f'k: {k}')\\n        #print(f'v: {v[0]} -> type: {type(v[0])}')\\n        #print(f'by: {by}')\\n        alpha = {k+by : v[0]+by} \""
      ]
     },
     "execution_count": 113,
     "metadata": {},
     "output_type": "execute_result"
    }
   ],
   "source": [
    "''' by = 24\n",
    "for a in alpha:\n",
    "    for k, v, in a.get_normal_dict().items():\n",
    "        #print(f'k: {k}')\n",
    "        #print(f'v: {v[0]} -> type: {type(v[0])}')\n",
    "        #print(f'by: {by}')\n",
    "        alpha = {k+by : v[0]+by} '''"
   ]
  },
  {
   "cell_type": "code",
   "execution_count": null,
   "metadata": {},
   "outputs": [],
   "source": [
    "alpha2 = [MyBidict({4: 5, 6: 7, 8: 4, 1: 3})]"
   ]
  },
  {
   "cell_type": "code",
   "execution_count": null,
   "metadata": {},
   "outputs": [],
   "source": [
    "alpha2.append(MyBidict({20: 8, 23: 18, 35: 46, 48: 39}))"
   ]
  },
  {
   "cell_type": "code",
   "execution_count": null,
   "metadata": {},
   "outputs": [],
   "source": [
    "alpha2.append(MyBidict({50: 81, 27: 14, 36: 35, 36: 25}))"
   ]
  },
  {
   "cell_type": "code",
   "execution_count": null,
   "metadata": {},
   "outputs": [
    {
     "name": "stdout",
     "output_type": "stream",
     "text": [
      "<my_gmaps.MyBidict object at 0x0000021F992157F0>\n"
     ]
    }
   ],
   "source": [
    "print(alpha2[0])"
   ]
  },
  {
   "cell_type": "code",
   "execution_count": null,
   "metadata": {},
   "outputs": [
    {
     "name": "stdout",
     "output_type": "stream",
     "text": [
      "[<my_gmaps.MyBidict object at 0x0000021FA8675040>, <my_gmaps.MyBidict object at 0x0000021F99215250>, <my_gmaps.MyBidict object at 0x0000021FA8675220>, <my_gmaps.MyBidict object at 0x0000021F99215550>]\n",
      "[<my_gmaps.MyBidict object at 0x0000021F992157F0>, <my_gmaps.MyBidict object at 0x0000021F991BB1F0>, <my_gmaps.MyBidict object at 0x0000021F992152E0>]\n"
     ]
    }
   ],
   "source": [
    "print(alpha)\n",
    "print(alpha2) "
   ]
  },
  {
   "cell_type": "code",
   "execution_count": null,
   "metadata": {},
   "outputs": [
    {
     "name": "stdout",
     "output_type": "stream",
     "text": [
      "{1: [2], 2: [1], 3: [4], 4: [3]}\n",
      "{4: [5], 6: [7], 8: [4], 1: [3]}\n"
     ]
    },
    {
     "ename": "AttributeError",
     "evalue": "'MyBidict' object has no attribute 'update'",
     "output_type": "error",
     "traceback": [
      "\u001b[1;31m---------------------------------------------------------------------------\u001b[0m",
      "\u001b[1;31mAttributeError\u001b[0m                            Traceback (most recent call last)",
      "\u001b[1;32m~\\AppData\\Local\\Temp/ipykernel_24972/3848744361.py\u001b[0m in \u001b[0;36m<module>\u001b[1;34m\u001b[0m\n\u001b[0;32m      2\u001b[0m     \u001b[0mprint\u001b[0m\u001b[1;33m(\u001b[0m\u001b[0msa\u001b[0m\u001b[1;33m.\u001b[0m\u001b[0mget_normal_dict\u001b[0m\u001b[1;33m(\u001b[0m\u001b[1;33m)\u001b[0m\u001b[1;33m)\u001b[0m\u001b[1;33m\u001b[0m\u001b[1;33m\u001b[0m\u001b[0m\n\u001b[0;32m      3\u001b[0m     \u001b[0mprint\u001b[0m\u001b[1;33m(\u001b[0m\u001b[0moa\u001b[0m\u001b[1;33m.\u001b[0m\u001b[0mget_normal_dict\u001b[0m\u001b[1;33m(\u001b[0m\u001b[1;33m)\u001b[0m\u001b[1;33m)\u001b[0m\u001b[1;33m\u001b[0m\u001b[1;33m\u001b[0m\u001b[0m\n\u001b[1;32m----> 4\u001b[1;33m     \u001b[0msa\u001b[0m\u001b[1;33m.\u001b[0m\u001b[0mupdate\u001b[0m\u001b[1;33m(\u001b[0m\u001b[0moa\u001b[0m\u001b[1;33m)\u001b[0m\u001b[1;33m\u001b[0m\u001b[1;33m\u001b[0m\u001b[0m\n\u001b[0m\u001b[0;32m      5\u001b[0m \u001b[1;33m\u001b[0m\u001b[0m\n\u001b[0;32m      6\u001b[0m     \u001b[0mprint\u001b[0m\u001b[1;33m(\u001b[0m\u001b[1;34mf'sa: {sa}\\noa: {oa}'\u001b[0m\u001b[1;33m)\u001b[0m\u001b[1;33m\u001b[0m\u001b[1;33m\u001b[0m\u001b[0m\n",
      "\u001b[1;31mAttributeError\u001b[0m: 'MyBidict' object has no attribute 'update'"
     ]
    }
   ],
   "source": [
    "for sa, oa in zip(alpha, alpha2):\n",
    "    print(sa.get_normal_dict())\n",
    "    print(oa.get_normal_dict())\n",
    "    sa.update(oa)\n",
    "\n",
    "    print(f'sa: {sa}\\noa: {oa}')"
   ]
  },
  {
   "cell_type": "code",
   "execution_count": null,
   "metadata": {},
   "outputs": [],
   "source": [
    "set_1 = {'carmine':1, 'luca':2}\n",
    "set_2 = {'carmine':3}\n",
    "\n",
    "set_1.update(set_2)\n",
    "print(set_1)"
   ]
  },
  {
   "cell_type": "code",
   "execution_count": null,
   "metadata": {},
   "outputs": [],
   "source": [
    "print(alpha2[0].get_normal_dict())\n",
    "set_1 = {1:5, 4:80}\n",
    "\n",
    "intermediate_dict = alpha2[0].get_normal_dict()\n",
    "intermediate_dict.update(set_1)\n",
    "print(intermediate_dict)"
   ]
  }
 ],
 "metadata": {
  "interpreter": {
   "hash": "ec904cc508e64af8cc7b4019b8ba061516bb876417171e76154460a41879f546"
  },
  "kernelspec": {
   "display_name": "Python 3.8.9 64-bit ('venv_NC': venv)",
   "name": "python3"
  },
  "language_info": {
   "codemirror_mode": {
    "name": "ipython",
    "version": 3
   },
   "file_extension": ".py",
   "mimetype": "text/x-python",
   "name": "python",
   "nbconvert_exporter": "python",
   "pygments_lexer": "ipython3",
   "version": "3.8.9"
  },
  "orig_nbformat": 4
 },
 "nbformat": 4,
 "nbformat_minor": 2
}
