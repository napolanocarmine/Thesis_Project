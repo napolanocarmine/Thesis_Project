{
 "cells": [
  {
   "cell_type": "code",
   "execution_count": 326,
   "metadata": {},
   "outputs": [],
   "source": [
    "from combinatorial.notebooks.combinatorial.custom_gmaps import nGmap\n",
    "from combinatorial.notebooks.combinatorial.zoo import G2_SQUARE_BOUNDED\n",
    "from my_gmaps import MyBidict#, my_Gmaps\n",
    "\n",
    "from collections import defaultdict\n",
    "from itertools import chain, product\n",
    "import logging"
   ]
  },
  {
   "cell_type": "code",
   "execution_count": 327,
   "metadata": {},
   "outputs": [],
   "source": [
    "# export\n",
    "\n",
    "class dict_nGmap:\n",
    "    \n",
    "    def __init__(self, n):\n",
    "        \n",
    "        self.n = n\n",
    "        \n",
    "        self.darts = set()\n",
    "        #self.alpha = [dict() for _ in range(n + 1)]\n",
    "        self.marks = defaultdict(lambda:defaultdict(lambda:False))\n",
    "        # self.marks[index][dart]\n",
    "        ##### Carmine #####\n",
    "\n",
    "        self.alpha = [dict() for _ in range(n + 1)]\n",
    "        \"\"\"\n",
    "        Variable to keep trace of levels that may be created applying removal/contraction operations.\n",
    "        In my opinion, I think it is possible to store only one variable like that to keep trace, for\n",
    "        each alpha, of the current level.\n",
    "        \"\"\"\n",
    "        self.level = 0\n",
    "\n",
    "        \"\"\"\n",
    "        We need a data structure to store the information about the history of the pyramid, in order\n",
    "        to reconstruct it.\n",
    "        \"\"\"\n",
    "        #self.levels = [[None]*(n+1) for _ in range(0, self.n + 1)]\n",
    "        #print(self.levels)\n",
    "        ##### Carmine #####\n",
    "        \n",
    "        self.taken_marks = {-1}\n",
    "        self.lowest_unused_dart_index = 0\n",
    "        \n",
    "    @classmethod\n",
    "    def from_string(cls, string):\n",
    "        lines = string.strip().split(\"\\n\")\n",
    "        lines = [[int(k) for k in l.split(\" \") if k != \"\"] for l in lines]\n",
    "    \n",
    "        return cls.from_list_of_lists(lines)\n",
    "        \n",
    "    @classmethod    \n",
    "    def from_list_of_lists(cls, ll):\n",
    "        n = len(ll) - 1\n",
    "        d = len(ll[0])\n",
    "        \n",
    "        darts = set(ll[0])\n",
    "        \n",
    "        assert all(set(l) == darts for l in ll)\n",
    "                \n",
    "        my_nGmap = cls(n)\n",
    "        my_nGmap.darts.update(darts)\n",
    "        \n",
    "        #for alpha, l in zip(my_nGmap.alpha, ll):\n",
    "        for alpha, l in zip(my_nGmap.alpha, ll):\n",
    "            for a, b in zip(sorted(darts), l):\n",
    "                alpha[a] = [b]\n",
    "                \n",
    "        my_nGmap.lowest_unused_dart_index = max(darts) + 1\n",
    "        \n",
    "        return my_nGmap\n",
    "    \n",
    "    @property\n",
    "    def is_valid(self):\n",
    "        \"\"\"\n",
    "        checks condition 2 and 3 from definition 1\n",
    "        (condition 1 is always true as a computer probably has finite memory)\n",
    "        \"\"\"\n",
    "        for dart in self.darts:\n",
    "            for alpha in self.alpha:\n",
    "                if alpha[alpha[dart]] != dart:\n",
    "                    return False\n",
    "            for i in range(0, self.n - 1): # n-1 not included\n",
    "                alpha1 = self.alpha[i]\n",
    "                for j in range(i + 2, self.n + 1): # n+1 again not included\n",
    "                    alpha2 = self.alpha[j]\n",
    "                    if alpha1[alpha2[alpha1[alpha2[dart]]]] != dart:\n",
    "                        return False\n",
    "        return True\n",
    "\n",
    "    @property\n",
    "    def is_valid_custom(self):\n",
    "\n",
    "        print(f'\\n##### IS_VALID_CUSTOM #####')\n",
    "        #self.print_all()\n",
    "        for dart in self.darts:            \n",
    "            for alpha in self.alpha:\n",
    "                \n",
    "                #print(f'alpha -> {alpha}')\n",
    "\n",
    "                \"\"\"\n",
    "                    the following if it is useful when i have to initialize a certain size of\n",
    "                    the list with the None value. In that case, i can insert somewhere the\n",
    "                    element in the list. Considering that each list has to be initialized with\n",
    "                    log(n) * None.\n",
    "                \"\"\"\n",
    "                if not alpha:\n",
    "                    continue\n",
    "\n",
    "                #print(f'alpha[dart] -> {alpha[dart]}')\n",
    "\n",
    "\n",
    "                try:\n",
    "                    x = next(item for item in alpha[dart] if item is not None)\n",
    "                #print(f'I am in is valid:\\naplha[x] -> {alpha[x]}\\ndart -> {dart}')\n",
    "                #if alpha[x] != dart:\n",
    "                #if dart not in alpha[x]:\n",
    "                    if alpha[x][-1] != dart:\n",
    "                        # that is not the failure point\n",
    "                        print('pippo')\n",
    "                        return False\n",
    "                except KeyError: # i should check if that handling is correct\n",
    "                    print(f'Key {x} has been removed. Of course there is not!')\n",
    "\n",
    "                  \n",
    "            \"\"\"\n",
    "                alpha1[alpha2[alpha1[alpha2[dart]]]] != dart:\n",
    "            \"\"\"\n",
    "            for i in range(0, self.n - 1): # n-1 not included\n",
    "                alpha1 = self.alpha[i]\n",
    "                for j in range(i + 2, self.n + 1): # n+1 again not included\n",
    "                    alpha2 = self.alpha[j]\n",
    "                    #print(f'I am in the last if of valid_custom\\nalpha2[dart] -> {alpha2[dart]}')\n",
    "                    y = alpha2[dart][0] # -> int, for instance, [2] -> [2][0] -> 2\n",
    "                    z = alpha1[y] # -> list, for instance, [5, 1]\n",
    "                    #print(f'\\ny -> {y}\\nz -> {z}')\n",
    "\n",
    "                    # Considering that a list cannot be used as a key because it is not hashable,\n",
    "                    # I should iterate on that. When I iterate on a list, I can directly obtain\n",
    "                    # the int value. Thus, in that case, I can use it as a key...Hopefully not raising\n",
    "                    # a KeyError exception.\n",
    "                    \n",
    "                    \"\"\"\n",
    "                        z is a list. So, we should iterate on that to use all the items.\n",
    "                    \"\"\"\n",
    "                    for a in z:\n",
    "                        # a -> item of the list -> a = 5, 1\n",
    "                        \"\"\"\n",
    "                            The try-except statement is used to handle the KeyError that is\n",
    "                            raised when we try to use a value as a key and that key is not\n",
    "                            in the dict.\n",
    "                        \"\"\"\n",
    "\n",
    "\n",
    "                        try:\n",
    "\n",
    "                            \"\"\"\n",
    "                                The try-except block, I think, is right because in that case we can have\n",
    "                                keys that are removed from the list because we have removed the corresponding\n",
    "                                dart of the Gmap.\n",
    "                                For example, we can have that situation:\n",
    "                                BEFORE -> dict (1 : [2], 2 : [5])\n",
    "                                AFTER REMOVE DART 1 -> dict (2 : [5, 1])\n",
    "                            \"\"\"\n",
    "                        #print(f'alpha2 -> {alpha2}')\n",
    "                        #print(f'a -> {a}')\n",
    "                            k = alpha2[a] # list, for instance, [5] or [1] -> [5][0] or [1][0] -> 5 or 1\n",
    "                            #print(f'k[0] -> {k[0]}')\n",
    "                        except KeyError:\n",
    "                            print(f'Key {a} has been removed. Of course there is not in the list!')\n",
    "                    \n",
    "\n",
    "                    \"\"\"\n",
    "                        Eventually, instead of alpha1[k] != dart in the version with interger\n",
    "                        values, now we check if the dart is in the list.\n",
    "                        If the dart is not in the list, so, the new gmap is not valid,\n",
    "                        otherwise, yes.\n",
    "                    \"\"\"\n",
    "                    #print(f'\\nalpha1[k[0]] -> {alpha1[k[0]]}\\n')\n",
    "                    if dart not in alpha1[k[0]]:\n",
    "                    #last = alpha1[k[0]][-1]\n",
    "                    #print(f'index of the last element -> {alpha1[k[0]].index(last)}\\nlen of the list -> {len(alpha1[k[0]])}')\n",
    "                    #print(f'last -> {last}\\ndart -> {dart}')\n",
    "                    #if  last != dart:\n",
    "                        print('ciao')\n",
    "                        return False\n",
    "\n",
    "        ##### Carmine #####\n",
    "        #print(f'\\nALPHA[0] -> {self.alpha[0]}')\n",
    "        #print(f'\\nALPHA[1] -> {self.alpha[1]}')\n",
    "        #print(f'\\nALPHA[2] -> {self.alpha[2]}')\n",
    "        ##### Carmine #####\n",
    "        return True\n",
    "    \n",
    "    def reserve_mark(self):\n",
    "        \"\"\"\n",
    "        algorithm 2\n",
    "        \"\"\"\n",
    "        i = max(self.taken_marks) + 1\n",
    "        self.taken_marks.add(i)\n",
    "        return i\n",
    "    \n",
    "    def free_mark(self, i):\n",
    "        \"\"\"\n",
    "        algorithm 3\n",
    "        also includes deleting all these marks, making it safe to call everytime\n",
    "        \"\"\"\n",
    "        del self.marks[i]\n",
    "        self.taken_marks.remove(i)    \n",
    "    \n",
    "    def is_marked(self, d, i):\n",
    "        \"\"\"\n",
    "        algorithm 4\n",
    "        d ... dart\n",
    "        i ... mark index\n",
    "        \"\"\"\n",
    "        return self.marks[i][d]\n",
    "    \n",
    "    def mark(self, d, i):\n",
    "        \"\"\"\n",
    "        algorithm 5\n",
    "        d ... dart\n",
    "        i ... mark index\n",
    "        \"\"\"\n",
    "        self.marks[i][d] = True\n",
    "        \n",
    "    def unmark(self, d, i):\n",
    "        \"\"\"\n",
    "        algorithm 6\n",
    "        d ... dart\n",
    "        i ... mark index\n",
    "        \"\"\"\n",
    "        # same as bla = False\n",
    "        del self.marks[i][d]\n",
    "    \n",
    "    def mark_all(self, i):\n",
    "        for d in self.darts:\n",
    "            self.mark(d, i)\n",
    "    \n",
    "    def unmark_all(self, i):\n",
    "        del self.marks[i]\n",
    "    \n",
    "    def ai(self, i, d):\n",
    "        #print(f'alpha[{i}] -> {self.alpha[i]}')\n",
    "        #print(f'ciao sono qui in ai -> {self.alpha[i][d]}')\n",
    "        return self.alpha[i][d][0]\n",
    "    \n",
    "    def set_ai(self, i, d, d1):\n",
    "        assert 0 <= i <= self.n\n",
    "        ##### Carmine #####\n",
    "\n",
    "        #print(f'd = {d}\\nd1 = {d1}')\n",
    "        \"\"\"\n",
    "        I am inserting at position (self.level - 1) within self.levels, the dart d1.\n",
    "        \"\"\"\n",
    "        #self.levels.insert(self.level - 1, d1)\n",
    "        #print(f'\\ncurrent level: {self.level} in the function set_ai')\n",
    "        \"\"\"\n",
    "        With alpha[i] we are selecting the alpha we have to modify by inserting the new information.\n",
    "        \"\"\"\n",
    "        if d in self.alpha[i]:\n",
    "            self.alpha[i][d].insert(self.level - 1, d1)\n",
    "        else:\n",
    "            \"\"\" the next line of the code is necessary because, otherwise, i cannot insert \n",
    "                in a certain position within the list. So, I had to create a list with None values\n",
    "                of size n. The size is n because at the moment I do not have idea of how to set \n",
    "                the fixed size. Basically, the size of the list should be log(n), at most.\n",
    "            \"\"\"\n",
    "            self.alpha[i][d] = [None] * self.n\n",
    "            self.alpha[i][d].insert(self.level - 1, d1)\n",
    "\n",
    "        ''' self.custom_alpha[i] = [d]\n",
    "        \n",
    "\n",
    "        self.custom_alpha[i][d].insert(self.level - 1, d1)\n",
    " '''\n",
    "        \n",
    "        #print(f'\\nList of levels: {self.levels}')\n",
    "        #print(f'\\nAlphas: {self.alpha[i]}')\n",
    "        ##### Carmine #####\n",
    "        #self.alpha[i][d] = d1\n",
    "        \n",
    "    def _remove_dart(self, d):\n",
    "        self.darts.remove(d)\n",
    "        for i in self.all_dimensions:\n",
    "            print(f'I am deleting {self.alpha[i][d]}')\n",
    "            del self.alpha[i][d]\n",
    "    \n",
    "    def orbit(self, sequence, d):\n",
    "        \"\"\"\n",
    "        algorithm 7\n",
    "        sequence ... valid list of dimensional indices\n",
    "        d ... dart\n",
    "        \"\"\"\n",
    "        ma = self.reserve_mark()\n",
    "        self.mark_orbit(sequence, d, ma)\n",
    "        orbit = self.marks[ma].keys()\n",
    "        self.free_mark(ma)\n",
    "        return orbit\n",
    "    \n",
    "    def mark_orbit(self, sequence, d, ma):\n",
    "        \"\"\"\n",
    "        used as in algorithm 7 and 8 etc...\n",
    "        sequence ... valid list of dimension indices\n",
    "        d ... dart\n",
    "        ma ... mark to use\n",
    "        \"\"\"\n",
    "\n",
    "        #print(f'##### MARK ORBIT #####\\n')\n",
    "\n",
    "        P = [d]\n",
    "        self.mark(d, ma)\n",
    "        while P:\n",
    "            cur = P.pop()\n",
    "            for i in sequence:\n",
    "                #next((item for item in a if item is not None), 'All are Nones')\n",
    "                #print(f'\\nalpha -> {self.alpha[i]}')\n",
    "                \n",
    "                #self.print_all()\n",
    "                #print(f'alpha[i][cur] -> {self.alpha[i][cur]}')\n",
    "\n",
    "                #try:\n",
    "                #other = next((item for item in self.alpha[i][cur] if item is not None))\n",
    "                #print(f'other -> {other}')\n",
    "                #except:\n",
    "                    #continue\n",
    "                #print(f'alpha[i] -> {self.alpha[i]}')\n",
    "                try:\n",
    "                    other = self.alpha[i][cur][-1]\n",
    "                    if not self.is_marked(other, ma):\n",
    "                        self.mark(other, ma)\n",
    "                        P.append(other)\n",
    "                except KeyError:\n",
    "                    print(f'Key {cur} has been removed/contracted.')\n",
    "                #print(f'cur = {cur}')\n",
    "                #print(f'self.alpha[i][cur] = {self.alpha[i][cur]}')\n",
    "                #other = self.custom_alpha[i][cur]\n",
    "                \"\"\" if not self.is_marked(other, ma):\n",
    "                    self.mark(other, ma)\n",
    "                    P.append(other) \"\"\"\n",
    "    \n",
    "    def cell_i(self, i, dart):\n",
    "        \"\"\"iterator over i-cell of a given dart\"\"\"\n",
    "        return self.orbit(self.all_dimensions_but_i(i), dart)\n",
    "\n",
    "    def cell_0(self, dart):\n",
    "        return self.cell_i(0, dart)\n",
    "    def cell_1(self, dart):\n",
    "        return self.cell_i(1, dart)\n",
    "    def cell_2(self, dart):\n",
    "        return self.cell_i(2, dart)\n",
    "    def cell_3(self, dart):\n",
    "        return self.cell_i(3, dart)\n",
    "    def cell_4(self, dart):\n",
    "        return self.cell_i(4, dart)\n",
    "    \n",
    "    def no_i_cells (self, i=None):\n",
    "        \"\"\"\n",
    "        Counts\n",
    "            i-cells,             if 0 <= i <= n\n",
    "            connected components if i is None\n",
    "        \"\"\"\n",
    "        assert i is None or 0 <= i <= self.n\n",
    "        # return more_itertools.ilen (self.darts_of_i_cells(i))\n",
    "        return sum ((1 for d in self.darts_of_i_cells(i)))\n",
    "\n",
    "    @property\n",
    "    def no_0_cells (self): return self.no_i_cells (0)\n",
    "    @property\n",
    "    def no_1_cells (self): return self.no_i_cells (1)\n",
    "    @property\n",
    "    def no_2_cells (self): return self.no_i_cells (2)\n",
    "    @property\n",
    "    def no_3_cells (self): return self.no_i_cells (3)\n",
    "    @property\n",
    "    def no_4_cells (self): return self.no_i_cells (4)\n",
    "    @property\n",
    "    def no_ccs     (self): return self.no_i_cells ( )\n",
    "    \n",
    "    def darts_of_i_cells(self, i = None):\n",
    "        \"\"\"\n",
    "        algorithm 8\n",
    "        \"\"\"\n",
    "        ma = self.reserve_mark()\n",
    "        try:\n",
    "            for d in self.darts:\n",
    "                if not self.is_marked(d, ma):\n",
    "                    yield d\n",
    "                    self.mark_orbit(self.all_dimensions_but_i(i), d, ma)\n",
    "        finally:\n",
    "            self.free_mark(ma)\n",
    "    \n",
    "    def all_i_cells(self, i = None):\n",
    "        for d in self.darts_of_i_cells(i):\n",
    "            yield self.cell_i(i, d)\n",
    "    \n",
    "    def all_conected_components(self):\n",
    "        return self.all_i_cells()\n",
    "    \n",
    "    def darts_of_i_cells_incident_to_j_cell(self, d, i, j):\n",
    "        \"\"\"\n",
    "        algorithm 9\n",
    "        \"\"\"\n",
    "        assert i != j\n",
    "        ma = self.reserve_mark()\n",
    "        try:\n",
    "            for e in self.orbit(self.all_dimensions_but_i(j), d):\n",
    "                if not self.is_marked(e, ma):\n",
    "                    yield e\n",
    "                    self.mark_orbit(self.all_dimensions_but_i(j), e, ma)\n",
    "        finally:\n",
    "            self.free_mark(ma)\n",
    "        \n",
    "    def darts_of_i_cells_adjacent_to_i_cell(self, d, i):\n",
    "        \"\"\"\n",
    "        algorithm 10\n",
    "        \"\"\"\n",
    "        ma = self.reserve_mark()\n",
    "        try:\n",
    "            for e in self.orbit(self.all_dimensions_but_i(i), d):\n",
    "                f = self.alpha[i][e]\n",
    "                if not self.is_marked(f, ma):\n",
    "                    yield f\n",
    "                    self.mark_orbit(self.all_dimensions_but_i(i), f, ma)\n",
    "        finally:\n",
    "            self.free_mark(ma)\n",
    "        \n",
    "    def all_dimensions_but_i (self, i=None):\n",
    "        \"\"\"Return a sorted sequence [0,...,n], without i, if 0 <= i <= n\"\"\"\n",
    "        assert i is None or 0 <= i <= self.n\n",
    "        return [j for j in range (self.n+1) if j != i]\n",
    "    \n",
    "    @property\n",
    "    def all_dimensions(self):\n",
    "        return self.all_dimensions_but_i()\n",
    "    \n",
    "    def is_i_free(self, i, d):\n",
    "        \"\"\"\n",
    "        definiton 2 / algorithm 11\n",
    "        \"\"\"\n",
    "        return self.alpha[i][d] == d\n",
    "        \n",
    "    def is_i_sewn_with(self, i, d):\n",
    "        \"\"\"\n",
    "        definiton 2\n",
    "        \"\"\"\n",
    "        d2 = self.alpha[i][d]\n",
    "        return d != d2, d2\n",
    "    \n",
    "    def create_dart(self):\n",
    "        \"\"\"\n",
    "        algorithm 12\n",
    "        \"\"\"\n",
    "        d = self.lowest_unused_dart_index\n",
    "        self.lowest_unused_dart_index += 1\n",
    "        self.darts.add(d)\n",
    "        for alpha in self.alpha:\n",
    "            alpha[d] = d\n",
    "        return d\n",
    "    \n",
    "    def remove_isolated_dart(self, d):\n",
    "        \"\"\"\n",
    "        algorithm 13\n",
    "        \"\"\"\n",
    "        assert self.is_isolated(d)\n",
    "        self.remove_isolated_dart_no_assert(d)\n",
    "        \n",
    "    def remove_isolated_dart_no_assert(self, d):\n",
    "        self.darts.remove(d)\n",
    "        for alpha in self.alpha:\n",
    "            del alpha[d]\n",
    "    \n",
    "    def is_isolated(self, d):\n",
    "        for i in range(self.n + 1):\n",
    "            if not self.is_i_free(i, d):\n",
    "                return False\n",
    "        return True\n",
    "    \n",
    "    def increase_dim(self):\n",
    "        \"\"\"\n",
    "        algorithm 15 in place\n",
    "        \"\"\"\n",
    "        self.n += 1\n",
    "        self.alpha.append(dict((d,d) for d in self.darts))\n",
    "        \n",
    "    def decrease_dim(self):\n",
    "        \"\"\"\n",
    "        algorithm 16 in place\n",
    "        \"\"\"\n",
    "        assert all(self.is_i_free(self.n, d) for d in self.darts)\n",
    "        self.decrease_dim_no_assert()\n",
    "    \n",
    "    def decrease_dim_no_assert(self):\n",
    "        del self.alpha[self.n]\n",
    "        self.n -= 1\n",
    "    \n",
    "    def index_shift(self, by):\n",
    "        self.darts = {d + by for d in self.darts}\n",
    "        self.alpha = [{k + by : v + by for k, v in a.items()} for a in self.alpha]\n",
    "        #print(f'alpha: {self.alpha}')\n",
    "        for mark in self.marks:\n",
    "            new_dict = {key + by : value for key, value in self.marks[mark].items()}\n",
    "            self.marks[mark].clear()\n",
    "            self.marks[mark].update(new_dict) #this is done to preserve default dicts\n",
    "        self.lowest_unused_dart_index += by\n",
    "        \n",
    "    def merge(self, other):\n",
    "        \"\"\"\n",
    "        algorithm 17 in place\n",
    "        \"\"\"\n",
    "        assert self.n == other.n\n",
    "        self.taken_marks.update(other.taken_marks)\n",
    "        shift = max(self.darts) - min(other.darts) + 1\n",
    "        other.index_shift(shift)\n",
    "        \n",
    "        self.darts.update(other.darts)\n",
    "        print(f'alpha: {self.alpha}\\nother: {other.alpha}\\n')\n",
    "        for sa, oa in zip(self.alpha, other.alpha):\n",
    "            sa.update(oa)\n",
    "            print(f'sa: {sa}\\n')\n",
    "            print(f'oa: {oa}\\n')\n",
    "        for mk in other.marks:\n",
    "            self.marks[mk].update(other.marks[mk])\n",
    "        self.taken_marks.update(other.taken_marks)\n",
    "        self.lowest_unused_dart_index = other.lowest_unused_dart_index\n",
    "        \n",
    "    def restrict(self, D):\n",
    "        \"\"\"\n",
    "        algorithm 18\n",
    "        \"\"\"\n",
    "        raise NotImplementedError #boring\n",
    "    \n",
    "    def sew_seq(self, i):\n",
    "        \"\"\"\n",
    "        indices used in the sewing operations\n",
    "        (0, ..., i - 2, i + 2, ..., n)\n",
    "        \"\"\"\n",
    "        return chain(range(0, i - 1), range(i + 2, self.n + 1))\n",
    "    \n",
    "    def sewable(self, d1, d2, i):\n",
    "        \"\"\"\n",
    "        algorithm 19\n",
    "        tests wether darts d1, d2 are sewable along i\n",
    "        returns bool\n",
    "        \"\"\"\n",
    "        if d1 == d2 or not self.is_i_free(i, d1) or not self.is_i_free(i, d2):\n",
    "            return False\n",
    "        try:\n",
    "            f = dict()\n",
    "            for d11, d22 in strict_zip(self.orbit(self.sew_seq(i), d1), self.orbit(self.sew_seq(i), d2), strict = True):\n",
    "                f[d11] = d22\n",
    "                for j in self.sew_seq(i):\n",
    "                    if self.alpha[j][d11] in f and f[self.alpha[j][d11]] != self.alpha[j][d22]:\n",
    "                        return False\n",
    "        except ValueError: #iterators not same length\n",
    "            return False\n",
    "        return True\n",
    "    \n",
    "    def sew(self, d1, d2, i):\n",
    "        \"\"\"\n",
    "        algorithm 20\n",
    "        \"\"\"\n",
    "        assert self.sewable(d1, d2, i)\n",
    "        self.sew_no_assert(d1, d2, i)\n",
    "        \n",
    "    def sew_no_assert(self, d1, d2, i):\n",
    "        for e1, e2 in strict_zip(self.orbit(self.sew_seq(i), d1), self.orbit(self.sew_seq(i), d2), strict = True):\n",
    "            self.alpha[i][e1] = e2\n",
    "            self.alpha[i][e2] = e1\n",
    "    \n",
    "    def unsew(self, d, i):\n",
    "        \"\"\"\n",
    "        algorithm 21\n",
    "        \"\"\"\n",
    "        assert not self.is_i_free(i, d)\n",
    "        for e in self.orbit(self.sew_seq(i), d):\n",
    "            f = self.alpha[i][e]\n",
    "            self.alpha[i][f] = f\n",
    "            print(self.alpha[i][f])\n",
    "            self.alpha[i][e] = e\n",
    "            print(self.alpha[i][e])\n",
    "    \n",
    "    def incident (self, i, d1, j, d2):\n",
    "        \"\"\"\n",
    "        checks wether the i-cell of d1 is incident to the j-cell of d2\n",
    "        \"\"\"\n",
    "        for e1, e2 in product(self.cell_i(i, d1), self.cell_i(j, d2)):\n",
    "            if e1 == e2:\n",
    "                return True\n",
    "        return False\n",
    "    \n",
    "    def adjacent(self, i, d1, d2):\n",
    "        \"\"\"\n",
    "        checks wether the i-cell of d1 is adjacent to the i-cell of d2\n",
    "        \"\"\"\n",
    "        first_cell = self.cell_i(i, d1)\n",
    "        second_cell = set(self.cell_i(i, d2))\n",
    "        for d in first_cell:\n",
    "            if self.alpha[i][d][-1] in second_cell:\n",
    "                return True\n",
    "        return False\n",
    "    \n",
    "    # Contractablilty & Removability\n",
    "    \n",
    "    def _is_i_removable_or_contractible(self, i, dart, rc):\n",
    "        \"\"\"\n",
    "        Test if an i-cell of dart is removable/contractible:\n",
    "\n",
    "        i    ... i-cell\n",
    "        dart ... dart\n",
    "        rc   ... +1 => removable test, -1 => contractible test\n",
    "        \"\"\"\n",
    "        #print(f'dart -> {dart}')\n",
    "        #print(f'set_darts -> {self.darts}')\n",
    "\n",
    "        assert dart in self.darts\n",
    "        assert 0 <= i <= self.n\n",
    "        assert rc in {-1, +1}\n",
    "\n",
    "        if rc == +1:  # removable test\n",
    "            if i == self.n  : return False\n",
    "            if i == self.n-1: return True\n",
    "        if rc == -1:  # contractible test\n",
    "            if i == 0: return False\n",
    "            if i == 1: return True\n",
    "        \n",
    "        #next((item for item in a if item is not None), 'All are Nones')\n",
    "        for d in self.cell_i(i, dart):\n",
    "            #print(f'in is removable -> {self.alpha[i+rc+rc][d]}')\n",
    "            if self.alpha[i+rc][self.alpha[i+rc+rc][d][0]] != self.alpha[i+rc+rc][self.alpha[i+rc][d][0]]:\n",
    "                return False\n",
    "        return True\n",
    "\n",
    "    def is_i_removable(self, i, dart):\n",
    "        \"\"\"True if i-cell of dart can be removed\"\"\"\n",
    "        return self._is_i_removable_or_contractible(i, dart, rc=+1)\n",
    "\n",
    "    def is_i_contractible(self, i, dart):\n",
    "        \"\"\"True if i-cell of dart can be contracted\"\"\"\n",
    "        return self._is_i_removable_or_contractible(i, dart, rc=-1)\n",
    "    \n",
    "    def _i_remove_contract(self, i, dart, rc, skip_check=False):\n",
    "        \"\"\"\n",
    "        Remove / contract an i-cell of dart\n",
    "        d  ... dart\n",
    "        i  ... i-cell\n",
    "        rc ... +1 => remove, -1 => contract\n",
    "        skip_check ... set to True if you are sure you can remove / contract the i-cell\n",
    "        \"\"\"\n",
    "        logging.debug (f'{\"Remove\" if rc == 1 else \"Contract\"} {i}-Cell of dart {dart}')\n",
    "\n",
    "        if not skip_check:\n",
    "            assert self._is_i_removable_or_contractible(i, dart, rc),\\\n",
    "                f'{i}-cell of dart {dart} is not {\"removable\" if rc == 1 else \"contractible\"}!'\n",
    "\n",
    "        i_cell = set(self.cell_i(i, dart))  # mark all the darts in ci(d)\n",
    "        logging.debug (f'\\n{i}-cell to be removed {i_cell}')\n",
    "        for d in i_cell:\n",
    "            d1 = self.ai (i,d) # d1 ← d.Alphas[i];\n",
    "            #print(f'd1 : {d1}')\n",
    "            if d1 not in i_cell:  # if not isMarkedNself(d1,ma) then\n",
    "                # d2 ← d.Alphas[i + 1].Alphas[i];\n",
    "                d2 = self.ai (i+rc,d)\n",
    "                d2 = self.ai (i   ,d2)\n",
    "                while d2 in i_cell: # while isMarkedNself(d2,ma) do\n",
    "                    # d2 ← d.Alphas[i + 1].Alphas[i];\n",
    "                    d2 = self.ai (i+rc,d2)\n",
    "                    d2 = self.ai (i   ,d2)\n",
    "                logging.debug (f'Modifying alpha_{i} of dart {d1} from {self.ai (i,d1)} to {d2}')\n",
    "                #print(f'Modifying alpha_{i} of dart {d1} from {self.ai (i,d1)} to {d2}')\n",
    "                \n",
    "                \n",
    "                ##### Carmine #####\n",
    "                \"\"\"\n",
    "                We can increase the 'level' variable here because the check is skipped.\n",
    "                So, it means that the operation can be done.\n",
    "                \"\"\"\n",
    "                self.level += 1\n",
    "                #print(f'\\ncurrent level: {self.level} in the function i_remove_contract')\n",
    "                ##### Carmine #####\n",
    "\n",
    "                self.set_ai(i,d1,d2) # d1.Alphas[i] ← d2;\n",
    "        for d in i_cell:  # foreach dart d' ∈ ci(d) do\n",
    "            self._remove_dart (d)  # remove d' from gm.Darts;\n",
    "    \n",
    "    def print_alpha(self, alpha_index, key_index, level_index):\n",
    "        return self.alpha[alpha_index][key_index][level_index - 1]\n",
    "\n",
    "    def print_all(self):\n",
    "        i = -1\n",
    "        for a in self.alpha:\n",
    "            i += 1\n",
    "            print(f'Alpha{i} -> {a}\\n')\n",
    "    \n",
    "    def _remove(self, i, dart, skip_check=False):\n",
    "        \"\"\"Remove i-cell of dart\"\"\"\n",
    "        self._i_remove_contract(i, dart, rc=+1, skip_check=skip_check)\n",
    "\n",
    "    def _contract(self, i, dart, skip_check=False):\n",
    "        \"\"\"Contract i-cell of dart\"\"\"\n",
    "        self._i_remove_contract(i, dart, rc=-1, skip_check=skip_check)\n",
    "\n",
    "    def __repr__(self):\n",
    "        out = f\"{self.n}dGmap of {len(self.darts)} darts:\\n\"\n",
    "        for i in range(self.n + 1):\n",
    "            out += f\" {i}-cells: {self.no_i_cells(i)}\\n\"\n",
    "        out += f\" ccs: {self.no_ccs}\"\n",
    "        return out\n",
    "    \n",
    "def strict_zip(arg1, arg2, strict = False):\n",
    "    \"\"\"\n",
    "    strict keyword for zip is only avaliable in python 3.10 which is still in alpha :(\n",
    "    \"\"\"\n",
    "    assert strict == True\n",
    "    arg1 = list(arg1)\n",
    "    arg2 = list(arg2)\n",
    "    if len(arg1) == len(arg2):\n",
    "        return zip(arg1, arg2)\n",
    "    else:\n",
    "        raise ValueError\n",
    "\n",
    "    "
   ]
  },
  {
   "cell_type": "markdown",
   "metadata": {},
   "source": [
    "# Tests with a particular data structure"
   ]
  },
  {
   "cell_type": "code",
   "execution_count": 328,
   "metadata": {},
   "outputs": [
    {
     "name": "stdout",
     "output_type": "stream",
     "text": [
      "Alpha0 -> {1: [2], 2: [1], 3: [4], 4: [3], 5: [6], 6: [5], 7: [8], 8: [7], 9: [10], 10: [9], 11: [12], 12: [11]}\n",
      "\n",
      "Alpha1 -> {1: [6], 2: [3], 3: [2], 4: [5], 5: [4], 6: [1], 7: [12], 8: [9], 9: [8], 10: [11], 11: [10], 12: [7]}\n",
      "\n",
      "Alpha2 -> {1: [1], 2: [2], 3: [3], 4: [4], 5: [5], 6: [6], 7: [7], 8: [8], 9: [9], 10: [10], 11: [11], 12: [12]}\n",
      "\n"
     ]
    }
   ],
   "source": [
    "from combinatorial.notebooks.combinatorial.zoo import G2_HOUSE_1, G2_TWO_TRIANGLES_1, G2_345_BOUNDED_1\n",
    "\n",
    "\n",
    "m = dict_nGmap.from_string(G2_TWO_TRIANGLES_1)\n",
    "\n",
    "m\n",
    "\n",
    "m.print_all()"
   ]
  },
  {
   "cell_type": "code",
   "execution_count": 329,
   "metadata": {},
   "outputs": [
    {
     "data": {
      "text/plain": [
       "[dict_keys([1, 6]),\n",
       " dict_keys([2, 3]),\n",
       " dict_keys([4, 5]),\n",
       " dict_keys([7, 12]),\n",
       " dict_keys([8, 9]),\n",
       " dict_keys([10, 11])]"
      ]
     },
     "execution_count": 329,
     "metadata": {},
     "output_type": "execute_result"
    }
   ],
   "source": [
    "list(m.all_i_cells(0))"
   ]
  },
  {
   "cell_type": "code",
   "execution_count": 330,
   "metadata": {},
   "outputs": [
    {
     "data": {
      "text/plain": [
       "[dict_keys([1, 2]),\n",
       " dict_keys([3, 4]),\n",
       " dict_keys([5, 6]),\n",
       " dict_keys([7, 8]),\n",
       " dict_keys([9, 10]),\n",
       " dict_keys([11, 12])]"
      ]
     },
     "execution_count": 330,
     "metadata": {},
     "output_type": "execute_result"
    }
   ],
   "source": [
    "list(m.all_i_cells(1))"
   ]
  },
  {
   "cell_type": "code",
   "execution_count": 331,
   "metadata": {},
   "outputs": [
    {
     "data": {
      "text/plain": [
       "[dict_keys([1, 2, 6, 5, 4, 3]), dict_keys([7, 8, 12, 11, 10, 9])]"
      ]
     },
     "execution_count": 331,
     "metadata": {},
     "output_type": "execute_result"
    }
   ],
   "source": [
    "list(m.all_i_cells(2))"
   ]
  },
  {
   "cell_type": "code",
   "execution_count": 332,
   "metadata": {},
   "outputs": [
    {
     "name": "stdout",
     "output_type": "stream",
     "text": [
      "I am deleting [2]\n",
      "I am deleting [6]\n",
      "I am deleting [1]\n",
      "I am deleting [5]\n",
      "I am deleting [1]\n",
      "I am deleting [6]\n",
      "\n",
      "##### IS_VALID_CUSTOM #####\n",
      "Key 1 has been removed. Of course there is not in the list!\n",
      "Key 6 has been removed. Of course there is not!\n",
      "Key 6 has been removed. Of course there is not in the list!\n"
     ]
    },
    {
     "data": {
      "text/plain": [
       "True"
      ]
     },
     "execution_count": 332,
     "metadata": {},
     "output_type": "execute_result"
    }
   ],
   "source": [
    "# Meaning of the parameters of the remove method: type of i-cell, dart\n",
    "m._remove(0, 1)\n",
    "m.is_valid_custom"
   ]
  },
  {
   "cell_type": "code",
   "execution_count": 333,
   "metadata": {},
   "outputs": [
    {
     "name": "stdout",
     "output_type": "stream",
     "text": [
      "I am deleting [5, 1]\n",
      "I am deleting [3]\n",
      "I am deleting [2]\n",
      "I am deleting [4]\n",
      "I am deleting [2]\n",
      "I am deleting [3]\n",
      "\n",
      "##### IS_VALID_CUSTOM #####\n",
      "Key 3 has been removed. Of course there is not!\n",
      "Key 3 has been removed. Of course there is not in the list!\n",
      "Key 6 has been removed. Of course there is not!\n",
      "Key 6 has been removed. Of course there is not in the list!\n",
      "Key 2 has been removed. Of course there is not in the list!\n"
     ]
    },
    {
     "data": {
      "text/plain": [
       "True"
      ]
     },
     "execution_count": 333,
     "metadata": {},
     "output_type": "execute_result"
    }
   ],
   "source": [
    "m._remove(0, 2)\n",
    "m.is_valid_custom"
   ]
  },
  {
   "cell_type": "code",
   "execution_count": 334,
   "metadata": {},
   "outputs": [
    {
     "name": "stdout",
     "output_type": "stream",
     "text": [
      "I am deleting [7]\n",
      "I am deleting [9]\n",
      "I am deleting [8]\n",
      "I am deleting [8]\n",
      "I am deleting [12]\n",
      "I am deleting [7]\n",
      "\n",
      "##### IS_VALID_CUSTOM #####\n",
      "Key 3 has been removed. Of course there is not!\n",
      "Key 3 has been removed. Of course there is not in the list!\n",
      "Key 6 has been removed. Of course there is not!\n",
      "Key 6 has been removed. Of course there is not in the list!\n",
      "Key 2 has been removed. Of course there is not in the list!\n",
      "Key 8 has been removed. Of course there is not!\n",
      "Key 7 has been removed. Of course there is not!\n"
     ]
    },
    {
     "data": {
      "text/plain": [
       "True"
      ]
     },
     "execution_count": 334,
     "metadata": {},
     "output_type": "execute_result"
    }
   ],
   "source": [
    "m._contract(1, 8)\n",
    "m.is_valid_custom"
   ]
  },
  {
   "cell_type": "code",
   "execution_count": 335,
   "metadata": {},
   "outputs": [
    {
     "name": "stdout",
     "output_type": "stream",
     "text": [
      "Alpha0 -> {4: [3, 5], 5: [6, 2, 4], 9: [10], 10: [9], 11: [12], 12: [11]}\n",
      "\n",
      "Alpha1 -> {4: [5], 5: [4], 9: [8, 12], 10: [11], 11: [10], 12: [7, 9]}\n",
      "\n",
      "Alpha2 -> {4: [4], 5: [5], 9: [9], 10: [10], 11: [11], 12: [12]}\n",
      "\n"
     ]
    },
    {
     "data": {
      "text/plain": [
       "2dGmap of 6 darts:\n",
       " 0-cells: 3\n",
       " 1-cells: 3\n",
       " 2-cells: 2\n",
       " ccs: 2"
      ]
     },
     "execution_count": 335,
     "metadata": {},
     "output_type": "execute_result"
    }
   ],
   "source": [
    "m.print_all()\n",
    "\n",
    "m"
   ]
  },
  {
   "cell_type": "code",
   "execution_count": 336,
   "metadata": {},
   "outputs": [
    {
     "name": "stdout",
     "output_type": "stream",
     "text": [
      "Alpha0 -> {4: [3, 5], 5: [6, 2, 4], 9: [10], 10: [9], 11: [12], 12: [11]}\n",
      "\n",
      "Alpha1 -> {4: [5], 5: [4], 9: [8, 12], 10: [11], 11: [10], 12: [7, 9]}\n",
      "\n",
      "Alpha2 -> {4: [4], 5: [5], 9: [9], 10: [10], 11: [11], 12: [12]}\n",
      "\n"
     ]
    }
   ],
   "source": [
    "m.print_all()"
   ]
  },
  {
   "cell_type": "code",
   "execution_count": 337,
   "metadata": {},
   "outputs": [
    {
     "data": {
      "text/plain": [
       "2dGmap of 6 darts:\n",
       " 0-cells: 3\n",
       " 1-cells: 3\n",
       " 2-cells: 2\n",
       " ccs: 2"
      ]
     },
     "execution_count": 337,
     "metadata": {},
     "output_type": "execute_result"
    }
   ],
   "source": [
    "m"
   ]
  },
  {
   "cell_type": "code",
   "execution_count": 338,
   "metadata": {},
   "outputs": [],
   "source": [
    "#alpha_index, key_index, level_index\n",
    "#m.print_alpha(0, 5, 2)"
   ]
  },
  {
   "cell_type": "markdown",
   "metadata": {},
   "source": [
    "# Test 1"
   ]
  },
  {
   "cell_type": "code",
   "execution_count": 339,
   "metadata": {},
   "outputs": [
    {
     "data": {
      "text/plain": [
       "2dGmap of 16 darts:\n",
       " 0-cells: 4\n",
       " 1-cells: 4\n",
       " 2-cells: 2\n",
       " ccs: 1"
      ]
     },
     "execution_count": 339,
     "metadata": {},
     "output_type": "execute_result"
    }
   ],
   "source": [
    "from combinatorial.notebooks.combinatorial.zoo import G2_SQUARE_UNBOUNDED\n",
    "\n",
    "G = dict_nGmap.from_string (G2_SQUARE_UNBOUNDED)\n",
    "G"
   ]
  },
  {
   "cell_type": "code",
   "execution_count": 340,
   "metadata": {},
   "outputs": [
    {
     "data": {
      "text/plain": [
       "True"
      ]
     },
     "execution_count": 340,
     "metadata": {},
     "output_type": "execute_result"
    }
   ],
   "source": [
    "G.adjacent (2,0,15)"
   ]
  },
  {
   "cell_type": "code",
   "execution_count": 341,
   "metadata": {},
   "outputs": [
    {
     "data": {
      "text/plain": [
       "False"
      ]
     },
     "execution_count": 341,
     "metadata": {},
     "output_type": "execute_result"
    }
   ],
   "source": [
    "G.adjacent (0,0,15)"
   ]
  },
  {
   "cell_type": "code",
   "execution_count": 342,
   "metadata": {},
   "outputs": [
    {
     "data": {
      "text/plain": [
       "True"
      ]
     },
     "execution_count": 342,
     "metadata": {},
     "output_type": "execute_result"
    }
   ],
   "source": [
    "G.incident (0,15,1,15)"
   ]
  },
  {
   "cell_type": "markdown",
   "metadata": {},
   "source": [
    "# Test 2"
   ]
  },
  {
   "cell_type": "code",
   "execution_count": 343,
   "metadata": {},
   "outputs": [
    {
     "data": {
      "text/plain": [
       "2dGmap of 28 darts:\n",
       " 0-cells: 6\n",
       " 1-cells: 7\n",
       " 2-cells: 3\n",
       " ccs: 1"
      ]
     },
     "execution_count": 343,
     "metadata": {},
     "output_type": "execute_result"
    }
   ],
   "source": [
    "#    1  2  3  4  5  6  7  8  9 10 11 12 13 14 15 16    17 18 19 20 21 22    23 24 25 26 27 28\n",
    "G2_butterfly_16 = \"\"\"\\\n",
    "     2  1  4  3  6  5  8  7 10  9 12 11 14 13 16 15    18 17 20 19 22 21    24 23 26 25 28 27\n",
    "    16  3  2  5  4  7  6  9  8 11 10 13 12 15 14  1    22 19 18 21 20 17    28 25 24 27 26 23\n",
    "    10  9 23 24 25 26 27 28  2  1 22 21 20 19 18 17    16 15 14 13 12 11     3  4  5  6  7  8\n",
    "\"\"\"\n",
    "\n",
    "Bridge = dict_nGmap.from_string (G2_butterfly_16)\n",
    "Bridge"
   ]
  },
  {
   "cell_type": "code",
   "execution_count": 344,
   "metadata": {},
   "outputs": [
    {
     "data": {
      "text/plain": [
       "[dict_keys([1, 2, 10, 9]),\n",
       " dict_keys([3, 4, 23, 24]),\n",
       " dict_keys([5, 6, 25, 26]),\n",
       " dict_keys([7, 8, 27, 28]),\n",
       " dict_keys([11, 12, 22, 21]),\n",
       " dict_keys([13, 14, 20, 19]),\n",
       " dict_keys([15, 16, 18, 17])]"
      ]
     },
     "execution_count": 344,
     "metadata": {},
     "output_type": "execute_result"
    }
   ],
   "source": [
    "list (Bridge.all_i_cells(1))"
   ]
  },
  {
   "cell_type": "code",
   "execution_count": 345,
   "metadata": {},
   "outputs": [
    {
     "data": {
      "text/plain": [
       "{1, 2, 3, 4, 5, 6, 7, 8, 9, 10, 11, 12, 13, 14, 15, 16}"
      ]
     },
     "execution_count": 345,
     "metadata": {},
     "output_type": "execute_result"
    }
   ],
   "source": [
    "set (Bridge.cell_2 (1))"
   ]
  },
  {
   "cell_type": "code",
   "execution_count": 346,
   "metadata": {},
   "outputs": [
    {
     "data": {
      "text/plain": [
       "{1, 2, 3, 4, 5, 6, 7, 8, 9, 10, 11, 12, 13, 14, 15, 16}"
      ]
     },
     "execution_count": 346,
     "metadata": {},
     "output_type": "execute_result"
    }
   ],
   "source": [
    "set (Bridge.cell_2 (10))"
   ]
  },
  {
   "cell_type": "code",
   "execution_count": 347,
   "metadata": {},
   "outputs": [
    {
     "data": {
      "text/plain": [
       "'\\n    the removal operation seems to work fine, although, the contract operation, that should be the same, does not work.\\n'"
      ]
     },
     "execution_count": 347,
     "metadata": {},
     "output_type": "execute_result"
    }
   ],
   "source": [
    "\"\"\"\n",
    "    the removal operation seems to work fine, although, the contract operation, that should be the same, does not work.\n",
    "\"\"\"\n",
    "#Bridge._remove(1,1)\n",
    "#Bridge.is_valid_custom"
   ]
  },
  {
   "cell_type": "code",
   "execution_count": 348,
   "metadata": {},
   "outputs": [
    {
     "name": "stdout",
     "output_type": "stream",
     "text": [
      "I am deleting [2]\n",
      "I am deleting [16]\n",
      "I am deleting [10]\n",
      "I am deleting [1]\n",
      "I am deleting [3]\n",
      "I am deleting [9]\n",
      "I am deleting [9]\n",
      "I am deleting [11]\n",
      "I am deleting [1]\n",
      "I am deleting [10]\n",
      "I am deleting [8]\n",
      "I am deleting [2]\n",
      "\n",
      "##### IS_VALID_CUSTOM #####\n",
      "Key 2 has been removed. Of course there is not!\n",
      "Key 9 has been removed. Of course there is not!\n",
      "Key 10 has been removed. Of course there is not!\n"
     ]
    },
    {
     "data": {
      "text/plain": [
       "True"
      ]
     },
     "execution_count": 348,
     "metadata": {},
     "output_type": "execute_result"
    }
   ],
   "source": [
    "Bridge._contract(1,1)\n",
    "Bridge.is_valid_custom"
   ]
  },
  {
   "cell_type": "code",
   "execution_count": 349,
   "metadata": {},
   "outputs": [
    {
     "name": "stdout",
     "output_type": "stream",
     "text": [
      "Key 1 has been removed/contracted.\n",
      "Key 1 has been removed/contracted.\n",
      "Key 1 has been removed/contracted.\n",
      "Key 1 has been removed/contracted.\n",
      "Key 1 has been removed/contracted.\n",
      "Key 1 has been removed/contracted.\n",
      "Key 1 has been removed/contracted.\n"
     ]
    },
    {
     "data": {
      "text/plain": [
       "2dGmap of 24 darts:\n",
       " 0-cells: 5\n",
       " 1-cells: 6\n",
       " 2-cells: 3\n",
       " ccs: 1"
      ]
     },
     "execution_count": 349,
     "metadata": {},
     "output_type": "execute_result"
    }
   ],
   "source": [
    "Bridge"
   ]
  }
 ],
 "metadata": {
  "interpreter": {
   "hash": "ec904cc508e64af8cc7b4019b8ba061516bb876417171e76154460a41879f546"
  },
  "kernelspec": {
   "display_name": "Python 3.8.9 64-bit ('venv_NC': venv)",
   "name": "python3"
  },
  "language_info": {
   "codemirror_mode": {
    "name": "ipython",
    "version": 3
   },
   "file_extension": ".py",
   "mimetype": "text/x-python",
   "name": "python",
   "nbconvert_exporter": "python",
   "pygments_lexer": "ipython3",
   "version": "3.8.9"
  },
  "orig_nbformat": 4
 },
 "nbformat": 4,
 "nbformat_minor": 2
}
